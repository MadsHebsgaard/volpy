{
 "cells": [
  {
   "cell_type": "code",
   "execution_count": 68,
   "metadata": {},
   "outputs": [
    {
     "name": "stdout",
     "output_type": "stream",
     "text": [
      "Loading library list...\n",
      "Done\n"
     ]
    }
   ],
   "source": [
    "import wrds\n",
    "import importlib\n",
    "import wrds_lib as wl\n",
    "import load_clean_lib\n",
    "\n",
    "db = wrds.Connection(wrds_username=\"axelledue\") "
   ]
  },
  {
   "cell_type": "code",
   "execution_count": null,
   "metadata": {},
   "outputs": [
    {
     "data": {
      "text/plain": [
       "<bound method Connection.close of <wrds.sql.Connection object at 0x00000259AE01B650>>"
      ]
     },
     "execution_count": 64,
     "metadata": {},
     "output_type": "execute_result"
    }
   ],
   "source": [
    "# db.close"
   ]
  },
  {
   "cell_type": "markdown",
   "metadata": {},
   "source": [
    "# create option, forward and return csv files"
   ]
  },
  {
   "cell_type": "code",
   "execution_count": null,
   "metadata": {},
   "outputs": [
    {
     "name": "stdout",
     "output_type": "stream",
     "text": [
      "Importing O-data and saving to: C:\\Users\\axell\\Desktop\\CBS\\data\\OptionMetrics\\SPX_short\\option data.csv\n"
     ]
    },
    {
     "name": "stderr",
     "output_type": "stream",
     "text": [
      "Collecting data: 100%|██████████| 8/8 [00:27<00:00,  3.39s/years]\n"
     ]
    },
    {
     "name": "stdout",
     "output_type": "stream",
     "text": [
      "Data collected and saved\n",
      "Importing F-data and saving to: C:\\Users\\axell\\Desktop\\CBS\\data\\OptionMetrics\\SPX_short\\forward price.csv\n"
     ]
    },
    {
     "name": "stderr",
     "output_type": "stream",
     "text": [
      "Collecting data: 100%|██████████| 8/8 [00:01<00:00,  6.67years/s]\n"
     ]
    },
    {
     "name": "stdout",
     "output_type": "stream",
     "text": [
      "Data collected and saved: 14370 rows.\n",
      "Importing S-data and saving to: C:\\Users\\axell\\Desktop\\CBS\\data\\OptionMetrics\\SPX_short\\returns and stock price.csv\n"
     ]
    },
    {
     "name": "stderr",
     "output_type": "stream",
     "text": [
      "Collecting data: 100%|██████████| 8/8 [00:01<00:00,  7.60years/s]\n"
     ]
    },
    {
     "name": "stdout",
     "output_type": "stream",
     "text": [
      "Data collected and saved: 1801 rows.\n",
      "Importing Z-data and saving to: C:\\Users\\axell\\Desktop\\CBS\\data\\OptionMetrics\\SPX_short\\ZC yield curve.csv\n",
      "Data collected and saved: 17074 rows.\n"
     ]
    }
   ],
   "source": [
    "#cerate data directly from api \n",
    "importlib.reload(wl)\n",
    "\n",
    "# axel pseuodo opt chunk_size = 4000000\n",
    "\n",
    "wl.fetch_wrds_data(\n",
    "    db = db,\n",
    "    profile=\"Axel\",\n",
    "    folder_name=\"SPX_short\",\n",
    "    begdate=\"1996-01-04\", \n",
    "    enddate=\"2025-02-28\", #2024-12-31 2003-02-28\n",
    "    tickers=[\"SPX\"], #[\"SPX\",\"OEX\",\"DJX\",\"NDX\",\"MSFT\",\"IBM\",\"GE\",\"AMZN\"]\n",
    "    progress=True,\n",
    "    chunk_size=4000000,\n",
    "    return_df=False\n",
    ")"
   ]
  },
  {
   "cell_type": "markdown",
   "metadata": {},
   "source": "### also return dataframes"
  },
  {
   "cell_type": "code",
   "execution_count": null,
   "metadata": {},
   "outputs": [
    {
     "name": "stdout",
     "output_type": "stream",
     "text": [
      "Importing O-data and saving to: C:\\Users\\axell\\Desktop\\CBS\\data\\OptionMetrics\\SPX_short\\option data.csv\n",
      "Data collected and saved: 663361 rows.\n",
      "Importing F-data and saving to: C:\\Users\\axell\\Desktop\\CBS\\data\\OptionMetrics\\SPX_short\\forward price.csv\n",
      "Data collected and saved: 14370 rows.\n",
      "Importing S-data and saving to: C:\\Users\\axell\\Desktop\\CBS\\data\\OptionMetrics\\SPX_short\\returns and stock price.csv\n",
      "Data collected and saved: 1801 rows.\n",
      "Importing Z-data and saving to: C:\\Users\\axell\\Desktop\\CBS\\data\\OptionMetrics\\SPX_short\\ZC yield curve.csv\n",
      "Data collected and saved: 17074 rows.\n"
     ]
    }
   ],
   "source": [
    "#cerate data directly from api \n",
    "importlib.reload(wl)\n",
    "\n",
    "# axel pseuodo opt chunk_size = 4000000\n",
    "\n",
    "dfs = wl.fetch_wrds_data(\n",
    "    db = db,\n",
    "    profile=\"Axel\",\n",
    "    folder_name=\"SPX_short\",\n",
    "    begdate=\"1996-01-04\", \n",
    "    enddate=\"2003-02-28\", #2024-12-31 2003-02-28\n",
    "    tickers=[\"SPX\"], #[\"SPX\",\"OEX\",\"DJX\",\"NDX\",\"MSFT\",\"IBM\",\"GE\",\"AMZN\"]\n",
    "    progress=True,\n",
    "    chunk_size=4000000,\n",
    "    return_df=True\n",
    ")"
   ]
  },
  {
   "metadata": {},
   "cell_type": "markdown",
   "source": "# Create factor file"
  },
  {
   "metadata": {
    "ExecuteTime": {
     "end_time": "2025-03-17T11:11:20.731420Z",
     "start_time": "2025-03-17T11:06:59.382396Z"
    }
   },
   "cell_type": "code",
   "source": [
    "import importlib\n",
    "import load_clean_lib\n",
    "importlib.reload(load_clean_lib)\n",
    "factor_df = load_clean_lib.download_factor_df()\n",
    "factor_df.to_csv(\"data/factor_df.csv\", index=False)"
   ],
   "outputs": [],
   "execution_count": 3
  },
  {
   "metadata": {},
   "cell_type": "code",
   "outputs": [],
   "execution_count": null,
   "source": ""
  }
 ],
 "metadata": {
  "kernelspec": {
   "display_name": "base",
   "language": "python",
   "name": "python3"
  },
  "language_info": {
   "codemirror_mode": {
    "name": "ipython",
    "version": 3
   },
   "file_extension": ".py",
   "mimetype": "text/x-python",
   "name": "python",
   "nbconvert_exporter": "python",
   "pygments_lexer": "ipython3",
   "version": "3.11.5"
  }
 },
 "nbformat": 4,
 "nbformat_minor": 2
}
