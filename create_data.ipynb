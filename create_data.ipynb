{
 "cells": [
  {
   "cell_type": "code",
   "metadata": {
    "ExecuteTime": {
     "end_time": "2025-03-29T15:57:57.215953Z",
     "start_time": "2025-03-29T15:57:47.802645Z"
    }
   },
   "source": [
    "import pandas as pd\n",
    "import wrds\n",
    "import importlib\n",
    "import wrds_lib as wl\n",
    "import load_clean_lib\n",
    "\n",
    "db = wrds.Connection(wrds_username=\"axelledue\") "
   ],
   "outputs": [
    {
     "ename": "KeyboardInterrupt",
     "evalue": "",
     "output_type": "error",
     "traceback": [
      "\u001B[1;31m---------------------------------------------------------------------------\u001B[0m",
      "\u001B[1;31mOperationalError\u001B[0m                          Traceback (most recent call last)",
      "File \u001B[1;32mC:\\ProgramData\\anaconda3\\Lib\\site-packages\\sqlalchemy\\pool\\base.py:897\u001B[0m, in \u001B[0;36m_ConnectionRecord.__connect\u001B[1;34m(self)\u001B[0m\n\u001B[0;32m    896\u001B[0m \u001B[38;5;28mself\u001B[39m\u001B[38;5;241m.\u001B[39mstarttime \u001B[38;5;241m=\u001B[39m time\u001B[38;5;241m.\u001B[39mtime()\n\u001B[1;32m--> 897\u001B[0m \u001B[38;5;28mself\u001B[39m\u001B[38;5;241m.\u001B[39mdbapi_connection \u001B[38;5;241m=\u001B[39m connection \u001B[38;5;241m=\u001B[39m pool\u001B[38;5;241m.\u001B[39m_invoke_creator(\u001B[38;5;28mself\u001B[39m)\n\u001B[0;32m    898\u001B[0m pool\u001B[38;5;241m.\u001B[39mlogger\u001B[38;5;241m.\u001B[39mdebug(\u001B[38;5;124m\"\u001B[39m\u001B[38;5;124mCreated new connection \u001B[39m\u001B[38;5;132;01m%r\u001B[39;00m\u001B[38;5;124m\"\u001B[39m, connection)\n",
      "File \u001B[1;32mC:\\ProgramData\\anaconda3\\Lib\\site-packages\\sqlalchemy\\engine\\create.py:646\u001B[0m, in \u001B[0;36mcreate_engine.<locals>.connect\u001B[1;34m(connection_record)\u001B[0m\n\u001B[0;32m    644\u001B[0m             \u001B[38;5;28;01mreturn\u001B[39;00m connection\n\u001B[1;32m--> 646\u001B[0m \u001B[38;5;28;01mreturn\u001B[39;00m dialect\u001B[38;5;241m.\u001B[39mconnect(\u001B[38;5;241m*\u001B[39mcargs, \u001B[38;5;241m*\u001B[39m\u001B[38;5;241m*\u001B[39mcparams)\n",
      "File \u001B[1;32mC:\\ProgramData\\anaconda3\\Lib\\site-packages\\sqlalchemy\\engine\\default.py:622\u001B[0m, in \u001B[0;36mDefaultDialect.connect\u001B[1;34m(self, *cargs, **cparams)\u001B[0m\n\u001B[0;32m    620\u001B[0m \u001B[38;5;28;01mdef\u001B[39;00m \u001B[38;5;21mconnect\u001B[39m(\u001B[38;5;28mself\u001B[39m, \u001B[38;5;241m*\u001B[39mcargs, \u001B[38;5;241m*\u001B[39m\u001B[38;5;241m*\u001B[39mcparams):\n\u001B[0;32m    621\u001B[0m     \u001B[38;5;66;03m# inherits the docstring from interfaces.Dialect.connect\u001B[39;00m\n\u001B[1;32m--> 622\u001B[0m     \u001B[38;5;28;01mreturn\u001B[39;00m \u001B[38;5;28mself\u001B[39m\u001B[38;5;241m.\u001B[39mloaded_dbapi\u001B[38;5;241m.\u001B[39mconnect(\u001B[38;5;241m*\u001B[39mcargs, \u001B[38;5;241m*\u001B[39m\u001B[38;5;241m*\u001B[39mcparams)\n",
      "File \u001B[1;32mC:\\ProgramData\\anaconda3\\Lib\\site-packages\\psycopg2\\__init__.py:122\u001B[0m, in \u001B[0;36mconnect\u001B[1;34m(dsn, connection_factory, cursor_factory, **kwargs)\u001B[0m\n\u001B[0;32m    121\u001B[0m dsn \u001B[38;5;241m=\u001B[39m _ext\u001B[38;5;241m.\u001B[39mmake_dsn(dsn, \u001B[38;5;241m*\u001B[39m\u001B[38;5;241m*\u001B[39mkwargs)\n\u001B[1;32m--> 122\u001B[0m conn \u001B[38;5;241m=\u001B[39m _connect(dsn, connection_factory\u001B[38;5;241m=\u001B[39mconnection_factory, \u001B[38;5;241m*\u001B[39m\u001B[38;5;241m*\u001B[39mkwasync)\n\u001B[0;32m    123\u001B[0m \u001B[38;5;28;01mif\u001B[39;00m cursor_factory \u001B[38;5;129;01mis\u001B[39;00m \u001B[38;5;129;01mnot\u001B[39;00m \u001B[38;5;28;01mNone\u001B[39;00m:\n",
      "\u001B[1;31mOperationalError\u001B[0m: connection to server at \"wrds-pgdata.wharton.upenn.edu\" (165.123.60.118), port 9737 failed: Connection timed out (0x0000274C/10060)\n\tIs the server running on that host and accepting TCP/IP connections?\n",
      "\nDuring handling of the above exception, another exception occurred:\n",
      "\u001B[1;31mKeyboardInterrupt\u001B[0m                         Traceback (most recent call last)",
      "Cell \u001B[1;32mIn[2], line 6\u001B[0m\n\u001B[0;32m      3\u001B[0m \u001B[38;5;28;01mimport\u001B[39;00m \u001B[38;5;21;01mwrds_lib\u001B[39;00m \u001B[38;5;28;01mas\u001B[39;00m \u001B[38;5;21;01mwl\u001B[39;00m\n\u001B[0;32m      4\u001B[0m \u001B[38;5;28;01mimport\u001B[39;00m \u001B[38;5;21;01mload_clean_lib\u001B[39;00m\n\u001B[1;32m----> 6\u001B[0m db \u001B[38;5;241m=\u001B[39m wrds\u001B[38;5;241m.\u001B[39mConnection(wrds_username\u001B[38;5;241m=\u001B[39m\u001B[38;5;124m\"\u001B[39m\u001B[38;5;124maxelledue\u001B[39m\u001B[38;5;124m\"\u001B[39m)\n",
      "File \u001B[1;32mC:\\ProgramData\\anaconda3\\Lib\\site-packages\\wrds\\sql.py:75\u001B[0m, in \u001B[0;36mConnection.__init__\u001B[1;34m(self, autoconnect, verbose, **kwargs)\u001B[0m\n\u001B[0;32m     72\u001B[0m \u001B[38;5;28mself\u001B[39m\u001B[38;5;241m.\u001B[39m_connect_args \u001B[38;5;241m=\u001B[39m kwargs\u001B[38;5;241m.\u001B[39mget(\u001B[38;5;124m\"\u001B[39m\u001B[38;5;124mwrds_connect_args\u001B[39m\u001B[38;5;124m\"\u001B[39m, WRDS_CONNECT_ARGS)\n\u001B[0;32m     74\u001B[0m \u001B[38;5;28;01mif\u001B[39;00m autoconnect:\n\u001B[1;32m---> 75\u001B[0m     \u001B[38;5;28mself\u001B[39m\u001B[38;5;241m.\u001B[39mconnect()\n\u001B[0;32m     76\u001B[0m     \u001B[38;5;28mself\u001B[39m\u001B[38;5;241m.\u001B[39mload_library_list()\n",
      "File \u001B[1;32mC:\\ProgramData\\anaconda3\\Lib\\site-packages\\wrds\\sql.py:104\u001B[0m, in \u001B[0;36mConnection.connect\u001B[1;34m(self)\u001B[0m\n\u001B[0;32m    102\u001B[0m \u001B[38;5;250m\u001B[39m\u001B[38;5;124;03m\"\"\"Make a connection to the WRDS database.\"\"\"\u001B[39;00m\n\u001B[0;32m    103\u001B[0m \u001B[38;5;66;03m# first try connection using system defaults and params set in constructor\u001B[39;00m\n\u001B[1;32m--> 104\u001B[0m \u001B[38;5;28mself\u001B[39m\u001B[38;5;241m.\u001B[39m__make_sa_engine_conn()\n\u001B[0;32m    106\u001B[0m \u001B[38;5;28;01mif\u001B[39;00m (\u001B[38;5;28mself\u001B[39m\u001B[38;5;241m.\u001B[39mengine \u001B[38;5;129;01mis\u001B[39;00m \u001B[38;5;28;01mNone\u001B[39;00m \u001B[38;5;129;01mand\u001B[39;00m \u001B[38;5;28mself\u001B[39m\u001B[38;5;241m.\u001B[39m_hostname \u001B[38;5;241m!=\u001B[39m WRDS_POSTGRES_HOST):\n\u001B[0;32m    107\u001B[0m     \u001B[38;5;66;03m# try explicit w/ default hostname\u001B[39;00m\n\u001B[0;32m    108\u001B[0m     \u001B[38;5;28mprint\u001B[39m(\u001B[38;5;124mf\u001B[39m\u001B[38;5;124m\"\u001B[39m\u001B[38;5;124mTrying \u001B[39m\u001B[38;5;124m'\u001B[39m\u001B[38;5;132;01m{\u001B[39;00mWRDS_POSTGRES_HOST\u001B[38;5;132;01m}\u001B[39;00m\u001B[38;5;124m'\u001B[39m\u001B[38;5;124m...\u001B[39m\u001B[38;5;124m\"\u001B[39m)\n",
      "File \u001B[1;32mC:\\ProgramData\\anaconda3\\Lib\\site-packages\\wrds\\sql.py:93\u001B[0m, in \u001B[0;36mConnection.__make_sa_engine_conn\u001B[1;34m(self, raise_err)\u001B[0m\n\u001B[0;32m     87\u001B[0m \u001B[38;5;28;01mtry\u001B[39;00m:\n\u001B[0;32m     88\u001B[0m     \u001B[38;5;28mself\u001B[39m\u001B[38;5;241m.\u001B[39mengine \u001B[38;5;241m=\u001B[39m sa\u001B[38;5;241m.\u001B[39mcreate_engine(\n\u001B[0;32m     89\u001B[0m         pguri,\n\u001B[0;32m     90\u001B[0m         isolation_level\u001B[38;5;241m=\u001B[39m\u001B[38;5;124m\"\u001B[39m\u001B[38;5;124mAUTOCOMMIT\u001B[39m\u001B[38;5;124m\"\u001B[39m,\n\u001B[0;32m     91\u001B[0m         connect_args\u001B[38;5;241m=\u001B[39m\u001B[38;5;28mself\u001B[39m\u001B[38;5;241m.\u001B[39m_connect_args,\n\u001B[0;32m     92\u001B[0m     )\n\u001B[1;32m---> 93\u001B[0m     \u001B[38;5;28mself\u001B[39m\u001B[38;5;241m.\u001B[39mconnection \u001B[38;5;241m=\u001B[39m \u001B[38;5;28mself\u001B[39m\u001B[38;5;241m.\u001B[39mengine\u001B[38;5;241m.\u001B[39mconnect()\n\u001B[0;32m     94\u001B[0m \u001B[38;5;28;01mexcept\u001B[39;00m \u001B[38;5;167;01mException\u001B[39;00m \u001B[38;5;28;01mas\u001B[39;00m err:\n\u001B[0;32m     95\u001B[0m     \u001B[38;5;28;01mif\u001B[39;00m \u001B[38;5;28mself\u001B[39m\u001B[38;5;241m.\u001B[39m_verbose:\n",
      "File \u001B[1;32mC:\\ProgramData\\anaconda3\\Lib\\site-packages\\sqlalchemy\\engine\\base.py:3274\u001B[0m, in \u001B[0;36mEngine.connect\u001B[1;34m(self)\u001B[0m\n\u001B[0;32m   3251\u001B[0m \u001B[38;5;28;01mdef\u001B[39;00m \u001B[38;5;21mconnect\u001B[39m(\u001B[38;5;28mself\u001B[39m) \u001B[38;5;241m-\u001B[39m\u001B[38;5;241m>\u001B[39m Connection:\n\u001B[0;32m   3252\u001B[0m \u001B[38;5;250m    \u001B[39m\u001B[38;5;124;03m\"\"\"Return a new :class:`_engine.Connection` object.\u001B[39;00m\n\u001B[0;32m   3253\u001B[0m \n\u001B[0;32m   3254\u001B[0m \u001B[38;5;124;03m    The :class:`_engine.Connection` acts as a Python context manager, so\u001B[39;00m\n\u001B[1;32m   (...)\u001B[0m\n\u001B[0;32m   3271\u001B[0m \n\u001B[0;32m   3272\u001B[0m \u001B[38;5;124;03m    \"\"\"\u001B[39;00m\n\u001B[1;32m-> 3274\u001B[0m     \u001B[38;5;28;01mreturn\u001B[39;00m \u001B[38;5;28mself\u001B[39m\u001B[38;5;241m.\u001B[39m_connection_cls(\u001B[38;5;28mself\u001B[39m)\n",
      "File \u001B[1;32mC:\\ProgramData\\anaconda3\\Lib\\site-packages\\sqlalchemy\\engine\\base.py:146\u001B[0m, in \u001B[0;36mConnection.__init__\u001B[1;34m(self, engine, connection, _has_events, _allow_revalidate, _allow_autobegin)\u001B[0m\n\u001B[0;32m    144\u001B[0m \u001B[38;5;28;01mif\u001B[39;00m connection \u001B[38;5;129;01mis\u001B[39;00m \u001B[38;5;28;01mNone\u001B[39;00m:\n\u001B[0;32m    145\u001B[0m     \u001B[38;5;28;01mtry\u001B[39;00m:\n\u001B[1;32m--> 146\u001B[0m         \u001B[38;5;28mself\u001B[39m\u001B[38;5;241m.\u001B[39m_dbapi_connection \u001B[38;5;241m=\u001B[39m engine\u001B[38;5;241m.\u001B[39mraw_connection()\n\u001B[0;32m    147\u001B[0m     \u001B[38;5;28;01mexcept\u001B[39;00m dialect\u001B[38;5;241m.\u001B[39mloaded_dbapi\u001B[38;5;241m.\u001B[39mError \u001B[38;5;28;01mas\u001B[39;00m err:\n\u001B[0;32m    148\u001B[0m         Connection\u001B[38;5;241m.\u001B[39m_handle_dbapi_exception_noconnection(\n\u001B[0;32m    149\u001B[0m             err, dialect, engine\n\u001B[0;32m    150\u001B[0m         )\n",
      "File \u001B[1;32mC:\\ProgramData\\anaconda3\\Lib\\site-packages\\sqlalchemy\\engine\\base.py:3298\u001B[0m, in \u001B[0;36mEngine.raw_connection\u001B[1;34m(self)\u001B[0m\n\u001B[0;32m   3276\u001B[0m \u001B[38;5;28;01mdef\u001B[39;00m \u001B[38;5;21mraw_connection\u001B[39m(\u001B[38;5;28mself\u001B[39m) \u001B[38;5;241m-\u001B[39m\u001B[38;5;241m>\u001B[39m PoolProxiedConnection:\n\u001B[0;32m   3277\u001B[0m \u001B[38;5;250m    \u001B[39m\u001B[38;5;124;03m\"\"\"Return a \"raw\" DBAPI connection from the connection pool.\u001B[39;00m\n\u001B[0;32m   3278\u001B[0m \n\u001B[0;32m   3279\u001B[0m \u001B[38;5;124;03m    The returned object is a proxied version of the DBAPI\u001B[39;00m\n\u001B[1;32m   (...)\u001B[0m\n\u001B[0;32m   3296\u001B[0m \n\u001B[0;32m   3297\u001B[0m \u001B[38;5;124;03m    \"\"\"\u001B[39;00m\n\u001B[1;32m-> 3298\u001B[0m     \u001B[38;5;28;01mreturn\u001B[39;00m \u001B[38;5;28mself\u001B[39m\u001B[38;5;241m.\u001B[39mpool\u001B[38;5;241m.\u001B[39mconnect()\n",
      "File \u001B[1;32mC:\\ProgramData\\anaconda3\\Lib\\site-packages\\sqlalchemy\\pool\\base.py:449\u001B[0m, in \u001B[0;36mPool.connect\u001B[1;34m(self)\u001B[0m\n\u001B[0;32m    441\u001B[0m \u001B[38;5;28;01mdef\u001B[39;00m \u001B[38;5;21mconnect\u001B[39m(\u001B[38;5;28mself\u001B[39m) \u001B[38;5;241m-\u001B[39m\u001B[38;5;241m>\u001B[39m PoolProxiedConnection:\n\u001B[0;32m    442\u001B[0m \u001B[38;5;250m    \u001B[39m\u001B[38;5;124;03m\"\"\"Return a DBAPI connection from the pool.\u001B[39;00m\n\u001B[0;32m    443\u001B[0m \n\u001B[0;32m    444\u001B[0m \u001B[38;5;124;03m    The connection is instrumented such that when its\u001B[39;00m\n\u001B[1;32m   (...)\u001B[0m\n\u001B[0;32m    447\u001B[0m \n\u001B[0;32m    448\u001B[0m \u001B[38;5;124;03m    \"\"\"\u001B[39;00m\n\u001B[1;32m--> 449\u001B[0m     \u001B[38;5;28;01mreturn\u001B[39;00m _ConnectionFairy\u001B[38;5;241m.\u001B[39m_checkout(\u001B[38;5;28mself\u001B[39m)\n",
      "File \u001B[1;32mC:\\ProgramData\\anaconda3\\Lib\\site-packages\\sqlalchemy\\pool\\base.py:1264\u001B[0m, in \u001B[0;36m_ConnectionFairy._checkout\u001B[1;34m(cls, pool, threadconns, fairy)\u001B[0m\n\u001B[0;32m   1256\u001B[0m \u001B[38;5;129m@classmethod\u001B[39m\n\u001B[0;32m   1257\u001B[0m \u001B[38;5;28;01mdef\u001B[39;00m \u001B[38;5;21m_checkout\u001B[39m(\n\u001B[0;32m   1258\u001B[0m     \u001B[38;5;28mcls\u001B[39m,\n\u001B[1;32m   (...)\u001B[0m\n\u001B[0;32m   1261\u001B[0m     fairy: Optional[_ConnectionFairy] \u001B[38;5;241m=\u001B[39m \u001B[38;5;28;01mNone\u001B[39;00m,\n\u001B[0;32m   1262\u001B[0m ) \u001B[38;5;241m-\u001B[39m\u001B[38;5;241m>\u001B[39m _ConnectionFairy:\n\u001B[0;32m   1263\u001B[0m     \u001B[38;5;28;01mif\u001B[39;00m \u001B[38;5;129;01mnot\u001B[39;00m fairy:\n\u001B[1;32m-> 1264\u001B[0m         fairy \u001B[38;5;241m=\u001B[39m _ConnectionRecord\u001B[38;5;241m.\u001B[39mcheckout(pool)\n\u001B[0;32m   1266\u001B[0m         \u001B[38;5;28;01mif\u001B[39;00m threadconns \u001B[38;5;129;01mis\u001B[39;00m \u001B[38;5;129;01mnot\u001B[39;00m \u001B[38;5;28;01mNone\u001B[39;00m:\n\u001B[0;32m   1267\u001B[0m             threadconns\u001B[38;5;241m.\u001B[39mcurrent \u001B[38;5;241m=\u001B[39m weakref\u001B[38;5;241m.\u001B[39mref(fairy)\n",
      "File \u001B[1;32mC:\\ProgramData\\anaconda3\\Lib\\site-packages\\sqlalchemy\\pool\\base.py:713\u001B[0m, in \u001B[0;36m_ConnectionRecord.checkout\u001B[1;34m(cls, pool)\u001B[0m\n\u001B[0;32m    711\u001B[0m     rec \u001B[38;5;241m=\u001B[39m cast(_ConnectionRecord, pool\u001B[38;5;241m.\u001B[39m_do_get())\n\u001B[0;32m    712\u001B[0m \u001B[38;5;28;01melse\u001B[39;00m:\n\u001B[1;32m--> 713\u001B[0m     rec \u001B[38;5;241m=\u001B[39m pool\u001B[38;5;241m.\u001B[39m_do_get()\n\u001B[0;32m    715\u001B[0m \u001B[38;5;28;01mtry\u001B[39;00m:\n\u001B[0;32m    716\u001B[0m     dbapi_connection \u001B[38;5;241m=\u001B[39m rec\u001B[38;5;241m.\u001B[39mget_connection()\n",
      "File \u001B[1;32mC:\\ProgramData\\anaconda3\\Lib\\site-packages\\sqlalchemy\\pool\\impl.py:179\u001B[0m, in \u001B[0;36mQueuePool._do_get\u001B[1;34m(self)\u001B[0m\n\u001B[0;32m    177\u001B[0m     \u001B[38;5;28;01mreturn\u001B[39;00m \u001B[38;5;28mself\u001B[39m\u001B[38;5;241m.\u001B[39m_create_connection()\n\u001B[0;32m    178\u001B[0m \u001B[38;5;28;01mexcept\u001B[39;00m:\n\u001B[1;32m--> 179\u001B[0m     \u001B[38;5;28;01mwith\u001B[39;00m util\u001B[38;5;241m.\u001B[39msafe_reraise():\n\u001B[0;32m    180\u001B[0m         \u001B[38;5;28mself\u001B[39m\u001B[38;5;241m.\u001B[39m_dec_overflow()\n\u001B[0;32m    181\u001B[0m     \u001B[38;5;28;01mraise\u001B[39;00m\n",
      "File \u001B[1;32mC:\\ProgramData\\anaconda3\\Lib\\site-packages\\sqlalchemy\\util\\langhelpers.py:146\u001B[0m, in \u001B[0;36msafe_reraise.__exit__\u001B[1;34m(self, type_, value, traceback)\u001B[0m\n\u001B[0;32m    144\u001B[0m     \u001B[38;5;28;01massert\u001B[39;00m exc_value \u001B[38;5;129;01mis\u001B[39;00m \u001B[38;5;129;01mnot\u001B[39;00m \u001B[38;5;28;01mNone\u001B[39;00m\n\u001B[0;32m    145\u001B[0m     \u001B[38;5;28mself\u001B[39m\u001B[38;5;241m.\u001B[39m_exc_info \u001B[38;5;241m=\u001B[39m \u001B[38;5;28;01mNone\u001B[39;00m  \u001B[38;5;66;03m# remove potential circular references\u001B[39;00m\n\u001B[1;32m--> 146\u001B[0m     \u001B[38;5;28;01mraise\u001B[39;00m exc_value\u001B[38;5;241m.\u001B[39mwith_traceback(exc_tb)\n\u001B[0;32m    147\u001B[0m \u001B[38;5;28;01melse\u001B[39;00m:\n\u001B[0;32m    148\u001B[0m     \u001B[38;5;28mself\u001B[39m\u001B[38;5;241m.\u001B[39m_exc_info \u001B[38;5;241m=\u001B[39m \u001B[38;5;28;01mNone\u001B[39;00m  \u001B[38;5;66;03m# remove potential circular references\u001B[39;00m\n",
      "File \u001B[1;32mC:\\ProgramData\\anaconda3\\Lib\\site-packages\\sqlalchemy\\pool\\impl.py:177\u001B[0m, in \u001B[0;36mQueuePool._do_get\u001B[1;34m(self)\u001B[0m\n\u001B[0;32m    175\u001B[0m \u001B[38;5;28;01mif\u001B[39;00m \u001B[38;5;28mself\u001B[39m\u001B[38;5;241m.\u001B[39m_inc_overflow():\n\u001B[0;32m    176\u001B[0m     \u001B[38;5;28;01mtry\u001B[39;00m:\n\u001B[1;32m--> 177\u001B[0m         \u001B[38;5;28;01mreturn\u001B[39;00m \u001B[38;5;28mself\u001B[39m\u001B[38;5;241m.\u001B[39m_create_connection()\n\u001B[0;32m    178\u001B[0m     \u001B[38;5;28;01mexcept\u001B[39;00m:\n\u001B[0;32m    179\u001B[0m         \u001B[38;5;28;01mwith\u001B[39;00m util\u001B[38;5;241m.\u001B[39msafe_reraise():\n",
      "File \u001B[1;32mC:\\ProgramData\\anaconda3\\Lib\\site-packages\\sqlalchemy\\pool\\base.py:390\u001B[0m, in \u001B[0;36mPool._create_connection\u001B[1;34m(self)\u001B[0m\n\u001B[0;32m    387\u001B[0m \u001B[38;5;28;01mdef\u001B[39;00m \u001B[38;5;21m_create_connection\u001B[39m(\u001B[38;5;28mself\u001B[39m) \u001B[38;5;241m-\u001B[39m\u001B[38;5;241m>\u001B[39m ConnectionPoolEntry:\n\u001B[0;32m    388\u001B[0m \u001B[38;5;250m    \u001B[39m\u001B[38;5;124;03m\"\"\"Called by subclasses to create a new ConnectionRecord.\"\"\"\u001B[39;00m\n\u001B[1;32m--> 390\u001B[0m     \u001B[38;5;28;01mreturn\u001B[39;00m _ConnectionRecord(\u001B[38;5;28mself\u001B[39m)\n",
      "File \u001B[1;32mC:\\ProgramData\\anaconda3\\Lib\\site-packages\\sqlalchemy\\pool\\base.py:675\u001B[0m, in \u001B[0;36m_ConnectionRecord.__init__\u001B[1;34m(self, pool, connect)\u001B[0m\n\u001B[0;32m    673\u001B[0m \u001B[38;5;28mself\u001B[39m\u001B[38;5;241m.\u001B[39m__pool \u001B[38;5;241m=\u001B[39m pool\n\u001B[0;32m    674\u001B[0m \u001B[38;5;28;01mif\u001B[39;00m connect:\n\u001B[1;32m--> 675\u001B[0m     \u001B[38;5;28mself\u001B[39m\u001B[38;5;241m.\u001B[39m__connect()\n\u001B[0;32m    676\u001B[0m \u001B[38;5;28mself\u001B[39m\u001B[38;5;241m.\u001B[39mfinalize_callback \u001B[38;5;241m=\u001B[39m deque()\n",
      "File \u001B[1;32mC:\\ProgramData\\anaconda3\\Lib\\site-packages\\sqlalchemy\\pool\\base.py:901\u001B[0m, in \u001B[0;36m_ConnectionRecord.__connect\u001B[1;34m(self)\u001B[0m\n\u001B[0;32m    899\u001B[0m     \u001B[38;5;28mself\u001B[39m\u001B[38;5;241m.\u001B[39mfresh \u001B[38;5;241m=\u001B[39m \u001B[38;5;28;01mTrue\u001B[39;00m\n\u001B[0;32m    900\u001B[0m \u001B[38;5;28;01mexcept\u001B[39;00m \u001B[38;5;167;01mBaseException\u001B[39;00m \u001B[38;5;28;01mas\u001B[39;00m e:\n\u001B[1;32m--> 901\u001B[0m     \u001B[38;5;28;01mwith\u001B[39;00m util\u001B[38;5;241m.\u001B[39msafe_reraise():\n\u001B[0;32m    902\u001B[0m         pool\u001B[38;5;241m.\u001B[39mlogger\u001B[38;5;241m.\u001B[39mdebug(\u001B[38;5;124m\"\u001B[39m\u001B[38;5;124mError on connect(): \u001B[39m\u001B[38;5;132;01m%s\u001B[39;00m\u001B[38;5;124m\"\u001B[39m, e)\n\u001B[0;32m    903\u001B[0m \u001B[38;5;28;01melse\u001B[39;00m:\n\u001B[0;32m    904\u001B[0m     \u001B[38;5;66;03m# in SQLAlchemy 1.4 the first_connect event is not used by\u001B[39;00m\n\u001B[0;32m    905\u001B[0m     \u001B[38;5;66;03m# the engine, so this will usually not be set\u001B[39;00m\n",
      "\u001B[1;31mKeyboardInterrupt\u001B[0m: "
     ]
    }
   ],
   "execution_count": 2
  },
  {
   "cell_type": "code",
   "execution_count": null,
   "metadata": {},
   "outputs": [
    {
     "data": {
      "text/plain": [
       "<bound method Connection.close of <wrds.sql.Connection object at 0x00000259AE01B650>>"
      ]
     },
     "execution_count": 64,
     "metadata": {},
     "output_type": "execute_result"
    }
   ],
   "source": [
    "# db.close"
   ]
  },
  {
   "cell_type": "markdown",
   "metadata": {},
   "source": [
    "# create option, forward and return csv files"
   ]
  },
  {
   "cell_type": "code",
   "execution_count": 14,
   "metadata": {},
   "outputs": [
    {
     "name": "stdout",
     "output_type": "stream",
     "text": [
      "Importing O-data and saving to: C:\\Users\\axell\\Desktop\\CBS\\data\\OptionMetrics\\i4s4_CW\\option data.csv\n"
     ]
    },
    {
     "name": "stderr",
     "output_type": "stream",
     "text": [
      "Collecting data: 100%|██████████| 8/8 [01:22<00:00, 10.26s/years]\n"
     ]
    },
    {
     "name": "stdout",
     "output_type": "stream",
     "text": [
      "Data collected and saved\n",
      "Importing F-data and saving to: C:\\Users\\axell\\Desktop\\CBS\\data\\OptionMetrics\\i4s4_CW\\forward price.csv\n"
     ]
    },
    {
     "name": "stderr",
     "output_type": "stream",
     "text": [
      "Collecting data: 100%|██████████| 8/8 [00:02<00:00,  3.34years/s]\n"
     ]
    },
    {
     "name": "stdout",
     "output_type": "stream",
     "text": [
      "Data collected and saved: 83300 rows.\n",
      "Importing S-data and saving to: C:\\Users\\axell\\Desktop\\CBS\\data\\OptionMetrics\\i4s4_CW\\returns and stock price.csv\n"
     ]
    },
    {
     "name": "stderr",
     "output_type": "stream",
     "text": [
      "Collecting data: 100%|██████████| 8/8 [00:01<00:00,  4.80years/s]\n"
     ]
    },
    {
     "name": "stdout",
     "output_type": "stream",
     "text": [
      "Data collected and saved: 13627 rows.\n",
      "Importing Z-data and saving to: C:\\Users\\axell\\Desktop\\CBS\\data\\OptionMetrics\\i4s4_CW\\ZC yield curve.csv\n",
      "Data collected and saved: 17074 rows.\n"
     ]
    }
   ],
   "source": [
    "#cerate data directly from api \n",
    "importlib.reload(wl)\n",
    "\n",
    "# axel pseuodo opt chunk_size = 4000000\n",
    "\n",
    "wl.fetch_wrds_data(\n",
    "    db = db,\n",
    "    profile=\"Axel\",\n",
    "    folder_name=\"i4s4_CW\",\n",
    "    begdate=\"1996-01-04\", \n",
    "    enddate=\"2003-02-28\", #2024-12-31 2003-02-28\n",
    "    tickers=[\"SPX\",\"OEX\",\"DJX\",\"NDX\",\"MSFT\",\"IBM\",\"GE\",\"AMZN\"], #[\"SPX\",\"OEX\",\"DJX\",\"NDX\",\"MSFT\",\"IBM\",\"GE\",\"AMZN\"]\n",
    "    progress=True,\n",
    "    chunk_size=4000000,\n",
    "    return_df=False\n",
    ")"
   ]
  },
  {
   "cell_type": "markdown",
   "metadata": {},
   "source": [
    "### also return dataframes "
   ]
  },
  {
   "cell_type": "code",
   "execution_count": null,
   "metadata": {},
   "outputs": [
    {
     "name": "stdout",
     "output_type": "stream",
     "text": [
      "Importing O-data and saving to: C:\\Users\\axell\\Desktop\\CBS\\data\\OptionMetrics\\SPX_short\\option data.csv\n",
      "Data collected and saved: 663361 rows.\n",
      "Importing F-data and saving to: C:\\Users\\axell\\Desktop\\CBS\\data\\OptionMetrics\\SPX_short\\forward price.csv\n",
      "Data collected and saved: 14370 rows.\n",
      "Importing S-data and saving to: C:\\Users\\axell\\Desktop\\CBS\\data\\OptionMetrics\\SPX_short\\returns and stock price.csv\n",
      "Data collected and saved: 1801 rows.\n",
      "Importing Z-data and saving to: C:\\Users\\axell\\Desktop\\CBS\\data\\OptionMetrics\\SPX_short\\ZC yield curve.csv\n",
      "Data collected and saved: 17074 rows.\n"
     ]
    }
   ],
   "source": [
    "#cerate data directly from api \n",
    "importlib.reload(wl)\n",
    "\n",
    "# axel pseuodo opt chunk_size = 4000000\n",
    "\n",
    "dfs = wl.fetch_wrds_data(\n",
    "    db = db,\n",
    "    profile=\"Axel\",\n",
    "    folder_name=\"SPX_short\",\n",
    "    begdate=\"1996-01-04\", \n",
    "    enddate=\"2003-02-28\", #2024-12-31 2003-02-28\n",
    "    tickers=[\"SPX\"], #[\"SPX\",\"OEX\",\"DJX\",\"NDX\",\"MSFT\",\"IBM\",\"GE\",\"AMZN\"]\n",
    "    progress=True,\n",
    "    chunk_size=4000000,\n",
    "    return_df=True\n",
    ")"
   ]
  },
  {
   "cell_type": "markdown",
   "metadata": {},
   "source": [
    "# Create factor file"
   ]
  },
  {
   "metadata": {
    "ExecuteTime": {
     "end_time": "2025-04-21T11:08:19.350644Z",
     "start_time": "2025-04-21T11:08:19.347542Z"
    }
   },
   "cell_type": "code",
   "source": [
    "import importlib\n",
    "import load_clean_lib\n",
    "import pandas as pd"
   ],
   "outputs": [],
   "execution_count": 9
  },
  {
   "cell_type": "code",
   "metadata": {
    "ExecuteTime": {
     "end_time": "2025-04-21T11:11:58.600024Z",
     "start_time": "2025-04-21T11:08:19.985869Z"
    }
   },
   "source": [
    "importlib.reload(load_clean_lib)\n",
    "factor_df = load_clean_lib.download_factor_df()\n",
    "factor_df.to_csv(\"data/factor_df.csv\")"
   ],
   "outputs": [],
   "execution_count": 10
  },
  {
   "metadata": {},
   "cell_type": "markdown",
   "source": "# Swap rate (sum_df and od_raw)"
  },
  {
   "metadata": {
    "ExecuteTime": {
     "end_time": "2025-04-21T17:05:37.674427Z",
     "start_time": "2025-04-21T17:05:36.460276Z"
    }
   },
   "cell_type": "code",
   "source": [
    "import importlib\n",
    "import volpy_func_lib as vp\n",
    "importlib.reload(vp)"
   ],
   "outputs": [
    {
     "data": {
      "text/plain": [
       "<module 'volpy_func_lib' from 'D:\\\\Professionelt\\\\Code\\\\volpy\\\\volpy_func_lib.py'>"
      ]
     },
     "execution_count": 1,
     "metadata": {},
     "output_type": "execute_result"
    }
   ],
   "execution_count": 1
  },
  {
   "metadata": {
    "ExecuteTime": {
     "end_time": "2025-04-21T17:21:58.356986Z",
     "start_time": "2025-04-21T17:05:37.740470Z"
    }
   },
   "cell_type": "code",
   "source": [
    "ticker_list = None #[\"SPX\", \"OEX\"]\n",
    "IV_type = \"om\" # om = OptionMetrics IV, \"bid\"/\"ask\"/\"mid\" price\n",
    "om_folder = \"i2s1_full_v2\" #i4s4_CW, SPX_short, SPX_full, i2s1_full_v2\n",
    "\n",
    "sum_df, od_raw = vp.load_analyze_create_swap(\n",
    "    om_folder=om_folder, \n",
    "    ticker_list=ticker_list, \n",
    "    first_day=None, \n",
    "    last_day=None, \n",
    "    IV_type=IV_type, \n",
    "    save_files = True\n",
    ")"
   ],
   "outputs": [
    {
     "name": "stdout",
     "output_type": "stream",
     "text": [
      "t_ was selected in global_settings.py\n",
      "Data loaded\n"
     ]
    },
    {
     "name": "stderr",
     "output_type": "stream",
     "text": [
      "Processing Groups: 100%|██████████| 40730/40730 [00:23<00:00, 1754.87it/s]\n"
     ]
    }
   ],
   "execution_count": 2
  },
  {
   "metadata": {},
   "cell_type": "markdown",
   "source": "# Option Strategies (sum_df_big and df_orpy) straddle, butterfly ect."
  },
  {
   "metadata": {
    "ExecuteTime": {
     "end_time": "2025-04-21T17:37:43.946234Z",
     "start_time": "2025-04-21T17:37:43.921114Z"
    }
   },
   "cell_type": "code",
   "source": [
    "import vol_strat_lib as vs\n",
    "import importlib\n",
    "import volpy_func_lib as vp\n",
    "import pandas as pd\n",
    "\n",
    "importlib.reload(vs)"
   ],
   "outputs": [
    {
     "data": {
      "text/plain": [
       "<module 'vol_strat_lib' from 'D:\\\\Professionelt\\\\Code\\\\volpy\\\\vol_strat_lib.py'>"
      ]
     },
     "execution_count": 8,
     "metadata": {},
     "output_type": "execute_result"
    }
   ],
   "execution_count": 8
  },
  {
   "metadata": {
    "ExecuteTime": {
     "end_time": "2025-04-21T17:23:53.694106Z",
     "start_time": "2025-04-21T17:21:58.520966Z"
    }
   },
   "cell_type": "code",
   "source": [
    "om_folder = \"i2s1_full_v2\" #SPX_full, i2s1_full_v2, SPX_short\n",
    "sum_df, od_raw = vs.import_sum_raw(om_folder = om_folder)"
   ],
   "outputs": [],
   "execution_count": 4
  },
  {
   "metadata": {
    "ExecuteTime": {
     "end_time": "2025-04-21T17:42:56.437373Z",
     "start_time": "2025-04-21T17:37:43.950893Z"
    }
   },
   "cell_type": "code",
   "source": [
    "price_type = \"mid\"\n",
    "IV_type = \"om\"\n",
    "OTMs = [0.05, 0.15]\n",
    "\n",
    "sum_df, df_orpy = vs.create_option_sgys(\n",
    "    sum_df, \n",
    "    od_raw, \n",
    "    price_type=price_type, \n",
    "    IV_type=IV_type, \n",
    "    OTMs=OTMs, \n",
    "    om_folder = om_folder,\n",
    "    save_files=True\n",
    ")"
   ],
   "outputs": [],
   "execution_count": 9
  },
  {
   "metadata": {},
   "cell_type": "code",
   "outputs": [],
   "execution_count": null,
   "source": ""
  }
 ],
 "metadata": {
  "kernelspec": {
   "display_name": "base",
   "language": "python",
   "name": "python3"
  },
  "language_info": {
   "codemirror_mode": {
    "name": "ipython",
    "version": 3
   },
   "file_extension": ".py",
   "mimetype": "text/x-python",
   "name": "python",
   "nbconvert_exporter": "python",
   "pygments_lexer": "ipython3",
   "version": "3.11.5"
  }
 },
 "nbformat": 4,
 "nbformat_minor": 2
}
