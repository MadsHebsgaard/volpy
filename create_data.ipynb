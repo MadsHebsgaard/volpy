{
 "cells": [
  {
   "cell_type": "code",
   "execution_count": 36,
   "metadata": {},
   "outputs": [
    {
     "name": "stdout",
     "output_type": "stream",
     "text": [
      "Loading library list...\n",
      "Done\n"
     ]
    }
   ],
   "source": [
    "import wrds\n",
    "import importlib\n",
    "import wrds_lib as wl\n",
    "\n",
    "db = wrds.Connection(wrds_username=\"axelledue\") "
   ]
  },
  {
   "cell_type": "code",
   "execution_count": 33,
   "metadata": {},
   "outputs": [
    {
     "data": {
      "text/plain": [
       "<bound method Connection.close of <wrds.sql.Connection object at 0x0000021722E29610>>"
      ]
     },
     "execution_count": 33,
     "metadata": {},
     "output_type": "execute_result"
    }
   ],
   "source": [
    "db.close"
   ]
  },
  {
   "cell_type": "markdown",
   "metadata": {},
   "source": [
    "# create option, forward and return csv files"
   ]
  },
  {
   "cell_type": "code",
   "execution_count": null,
   "metadata": {},
   "outputs": [
    {
     "name": "stdout",
     "output_type": "stream",
     "text": [
      "Importing O-data and saving to: C:\\Users\\axell\\Desktop\\CBS\\data\\OptionMetrics\\AxelTest2\\option data.csv\n"
     ]
    },
    {
     "name": "stderr",
     "output_type": "stream",
     "text": [
      "Collecting data: 100%|██████████| 1/1 [00:01<00:00,  1.27s/years]\n"
     ]
    },
    {
     "name": "stdout",
     "output_type": "stream",
     "text": [
      "Data collected and saved: 29508 rows.\n",
      "Importing F-data and saving to: C:\\Users\\axell\\Desktop\\CBS\\data\\OptionMetrics\\AxelTest2\\forward price.csv\n"
     ]
    },
    {
     "name": "stderr",
     "output_type": "stream",
     "text": [
      "Collecting data: 100%|██████████| 1/1 [00:00<00:00,  6.07years/s]\n"
     ]
    },
    {
     "name": "stdout",
     "output_type": "stream",
     "text": [
      "Data collected and saved: 1362 rows.\n",
      "Importing S-data and saving to: C:\\Users\\axell\\Desktop\\CBS\\data\\OptionMetrics\\AxelTest2\\returns and stock price.csv\n"
     ]
    },
    {
     "name": "stderr",
     "output_type": "stream",
     "text": [
      "Collecting data: 100%|██████████| 1/1 [00:00<00:00,  6.32years/s]"
     ]
    },
    {
     "name": "stdout",
     "output_type": "stream",
     "text": [
      "Data collected and saved: 234 rows.\n"
     ]
    },
    {
     "name": "stderr",
     "output_type": "stream",
     "text": [
      "\n"
     ]
    }
   ],
   "source": [
    "#cerate data directly from api \n",
    "importlib.reload(wl)\n",
    "\n",
    "wl.fetch_wrds_data(\n",
    "    db = db,\n",
    "    profile=\"Axel\",\n",
    "    folder_name=\"AxelTest2\",\n",
    "    begdate=\"1996-01-04\", \n",
    "    enddate=\"2003-02-28\", #2024-12-31 2003-02-28\n",
    "    tickers=[\"SPX\",\"OEX\",\"DJX\",\"NDX\",\"MSFT\",\"IBM\",\"GE\",\"AMZN\"],\n",
    "    progress=True\n",
    ")"
   ]
  },
  {
   "cell_type": "code",
   "execution_count": 32,
   "metadata": {},
   "outputs": [
    {
     "name": "stdout",
     "output_type": "stream",
     "text": [
      "Importing O-data and saving to: C:\\Users\\axell\\Desktop\\CBS\\data\\OptionMetrics\\AxelTest2\\option data.csv\n",
      "Data collected and saved: 941090 rows.\n",
      "Importing F-data and saving to: C:\\Users\\axell\\Desktop\\CBS\\data\\OptionMetrics\\AxelTest2\\forward price.csv\n",
      "Data collected and saved: 32337 rows.\n",
      "Importing S-data and saving to: C:\\Users\\axell\\Desktop\\CBS\\data\\OptionMetrics\\AxelTest2\\returns and stock price.csv\n",
      "Data collected and saved: 5579 rows.\n"
     ]
    }
   ],
   "source": [
    "#cerate data directly from api \n",
    "importlib.reload(wl)\n",
    "\n",
    "wl.fetch_wrds_data(\n",
    "    db = db,\n",
    "    profile=\"Axel\",\n",
    "    folder_name=\"AxelTest2\",\n",
    "    begdate=\"1996-01-04\", \n",
    "    enddate=\"1999-02-28\", #2024-12-31 2003-02-28\n",
    "    tickers=[\"SPX\",\"OEX\",\"DJX\",\"NDX\",\"MSFT\",\"IBM\",\"GE\",\"AMZN\"],\n",
    "    progress=False\n",
    ")"
   ]
  },
  {
   "cell_type": "markdown",
   "metadata": {},
   "source": [
    "## create yield curve csv file"
   ]
  }
 ],
 "metadata": {
  "kernelspec": {
   "display_name": "base",
   "language": "python",
   "name": "python3"
  },
  "language_info": {
   "codemirror_mode": {
    "name": "ipython",
    "version": 3
   },
   "file_extension": ".py",
   "mimetype": "text/x-python",
   "name": "python",
   "nbconvert_exporter": "python",
   "pygments_lexer": "ipython3",
   "version": "3.11.5"
  }
 },
 "nbformat": 4,
 "nbformat_minor": 2
}
