{
 "cells": [
  {
   "metadata": {
    "collapsed": true,
    "ExecuteTime": {
     "end_time": "2025-04-26T08:49:51.329680Z",
     "start_time": "2025-04-26T08:49:51.312248Z"
    }
   },
   "cell_type": "code",
   "source": [
    "import numpy as np\n",
    "import pandas as pd\n",
    "import importlib\n",
    "import matplotlib.pyplot as plt\n",
    "from pyarrow import table\n",
    "\n",
    "import volpy_func_lib as vp\n",
    "import load_clean_lib\n",
    "import table_lib\n",
    "import vol_strat_lib as vs\n",
    "import option_returns as orpy\n",
    "from volpy_func_lib import return_df\n",
    "\n",
    "importlib.reload(vp)\n",
    "importlib.reload(load_clean_lib)\n",
    "importlib.reload(table_lib)\n",
    "importlib.reload(vs)"
   ],
   "id": "initial_id",
   "outputs": [
    {
     "data": {
      "text/plain": [
       "<module 'vol_strat_lib' from 'D:\\\\Professionelt\\\\Code\\\\volpy\\\\vol_strat_lib.py'>"
      ]
     },
     "execution_count": 11,
     "metadata": {},
     "output_type": "execute_result"
    }
   ],
   "execution_count": 11
  },
  {
   "metadata": {
    "ExecuteTime": {
     "end_time": "2025-04-26T08:49:53.430675Z",
     "start_time": "2025-04-26T08:49:51.675602Z"
    }
   },
   "cell_type": "code",
   "source": [
    "om_folder = \"vix_markets_full\" #SPX_full, i2s1_full_v2'\n",
    "orpy_df, sum_df = vs.import_orpy_sum(om_folder = om_folder)"
   ],
   "id": "2dadbb9c70f1b328",
   "outputs": [
    {
     "name": "stderr",
     "output_type": "stream",
     "text": [
      "D:\\Professionelt\\Code\\volpy\\vol_strat_lib.py:26: DtypeWarning: Columns (12) have mixed types. Specify dtype option on import or set low_memory=False.\n",
      "  sum_df = pd.read_csv(f\"{om_folder}/{time_type}summary_dly.csv\")\n",
      "D:\\Professionelt\\Code\\volpy\\vol_strat_lib.py:31: DtypeWarning: Columns (13) have mixed types. Specify dtype option on import or set low_memory=False.\n",
      "  orpy_df = pd.read_csv(f\"{om_folder}/{time_type}df_orpy.csv\")\n"
     ]
    }
   ],
   "execution_count": 12
  },
  {
   "metadata": {
    "ExecuteTime": {
     "end_time": "2025-04-26T08:49:53.566054Z",
     "start_time": "2025-04-26T08:49:53.430675Z"
    }
   },
   "cell_type": "code",
   "source": [
    "importlib.reload(vp)\n",
    "df = vp.make_df_strats(orpy_df, sgy_common = \"r_D_30_\", sign=False, scale = False, plot = False, ticker_list=None, extra_columns = [\"SW_0_30\", \"#K\"]) #, sgy_names = None"
   ],
   "id": "86590de1853e5fa4",
   "outputs": [],
   "execution_count": 13
  },
  {
   "metadata": {
    "ExecuteTime": {
     "end_time": "2025-04-26T08:50:11.648797Z",
     "start_time": "2025-04-26T08:50:11.535880Z"
    }
   },
   "cell_type": "code",
   "source": [
    "# Table\n",
    "importlib.reload(table_lib)\n",
    "results_df = table_lib.vix_table(df)\n",
    "table_lib.latex_vix_table(results_df)"
   ],
   "id": "4fd57f4c5ac0dcf0",
   "outputs": [
    {
     "name": "stderr",
     "output_type": "stream",
     "text": [
      "D:\\Professionelt\\Code\\volpy\\table_lib.py:516: FutureWarning: The behavior of DataFrame concatenation with empty or all-NA entries is deprecated. In a future version, this will no longer exclude empty or all-NA columns when determining the result dtypes. To retain the old behavior, exclude the relevant entries before the concat operation.\n",
      "  results = pd.concat([results, pd.DataFrame([avg_row])], ignore_index=True)\n"
     ]
    }
   ],
   "execution_count": 15
  },
  {
   "metadata": {
    "ExecuteTime": {
     "end_time": "2025-04-26T08:52:06.450722Z",
     "start_time": "2025-04-26T08:52:06.400885Z"
    }
   },
   "cell_type": "code",
   "source": [
    "# Latex code for Figures (appendix)\n",
    "importlib.reload(table_lib)\n",
    "table_lib.generate_latex_for_pairs(orpy_df[orpy_df[\"ticker\"].isin([\"SPX\", \"TLT\"]) == False])"
   ],
   "id": "a5523bb27c37bf98",
   "outputs": [],
   "execution_count": 17
  },
  {
   "metadata": {
    "ExecuteTime": {
     "end_time": "2025-04-26T08:52:08.391419Z",
     "start_time": "2025-04-26T08:52:08.198692Z"
    }
   },
   "cell_type": "code",
   "source": [
    "importlib.reload(vp)\n",
    "vp.plot_ticker_SW_vs_vix(df, \"SPX\", figsize=(12, 5), show_fig = False, save_fig = True, filename_suffix = \"stretched\")"
   ],
   "id": "94270a28940bcb97",
   "outputs": [],
   "execution_count": 18
  },
  {
   "metadata": {
    "ExecuteTime": {
     "end_time": "2025-04-26T08:52:14.065273Z",
     "start_time": "2025-04-26T08:52:09.229015Z"
    }
   },
   "cell_type": "code",
   "source": [
    "# # VIX figures\n",
    "importlib.reload(vp)\n",
    "df = vp.make_df_strats(orpy_df, sgy_common = \"r_D_30_\", sign=False, scale = False, plot = False, ticker_list=None, extra_columns = [\"SW_0_30\"]) #, sgy_names = None\n",
    "\n",
    "save_fig = True\n",
    "show_fig = False\n",
    "\n",
    "# Level\n",
    "importlib.reload(vp)\n",
    "for ticker in orpy_df[\"ticker\"].unique():\n",
    "    vp.plot_ticker_SW_vs_vix(df, ticker, figsize=(9, 5), show_fig = show_fig, save_fig = save_fig)\n",
    "\n",
    "# Difference\n",
    "importlib.reload(vp)\n",
    "for ticker in orpy_df[\"ticker\"].unique():\n",
    "    vp.plot_ticker_SW_minus_vix(df, ticker, figsize=(9, 5), show_fig = show_fig, save_fig = save_fig)\n",
    "\n",
    "# Scaled difference\n",
    "importlib.reload(vp)\n",
    "for ticker in orpy_df[\"ticker\"].unique():\n",
    "    vp.plot_ticker_SW_minus_vix_scaled(df, ticker, figsize=(9, 5), show_fig = show_fig, save_fig = save_fig)"
   ],
   "id": "61dcc04bb5e17151",
   "outputs": [],
   "execution_count": 19
  },
  {
   "metadata": {
    "ExecuteTime": {
     "end_time": "2025-04-26T08:52:14.831289Z",
     "start_time": "2025-04-26T08:52:14.800100Z"
    }
   },
   "cell_type": "code",
   "source": [
    "df = df[df[\"VIX\"].isna()==False]\n",
    "df = df[df[\"ticker\"] == \"SPX\"]\n",
    "df = df[df[\"date\"] < pd.Timestamp(\"2003-02-28\")]\n",
    "print(df[\"SW_0_30\"].mean(), (df[\"VIX\"]**2).mean())"
   ],
   "id": "15d06c3e881cb5a5",
   "outputs": [
    {
     "name": "stdout",
     "output_type": "stream",
     "text": [
      "0.058570366240341405 0.059671879482182624\n"
     ]
    }
   ],
   "execution_count": 20
  },
  {
   "metadata": {},
   "cell_type": "code",
   "outputs": [],
   "execution_count": null,
   "source": "",
   "id": "51dc508fbc8786e3"
  }
 ],
 "metadata": {
  "kernelspec": {
   "display_name": "Python 3",
   "language": "python",
   "name": "python3"
  },
  "language_info": {
   "codemirror_mode": {
    "name": "ipython",
    "version": 2
   },
   "file_extension": ".py",
   "mimetype": "text/x-python",
   "name": "python",
   "nbconvert_exporter": "python",
   "pygments_lexer": "ipython2",
   "version": "2.7.6"
  }
 },
 "nbformat": 4,
 "nbformat_minor": 5
}
