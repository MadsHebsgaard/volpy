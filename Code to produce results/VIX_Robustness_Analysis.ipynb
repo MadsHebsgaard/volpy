{
 "cells": [
  {
   "metadata": {
    "collapsed": true,
    "ExecuteTime": {
     "end_time": "2025-04-27T14:50:24.948004Z",
     "start_time": "2025-04-27T14:50:24.752392Z"
    }
   },
   "cell_type": "code",
   "source": [
    "import numpy as np\n",
    "import pandas as pd\n",
    "import importlib\n",
    "import matplotlib.pyplot as plt\n",
    "from pyarrow import table\n",
    "\n",
    "import volpy_func_lib as vp\n",
    "import load_clean_lib\n",
    "import table_lib\n",
    "import vol_strat_lib as vs\n",
    "import option_returns as orpy\n",
    "from volpy_func_lib import return_df\n",
    "\n",
    "importlib.reload(vp)\n",
    "importlib.reload(load_clean_lib)\n",
    "importlib.reload(table_lib)\n",
    "importlib.reload(vs)"
   ],
   "id": "initial_id",
   "outputs": [
    {
     "data": {
      "text/plain": [
       "<module 'vol_strat_lib' from 'D:\\\\Professionelt\\\\Code\\\\volpy\\\\vol_strat_lib.py'>"
      ]
     },
     "execution_count": 46,
     "metadata": {},
     "output_type": "execute_result"
    }
   ],
   "execution_count": 46
  },
  {
   "metadata": {
    "ExecuteTime": {
     "end_time": "2025-04-27T19:02:23.434166Z",
     "start_time": "2025-04-27T19:02:20.806713Z"
    }
   },
   "cell_type": "code",
   "source": [
    "om_folder = \"VIX\" #SPX_full, i2s1_full_v2', vix_markets_full\n",
    "orpy_df, sum_df = vs.import_orpy_sum(om_folder = om_folder)\n",
    "\n",
    "sum_df.loc[sum_df[\"SW_0_30\"] <= 1e-6, \"SW_0_30\"] = 1e-6\n",
    "orpy_df.loc[orpy_df[\"SW_0_30\"] <= 1e-6, \"SW_0_30\"] = 1e-6"
   ],
   "id": "2dadbb9c70f1b328",
   "outputs": [
    {
     "name": "stderr",
     "output_type": "stream",
     "text": [
      "D:\\Professionelt\\Code\\volpy\\vol_strat_lib.py:31: DtypeWarning: Columns (13) have mixed types. Specify dtype option on import or set low_memory=False.\n",
      "  orpy_df = pd.read_csv(f\"{om_folder}/{time_type}df_orpy.csv\")\n"
     ]
    }
   ],
   "execution_count": 60
  },
  {
   "metadata": {
    "ExecuteTime": {
     "end_time": "2025-04-27T19:02:26.718261Z",
     "start_time": "2025-04-27T19:02:26.511834Z"
    }
   },
   "cell_type": "code",
   "source": [
    "importlib.reload(vp)\n",
    "df = vp.make_df_strats(orpy_df, sgy_common = \"r_D_30_\", sign=False, scale = False, plot = False, ticker_list=None, extra_columns = [\"SW_0_30\", \"#K\"]) #, sgy_names = None"
   ],
   "id": "86590de1853e5fa4",
   "outputs": [],
   "execution_count": 62
  },
  {
   "metadata": {
    "ExecuteTime": {
     "end_time": "2025-04-27T18:52:49.115246Z",
     "start_time": "2025-04-27T18:52:49.109395Z"
    }
   },
   "cell_type": "code",
   "source": "(df[\"VXD\"]**2).min()",
   "id": "510edb66e01fd4aa",
   "outputs": [
    {
     "data": {
      "text/plain": [
       "0.0007344099999999999"
      ]
     },
     "execution_count": 58,
     "metadata": {},
     "output_type": "execute_result"
    }
   ],
   "execution_count": 58
  },
  {
   "metadata": {
    "ExecuteTime": {
     "end_time": "2025-04-27T18:52:59.234254Z",
     "start_time": "2025-04-27T18:52:59.088434Z"
    }
   },
   "cell_type": "code",
   "source": [
    "# Table\n",
    "importlib.reload(table_lib)\n",
    "results_df = table_lib.vix_table(df)\n",
    "table_lib.latex_vix_table(results_df)"
   ],
   "id": "4fd57f4c5ac0dcf0",
   "outputs": [
    {
     "name": "stderr",
     "output_type": "stream",
     "text": [
      "D:\\Professionelt\\Code\\volpy\\table_lib.py:516: FutureWarning: The behavior of DataFrame concatenation with empty or all-NA entries is deprecated. In a future version, this will no longer exclude empty or all-NA columns when determining the result dtypes. To retain the old behavior, exclude the relevant entries before the concat operation.\n"
     ]
    }
   ],
   "execution_count": 59
  },
  {
   "metadata": {
    "ExecuteTime": {
     "end_time": "2025-04-27T14:40:35.766360Z",
     "start_time": "2025-04-27T14:40:35.546434Z"
    }
   },
   "cell_type": "code",
   "source": [
    "# Latex code for Figures (appendix)\n",
    "importlib.reload(table_lib)\n",
    "table_lib.generate_latex_for_pairs(orpy_df[orpy_df[\"ticker\"].isin([\"TLT\"]) == False])"
   ],
   "id": "a5523bb27c37bf98",
   "outputs": [],
   "execution_count": 43
  },
  {
   "metadata": {
    "ExecuteTime": {
     "end_time": "2025-04-27T14:40:37.313102Z",
     "start_time": "2025-04-27T14:40:36.901367Z"
    }
   },
   "cell_type": "code",
   "source": [
    "importlib.reload(vp)\n",
    "vp.plot_ticker_SW_vs_vix(df, \"SPX\", figsize=(12, 5), show_fig = False, save_fig = True, filename_suffix = \"stretched\")"
   ],
   "id": "94270a28940bcb97",
   "outputs": [],
   "execution_count": 44
  },
  {
   "metadata": {
    "ExecuteTime": {
     "end_time": "2025-04-27T14:40:47.196144Z",
     "start_time": "2025-04-27T14:40:38.073621Z"
    }
   },
   "cell_type": "code",
   "source": [
    "# # VIX figures\n",
    "importlib.reload(vp)\n",
    "df = vp.make_df_strats(orpy_df, sgy_common = \"r_D_30_\", sign=False, scale = False, plot = False, ticker_list=None, extra_columns = [\"SW_0_30\"]) #, sgy_names = None\n",
    "\n",
    "save_fig = True\n",
    "show_fig = False\n",
    "\n",
    "# Level\n",
    "importlib.reload(vp)\n",
    "for ticker in orpy_df[\"ticker\"].unique():\n",
    "    vp.plot_ticker_SW_vs_vix(df, ticker, figsize=(9, 5), show_fig = show_fig, save_fig = save_fig)\n",
    "\n",
    "# Difference\n",
    "importlib.reload(vp)\n",
    "for ticker in orpy_df[\"ticker\"].unique():\n",
    "    vp.plot_ticker_SW_minus_vix(df, ticker, figsize=(9, 5), show_fig = show_fig, save_fig = save_fig)\n",
    "\n",
    "# Scaled difference\n",
    "importlib.reload(vp)\n",
    "for ticker in orpy_df[\"ticker\"].unique():\n",
    "    vp.plot_ticker_SW_minus_vix_scaled(df, ticker, figsize=(9, 5), show_fig = show_fig, save_fig = save_fig)"
   ],
   "id": "61dcc04bb5e17151",
   "outputs": [],
   "execution_count": 45
  },
  {
   "metadata": {
    "ExecuteTime": {
     "end_time": "2025-04-27T08:22:01.754278Z",
     "start_time": "2025-04-27T08:22:01.728255Z"
    }
   },
   "cell_type": "code",
   "source": [
    "df = df[df[\"VIX\"].isna()==False]\n",
    "df = df[df[\"ticker\"] == \"SPX\"]\n",
    "df = df[df[\"date\"] < pd.Timestamp(\"2003-02-28\")]\n",
    "print(df[\"SW_0_30\"].mean(), (df[\"VIX\"]**2).mean())"
   ],
   "id": "15d06c3e881cb5a5",
   "outputs": [
    {
     "name": "stdout",
     "output_type": "stream",
     "text": [
      "0.058570366240341405 0.059671879482182624\n"
     ]
    }
   ],
   "execution_count": 9
  },
  {
   "metadata": {
    "ExecuteTime": {
     "end_time": "2025-04-27T14:04:57.223999Z",
     "start_time": "2025-04-27T14:04:56.902144Z"
    }
   },
   "cell_type": "code",
   "source": [
    "importlib.reload(vp)\n",
    "vp.plot_ticker_SW_vs_vix(df, \"GOOGL\", figsize=(12, 5), show_fig = True, save_fig = False, filename_suffix = \"stretched\")"
   ],
   "id": "51dc508fbc8786e3",
   "outputs": [
    {
     "data": {
      "text/plain": [
       "<Figure size 1200x500 with 1 Axes>"
      ],
      "image/png": "[encoded data removed]"
     },
     "metadata": {},
     "output_type": "display_data"
    }
   ],
   "execution_count": 18
  },
  {
   "metadata": {
    "ExecuteTime": {
     "end_time": "2025-04-27T14:08:46.989205Z",
     "start_time": "2025-04-27T14:08:46.958318Z"
    }
   },
   "cell_type": "code",
   "source": [
    "df_ = df[df[\"ticker\"]==\"GOOGL\"].copy().reset_index(drop=True)\n",
    "df_ = df_[df_[\"date\"].dt.year >= 2014]\n",
    "df_\n",
    "# df = df[df[\"SW_0_30\"] > 2]"
   ],
   "id": "618ae102a16bc64d",
   "outputs": [
    {
     "data": {
      "text/plain": [
       "     ticker       date   r_stock  r_D_30_straddle  r_D_30_strangle_15%  \\\n",
       "2247  GOOGL 2014-01-02 -0.006772        -0.013205             0.019691   \n",
       "2248  GOOGL 2014-01-03 -0.007295        -0.000140                  NaN   \n",
       "2249  GOOGL 2014-01-06  0.011149         0.018878            -0.004456   \n",
       "2250  GOOGL 2014-01-07  0.019276         0.068700             0.259620   \n",
       "2251  GOOGL 2014-01-14  0.023527         0.056716             0.367217   \n",
       "...     ...        ...       ...              ...                  ...   \n",
       "4607  GOOGL 2023-08-25  0.000571        -0.087925            -0.211072   \n",
       "4608  GOOGL 2023-08-28  0.008500        -0.218517             0.353922   \n",
       "4609  GOOGL 2023-08-29  0.026974        -0.459576            13.367832   \n",
       "4610  GOOGL 2023-08-30  0.009535        -0.286784             0.983564   \n",
       "4611  GOOGL 2023-08-31  0.001934        -0.139688             0.478468   \n",
       "\n",
       "      r_D_30_call_ATM  r_D_30_put_ATM  CF_30_SW_day  r_30_SW_day   SW_0_30  \\\n",
       "2247         0.002922       -0.029431      0.001221     0.028960  0.065059   \n",
       "2248         0.022199       -0.022836     -0.000011    -0.000260  0.066374   \n",
       "2249        -0.000412        0.039167      0.006252     0.137904  0.072675   \n",
       "2250         0.054933        0.082140      0.007179     0.152835  0.076989   \n",
       "2251         0.064960        0.048914      0.006344     0.112926  0.079100   \n",
       "...               ...             ...           ...          ...       ...   \n",
       "4607        -0.427615        0.298772     -0.013150    -0.161115  0.076955   \n",
       "4608        -5.647646        5.337199     -0.001176    -0.014280  0.078881   \n",
       "4609       -18.164380       17.522588     -0.001673    -0.020321  0.072225   \n",
       "4610        -6.772051        6.336467     -0.008152    -0.098357  0.066306   \n",
       "4611        -1.412516        1.316281     -0.007069    -0.085179  0.062460   \n",
       "\n",
       "      ...   VXEWZ   VXEEM  VIXTLT   VXSLV     OVX   VXAPL   VXAZN   VXGOG  \\\n",
       "2247  ...  0.2619  0.2455     NaN  0.3188  0.2024  0.3035  0.3538  0.2211   \n",
       "2248  ...  0.2520  0.2421     NaN  0.3107  0.2060  0.3228  0.3558  0.2244   \n",
       "2249  ...  0.2590  0.2424     NaN  0.3128  0.2070  0.3149  0.3595  0.2347   \n",
       "2250  ...  0.2448  0.2301     NaN  0.3148  0.1967  0.3087  0.3429  0.2404   \n",
       "2251  ...  0.2414  0.2225     NaN  0.2905  0.1981  0.3080  0.3755  0.2732   \n",
       "...   ...     ...     ...     ...     ...     ...     ...     ...     ...   \n",
       "4607  ...  0.2921  0.1846  1.0264     NaN  0.2881  0.2282  0.2978  0.3041   \n",
       "4608  ...  0.2886  0.1779  1.0385     NaN  0.2866  0.2243  0.3198  0.3282   \n",
       "4609  ...  0.2822  0.1740  1.0005     NaN  0.2763  0.2195  0.2821  0.2786   \n",
       "4610  ...  0.2829  0.1688  0.9938     NaN  0.2663  0.2182  0.2755  0.2879   \n",
       "4611  ...  0.2932  0.1699  0.9596     NaN  0.2656  0.2230  0.2684  0.2402   \n",
       "\n",
       "        VXGS   VXIBM  \n",
       "2247  0.2298  0.2057  \n",
       "2248  0.2186  0.2033  \n",
       "2249  0.2243  0.2062  \n",
       "2250  0.2155  0.2051  \n",
       "2251  0.2017  0.2238  \n",
       "...      ...     ...  \n",
       "4607  0.2386  0.1570  \n",
       "4608  0.2337  0.1566  \n",
       "4609  0.2203  0.1476  \n",
       "4610  0.2176  0.1455  \n",
       "4611  0.2187  0.1408  \n",
       "\n",
       "[2365 rows x 35 columns]"
      ],
      "text/html": [
       "<div>\n",
       "<style scoped>\n",
       "    .dataframe tbody tr th:only-of-type {\n",
       "        vertical-align: middle;\n",
       "    }\n",
       "\n",
       "    .dataframe tbody tr th {\n",
       "        vertical-align: top;\n",
       "    }\n",
       "\n",
       "    .dataframe thead th {\n",
       "        text-align: right;\n",
       "    }\n",
       "</style>\n",
       "<table border=\"1\" class=\"dataframe\">\n",
       "  <thead>\n",
       "    <tr style=\"text-align: right;\">\n",
       "      <th></th>\n",
       "      <th>ticker</th>\n",
       "      <th>date</th>\n",
       "      <th>r_stock</th>\n",
       "      <th>r_D_30_straddle</th>\n",
       "      <th>r_D_30_strangle_15%</th>\n",
       "      <th>r_D_30_call_ATM</th>\n",
       "      <th>r_D_30_put_ATM</th>\n",
       "      <th>CF_30_SW_day</th>\n",
       "      <th>r_30_SW_day</th>\n",
       "      <th>SW_0_30</th>\n",
       "      <th>...</th>\n",
       "      <th>VXEWZ</th>\n",
       "      <th>VXEEM</th>\n",
       "      <th>VIXTLT</th>\n",
       "      <th>VXSLV</th>\n",
       "      <th>OVX</th>\n",
       "      <th>VXAPL</th>\n",
       "      <th>VXAZN</th>\n",
       "      <th>VXGOG</th>\n",
       "      <th>VXGS</th>\n",
       "      <th>VXIBM</th>\n",
       "    </tr>\n",
       "  </thead>\n",
       "  <tbody>\n",
       "    <tr>\n",
       "      <th>2247</th>\n",
       "      <td>GOOGL</td>\n",
       "      <td>2014-01-02</td>\n",
       "      <td>-0.006772</td>\n",
       "      <td>-0.013205</td>\n",
       "      <td>0.019691</td>\n",
       "      <td>0.002922</td>\n",
       "      <td>-0.029431</td>\n",
       "      <td>0.001221</td>\n",
       "      <td>0.028960</td>\n",
       "      <td>0.065059</td>\n",
       "      <td>...</td>\n",
       "      <td>0.2619</td>\n",
       "      <td>0.2455</td>\n",
       "      <td>NaN</td>\n",
       "      <td>0.3188</td>\n",
       "      <td>0.2024</td>\n",
       "      <td>0.3035</td>\n",
       "      <td>0.3538</td>\n",
       "      <td>0.2211</td>\n",
       "      <td>0.2298</td>\n",
       "      <td>0.2057</td>\n",
       "    </tr>\n",
       "    <tr>\n",
       "      <th>2248</th>\n",
       "      <td>GOOGL</td>\n",
       "      <td>2014-01-03</td>\n",
       "      <td>-0.007295</td>\n",
       "      <td>-0.000140</td>\n",
       "      <td>NaN</td>\n",
       "      <td>0.022199</td>\n",
       "      <td>-0.022836</td>\n",
       "      <td>-0.000011</td>\n",
       "      <td>-0.000260</td>\n",
       "      <td>0.066374</td>\n",
       "      <td>...</td>\n",
       "      <td>0.2520</td>\n",
       "      <td>0.2421</td>\n",
       "      <td>NaN</td>\n",
       "      <td>0.3107</td>\n",
       "      <td>0.2060</td>\n",
       "      <td>0.3228</td>\n",
       "      <td>0.3558</td>\n",
       "      <td>0.2244</td>\n",
       "      <td>0.2186</td>\n",
       "      <td>0.2033</td>\n",
       "    </tr>\n",
       "    <tr>\n",
       "      <th>2249</th>\n",
       "      <td>GOOGL</td>\n",
       "      <td>2014-01-06</td>\n",
       "      <td>0.011149</td>\n",
       "      <td>0.018878</td>\n",
       "      <td>-0.004456</td>\n",
       "      <td>-0.000412</td>\n",
       "      <td>0.039167</td>\n",
       "      <td>0.006252</td>\n",
       "      <td>0.137904</td>\n",
       "      <td>0.072675</td>\n",
       "      <td>...</td>\n",
       "      <td>0.2590</td>\n",
       "      <td>0.2424</td>\n",
       "      <td>NaN</td>\n",
       "      <td>0.3128</td>\n",
       "      <td>0.2070</td>\n",
       "      <td>0.3149</td>\n",
       "      <td>0.3595</td>\n",
       "      <td>0.2347</td>\n",
       "      <td>0.2243</td>\n",
       "      <td>0.2062</td>\n",
       "    </tr>\n",
       "    <tr>\n",
       "      <th>2250</th>\n",
       "      <td>GOOGL</td>\n",
       "      <td>2014-01-07</td>\n",
       "      <td>0.019276</td>\n",
       "      <td>0.068700</td>\n",
       "      <td>0.259620</td>\n",
       "      <td>0.054933</td>\n",
       "      <td>0.082140</td>\n",
       "      <td>0.007179</td>\n",
       "      <td>0.152835</td>\n",
       "      <td>0.076989</td>\n",
       "      <td>...</td>\n",
       "      <td>0.2448</td>\n",
       "      <td>0.2301</td>\n",
       "      <td>NaN</td>\n",
       "      <td>0.3148</td>\n",
       "      <td>0.1967</td>\n",
       "      <td>0.3087</td>\n",
       "      <td>0.3429</td>\n",
       "      <td>0.2404</td>\n",
       "      <td>0.2155</td>\n",
       "      <td>0.2051</td>\n",
       "    </tr>\n",
       "    <tr>\n",
       "      <th>2251</th>\n",
       "      <td>GOOGL</td>\n",
       "      <td>2014-01-14</td>\n",
       "      <td>0.023527</td>\n",
       "      <td>0.056716</td>\n",
       "      <td>0.367217</td>\n",
       "      <td>0.064960</td>\n",
       "      <td>0.048914</td>\n",
       "      <td>0.006344</td>\n",
       "      <td>0.112926</td>\n",
       "      <td>0.079100</td>\n",
       "      <td>...</td>\n",
       "      <td>0.2414</td>\n",
       "      <td>0.2225</td>\n",
       "      <td>NaN</td>\n",
       "      <td>0.2905</td>\n",
       "      <td>0.1981</td>\n",
       "      <td>0.3080</td>\n",
       "      <td>0.3755</td>\n",
       "      <td>0.2732</td>\n",
       "      <td>0.2017</td>\n",
       "      <td>0.2238</td>\n",
       "    </tr>\n",
       "    <tr>\n",
       "      <th>...</th>\n",
       "      <td>...</td>\n",
       "      <td>...</td>\n",
       "      <td>...</td>\n",
       "      <td>...</td>\n",
       "      <td>...</td>\n",
       "      <td>...</td>\n",
       "      <td>...</td>\n",
       "      <td>...</td>\n",
       "      <td>...</td>\n",
       "      <td>...</td>\n",
       "      <td>...</td>\n",
       "      <td>...</td>\n",
       "      <td>...</td>\n",
       "      <td>...</td>\n",
       "      <td>...</td>\n",
       "      <td>...</td>\n",
       "      <td>...</td>\n",
       "      <td>...</td>\n",
       "      <td>...</td>\n",
       "      <td>...</td>\n",
       "      <td>...</td>\n",
       "    </tr>\n",
       "    <tr>\n",
       "      <th>4607</th>\n",
       "      <td>GOOGL</td>\n",
       "      <td>2023-08-25</td>\n",
       "      <td>0.000571</td>\n",
       "      <td>-0.087925</td>\n",
       "      <td>-0.211072</td>\n",
       "      <td>-0.427615</td>\n",
       "      <td>0.298772</td>\n",
       "      <td>-0.013150</td>\n",
       "      <td>-0.161115</td>\n",
       "      <td>0.076955</td>\n",
       "      <td>...</td>\n",
       "      <td>0.2921</td>\n",
       "      <td>0.1846</td>\n",
       "      <td>1.0264</td>\n",
       "      <td>NaN</td>\n",
       "      <td>0.2881</td>\n",
       "      <td>0.2282</td>\n",
       "      <td>0.2978</td>\n",
       "      <td>0.3041</td>\n",
       "      <td>0.2386</td>\n",
       "      <td>0.1570</td>\n",
       "    </tr>\n",
       "    <tr>\n",
       "      <th>4608</th>\n",
       "      <td>GOOGL</td>\n",
       "      <td>2023-08-28</td>\n",
       "      <td>0.008500</td>\n",
       "      <td>-0.218517</td>\n",
       "      <td>0.353922</td>\n",
       "      <td>-5.647646</td>\n",
       "      <td>5.337199</td>\n",
       "      <td>-0.001176</td>\n",
       "      <td>-0.014280</td>\n",
       "      <td>0.078881</td>\n",
       "      <td>...</td>\n",
       "      <td>0.2886</td>\n",
       "      <td>0.1779</td>\n",
       "      <td>1.0385</td>\n",
       "      <td>NaN</td>\n",
       "      <td>0.2866</td>\n",
       "      <td>0.2243</td>\n",
       "      <td>0.3198</td>\n",
       "      <td>0.3282</td>\n",
       "      <td>0.2337</td>\n",
       "      <td>0.1566</td>\n",
       "    </tr>\n",
       "    <tr>\n",
       "      <th>4609</th>\n",
       "      <td>GOOGL</td>\n",
       "      <td>2023-08-29</td>\n",
       "      <td>0.026974</td>\n",
       "      <td>-0.459576</td>\n",
       "      <td>13.367832</td>\n",
       "      <td>-18.164380</td>\n",
       "      <td>17.522588</td>\n",
       "      <td>-0.001673</td>\n",
       "      <td>-0.020321</td>\n",
       "      <td>0.072225</td>\n",
       "      <td>...</td>\n",
       "      <td>0.2822</td>\n",
       "      <td>0.1740</td>\n",
       "      <td>1.0005</td>\n",
       "      <td>NaN</td>\n",
       "      <td>0.2763</td>\n",
       "      <td>0.2195</td>\n",
       "      <td>0.2821</td>\n",
       "      <td>0.2786</td>\n",
       "      <td>0.2203</td>\n",
       "      <td>0.1476</td>\n",
       "    </tr>\n",
       "    <tr>\n",
       "      <th>4610</th>\n",
       "      <td>GOOGL</td>\n",
       "      <td>2023-08-30</td>\n",
       "      <td>0.009535</td>\n",
       "      <td>-0.286784</td>\n",
       "      <td>0.983564</td>\n",
       "      <td>-6.772051</td>\n",
       "      <td>6.336467</td>\n",
       "      <td>-0.008152</td>\n",
       "      <td>-0.098357</td>\n",
       "      <td>0.066306</td>\n",
       "      <td>...</td>\n",
       "      <td>0.2829</td>\n",
       "      <td>0.1688</td>\n",
       "      <td>0.9938</td>\n",
       "      <td>NaN</td>\n",
       "      <td>0.2663</td>\n",
       "      <td>0.2182</td>\n",
       "      <td>0.2755</td>\n",
       "      <td>0.2879</td>\n",
       "      <td>0.2176</td>\n",
       "      <td>0.1455</td>\n",
       "    </tr>\n",
       "    <tr>\n",
       "      <th>4611</th>\n",
       "      <td>GOOGL</td>\n",
       "      <td>2023-08-31</td>\n",
       "      <td>0.001934</td>\n",
       "      <td>-0.139688</td>\n",
       "      <td>0.478468</td>\n",
       "      <td>-1.412516</td>\n",
       "      <td>1.316281</td>\n",
       "      <td>-0.007069</td>\n",
       "      <td>-0.085179</td>\n",
       "      <td>0.062460</td>\n",
       "      <td>...</td>\n",
       "      <td>0.2932</td>\n",
       "      <td>0.1699</td>\n",
       "      <td>0.9596</td>\n",
       "      <td>NaN</td>\n",
       "      <td>0.2656</td>\n",
       "      <td>0.2230</td>\n",
       "      <td>0.2684</td>\n",
       "      <td>0.2402</td>\n",
       "      <td>0.2187</td>\n",
       "      <td>0.1408</td>\n",
       "    </tr>\n",
       "  </tbody>\n",
       "</table>\n",
       "<p>2365 rows × 35 columns</p>\n",
       "</div>"
      ]
     },
     "execution_count": 24,
     "metadata": {},
     "output_type": "execute_result"
    }
   ],
   "execution_count": 24
  },
  {
   "metadata": {},
   "cell_type": "code",
   "outputs": [],
   "execution_count": null,
   "source": "",
   "id": "62b17d0d0e5e8bd9"
  }
 ],
 "metadata": {
  "kernelspec": {
   "display_name": "Python 3",
   "language": "python",
   "name": "python3"
  },
  "language_info": {
   "codemirror_mode": {
    "name": "ipython",
    "version": 2
   },
   "file_extension": ".py",
   "mimetype": "text/x-python",
   "name": "python",
   "nbconvert_exporter": "python",
   "pygments_lexer": "ipython2",
   "version": "2.7.6"
  }
 },
 "nbformat": 4,
 "nbformat_minor": 5
}
