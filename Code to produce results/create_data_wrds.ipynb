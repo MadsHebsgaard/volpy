{
 "cells": [
  {
   "cell_type": "code",
   "execution_count": 1,
   "metadata": {
    "ExecuteTime": {
     "end_time": "2025-03-29T15:57:57.215953Z",
     "start_time": "2025-03-29T15:57:47.802645Z"
    }
   },
   "outputs": [
    {
     "name": "stderr",
     "output_type": "stream",
     "text": [
      "c:\\Users\\axell\\anaconda3\\Lib\\site-packages\\pandas\\core\\arrays\\masked.py:60: UserWarning: Pandas requires version '1.3.6' or newer of 'bottleneck' (version '1.3.5' currently installed).\n",
      "  from pandas.core import (\n"
     ]
    },
    {
     "name": "stdout",
     "output_type": "stream",
     "text": [
      "Loading library list...\n",
      "Done\n"
     ]
    }
   ],
   "source": [
    "import sys\n",
    "import os\n",
    "sys.path.append(os.path.abspath(\"..\"))\n",
    "\n",
    "import wrds\n",
    "import importlib\n",
    "import volpy_func_lib as vp\n",
    "import wrds_lib as wl\n",
    "\n",
    "importlib.reload(wl)\n",
    "importlib.reload(vp)\n",
    "\n",
    "db = wrds.Connection(wrds_username=\"axelledue\") "
   ]
  },
  {
   "cell_type": "code",
   "execution_count": 35,
   "metadata": {},
   "outputs": [],
   "source": [
    "all_tickers = vp.ALL_tickers + ['INDU']"
   ]
  },
  {
   "cell_type": "markdown",
   "metadata": {},
   "source": [
    "# create option, forward and return csv files"
   ]
  },
  {
   "cell_type": "code",
   "execution_count": 3,
   "metadata": {},
   "outputs": [
    {
     "name": "stdout",
     "output_type": "stream",
     "text": [
      "Skipping already existing tickers: SPX\n",
      "No new tickers to fetch. Exiting.\n"
     ]
    }
   ],
   "source": [
    "importlib.reload(wl)\n",
    "\n",
    "wl.fetch_wrds_data_per_ticker(db, \n",
    "                              tickers = ['SPX'], #['AAPL','MSFT','TSLA','AMZN','NVDA']\n",
    "                              chunk_size=1000000,\n",
    "                              data_types=[\"O\", \"F\", \"S\", \"Z\"]) # S_OM hvis OM stock file"
   ]
  },
  {
   "cell_type": "markdown",
   "metadata": {},
   "source": [
    "## close database "
   ]
  },
  {
   "cell_type": "code",
   "execution_count": null,
   "metadata": {},
   "outputs": [],
   "source": [
    "db.close"
   ]
  }
 ],
 "metadata": {
  "kernelspec": {
   "display_name": "base",
   "language": "python",
   "name": "python3"
  },
  "language_info": {
   "codemirror_mode": {
    "name": "ipython",
    "version": 3
   },
   "file_extension": ".py",
   "mimetype": "text/x-python",
   "name": "python",
   "nbconvert_exporter": "python",
   "pygments_lexer": "ipython3",
   "version": "3.11.5"
  }
 },
 "nbformat": 4,
 "nbformat_minor": 2
}
