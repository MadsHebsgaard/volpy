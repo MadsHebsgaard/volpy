{
 "cells": [
  {
   "cell_type": "code",
   "execution_count": 5,
   "metadata": {
    "ExecuteTime": {
     "end_time": "2025-03-29T15:57:57.215953Z",
     "start_time": "2025-03-29T15:57:47.802645Z"
    }
   },
   "outputs": [
    {
     "name": "stdout",
     "output_type": "stream",
     "text": [
      "Loading library list...\n",
      "Done\n"
     ]
    }
   ],
   "source": [
    "import sys\n",
    "import os\n",
    "sys.path.append(os.path.abspath(\"..\"))\n",
    "\n",
    "import wrds\n",
    "import importlib\n",
    "import volpy_func_lib as vp\n",
    "import wrds_lib as wl\n",
    "\n",
    "importlib.reload(wl)\n",
    "importlib.reload(vp)\n",
    "\n",
    "db = wrds.Connection(wrds_username=\"axelledue\") "
   ]
  },
  {
   "cell_type": "markdown",
   "metadata": {},
   "source": [
    "# create option, forward and return csv files"
   ]
  },
  {
   "cell_type": "code",
   "execution_count": 6,
   "metadata": {},
   "outputs": [
    {
     "name": "stdout",
     "output_type": "stream",
     "text": [
      "Skipping already existing tickers: EWU, PG, C, COV, AES, FXI, VNQ, HYG, COF, IWM, NT, S, TLT, HD, ADBE, UVXY, COP, AIG, OEX, UNG, FCX, AXP, DAL, EWA, MCD, UPS, UIS, UNH, DUK, BAC, KO, AMD, ABBV, CMCSK, JPM, SCHW, COST, SLV, CI, APA, INTC, ETR, CHTR, GILD, GTX, TSLA, IBM, HIG, NVDA, WMT, AGN, AA, AMZN, HPQ, WY, FXY, CVX, EWY, ORCL, MO, DIS, RTN, DHR, EWC, TGT, GOOG, BNI, WFC, RF, BHI, MA, SPG, G, GOOGL, MMM, SGP, BUD, PM, T, ATI, AEP, DE, NYX, CEW, RAL, LMT, DVN, OMX, TOY, AAPL, PEP, SPY, LEH, DD, MET, CSCO, UBAN, EMB, EZA, ENE, CLB, MS, IP, JNJ, BAX, MER, EBAY, WMB, CVS, USB, ROK, GBLX, BIIB, BA, BDK, HNZ, MSFT, AVGO, MAY, NFLX, V, GS, EEM, TMO, MRK, QQQ, NDX, EMR, BMY, BITO, TXN, CAT, HCA, ONE, SPX, WB, CRM, CSC, GD, EWZ, KMI, INDA, AMT, HAL, MON, DJX, GE, IAU, GM, TMUS, PFE, META, EP, PNU, FDX, LQD, OXY, XRX, NEE, BKNG, SHY, EMC, AVP, QCOM, KHC, EWJ, CL, ALL, NXTL, APC, NOV, VGK, CPB, OEF, HON, SBUX, JCI, ACN, PARA, ABT, WYE, TIP, DOW, AMGN, DELL, F, EXC, PYPL, NSM, XOM, CGP, LIN, CMCSA, WBA, UNP, EWW, DIA, BRK, MDT, USO, CELG, SLB, MDLZ, SO, BK, LLY, NSC, FXE, RSH, RTX, TWX, HSH, UUP, LOW, HET, NKE, VZ\n",
      "No new tickers to fetch. Exiting.\n"
     ]
    }
   ],
   "source": [
    "importlib.reload(wl)\n",
    "\n",
    "wl.fetch_wrds_data_per_ticker(db, \n",
    "                              tickers = vp.ALL_tickers, #['AAPL','MSFT','TSLA','AMZN','NVDA']\n",
    "                              chunk_size=1000000,\n",
    "                              data_types=[\"O\", \"F\", \"S\", \"Z\"]) # S_OM hvis OM stock file"
   ]
  },
  {
   "cell_type": "markdown",
   "metadata": {},
   "source": [
    "## close database "
   ]
  },
  {
   "cell_type": "code",
   "execution_count": null,
   "metadata": {},
   "outputs": [],
   "source": [
    "db.close"
   ]
  }
 ],
 "metadata": {
  "kernelspec": {
   "display_name": "base",
   "language": "python",
   "name": "python3"
  },
  "language_info": {
   "codemirror_mode": {
    "name": "ipython",
    "version": 3
   },
   "file_extension": ".py",
   "mimetype": "text/x-python",
   "name": "python",
   "nbconvert_exporter": "python",
   "pygments_lexer": "ipython3",
   "version": "3.11.5"
  }
 },
 "nbformat": 4,
 "nbformat_minor": 2
}
