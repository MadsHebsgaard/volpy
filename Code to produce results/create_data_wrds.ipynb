{
 "cells": [
  {
   "cell_type": "code",
   "execution_count": 13,
   "metadata": {
    "ExecuteTime": {
     "end_time": "2025-03-29T15:57:57.215953Z",
     "start_time": "2025-03-29T15:57:47.802645Z"
    }
   },
   "outputs": [
    {
     "name": "stdout",
     "output_type": "stream",
     "text": [
      "Loading library list...\n",
      "Done\n"
     ]
    }
   ],
   "source": [
    "import sys\n",
    "import os\n",
    "sys.path.append(os.path.abspath(\"..\"))\n",
    "\n",
    "import wrds\n",
    "import importlib\n",
    "import volpy_func_lib as vp\n",
    "import wrds_lib as wl\n",
    "\n",
    "importlib.reload(wl)\n",
    "importlib.reload(vp)\n",
    "\n",
    "db = wrds.Connection(wrds_username=\"axelledue\") "
   ]
  },
  {
   "cell_type": "markdown",
   "metadata": {},
   "source": [
    "# create option, forward and return csv files"
   ]
  },
  {
   "cell_type": "code",
   "execution_count": 11,
   "metadata": {},
   "outputs": [
    {
     "name": "stdout",
     "output_type": "stream",
     "text": [
      "Skipping already existing tickers: MRK, PG, C, HON, CAT, S, HD, CRM, AIG, MMM, DOW, AXP, AMGN, T, XOM, MCD, WBA, UNH, KO, BAC, DJX, GE, JPM, GM, AAPL, PFE, INTC, DD, CSCO, VZ, IBM, WMT, IP, JNJ, AA, AMZN, HPQ, RTX, CVX, BA, MSFT, NKE, V, GS, MO, DIS\n"
     ]
    },
    {
     "name": "stderr",
     "output_type": "stream",
     "text": [
      "Importing option data:   0%|          | 0/3 [00:00<?, ?ticker/s, ticker=UK]"
     ]
    },
    {
     "name": "stderr",
     "output_type": "stream",
     "text": [
      "Importing option data: 100%|██████████| 3/3 [01:10<00:00, 23.53s/ticker, ticker=TRV]\n",
      "Importing forward prices: 100%|██████████| 3/3 [00:03<00:00,  1.20s/ticker, ticker=TRV]\n",
      "Importing stock returns: 100%|██████████| 3/3 [00:01<00:00,  2.43ticker/s, ticker=TRV]"
     ]
    },
    {
     "name": "stdout",
     "output_type": "stream",
     "text": [
      "Yield curve file already exists.\n"
     ]
    },
    {
     "name": "stderr",
     "output_type": "stream",
     "text": [
      "\n"
     ]
    }
   ],
   "source": [
    "importlib.reload(wl)\n",
    "\n",
    "tickers = vp.DJX_tickers\n",
    "\n",
    "wl.fetch_wrds_data_per_ticker(db, \n",
    "                              tickers = tickers, #['AAPL','MSFT','TSLA','AMZN','NVDA']\n",
    "                              chunk_size=1000000,\n",
    "                              data_types=[\"O\", \"F\", \"S\", \"Z\"]) # S_OM hvis OM stock file"
   ]
  },
  {
   "cell_type": "markdown",
   "metadata": {},
   "source": [
    "## close database "
   ]
  },
  {
   "cell_type": "code",
   "execution_count": null,
   "metadata": {},
   "outputs": [],
   "source": [
    "db.close"
   ]
  }
 ],
 "metadata": {
  "kernelspec": {
   "display_name": "base",
   "language": "python",
   "name": "python3"
  },
  "language_info": {
   "codemirror_mode": {
    "name": "ipython",
    "version": 3
   },
   "file_extension": ".py",
   "mimetype": "text/x-python",
   "name": "python",
   "nbconvert_exporter": "python",
   "pygments_lexer": "ipython3",
   "version": "3.11.5"
  }
 },
 "nbformat": 4,
 "nbformat_minor": 2
}
