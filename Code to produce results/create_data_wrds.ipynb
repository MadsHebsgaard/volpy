{
 "cells": [
  {
   "cell_type": "code",
   "execution_count": 38,
   "metadata": {
    "ExecuteTime": {
     "end_time": "2025-03-29T15:57:57.215953Z",
     "start_time": "2025-03-29T15:57:47.802645Z"
    }
   },
   "outputs": [
    {
     "name": "stdout",
     "output_type": "stream",
     "text": [
      "Loading library list...\n",
      "Done\n"
     ]
    }
   ],
   "source": [
    "import sys\n",
    "import os\n",
    "sys.path.append(os.path.abspath(\"..\"))\n",
    "\n",
    "import pandas as pd\n",
    "import wrds\n",
    "import importlib\n",
    "import volpy_func_lib as vp\n",
    "import wrds_lib as wl\n",
    "\n",
    "importlib.reload(wl)\n",
    "importlib.reload(vp)\n",
    "\n",
    "db = wrds.Connection(wrds_username=\"axelledue\") "
   ]
  },
  {
   "cell_type": "markdown",
   "metadata": {},
   "source": [
    "# create option, forward and return csv files"
   ]
  },
  {
   "cell_type": "code",
   "execution_count": null,
   "metadata": {},
   "outputs": [
    {
     "name": "stdout",
     "output_type": "stream",
     "text": [
      "Skipping already existing tickers: APT, S, EBAY, GOOG, WMB\n"
     ]
    },
    {
     "name": "stderr",
     "output_type": "stream",
     "text": [
      "Importing option data: 100%|██████████| 1/1 [00:22<00:00, 22.36s/ticker, ticker=EZA]\n",
      "Importing forward prices: 100%|██████████| 1/1 [00:01<00:00,  1.30s/ticker, ticker=EZA]\n",
      "Importing stock returns: 100%|██████████| 1/1 [00:00<00:00,  3.10ticker/s, ticker=EZA]"
     ]
    },
    {
     "name": "stdout",
     "output_type": "stream",
     "text": [
      "Yield curve file already exists.\n"
     ]
    },
    {
     "name": "stderr",
     "output_type": "stream",
     "text": [
      "\n"
     ]
    }
   ],
   "source": [
    "importlib.reload(wl)\n",
    "\n",
    "wl.fetch_wrds_data_per_ticker(db, \n",
    "                              tickers = vp.VIX_tickers, #['AAPL','MSFT','TSLA','AMZN','NVDA']\n",
    "                              chunk_size=1000000)"
   ]
  },
  {
   "cell_type": "markdown",
   "metadata": {},
   "source": [
    "## close database "
   ]
  },
  {
   "cell_type": "code",
   "execution_count": null,
   "metadata": {},
   "outputs": [],
   "source": [
    "db.close"
   ]
  }
 ],
 "metadata": {
  "kernelspec": {
   "display_name": "base",
   "language": "python",
   "name": "python3"
  },
  "language_info": {
   "codemirror_mode": {
    "name": "ipython",
    "version": 3
   },
   "file_extension": ".py",
   "mimetype": "text/x-python",
   "name": "python",
   "nbconvert_exporter": "python",
   "pygments_lexer": "ipython3",
   "version": "3.11.5"
  }
 },
 "nbformat": 4,
 "nbformat_minor": 2
}
