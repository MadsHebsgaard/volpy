{
 "cells": [
  {
   "cell_type": "code",
   "id": "initial_id",
   "metadata": {
    "collapsed": true,
    "ExecuteTime": {
     "end_time": "2025-05-14T18:38:19.558848Z",
     "start_time": "2025-05-14T18:38:19.465394Z"
    }
   },
   "source": [
    "import sys\n",
    "import os\n",
    "\n",
    "import numpy as np\n",
    "from matplotlib import pyplot as plt\n",
    "from sqlalchemy.dialects.mssql.information_schema import columns\n",
    "\n",
    "sys.path.append(os.path.abspath(\"..\"))\n",
    "\n",
    "import importlib\n",
    "import pandas as pd\n",
    "\n",
    "import volpy_func_lib as vp\n",
    "import load_clean_lib\n",
    "import table_lib\n",
    "import vol_strat_lib as vs\n",
    "import volpy_func_ticker_lib as vtp\n",
    "\n",
    "importlib.reload(vp)\n",
    "importlib.reload(load_clean_lib)\n",
    "importlib.reload(table_lib)\n",
    "importlib.reload(vs)\n",
    "importlib.reload(vtp)\n",
    "\n",
    "os.makedirs(\"figures/Analysis\", exist_ok=True)\n",
    "os.makedirs(\"figures/Analysis/Profitability\", exist_ok=True)\n",
    "os.makedirs(\"figures/Analysis/Factor models\", exist_ok=True)\n",
    "os.makedirs(\"figures/Analysis/Implementability\", exist_ok=True)\n",
    "os.makedirs(\"figures/Analysis/Period\", exist_ok=True)"
   ],
   "outputs": [],
   "execution_count": 84
  },
  {
   "metadata": {
    "ExecuteTime": {
     "end_time": "2025-05-14T18:40:59.227383Z",
     "start_time": "2025-05-14T18:40:41.556204Z"
    }
   },
   "cell_type": "code",
   "source": [
    "df_bid_ALL = vtp.concat_ticker_datasets(vp.All_tickers, df_name=\"sum1\", folder_version = \"_bid\")\n",
    "df_ask_ALL = vtp.concat_ticker_datasets(vp.All_tickers, df_name=\"sum1\", folder_version = \"_ask\")\n",
    "\n",
    "# df_mid_ALL = vtp.concat_ticker_datasets(vp.All_tickers, df_name=\"sum1\", folder_version = \"_mid\")\n",
    "# df_om_ALL = vtp.concat_ticker_datasets(vp.All_tickers, df_name=\"sum1\", folder_version = \"_om\")"
   ],
   "id": "550da2dfc70c5eb3",
   "outputs": [
    {
     "name": "stdout",
     "output_type": "stream",
     "text": [
      "Skipped 2/237 tickers: ['RUT', 'INDU']\n",
      "Skipped 2/237 tickers: ['RUT', 'INDU']\n"
     ]
    },
    {
     "name": "stderr",
     "output_type": "stream",
     "text": [
      "D:\\Professionelt\\Code\\volpy\\volpy_func_ticker_lib.py:1115: FutureWarning: The behavior of DataFrame concatenation with empty or all-NA entries is deprecated. In a future version, this will no longer exclude empty or all-NA columns when determining the result dtypes. To retain the old behavior, exclude the relevant entries before the concat operation.\n",
      "  df_merged = pd.concat(frames, ignore_index=True)\n"
     ]
    }
   ],
   "execution_count": 85
  },
  {
   "metadata": {
    "ExecuteTime": {
     "end_time": "2025-05-14T20:22:55.087922Z",
     "start_time": "2025-05-14T20:22:37.471006Z"
    }
   },
   "cell_type": "code",
   "source": [
    "importlib.reload(vtp)\n",
    "importlib.reload(table_lib)\n",
    "\n",
    "ticker_list_list = [vp.VIX_tickers, vp.Cross_AM_tickers, vp.OEX_tickers, vp.DJX_tickers, vp.Liquid_tickers]\n",
    "name_list = [\"VIX\", \"Cross-AM\", \"OEX\", \"DJX\", \"Liquid\"]\n",
    "\n",
    "# ticker_list_list = [vp.Liquid_tickers]\n",
    "# name_list = [\"Liquid\"]\n",
    "\n",
    "for ticker_list, name in zip(ticker_list_list, name_list):\n",
    "    \n",
    "    df_bid = df_bid_ALL[df_bid_ALL[\"ticker\"].isin(ticker_list)].copy()\n",
    "    df_ask = df_ask_ALL[df_ask_ALL[\"ticker\"].isin(ticker_list)].copy()\n",
    "\n",
    "    t2_bid = table_lib.CarrWu2009_table_2(df_bid, name)\n",
    "    t2_ask = table_lib.CarrWu2009_table_2(df_ask, name)\n",
    "    \n",
    "    t3_bid = table_lib.CarrWu2009_table_3(df_bid, name)\n",
    "    t3_ask = table_lib.CarrWu2009_table_3(df_ask, name)\n",
    "    \n",
    "    df_bid[\"r_stock\"] = 0\n",
    "    df_bid[\"ln RV/SW 30\"] = np.log(df_bid[\"RV\"]) - np.log(df_bid[\"SW_0_30\"])\n",
    "    returns_df_bid = vp.make_df_strats(df_bid, sgy_common = \"r_D_30_\", sgy_names = [], plot = False, factors=[\"SPX\", \"Mkt\", \"SMB\", \"HML\", \"UMD\", \"BAB\"], ticker_list= ticker_list, extra_columns=[\"#K\", \"RV\", \"r_30_SW_day .20\", \"RV-SW 30\", \"ln RV/SW 30\"], sign=False, scale=False)\n",
    "    tff5_bid = table_lib.save_ff5_table(returns_df_bid, name, max_lags = 21, y_var = \"ln RV/SW 30\")\n",
    "    tff5_bid = tff5_bid.rename(columns={\"Ticker\": \"ticker\"})\n",
    "    \n",
    "    df_ask[\"r_stock\"] = 0\n",
    "    # df_ask[\"ln RV/SW 30\"] = np.log(df_ask[\"RV\"]) - np.log(df_ask[\"SW_0_30\"])\n",
    "    returns_df_ask = vp.make_df_strats(df_ask, sgy_common = \"r_D_30_\", sgy_names = [], plot = False, factors=[\"SPX\", \"Mkt\", \"SMB\", \"HML\", \"UMD\", \"BAB\"], ticker_list= ticker_list, extra_columns=[\"#K\", \"RV\", \"r_30_SW_day .20\", \"RV-SW 30\", \"ln RV/SW 30\"], sign=False, scale=False)\n",
    "    tff5_ask = table_lib.save_ff5_table(returns_df_ask, name, max_lags = 21, y_var = \"ln RV/SW 30\")\n",
    "    tff5_ask = tff5_ask.rename(columns={\"Ticker\": \"ticker\"})\n",
    "    \n",
    "    \n",
    "    latex_1 = table_lib.make_bid_ask_table(t2_bid, t3_bid, t2_ask, t3_ask,\n",
    "                                name = name,\n",
    "                                caption=\"bid and ask results for SW, VRP and LVRP\",\n",
    "                                label=\"tab:SW, VRP and LVRP bid_ask\"\n",
    "                                )\n",
    "    \n",
    "    latex_2 = table_lib.make_bid_ask_table_ff5(t2_bid, t3_bid, t2_ask, t3_ask, tff5_bid, tff5_ask,\n",
    "                                    name=name,\n",
    "                                    caption=\"bid and ask results for SW, VRP, LVRP and alpha\",\n",
    "                                    label=\"tab:SW, VRP, LVRP and alpha bid_ask\"\n",
    "                                    )"
   ],
   "id": "dcd269d788fbbf0f",
   "outputs": [],
   "execution_count": 91
  }
 ],
 "metadata": {
  "kernelspec": {
   "display_name": "Python 3",
   "language": "python",
   "name": "python3"
  },
  "language_info": {
   "codemirror_mode": {
    "name": "ipython",
    "version": 2
   },
   "file_extension": ".py",
   "mimetype": "text/x-python",
   "name": "python",
   "nbconvert_exporter": "python",
   "pygments_lexer": "ipython2",
   "version": "2.7.6"
  }
 },
 "nbformat": 4,
 "nbformat_minor": 5
}
