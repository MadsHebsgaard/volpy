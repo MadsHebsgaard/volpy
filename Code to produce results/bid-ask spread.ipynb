{
 "cells": [
  {
   "cell_type": "code",
   "id": "initial_id",
   "metadata": {
    "collapsed": true,
    "ExecuteTime": {
     "end_time": "2025-05-15T00:05:16.115873Z",
     "start_time": "2025-05-15T00:05:16.025178Z"
    }
   },
   "source": [
    "import sys\n",
    "import os\n",
    "\n",
    "import numpy as np\n",
    "from matplotlib import pyplot as plt\n",
    "from sqlalchemy.dialects.mssql.information_schema import columns\n",
    "\n",
    "sys.path.append(os.path.abspath(\"..\"))\n",
    "\n",
    "import importlib\n",
    "import pandas as pd\n",
    "\n",
    "import volpy_func_lib as vp\n",
    "import load_clean_lib\n",
    "import table_lib\n",
    "import vol_strat_lib as vs\n",
    "import volpy_func_ticker_lib as vtp\n",
    "\n",
    "importlib.reload(vp)\n",
    "importlib.reload(load_clean_lib)\n",
    "importlib.reload(table_lib)\n",
    "importlib.reload(vs)\n",
    "importlib.reload(vtp)\n",
    "\n",
    "os.makedirs(\"figures/Analysis\", exist_ok=True)\n",
    "os.makedirs(\"figures/Analysis/Profitability\", exist_ok=True)\n",
    "os.makedirs(\"figures/Analysis/Factor models\", exist_ok=True)\n",
    "os.makedirs(\"figures/Analysis/Implementability\", exist_ok=True)\n",
    "os.makedirs(\"figures/Analysis/Period\", exist_ok=True)"
   ],
   "outputs": [],
   "execution_count": 101
  },
  {
   "metadata": {
    "ExecuteTime": {
     "end_time": "2025-05-14T23:24:45.544916Z",
     "start_time": "2025-05-14T23:23:32.646485Z"
    }
   },
   "cell_type": "code",
   "source": "vtp.total_csv_lines_no_load(vp.All_tickers, df_name=\"od_rdy\")",
   "id": "ebdd09d0cc44bcae",
   "outputs": [
    {
     "name": "stdout",
     "output_type": "stream",
     "text": [
      "Warning: WindowsPath('D:/Finance Data/OptionMetrics/Tickers/Output_om/t_/GLD/od_rdy.csv') not found; skipping GLD.\n",
      "Warning: WindowsPath('D:/Finance Data/OptionMetrics/Tickers/Output_om/t_/EFA/od_rdy.csv') not found; skipping EFA.\n",
      "Warning: WindowsPath('D:/Finance Data/OptionMetrics/Tickers/Output_om/t_/RUT/od_rdy.csv') not found; skipping RUT.\n",
      "Warning: WindowsPath('D:/Finance Data/OptionMetrics/Tickers/Output_om/t_/INDU/od_rdy.csv') not found; skipping INDU.\n"
     ]
    },
    {
     "data": {
      "text/plain": [
       "178640907"
      ]
     },
     "execution_count": 99,
     "metadata": {},
     "output_type": "execute_result"
    }
   ],
   "execution_count": 99
  },
  {
   "metadata": {
    "ExecuteTime": {
     "end_time": "2025-05-14T23:28:05.089025Z",
     "start_time": "2025-05-14T23:25:11.760493Z"
    }
   },
   "cell_type": "code",
   "source": "vtp.total_csv_lines_no_load(vp.All_tickers, df_name=\"od_raw\")",
   "id": "7095150d3af5307a",
   "outputs": [
    {
     "name": "stdout",
     "output_type": "stream",
     "text": [
      "Warning: WindowsPath('D:/Finance Data/OptionMetrics/Tickers/Output_om/t_/GLD/od_raw.csv') not found; skipping GLD.\n",
      "Warning: WindowsPath('D:/Finance Data/OptionMetrics/Tickers/Output_om/t_/EFA/od_raw.csv') not found; skipping EFA.\n",
      "Warning: WindowsPath('D:/Finance Data/OptionMetrics/Tickers/Output_om/t_/RUT/od_raw.csv') not found; skipping RUT.\n",
      "Warning: WindowsPath('D:/Finance Data/OptionMetrics/Tickers/Output_om/t_/INDU/od_raw.csv') not found; skipping INDU.\n"
     ]
    },
    {
     "data": {
      "text/plain": [
       "540605025"
      ]
     },
     "execution_count": 100,
     "metadata": {},
     "output_type": "execute_result"
    }
   ],
   "execution_count": 100
  },
  {
   "metadata": {
    "ExecuteTime": {
     "end_time": "2025-05-14T23:22:47.611845Z",
     "start_time": "2025-05-14T23:22:45.808658Z"
    }
   },
   "cell_type": "code",
   "source": "vtp.total_lines_via_wc(vp.All_tickers, df_name=\"od_rdy\")",
   "id": "40c140044b259789",
   "outputs": [
    {
     "ename": "FileNotFoundError",
     "evalue": "[WinError 2] The system cannot find the file specified",
     "output_type": "error",
     "traceback": [
      "\u001B[1;31m---------------------------------------------------------------------------\u001B[0m",
      "\u001B[1;31mFileNotFoundError\u001B[0m                         Traceback (most recent call last)",
      "Cell \u001B[1;32mIn[98], line 1\u001B[0m\n\u001B[1;32m----> 1\u001B[0m vtp\u001B[38;5;241m.\u001B[39mtotal_lines_via_wc(vp\u001B[38;5;241m.\u001B[39mAll_tickers, df_name\u001B[38;5;241m=\u001B[39m\u001B[38;5;124m\"\u001B[39m\u001B[38;5;124mod_rdy\u001B[39m\u001B[38;5;124m\"\u001B[39m)\n",
      "File \u001B[1;32mD:\\Professionelt\\Code\\volpy\\volpy_func_ticker_lib.py:1115\u001B[0m, in \u001B[0;36mtotal_lines_via_wc\u001B[1;34m(ticker_list, df_name, folder_version)\u001B[0m\n\u001B[0;32m   1112\u001B[0m     \u001B[38;5;28;01mreturn\u001B[39;00m \u001B[38;5;241m0\u001B[39m\n\u001B[0;32m   1114\u001B[0m \u001B[38;5;66;03m# run wc -l on all files in one go\u001B[39;00m\n\u001B[1;32m-> 1115\u001B[0m result \u001B[38;5;241m=\u001B[39m subprocess\u001B[38;5;241m.\u001B[39mrun(\n\u001B[0;32m   1116\u001B[0m     [\u001B[38;5;124m\"\u001B[39m\u001B[38;5;124mwc\u001B[39m\u001B[38;5;124m\"\u001B[39m, \u001B[38;5;124m\"\u001B[39m\u001B[38;5;124m-l\u001B[39m\u001B[38;5;124m\"\u001B[39m, \u001B[38;5;241m*\u001B[39mexisting],\n\u001B[0;32m   1117\u001B[0m     capture_output\u001B[38;5;241m=\u001B[39m\u001B[38;5;28;01mTrue\u001B[39;00m,\n\u001B[0;32m   1118\u001B[0m     text\u001B[38;5;241m=\u001B[39m\u001B[38;5;28;01mTrue\u001B[39;00m,\n\u001B[0;32m   1119\u001B[0m     check\u001B[38;5;241m=\u001B[39m\u001B[38;5;28;01mTrue\u001B[39;00m\n\u001B[0;32m   1120\u001B[0m )\n\u001B[0;32m   1122\u001B[0m \u001B[38;5;66;03m# parse each line \"   1234 filename\" + final \"  5678 total\"\u001B[39;00m\n\u001B[0;32m   1123\u001B[0m total \u001B[38;5;241m=\u001B[39m \u001B[38;5;241m0\u001B[39m\n",
      "File \u001B[1;32mC:\\ProgramData\\anaconda3\\Lib\\subprocess.py:548\u001B[0m, in \u001B[0;36mrun\u001B[1;34m(input, capture_output, timeout, check, *popenargs, **kwargs)\u001B[0m\n\u001B[0;32m    545\u001B[0m     kwargs[\u001B[38;5;124m'\u001B[39m\u001B[38;5;124mstdout\u001B[39m\u001B[38;5;124m'\u001B[39m] \u001B[38;5;241m=\u001B[39m PIPE\n\u001B[0;32m    546\u001B[0m     kwargs[\u001B[38;5;124m'\u001B[39m\u001B[38;5;124mstderr\u001B[39m\u001B[38;5;124m'\u001B[39m] \u001B[38;5;241m=\u001B[39m PIPE\n\u001B[1;32m--> 548\u001B[0m \u001B[38;5;28;01mwith\u001B[39;00m Popen(\u001B[38;5;241m*\u001B[39mpopenargs, \u001B[38;5;241m*\u001B[39m\u001B[38;5;241m*\u001B[39mkwargs) \u001B[38;5;28;01mas\u001B[39;00m process:\n\u001B[0;32m    549\u001B[0m     \u001B[38;5;28;01mtry\u001B[39;00m:\n\u001B[0;32m    550\u001B[0m         stdout, stderr \u001B[38;5;241m=\u001B[39m process\u001B[38;5;241m.\u001B[39mcommunicate(\u001B[38;5;28minput\u001B[39m, timeout\u001B[38;5;241m=\u001B[39mtimeout)\n",
      "File \u001B[1;32mC:\\ProgramData\\anaconda3\\Lib\\subprocess.py:1026\u001B[0m, in \u001B[0;36mPopen.__init__\u001B[1;34m(self, args, bufsize, executable, stdin, stdout, stderr, preexec_fn, close_fds, shell, cwd, env, universal_newlines, startupinfo, creationflags, restore_signals, start_new_session, pass_fds, user, group, extra_groups, encoding, errors, text, umask, pipesize, process_group)\u001B[0m\n\u001B[0;32m   1022\u001B[0m         \u001B[38;5;28;01mif\u001B[39;00m \u001B[38;5;28mself\u001B[39m\u001B[38;5;241m.\u001B[39mtext_mode:\n\u001B[0;32m   1023\u001B[0m             \u001B[38;5;28mself\u001B[39m\u001B[38;5;241m.\u001B[39mstderr \u001B[38;5;241m=\u001B[39m io\u001B[38;5;241m.\u001B[39mTextIOWrapper(\u001B[38;5;28mself\u001B[39m\u001B[38;5;241m.\u001B[39mstderr,\n\u001B[0;32m   1024\u001B[0m                     encoding\u001B[38;5;241m=\u001B[39mencoding, errors\u001B[38;5;241m=\u001B[39merrors)\n\u001B[1;32m-> 1026\u001B[0m     \u001B[38;5;28mself\u001B[39m\u001B[38;5;241m.\u001B[39m_execute_child(args, executable, preexec_fn, close_fds,\n\u001B[0;32m   1027\u001B[0m                         pass_fds, cwd, env,\n\u001B[0;32m   1028\u001B[0m                         startupinfo, creationflags, shell,\n\u001B[0;32m   1029\u001B[0m                         p2cread, p2cwrite,\n\u001B[0;32m   1030\u001B[0m                         c2pread, c2pwrite,\n\u001B[0;32m   1031\u001B[0m                         errread, errwrite,\n\u001B[0;32m   1032\u001B[0m                         restore_signals,\n\u001B[0;32m   1033\u001B[0m                         gid, gids, uid, umask,\n\u001B[0;32m   1034\u001B[0m                         start_new_session, process_group)\n\u001B[0;32m   1035\u001B[0m \u001B[38;5;28;01mexcept\u001B[39;00m:\n\u001B[0;32m   1036\u001B[0m     \u001B[38;5;66;03m# Cleanup if the child failed starting.\u001B[39;00m\n\u001B[0;32m   1037\u001B[0m     \u001B[38;5;28;01mfor\u001B[39;00m f \u001B[38;5;129;01min\u001B[39;00m \u001B[38;5;28mfilter\u001B[39m(\u001B[38;5;28;01mNone\u001B[39;00m, (\u001B[38;5;28mself\u001B[39m\u001B[38;5;241m.\u001B[39mstdin, \u001B[38;5;28mself\u001B[39m\u001B[38;5;241m.\u001B[39mstdout, \u001B[38;5;28mself\u001B[39m\u001B[38;5;241m.\u001B[39mstderr)):\n",
      "File \u001B[1;32mC:\\ProgramData\\anaconda3\\Lib\\subprocess.py:1538\u001B[0m, in \u001B[0;36mPopen._execute_child\u001B[1;34m(self, args, executable, preexec_fn, close_fds, pass_fds, cwd, env, startupinfo, creationflags, shell, p2cread, p2cwrite, c2pread, c2pwrite, errread, errwrite, unused_restore_signals, unused_gid, unused_gids, unused_uid, unused_umask, unused_start_new_session, unused_process_group)\u001B[0m\n\u001B[0;32m   1536\u001B[0m \u001B[38;5;66;03m# Start the process\u001B[39;00m\n\u001B[0;32m   1537\u001B[0m \u001B[38;5;28;01mtry\u001B[39;00m:\n\u001B[1;32m-> 1538\u001B[0m     hp, ht, pid, tid \u001B[38;5;241m=\u001B[39m _winapi\u001B[38;5;241m.\u001B[39mCreateProcess(executable, args,\n\u001B[0;32m   1539\u001B[0m                              \u001B[38;5;66;03m# no special security\u001B[39;00m\n\u001B[0;32m   1540\u001B[0m                              \u001B[38;5;28;01mNone\u001B[39;00m, \u001B[38;5;28;01mNone\u001B[39;00m,\n\u001B[0;32m   1541\u001B[0m                              \u001B[38;5;28mint\u001B[39m(\u001B[38;5;129;01mnot\u001B[39;00m close_fds),\n\u001B[0;32m   1542\u001B[0m                              creationflags,\n\u001B[0;32m   1543\u001B[0m                              env,\n\u001B[0;32m   1544\u001B[0m                              cwd,\n\u001B[0;32m   1545\u001B[0m                              startupinfo)\n\u001B[0;32m   1546\u001B[0m \u001B[38;5;28;01mfinally\u001B[39;00m:\n\u001B[0;32m   1547\u001B[0m     \u001B[38;5;66;03m# Child is launched. Close the parent's copy of those pipe\u001B[39;00m\n\u001B[0;32m   1548\u001B[0m     \u001B[38;5;66;03m# handles that only the child should have open.  You need\u001B[39;00m\n\u001B[1;32m   (...)\u001B[0m\n\u001B[0;32m   1551\u001B[0m     \u001B[38;5;66;03m# pipe will not close when the child process exits and the\u001B[39;00m\n\u001B[0;32m   1552\u001B[0m     \u001B[38;5;66;03m# ReadFile will hang.\u001B[39;00m\n\u001B[0;32m   1553\u001B[0m     \u001B[38;5;28mself\u001B[39m\u001B[38;5;241m.\u001B[39m_close_pipe_fds(p2cread, p2cwrite,\n\u001B[0;32m   1554\u001B[0m                          c2pread, c2pwrite,\n\u001B[0;32m   1555\u001B[0m                          errread, errwrite)\n",
      "\u001B[1;31mFileNotFoundError\u001B[0m: [WinError 2] The system cannot find the file specified"
     ]
    }
   ],
   "execution_count": 98
  },
  {
   "metadata": {},
   "cell_type": "code",
   "outputs": [],
   "execution_count": null,
   "source": "od_rdy = vtp.concat_output_ticker_datasets(vp.All_tickers, df_name=\"od_rdy\")",
   "id": "6cf467f4116d4765"
  },
  {
   "metadata": {
    "ExecuteTime": {
     "end_time": "2025-05-15T02:25:56.780508Z",
     "start_time": "2025-05-15T02:25:40.651546Z"
    }
   },
   "cell_type": "code",
   "source": [
    "df_bid_ALL = vtp.concat_ticker_datasets(vp.All_tickers, df_name=\"sum1\", folder_version = \"_bid\")\n",
    "df_ask_ALL = vtp.concat_ticker_datasets(vp.All_tickers, df_name=\"sum1\", folder_version = \"_ask\")\n",
    "\n",
    "# df_mid_ALL = vtp.concat_ticker_datasets(vp.All_tickers, df_name=\"sum1\", folder_version = \"_mid\")\n",
    "# df_om_ALL = vtp.concat_ticker_datasets(vp.All_tickers, df_name=\"sum1\", folder_version = \"_om\")"
   ],
   "id": "550da2dfc70c5eb3",
   "outputs": [
    {
     "name": "stdout",
     "output_type": "stream",
     "text": [
      "Skipped 2/237 tickers: ['RUT', 'INDU']\n",
      "Skipped 2/237 tickers: ['RUT', 'INDU']\n"
     ]
    },
    {
     "name": "stderr",
     "output_type": "stream",
     "text": [
      "D:\\Professionelt\\Code\\volpy\\volpy_func_ticker_lib.py:1179: FutureWarning: The behavior of DataFrame concatenation with empty or all-NA entries is deprecated. In a future version, this will no longer exclude empty or all-NA columns when determining the result dtypes. To retain the old behavior, exclude the relevant entries before the concat operation.\n",
      "  def create_csv_from_folder(df_name_list = [\"sum1\", \"sum2\", \"orpy\"]):\n"
     ]
    }
   ],
   "execution_count": 105
  },
  {
   "metadata": {
    "ExecuteTime": {
     "end_time": "2025-05-15T02:26:14.834567Z",
     "start_time": "2025-05-15T02:25:56.787486Z"
    }
   },
   "cell_type": "code",
   "source": [
    "importlib.reload(vtp)\n",
    "importlib.reload(table_lib)\n",
    "\n",
    "ticker_list_list = [vp.VIX_tickers, vp.Cross_AM_tickers, vp.OEX_tickers, vp.DJX_tickers, vp.Liquid_tickers]\n",
    "name_list = [\"VIX\", \"Cross-AM\", \"OEX\", \"DJX\", \"Liquid\"]\n",
    "\n",
    "# ticker_list_list = [vp.Liquid_tickers]\n",
    "# name_list = [\"Liquid\"]\n",
    "\n",
    "for ticker_list, name in zip(ticker_list_list, name_list):\n",
    "    \n",
    "    df_bid = df_bid_ALL[df_bid_ALL[\"ticker\"].isin(ticker_list)].copy()\n",
    "    df_ask = df_ask_ALL[df_ask_ALL[\"ticker\"].isin(ticker_list)].copy()\n",
    "\n",
    "    t2_bid = table_lib.CarrWu2009_table_2(df_bid, name)\n",
    "    t2_ask = table_lib.CarrWu2009_table_2(df_ask, name)\n",
    "    \n",
    "    t3_bid = table_lib.CarrWu2009_table_3(df_bid, name)\n",
    "    t3_ask = table_lib.CarrWu2009_table_3(df_ask, name)\n",
    "    \n",
    "    df_bid[\"r_stock\"] = 0\n",
    "    df_bid[\"ln RV/SW 30\"] = np.log(df_bid[\"RV\"]) - np.log(df_bid[\"SW_0_30\"])\n",
    "    returns_df_bid = vp.make_df_strats(df_bid, sgy_common = \"r_D_30_\", sgy_names = [], plot = False, factors=[\"SPX\", \"Mkt\", \"SMB\", \"HML\", \"UMD\", \"BAB\"], ticker_list= ticker_list, extra_columns=[\"#K\", \"RV\", \"r_30_SW_day .20\", \"RV-SW 30\", \"ln RV/SW 30\"], sign=False, scale=False)\n",
    "    tff5_bid = table_lib.save_ff5_table(returns_df_bid, name, max_lags = 21, y_var = \"ln RV/SW 30\")\n",
    "    tff5_bid = tff5_bid.rename(columns={\"Ticker\": \"ticker\"})\n",
    "    \n",
    "    df_ask[\"r_stock\"] = 0\n",
    "    # df_ask[\"ln RV/SW 30\"] = np.log(df_ask[\"RV\"]) - np.log(df_ask[\"SW_0_30\"])\n",
    "    returns_df_ask = vp.make_df_strats(df_ask, sgy_common = \"r_D_30_\", sgy_names = [], plot = False, factors=[\"SPX\", \"Mkt\", \"SMB\", \"HML\", \"UMD\", \"BAB\"], ticker_list= ticker_list, extra_columns=[\"#K\", \"RV\", \"r_30_SW_day .20\", \"RV-SW 30\", \"ln RV/SW 30\"], sign=False, scale=False)\n",
    "    tff5_ask = table_lib.save_ff5_table(returns_df_ask, name, max_lags = 21, y_var = \"ln RV/SW 30\")\n",
    "    tff5_ask = tff5_ask.rename(columns={\"Ticker\": \"ticker\"})\n",
    "    \n",
    "    \n",
    "    latex_1 = table_lib.make_bid_ask_table(t2_bid, t3_bid, t2_ask, t3_ask,\n",
    "                                name = name,\n",
    "                                caption=\"bid and ask results for SW, VRP and LVRP\",\n",
    "                                label=\"tab:SW, VRP and LVRP bid_ask\"\n",
    "                                )\n",
    "    \n",
    "    latex_2 = table_lib.make_bid_ask_table_ff5(t2_bid, t3_bid, t2_ask, t3_ask, tff5_bid, tff5_ask,\n",
    "                                    name=name,\n",
    "                                    caption=\"bid and ask results for SW, VRP, LVRP and alpha\",\n",
    "                                    label=f\"tab:{name} SW, VRP, LVRP and alpha bid_ask\"\n",
    "                                    )"
   ],
   "id": "dcd269d788fbbf0f",
   "outputs": [],
   "execution_count": 106
  },
  {
   "metadata": {},
   "cell_type": "code",
   "outputs": [],
   "execution_count": null,
   "source": "",
   "id": "4ddc7eb4846d7e2d"
  }
 ],
 "metadata": {
  "kernelspec": {
   "display_name": "Python 3",
   "language": "python",
   "name": "python3"
  },
  "language_info": {
   "codemirror_mode": {
    "name": "ipython",
    "version": 2
   },
   "file_extension": ".py",
   "mimetype": "text/x-python",
   "name": "python",
   "nbconvert_exporter": "python",
   "pygments_lexer": "ipython2",
   "version": "2.7.6"
  }
 },
 "nbformat": 4,
 "nbformat_minor": 5
}
