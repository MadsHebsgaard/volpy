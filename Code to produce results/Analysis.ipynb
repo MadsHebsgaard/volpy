{
 "cells": [
  {
   "cell_type": "code",
   "id": "initial_id",
   "metadata": {
    "collapsed": true,
    "ExecuteTime": {
     "end_time": "2025-04-29T16:52:57.091477Z",
     "start_time": "2025-04-29T16:52:57.065519Z"
    }
   },
   "source": [
    "import sys\n",
    "import os \n",
    "sys.path.append(os.path.abspath(\"..\"))\n",
    "\n",
    "import numpy as np\n",
    "import pandas as pd\n",
    "import importlib\n",
    "import matplotlib.pyplot as plt\n",
    "from pyarrow import table\n",
    "\n",
    "import volpy_func_lib as vp\n",
    "import load_clean_lib\n",
    "import table_lib\n",
    "import vol_strat_lib as vs\n",
    "import option_returns as orpy\n",
    "from volpy_func_lib import return_df, Liquid_tickers, ALL_tickers\n",
    "import volpy_func_ticker_lib as vtp\n",
    "from volpy_func_ticker_lib import concat_ticker_datasets\n",
    "# from volpy_func_lib import OEX_tickers, ALL_tickers, VIX_tickers, Cross_AM_tickers, Liquid_tickers\n",
    "\n",
    "importlib.reload(vp)\n",
    "importlib.reload(load_clean_lib)\n",
    "importlib.reload(table_lib)\n",
    "importlib.reload(vs)\n",
    "importlib.reload(vtp)\n",
    "\n",
    "os.makedirs(\"figures/Analysis\", exist_ok=True)"
   ],
   "outputs": [],
   "execution_count": 45
  },
  {
   "cell_type": "markdown",
   "id": "45e532e2a103b7ac",
   "metadata": {},
   "source": [
    "## Liquid"
   ]
  },
  {
   "cell_type": "code",
   "id": "990228cc6fe5873d",
   "metadata": {
    "ExecuteTime": {
     "end_time": "2025-04-29T16:52:59.099737Z",
     "start_time": "2025-04-29T16:52:58.739247Z"
    }
   },
   "source": [
    "name = \"Liquid\" #SPX_full, i2s1_full_v2', vix_markets_full\n",
    "sum_df = vtp.concat_ticker_datasets(vp.Liquid_tickers, df_name=\"sum2\")\n",
    "\n",
    "_ = table_lib.CarrWu2009_table_2(sum_df, name = name)\n",
    "_ = table_lib.CarrWu2009_table_3(sum_df, name = name)"
   ],
   "outputs": [
    {
     "name": "stdout",
     "output_type": "stream",
     "text": [
      "Skipped 4/8 tickers: ['SPY', 'OEX', 'NDX', 'DJX']\n"
     ]
    }
   ],
   "execution_count": 46
  },
  {
   "cell_type": "markdown",
   "id": "b98b24ecdb539df5",
   "metadata": {},
   "source": [
    "## Cross-AM"
   ]
  },
  {
   "cell_type": "code",
   "id": "bd989ffad3331e04",
   "metadata": {
    "ExecuteTime": {
     "end_time": "2025-04-29T16:53:01.945668Z",
     "start_time": "2025-04-29T16:53:00.436042Z"
    }
   },
   "source": [
    "name = \"Cross-AM\" #SPX_full, i2s1_full_v2', vix_markets_full\n",
    "sum_df = vtp.concat_ticker_datasets(vp.Cross_AM_tickers, df_name=\"sum2\")\n",
    "\n",
    "_ = table_lib.CarrWu2009_table_2(sum_df, name = name)\n",
    "_ = table_lib.CarrWu2009_table_3(sum_df, name = name)"
   ],
   "outputs": [],
   "execution_count": 47
  },
  {
   "metadata": {},
   "cell_type": "markdown",
   "source": "## VIX",
   "id": "8a4e45d62eefa0c7"
  },
  {
   "metadata": {
    "ExecuteTime": {
     "end_time": "2025-04-29T16:53:03.016123Z",
     "start_time": "2025-04-29T16:53:01.945668Z"
    }
   },
   "cell_type": "code",
   "source": [
    "name = \"VIX\" #SPX_full, i2s1_full_v2', vix_markets_full\n",
    "sum_df = vtp.concat_ticker_datasets(vp.VIX_tickers, df_name=\"sum2\")\n",
    "\n",
    "_ = table_lib.CarrWu2009_table_2(sum_df, name = name)\n",
    "_ = table_lib.CarrWu2009_table_3(sum_df, name = name)"
   ],
   "id": "cd2b58301b2a909f",
   "outputs": [],
   "execution_count": 48
  },
  {
   "metadata": {},
   "cell_type": "markdown",
   "source": "## OEX",
   "id": "35a219433c56755a"
  },
  {
   "metadata": {
    "ExecuteTime": {
     "end_time": "2025-04-29T16:53:15.062827Z",
     "start_time": "2025-04-29T16:53:03.136283Z"
    }
   },
   "cell_type": "code",
   "source": [
    "name = \"OEX\" #SPX_full, i2s1_full_v2', vix_markets_full\n",
    "sum_df = vtp.concat_ticker_datasets(vp.OEX_tickers, df_name=\"sum2\")\n",
    "\n",
    "_ = table_lib.CarrWu2009_table_2(sum_df, name = name)\n",
    "_ = table_lib.CarrWu2009_table_3(sum_df, name = name)"
   ],
   "id": "d35936a88f792481",
   "outputs": [
    {
     "name": "stdout",
     "output_type": "stream",
     "text": [
      "Skipped 32/181 tickers: ['OEX', 'AGN', 'AVP', 'BDK', 'BHI', 'CELG', 'CGP', 'CMCSK', 'COV', 'CSC', 'EMC', 'ENE', 'EP', 'GBLX', 'HET', 'HNZ', 'HSH', 'LEH', 'MAY', 'MON', 'NT', 'NXTL', 'NYX', 'OMX', 'ONE', 'PNU', 'RAL', 'RSH', 'RTN', 'SGP', 'TOY', 'UBAN']\n"
     ]
    }
   ],
   "execution_count": 49
  },
  {
   "metadata": {},
   "cell_type": "code",
   "outputs": [],
   "execution_count": null,
   "source": "",
   "id": "f3ec5907ae1e7787"
  }
 ],
 "metadata": {
  "kernelspec": {
   "display_name": "base",
   "language": "python",
   "name": "python3"
  },
  "language_info": {
   "codemirror_mode": {
    "name": "ipython",
    "version": 3
   },
   "file_extension": ".py",
   "mimetype": "text/x-python",
   "name": "python",
   "nbconvert_exporter": "python",
   "pygments_lexer": "ipython3",
   "version": "3.11.5"
  }
 },
 "nbformat": 4,
 "nbformat_minor": 5
}
