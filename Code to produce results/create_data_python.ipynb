{
 "cells": [
  {
   "metadata": {},
   "cell_type": "code",
   "outputs": [],
   "execution_count": null,
   "source": [
    "import importlib\n",
    "import volpy_func_lib as vp\n",
    "import load_clean_lib\n",
    "import table_lib\n",
    "import vol_strat_lib as vs\n",
    "import option_returns as orpy\n",
    "from global_settings import *"
   ]
  },
  {
   "cell_type": "markdown",
   "metadata": {},
   "source": [
    "# Create factor file"
   ]
  },
  {
   "cell_type": "code",
   "metadata": {
    "ExecuteTime": {
     "end_time": "2025-04-26T08:32:35.096817Z",
     "start_time": "2025-04-26T08:29:43.984041Z"
    }
   },
   "source": [
    "importlib.reload(load_clean_lib)\n",
    "\n",
    "load_clean_lib.download_factors()"
   ],
   "outputs": [],
   "execution_count": 2
  },
  {
   "metadata": {},
   "cell_type": "markdown",
   "source": "# Swap rate (sum_df and od_raw)"
  },
  {
   "metadata": {
    "ExecuteTime": {
     "end_time": "2025-04-26T08:33:00.806371Z",
     "start_time": "2025-04-26T08:33:00.791690Z"
    }
   },
   "cell_type": "code",
   "source": [
    "importlib.reload(vp)\n",
    "importlib.reload(load_clean_lib)\n",
    "importlib.reload(table_lib)\n",
    "importlib.reload(vs)\n",
    "importlib.reload(orpy)"
   ],
   "outputs": [
    {
     "data": {
      "text/plain": [
       "<module 'option_returns' from 'D:\\\\Professionelt\\\\Code\\\\volpy\\\\option_returns.py'>"
      ]
     },
     "execution_count": 3,
     "metadata": {},
     "output_type": "execute_result"
    }
   ],
   "execution_count": 3
  },
  {
   "metadata": {
    "ExecuteTime": {
     "end_time": "2025-04-26T08:33:30.473945Z",
     "start_time": "2025-04-26T08:33:01.834541Z"
    }
   },
   "cell_type": "code",
   "source": [
    "ticker_list = None #[\"SPX\", \"OEX\"]\n",
    "IV_type = \"om\" # om = OptionMetrics IV, \"bid\"/\"ask\"/\"mid\" price\n",
    "om_folder = \"SPX_short\" #i4s4_CW, SPX_short, SPX_full, i2s1_full_v2, vix_markets_full\n",
    "\n",
    "importlib.reload(vp)\n",
    "sum_df, od_raw = vp.load_analyze_create_swap(\n",
    "    om_folder=om_folder, \n",
    "    ticker_list=ticker_list, \n",
    "    first_day=None, \n",
    "    last_day=None, \n",
    "    IV_type=IV_type, \n",
    "    save_files = True,\n",
    "    safe_slow_IV = False\n",
    ")"
   ],
   "outputs": [
    {
     "name": "stdout",
     "output_type": "stream",
     "text": [
      "t_ was selected in global_settings.py\n",
      "Data loaded\n"
     ]
    },
    {
     "name": "stderr",
     "output_type": "stream",
     "text": [
      "Processing Groups: 100%|██████████| 3602/3602 [00:03<00:00, 934.47it/s] \n"
     ]
    }
   ],
   "execution_count": 4
  },
  {
   "metadata": {},
   "cell_type": "markdown",
   "source": "# Option Strategies (sum_df_big and df_orpy) straddle, butterfly ect."
  },
  {
   "metadata": {
    "ExecuteTime": {
     "end_time": "2025-04-26T08:33:41.063593Z",
     "start_time": "2025-04-26T08:33:40.125446Z"
    }
   },
   "cell_type": "code",
   "source": [
    "om_folder = \"SPX_short\" #SPX_full, i2s1_full_v2, SPX_short, vix_markets_full\n",
    "\n",
    "importlib.reload(vs)\n",
    "sum_df, od_raw = vs.import_sum_raw(om_folder = om_folder)"
   ],
   "outputs": [],
   "execution_count": 5
  },
  {
   "metadata": {
    "ExecuteTime": {
     "end_time": "2025-04-26T08:33:44.225236Z",
     "start_time": "2025-04-26T08:33:41.076867Z"
    }
   },
   "cell_type": "code",
   "source": [
    "price_type = \"mid\"\n",
    "IV_type = \"om\"\n",
    "OTMs = [0.05, 0.15]\n",
    "\n",
    "importlib.reload(vs)\n",
    "sum_df, df_orpy = vs.create_option_sgys(\n",
    "    sum_df, \n",
    "    od_raw, \n",
    "    price_type=price_type, \n",
    "    IV_type=IV_type, \n",
    "    OTMs=OTMs, \n",
    "    om_folder = om_folder,\n",
    "    save_files=True\n",
    ")"
   ],
   "outputs": [],
   "execution_count": 6
  },
  {
   "metadata": {},
   "cell_type": "code",
   "outputs": [],
   "execution_count": null,
   "source": ""
  }
 ],
 "metadata": {
  "kernelspec": {
   "display_name": "base",
   "language": "python",
   "name": "python3"
  },
  "language_info": {
   "codemirror_mode": {
    "name": "ipython",
    "version": 3
   },
   "file_extension": ".py",
   "mimetype": "text/x-python",
   "name": "python",
   "nbconvert_exporter": "python",
   "pygments_lexer": "ipython3",
   "version": "3.11.5"
  }
 },
 "nbformat": 4,
 "nbformat_minor": 2
}
