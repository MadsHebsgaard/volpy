{
 "cells": [
  {
   "cell_type": "code",
   "execution_count": null,
   "metadata": {
    "ExecuteTime": {
     "end_time": "2025-04-30T10:37:08.420884Z",
     "start_time": "2025-04-30T10:37:08.392483Z"
    }
   },
   "outputs": [
    {
     "name": "stderr",
     "output_type": "stream",
     "text": [
      "c:\\Users\\axell\\anaconda3\\Lib\\site-packages\\pandas\\core\\arrays\\masked.py:60: UserWarning: Pandas requires version '1.3.6' or newer of 'bottleneck' (version '1.3.5' currently installed).\n",
      "  from pandas.core import (\n"
     ]
    },
    {
     "data": {
      "text/plain": [
       "<module 'volpy_func_ticker_lib' from 'c:\\\\Users\\\\axell\\\\Desktop\\\\CBS\\\\master\\\\volpy\\\\volpy_func_ticker_lib.py'>"
      ]
     },
     "execution_count": 2,
     "metadata": {},
     "output_type": "execute_result"
    }
   ],
   "source": [
    "import sys\n",
    "import os\n",
    "sys.path.append(os.path.abspath(\"..\"))\n",
    "\n",
    "from load_clean_lib import Option_metrics_path_from_profile\n",
    "from volpy_func_lib import VIX_tickers\n",
    "\n",
    "import importlib\n",
    "import volpy_func_lib as vp\n",
    "import load_clean_lib\n",
    "import table_lib\n",
    "import vol_strat_lib as vs\n",
    "import option_returns as orpy\n",
    "from global_settings import *\n",
    "import volpy_func_ticker_lib as vtp\n",
    "\n",
    "importlib.reload(vp)\n",
    "importlib.reload(load_clean_lib)\n",
    "importlib.reload(table_lib)\n",
    "importlib.reload(vs)\n",
    "importlib.reload(orpy)\n",
    "importlib.reload(vtp)"
   ]
  },
  {
   "cell_type": "markdown",
   "metadata": {},
   "source": [
    "# Create factor file"
   ]
  },
  {
   "cell_type": "code",
   "execution_count": 2,
   "metadata": {
    "ExecuteTime": {
     "end_time": "2025-04-26T08:32:35.096817Z",
     "start_time": "2025-04-26T08:29:43.984041Z"
    }
   },
   "outputs": [],
   "source": [
    "load_clean_lib.download_factors()"
   ]
  },
  {
   "cell_type": "markdown",
   "metadata": {},
   "source": [
    "## Fix Index CRSP returns (given index data has the right returns from Bloomberg)"
   ]
  },
  {
   "cell_type": "code",
   "execution_count": 13,
   "metadata": {
    "ExecuteTime": {
     "end_time": "2025-04-30T10:52:34.889812Z",
     "start_time": "2025-04-30T10:52:34.680416Z"
    }
   },
   "outputs": [
    {
     "name": "stdout",
     "output_type": "stream",
     "text": [
      "'SPX' (returns and stock price.csv) fixed.\n",
      "'NDX' (returns and stock price.csv) fixed.\n",
      "'OEX' (returns and stock price.csv) fixed.\n",
      "'DJX' (returns and stock price.csv) fixed.\n"
     ]
    }
   ],
   "source": [
    "importlib.reload(vtp)\n",
    "vtp.fix_index_returns_bloomberg_OM()"
   ]
  },
  {
   "cell_type": "markdown",
   "metadata": {},
   "source": [
    "# Swap rate (sum_df and od_raw)"
   ]
  },
  {
   "cell_type": "code",
   "execution_count": null,
   "metadata": {
    "ExecuteTime": {
     "start_time": "2025-04-30T10:52:36.400816Z"
    }
   },
   "outputs": [
    {
     "name": "stdout",
     "output_type": "stream",
     "text": [
      "Launching up to 4 parallel workers for 217 tickers…\n",
      "[✓] DVN\n",
      "[✓] RF\n",
      "[✓] JNJ\n",
      "[✓] COP\n",
      "[✓] INDA\n",
      "[✓] PYPL\n",
      "[✓] HIG\n",
      "[✓] EMB\n",
      "[✓] DHR\n",
      "[✓] NFLX\n",
      "[✓] GOOG\n",
      "[✓] UNP\n",
      "[✓] MDT\n",
      "[✓] EMR\n",
      "[✓] SPY\n",
      "[✓] DAL\n",
      "[✗] CELG failed: [Errno 2] No such file or directory: 'D:\\\\Finance Data\\\\OptionMetrics\\\\Tickers\\\\Input\\\\CELG\\\\option data.csv'\n",
      "[✓] EZA\n",
      "[✗] RSH failed: [Errno 2] No such file or directory: 'D:\\\\Finance Data\\\\OptionMetrics\\\\Tickers\\\\Input\\\\RSH\\\\option data.csv'\n",
      "[✗] EP failed: [Errno 2] No such file or directory: 'D:\\\\Finance Data\\\\OptionMetrics\\\\Tickers\\\\Input\\\\EP\\\\option data.csv'\n",
      "[✓] QQQ\n",
      "[✓] VZ\n",
      "[✓] BAX\n",
      "[✓] NSC\n",
      "[✓] JCI\n",
      "[✓] SLV\n",
      "[✓] AMD\n",
      "[✓] BKNG\n",
      "[✗] GBLX failed: [Errno 2] No such file or directory: 'D:\\\\Finance Data\\\\OptionMetrics\\\\Tickers\\\\Input\\\\GBLX\\\\option data.csv'\n",
      "[✓] EWC\n",
      "[✓] EWU\n",
      "[✓] HON\n",
      "[✗] AVP failed: [Errno 2] No such file or directory: 'D:\\\\Finance Data\\\\OptionMetrics\\\\Tickers\\\\Input\\\\AVP\\\\option data.csv'\n",
      "[✓] GS\n",
      "[✓] DIA\n",
      "[✓] S\n",
      "[✓] GTX\n",
      "[✓] AMT\n",
      "[✓] TXN\n",
      "[✗] OMX failed: [Errno 2] No such file or directory: 'D:\\\\Finance Data\\\\OptionMetrics\\\\Tickers\\\\Input\\\\OMX\\\\option data.csv'\n",
      "[✗] RAL failed: [Errno 2] No such file or directory: 'D:\\\\Finance Data\\\\OptionMetrics\\\\Tickers\\\\Input\\\\RAL\\\\option data.csv'\n",
      "[✓] TSLA\n",
      "[✓] AIG\n",
      "[✗] NT failed: [Errno 2] No such file or directory: 'D:\\\\Finance Data\\\\OptionMetrics\\\\Tickers\\\\Input\\\\NT\\\\option data.csv'\n",
      "[✓] TGT\n",
      "[✗] TOY failed: [Errno 2] No such file or directory: 'D:\\\\Finance Data\\\\OptionMetrics\\\\Tickers\\\\Input\\\\TOY\\\\option data.csv'\n",
      "[✓] AES\n",
      "[✓] PG\n",
      "[✓] MSFT\n",
      "[✓] BIIB\n",
      "[✓] DIS\n",
      "[✓] UIS\n",
      "[✓] AEP\n",
      "[✓] GILD\n",
      "[✓] PFE\n",
      "[✓] ABBV\n",
      "[✓] MET\n",
      "[✓] V\n",
      "[✓] KHC\n",
      "[✓] ETR\n",
      "[✓] CEW\n",
      "[✓] APC\n",
      "[✓] CVX\n",
      "[✓] MS\n",
      "[✓] MDLZ\n",
      "[✓] DD\n",
      "[✓] FXE\n",
      "[✓] AAPL\n",
      "[✓] CLB\n",
      "[✗] HET failed: [Errno 2] No such file or directory: 'D:\\\\Finance Data\\\\OptionMetrics\\\\Tickers\\\\Input\\\\HET\\\\option data.csv'\n",
      "[✓] TWX\n",
      "[✓] MA\n",
      "[✓] GM\n",
      "[✗] MAY failed: [Errno 2] No such file or directory: 'D:\\\\Finance Data\\\\OptionMetrics\\\\Tickers\\\\Input\\\\MAY\\\\option data.csv'\n",
      "[✓] NSM\n",
      "[✓] LIN\n",
      "[✓] BITO\n",
      "[✓] WB\n",
      "[✓] WBA\n",
      "[✓] USO\n",
      "[✓] CRM\n",
      "[✓] UUP\n",
      "[✓] WFC\n",
      "[✓] AMGN\n",
      "[✓] IAU\n",
      "[✓] USB\n",
      "[✓] SHY\n",
      "[✓] UNH\n",
      "[✓] DELL\n",
      "[✓] BA\n",
      "[✓] VNQ\n",
      "[✓] OEF\n",
      "[✓] HPQ\n",
      "[✗] CGP failed: [Errno 2] No such file or directory: 'D:\\\\Finance Data\\\\OptionMetrics\\\\Tickers\\\\Input\\\\CGP\\\\option data.csv'\n",
      "[✗] RTN failed: [Errno 2] No such file or directory: 'D:\\\\Finance Data\\\\OptionMetrics\\\\Tickers\\\\Input\\\\RTN\\\\option data.csv'\n",
      "[✓] XOM\n",
      "[✓] FXI\n",
      "[✓] GE\n",
      "[✓] ACN\n",
      "[✗] CSC failed: [Errno 2] No such file or directory: 'D:\\\\Finance Data\\\\OptionMetrics\\\\Tickers\\\\Input\\\\CSC\\\\option data.csv'\n",
      "[✓] IP\n",
      "[✓] RTX\n",
      "[✓] BK\n",
      "[✗] UBAN failed: [Errno 2] No such file or directory: 'D:\\\\Finance Data\\\\OptionMetrics\\\\Tickers\\\\Input\\\\UBAN\\\\option data.csv'\n",
      "[✓] EWJ\n",
      "[✓] BAC\n",
      "[✓] UNG\n",
      "[✗] ONE failed: [Errno 2] No such file or directory: 'D:\\\\Finance Data\\\\OptionMetrics\\\\Tickers\\\\Input\\\\ONE\\\\option data.csv'\n",
      "[✓] CVS\n",
      "[✓] MRK\n",
      "[✓] MMM\n",
      "[✓] BNI\n",
      "[✓] PARA\n",
      "[✓] HAL\n",
      "[✓] AMZN\n",
      "[✓] DUK\n",
      "[✓] EXC\n",
      "[✓] EWW\n",
      "[✓] FDX\n",
      "[✓] WYE\n",
      "[✗] CMCSK failed: [Errno 2] No such file or directory: 'D:\\\\Finance Data\\\\OptionMetrics\\\\Tickers\\\\Input\\\\CMCSK\\\\option data.csv'\n",
      "[✓] CHTR\n",
      "[✗] HNZ failed: [Errno 2] No such file or directory: 'D:\\\\Finance Data\\\\OptionMetrics\\\\Tickers\\\\Input\\\\HNZ\\\\option data.csv'\n",
      "[✓] EWZ\n",
      "[✓] TIP\n",
      "[✓] FXY\n",
      "[✓] AVGO\n",
      "[✗] SGP failed: [Errno 2] No such file or directory: 'D:\\\\Finance Data\\\\OptionMetrics\\\\Tickers\\\\Input\\\\SGP\\\\option data.csv'\n",
      "[✗] LEH failed: [Errno 2] No such file or directory: 'D:\\\\Finance Data\\\\OptionMetrics\\\\Tickers\\\\Input\\\\LEH\\\\option data.csv'\n",
      "[✓] ALL\n",
      "[✓] VGK\n",
      "[✓] SPG\n",
      "[✓] APA\n",
      "[✓] UVXY\n",
      "[✗] PNU failed: [Errno 2] No such file or directory: 'D:\\\\Finance Data\\\\OptionMetrics\\\\Tickers\\\\Input\\\\PNU\\\\option data.csv'\n",
      "[✓] CPB\n",
      "[✓] PEP\n",
      "[✓] ABT\n",
      "[✓] SCHW\n",
      "[✓] AA\n",
      "[✓] TLT\n",
      "[✓] EWY\n",
      "[✓] SO\n",
      "[✓] C\n",
      "[✗] BDK failed: [Errno 2] No such file or directory: 'D:\\\\Finance Data\\\\OptionMetrics\\\\Tickers\\\\Input\\\\BDK\\\\option data.csv'\n",
      "[✓] IWM\n",
      "[✓] MER\n",
      "[✓] SBUX\n",
      "[✓] DE\n",
      "[✓] XRX\n",
      "[✓] BUD\n",
      "[✓] G\n",
      "[✓] SLB\n",
      "[✓] BMY\n",
      "[✗] AGN failed: [Errno 2] No such file or directory: 'D:\\\\Finance Data\\\\OptionMetrics\\\\Tickers\\\\Input\\\\AGN\\\\option data.csv'\n",
      "[✓] AXP\n",
      "[✓] HCA\n",
      "[✓] KO\n",
      "[✓] EBAY\n",
      "[✓] NEE\n",
      "[✓] WMB\n",
      "[✓] JPM\n",
      "[✓] CAT\n",
      "[✗] NYX failed: [Errno 2] No such file or directory: 'D:\\\\Finance Data\\\\OptionMetrics\\\\Tickers\\\\Input\\\\NYX\\\\option data.csv'\n",
      "[✓] LMT\n",
      "[✓] OXY\n",
      "[✓] IBM\n",
      "[✓] INTC\n",
      "[✗] ENE failed: [Errno 2] No such file or directory: 'D:\\\\Finance Data\\\\OptionMetrics\\\\Tickers\\\\Input\\\\ENE\\\\option data.csv'\n",
      "[✓] META\n",
      "[✓] GOOGL\n",
      "[✓] FCX\n",
      "[✓] HD\n",
      "[✓] CL\n",
      "[✓] F\n",
      "[✓] LQD\n",
      "[✓] QCOM\n",
      "[✓] LOW\n",
      "[✓] LLY\n",
      "[✓] CSCO\n",
      "[✓] CI\n",
      "[✓] COST\n",
      "[✗] MON failed: [Errno 2] No such file or directory: 'D:\\\\Finance Data\\\\OptionMetrics\\\\Tickers\\\\Input\\\\MON\\\\option data.csv'\n",
      "[✗] EMC failed: [Errno 2] No such file or directory: 'D:\\\\Finance Data\\\\OptionMetrics\\\\Tickers\\\\Input\\\\EMC\\\\option data.csv'\n",
      "[✓] MCD\n",
      "[✓] TMO\n",
      "[✓] ADBE\n",
      "[✓] CMCSA\n",
      "[✓] GD\n",
      "[✓] WY\n",
      "[✓] COF\n",
      "[✓] NKE\n",
      "[✓] EEM\n",
      "[✗] NXTL failed: [Errno 2] No such file or directory: 'D:\\\\Finance Data\\\\OptionMetrics\\\\Tickers\\\\Input\\\\NXTL\\\\option data.csv'\n",
      "[✓] ROK\n",
      "[✓] T\n",
      "[✓] EWA\n",
      "[✓] TMUS\n",
      "[✗] BHI failed: [Errno 2] No such file or directory: 'D:\\\\Finance Data\\\\OptionMetrics\\\\Tickers\\\\Input\\\\BHI\\\\option data.csv'\n",
      "[✗] HSH failed: [Errno 2] No such file or directory: 'D:\\\\Finance Data\\\\OptionMetrics\\\\Tickers\\\\Input\\\\HSH\\\\option data.csv'\n",
      "[✓] NOV\n",
      "[✓] MO\n",
      "[✓] ATI\n",
      "[✓] BRK\n",
      "[✓] UPS\n",
      "[✓] SPX\n",
      "[✓] KMI\n",
      "[✓] NVDA\n",
      "[✓] WMT\n",
      "[✓] DOW\n",
      "[✗] COV failed: [Errno 2] No such file or directory: 'D:\\\\Finance Data\\\\OptionMetrics\\\\Tickers\\\\Input\\\\COV\\\\option data.csv'\n",
      "[✓] ORCL\n",
      "[✓] PM\n",
      "[✓] HYG\n"
     ]
    }
   ],
   "source": [
    "ticker_list = vp.ALL_tickers\n",
    "IV_type = \"om\" # om = OptionMetrics IV, \"bid\"/\"ask\"/\"mid\" price\n",
    "\n",
    "vtp.load_analyze_create_swap_ticker_parallel(\n",
    "    ticker_list=ticker_list, \n",
    "    IV_type=IV_type, \n",
    "    safe_slow_IV = False,\n",
    "    max_max_workers = 4\n",
    ")"
   ]
  },
  {
   "cell_type": "markdown",
   "metadata": {},
   "source": [
    "# Option Strategies (sum_df_big and df_orpy) straddle, butterfly ect."
   ]
  },
  {
   "cell_type": "code",
   "execution_count": 4,
   "metadata": {
    "ExecuteTime": {
     "end_time": "2025-04-30T10:52:50.355610500Z",
     "start_time": "2025-04-30T08:36:08.905847Z"
    }
   },
   "outputs": [
    {
     "name": "stdout",
     "output_type": "stream",
     "text": [
      "Launching up to 4 workers for 1 tickers…\n",
      "[✓] SPY\n",
      "All option-strategy CSVs created.\n"
     ]
    }
   ],
   "source": [
    "price_type = \"mid\"\n",
    "IV_type = \"om\"\n",
    "OTMs = [0.05, 0.15]\n",
    "\n",
    "vtp.create_option_sgys_ticker_parallel(\n",
    "    ticker_list = [\"SPY\"],\n",
    "    price_type=price_type, \n",
    "    IV_type=IV_type, \n",
    "    OTMs=OTMs,\n",
    "    max_max_workers = 4\n",
    ")"
   ]
  },
  {
   "cell_type": "code",
   "execution_count": 7,
   "metadata": {
    "ExecuteTime": {
     "end_time": "2025-04-29T16:34:07.279298Z",
     "start_time": "2025-04-29T16:29:58.868537Z"
    }
   },
   "outputs": [
    {
     "name": "stdout",
     "output_type": "stream",
     "text": [
      "Skipped 35/217 tickers: ['SGP', 'HET', 'EP', 'AVP', 'RSH', 'CGP', 'CMCSK', 'NT', 'NYX', 'PNU', 'HNZ', 'SPY', 'RTN', 'AGN', 'LEH', 'COV', 'MAY', 'CELG', 'MON', 'NDX', 'BDK', 'ONE', 'CSC', 'RAL', 'EMC', 'TOY', 'OEX', 'GBLX', 'OMX', 'UBAN', 'HSH', 'ENE', 'NXTL', 'DJX', 'BHI']\n",
      "Skipped 35/217 tickers: ['SGP', 'HET', 'EP', 'AVP', 'RSH', 'CGP', 'CMCSK', 'NT', 'NYX', 'PNU', 'HNZ', 'SPY', 'RTN', 'AGN', 'LEH', 'COV', 'MAY', 'CELG', 'MON', 'NDX', 'BDK', 'ONE', 'CSC', 'RAL', 'EMC', 'TOY', 'OEX', 'GBLX', 'OMX', 'UBAN', 'HSH', 'ENE', 'NXTL', 'DJX', 'BHI']\n",
      "Skipped 35/217 tickers: ['SGP', 'HET', 'EP', 'AVP', 'RSH', 'CGP', 'CMCSK', 'NT', 'NYX', 'PNU', 'HNZ', 'SPY', 'RTN', 'AGN', 'LEH', 'COV', 'MAY', 'CELG', 'MON', 'NDX', 'BDK', 'ONE', 'CSC', 'RAL', 'EMC', 'TOY', 'OEX', 'GBLX', 'OMX', 'UBAN', 'HSH', 'ENE', 'NXTL', 'DJX', 'BHI']\n"
     ]
    }
   ],
   "source": [
    "vtp.create_csv_from_folder([\"sum1\", \"sum2\", \"orpy\"])"
   ]
  },
  {
   "cell_type": "markdown",
   "metadata": {},
   "source": [
    "# Now one can get the datasets like this:"
   ]
  },
  {
   "cell_type": "code",
   "execution_count": null,
   "metadata": {},
   "outputs": [],
   "source": [
    "ticker_list = vp.VIX_tickers\n",
    "\n",
    "# method 1 (fastest i think)\n",
    "sum1_df = vtp.concat_ticker_datasets(ticker_list, \"sum1\")\n",
    "sum2_df = vtp.concat_ticker_datasets(ticker_list, \"sum2\")\n",
    "orpy = vtp.concat_ticker_datasets(ticker_list, \"orpy\")\n",
    "\n",
    "# method 2 (works using the ticker folders, thus can get od_rdy and od_raw)\n",
    "ticker_list = [\"AA\", \"IBM\"]\n",
    "od_rdy = vtp.concat_output_ticker_datasets(ticker_list, \"od_rdy\")\n",
    "od_raw = vtp.concat_output_ticker_datasets(ticker_list, \"od_raw\")\n",
    "sum1_df = vtp.concat_ticker_datasets(ticker_list, \"sum1_df\")\n",
    "sum2_df = vtp.concat_ticker_datasets(ticker_list, \"sum2_df\")\n",
    "orpy = vtp.concat_ticker_datasets(ticker_list, \"df_orpy\")\n",
    "\n",
    "# method 3 (using a precalculated sum1/sum2/orpy)\n",
    "sum1_df = vtp.draw_ticker_sum_orpy(ticker_list, \"sum1\")\n",
    "sum2_df = vtp.draw_ticker_sum_orpy(ticker_list, \"sum2\")\n",
    "orpy = vtp.draw_ticker_sum_orpy(ticker_list, \"orpy\")"
   ]
  }
 ],
 "metadata": {
  "kernelspec": {
   "display_name": "base",
   "language": "python",
   "name": "python3"
  },
  "language_info": {
   "codemirror_mode": {
    "name": "ipython",
    "version": 3
   },
   "file_extension": ".py",
   "mimetype": "text/x-python",
   "name": "python",
   "nbconvert_exporter": "python",
   "pygments_lexer": "ipython3",
   "version": "3.11.5"
  }
 },
 "nbformat": 4,
 "nbformat_minor": 2
}
