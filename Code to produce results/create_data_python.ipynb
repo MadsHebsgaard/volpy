{
 "cells": [
  {
   "cell_type": "code",
   "execution_count": null,
   "metadata": {
    "ExecuteTime": {
     "end_time": "2025-04-27T15:04:03.638900Z",
     "start_time": "2025-04-27T15:04:01.728731Z"
    }
   },
   "outputs": [],
   "source": [
    "import sys\n",
    "import os\n",
    "sys.path.append(os.path.abspath(\"..\"))\n",
    "\n",
    "import importlib\n",
    "import volpy_func_lib as vp\n",
    "import load_clean_lib\n",
    "import table_lib\n",
    "import vol_strat_lib as vs\n",
    "import option_returns as orpy\n",
    "from global_settings import *"
   ]
  },
  {
   "cell_type": "markdown",
   "metadata": {},
   "source": [
    "# Create factor file"
   ]
  },
  {
   "cell_type": "code",
   "execution_count": 2,
   "metadata": {
    "ExecuteTime": {
     "end_time": "2025-04-26T08:32:35.096817Z",
     "start_time": "2025-04-26T08:29:43.984041Z"
    }
   },
   "outputs": [],
   "source": [
    "importlib.reload(load_clean_lib)\n",
    "\n",
    "load_clean_lib.download_factors()"
   ]
  },
  {
   "cell_type": "markdown",
   "metadata": {},
   "source": [
    "# Swap rate (sum_df and od_raw)"
   ]
  },
  {
   "cell_type": "code",
   "execution_count": 3,
   "metadata": {
    "ExecuteTime": {
     "end_time": "2025-04-27T15:04:03.690750Z",
     "start_time": "2025-04-27T15:04:03.651864Z"
    }
   },
   "outputs": [
    {
     "data": {
      "text/plain": [
       "<module 'option_returns' from 'D:\\\\Professionelt\\\\Code\\\\volpy\\\\option_returns.py'>"
      ]
     },
     "execution_count": 3,
     "metadata": {},
     "output_type": "execute_result"
    }
   ],
   "source": [
    "importlib.reload(vp)\n",
    "importlib.reload(load_clean_lib)\n",
    "importlib.reload(table_lib)\n",
    "importlib.reload(vs)\n",
    "importlib.reload(orpy)"
   ]
  },
  {
   "cell_type": "code",
   "execution_count": 4,
   "metadata": {
    "ExecuteTime": {
     "end_time": "2025-04-27T15:39:06.235395Z",
     "start_time": "2025-04-27T15:04:08.836900Z"
    }
   },
   "outputs": [
    {
     "name": "stdout",
     "output_type": "stream",
     "text": [
      "t_ was selected in global_settings.py\n",
      "Data loaded\n"
     ]
    },
    {
     "name": "stderr",
     "output_type": "stream",
     "text": [
      "Processing Groups: 100%|██████████| 161336/161336 [01:56<00:00, 1389.13it/s]\n"
     ]
    }
   ],
   "source": [
    "ticker_list = None #[\"SPX\", \"OEX\"]\n",
    "IV_type = \"om\" # om = OptionMetrics IV, \"bid\"/\"ask\"/\"mid\" price\n",
    "om_folder = \"VIX\" #i4s4_CW, SPX_short, SPX_full, i2s1_full_v2, vix_markets_full, vix_assets\n",
    "\n",
    "importlib.reload(vp)\n",
    "sum_df, od_raw = vp.load_analyze_create_swap(\n",
    "    om_folder=om_folder, \n",
    "    ticker_list=ticker_list, \n",
    "    first_day=None, \n",
    "    last_day=None, \n",
    "    IV_type=IV_type, \n",
    "    save_files = True,\n",
    "    safe_slow_IV = False\n",
    ")"
   ]
  },
  {
   "cell_type": "markdown",
   "metadata": {},
   "source": [
    "# Option Strategies (sum_df_big and df_orpy) straddle, butterfly ect."
   ]
  },
  {
   "cell_type": "code",
   "execution_count": 5,
   "metadata": {
    "ExecuteTime": {
     "end_time": "2025-04-27T15:39:06.242484Z",
     "start_time": "2025-04-27T15:39:06.237519Z"
    }
   },
   "outputs": [],
   "source": [
    "# om_folder = \"vix_assets\" #SPX_full, i2s1_full_v2, SPX_short, vix_markets_full\n",
    "# \n",
    "# importlib.reload(vs)\n",
    "# sum_df, od_raw = vs.import_sum_raw(om_folder = om_folder)"
   ]
  },
  {
   "cell_type": "code",
   "execution_count": 6,
   "metadata": {
    "ExecuteTime": {
     "end_time": "2025-04-27T15:56:25.802887Z",
     "start_time": "2025-04-27T15:39:06.292967Z"
    }
   },
   "outputs": [],
   "source": [
    "price_type = \"mid\"\n",
    "IV_type = \"om\"\n",
    "OTMs = [0.05, 0.15]\n",
    "\n",
    "importlib.reload(vs)\n",
    "sum_df, df_orpy = vs.create_option_sgys(\n",
    "    sum_df, \n",
    "    od_raw, \n",
    "    price_type=price_type, \n",
    "    IV_type=IV_type, \n",
    "    OTMs=OTMs, \n",
    "    om_folder = om_folder,\n",
    "    save_files=True\n",
    ")"
   ]
  }
 ],
 "metadata": {
  "kernelspec": {
   "display_name": "base",
   "language": "python",
   "name": "python3"
  },
  "language_info": {
   "codemirror_mode": {
    "name": "ipython",
    "version": 3
   },
   "file_extension": ".py",
   "mimetype": "text/x-python",
   "name": "python",
   "nbconvert_exporter": "python",
   "pygments_lexer": "ipython3",
   "version": "3.11.5"
  }
 },
 "nbformat": 4,
 "nbformat_minor": 2
}
