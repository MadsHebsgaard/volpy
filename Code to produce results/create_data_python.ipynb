{
 "cells": [
  {
   "cell_type": "code",
   "metadata": {
    "ExecuteTime": {
     "end_time": "2025-05-14T16:50:01.491960Z",
     "start_time": "2025-05-14T16:49:59.991138Z"
    }
   },
   "source": [
    "import sys\n",
    "import os\n",
    "\n",
    "import matplotlib.pyplot as plt\n",
    "\n",
    "from volpy_func_lib import All_tickers\n",
    "\n",
    "sys.path.append(os.path.abspath(\"..\"))\n",
    "\n",
    "from load_clean_lib import Option_metrics_path_from_profile\n",
    "\n",
    "import importlib\n",
    "import volpy_func_lib as vp\n",
    "import load_clean_lib\n",
    "import table_lib\n",
    "import vol_strat_lib as vs\n",
    "import option_returns as orpy\n",
    "from global_settings import *\n",
    "import volpy_func_ticker_lib as vtp\n",
    "\n",
    "importlib.reload(vp)\n",
    "importlib.reload(load_clean_lib)\n",
    "importlib.reload(table_lib)\n",
    "importlib.reload(vs)\n",
    "importlib.reload(orpy)\n",
    "importlib.reload(vtp)"
   ],
   "outputs": [
    {
     "data": {
      "text/plain": [
       "<module 'volpy_func_ticker_lib' from 'D:\\\\Professionelt\\\\Code\\\\volpy\\\\volpy_func_ticker_lib.py'>"
      ]
     },
     "execution_count": 1,
     "metadata": {},
     "output_type": "execute_result"
    }
   ],
   "execution_count": 1
  },
  {
   "metadata": {},
   "cell_type": "markdown",
   "source": "# Create Security mapping"
  },
  {
   "metadata": {
    "ExecuteTime": {
     "end_time": "2025-05-09T09:46:56.112450Z",
     "start_time": "2025-05-09T09:46:18.257275Z"
    }
   },
   "cell_type": "code",
   "source": [
    "importlib.reload(vp)\n",
    "# vp.add_calcs_to_files(folder_dir = \"Output\")"
   ],
   "outputs": [
    {
     "name": "stdout",
     "output_type": "stream",
     "text": [
      "finished with sum1_df from Output\n"
     ]
    }
   ],
   "execution_count": 5
  },
  {
   "metadata": {
    "ExecuteTime": {
     "end_time": "2025-05-08T07:53:58.349577Z",
     "start_time": "2025-05-08T07:53:57.916292Z"
    }
   },
   "cell_type": "code",
   "source": "load_clean_lib.Create_Security_map()",
   "outputs": [],
   "execution_count": 4
  },
  {
   "metadata": {},
   "cell_type": "markdown",
   "source": ""
  },
  {
   "metadata": {},
   "cell_type": "markdown",
   "source": "# Create EWU_combined "
  },
  {
   "metadata": {
    "ExecuteTime": {
     "end_time": "2025-05-05T15:43:46.688975Z",
     "start_time": "2025-05-05T15:43:34.062028Z"
    }
   },
   "cell_type": "code",
   "source": "load_clean_lib.fix_EWU()",
   "outputs": [
    {
     "name": "stdout",
     "output_type": "stream",
     "text": [
      "D:\\Finance Data\\OptionMetrics\\Tickers\\Input\\EWU_combined\\forward price.csv\n",
      "D:\\Finance Data\\OptionMetrics\\Tickers\\Input\\EWU_combined\\option data.csv\n",
      "D:\\Finance Data\\OptionMetrics\\Tickers\\Input\\EWU_combined\\returns and stock price.csv\n"
     ]
    }
   ],
   "execution_count": 3
  },
  {
   "cell_type": "markdown",
   "metadata": {},
   "source": [
    "# Create factor file"
   ]
  },
  {
   "metadata": {
    "ExecuteTime": {
     "end_time": "2025-05-07T11:47:45.405127Z",
     "start_time": "2025-05-07T11:43:48.817347Z"
    }
   },
   "cell_type": "code",
   "source": "load_clean_lib.download_factors()",
   "outputs": [
    {
     "name": "stdout",
     "output_type": "stream",
     "text": [
      "'SPX' (returns and stock price.csv) fixed — 41 ekstra Bloomberg-dage tilføjet.\n"
     ]
    }
   ],
   "execution_count": 2
  },
  {
   "cell_type": "markdown",
   "metadata": {},
   "source": [
    "## Fix Index CRSP returns (given index data has the right returns from Bloomberg)"
   ]
  },
  {
   "cell_type": "code",
   "metadata": {
    "ExecuteTime": {
     "end_time": "2025-05-05T15:43:48.578617Z",
     "start_time": "2025-05-05T15:43:48.200790Z"
    }
   },
   "source": [
    "importlib.reload(vtp)\n",
    "vtp.fix_index_returns_bloomberg_OM()"
   ],
   "outputs": [
    {
     "name": "stdout",
     "output_type": "stream",
     "text": [
      "'SPX' (returns and stock price.csv) fixed — 41 ekstra Bloomberg-dage tilføjet.\n",
      "'NDX' (returns and stock price.csv) fixed — 41 ekstra Bloomberg-dage tilføjet.\n",
      "'OEX' (returns and stock price.csv) fixed — 41 ekstra Bloomberg-dage tilføjet.\n",
      "'DJX' (returns and stock price.csv) fixed — 41 ekstra Bloomberg-dage tilføjet.\n"
     ]
    }
   ],
   "execution_count": 4
  },
  {
   "cell_type": "markdown",
   "metadata": {},
   "source": [
    "# Swap rate (sum_df and od_raw)"
   ]
  },
  {
   "cell_type": "code",
   "metadata": {
    "ExecuteTime": {
     "end_time": "2025-05-09T15:09:51.128965Z",
     "start_time": "2025-05-09T14:52:48.581575Z"
    }
   },
   "source": [
    "ticker_list = vp.VIX_tickers                        #vp.All_tickers_original + [\"EWU_combined\"] #[\"EWU_combined\"] #[\"AAPL\", \"BBWI\", \"HET\", \"HSH\", \"APA\"] # = vp.All_tickers2_manual,  [\"SPX\"]\n",
    "IV_type = \"om\" # \"om\"/\"bid\"/\"ask\"/\"mid\" price\n",
    "\n",
    "importlib.reload(vtp)\n",
    "importlib.reload(vp)\n",
    "importlib.reload(load_clean_lib)\n",
    "importlib.reload(table_lib)\n",
    "importlib.reload(vs)\n",
    "importlib.reload(orpy)\n",
    "\n",
    "vtp.load_analyze_create_swap_ticker_parallel(\n",
    "    ticker_list = ticker_list, \n",
    "    IV_type=IV_type, \n",
    "    safe_slow_IV = False,\n",
    "    max_max_workers = 3\n",
    ") # DVN, AMT, OEF"
   ],
   "outputs": [
    {
     "name": "stdout",
     "output_type": "stream",
     "text": [
      "Launching up to 3 parallel workers for 15 tickers…\n",
      "[%] GLD failed: Due to un-raised error, 1/15 = 6.7% tickers compleated\n",
      "[✓] IBM, 2/15 = 13.3% tickers compleated\n",
      "[✓] GS, 3/15 = 20.0% tickers compleated\n",
      "[%] EFA failed: Due to un-raised error, 4/15 = 26.7% tickers compleated\n",
      "[%] RUT failed: Due to un-raised error, 5/15 = 33.3% tickers compleated\n",
      "[✓] GOOG, 6/15 = 40.0% tickers compleated\n",
      "[✓] AAPL, 7/15 = 46.7% tickers compleated\n",
      "[✓] AMZN, 8/15 = 53.3% tickers compleated\n",
      "[✓] DJX, 9/15 = 60.0% tickers compleated\n",
      "[✓] EEM, 10/15 = 66.7% tickers compleated\n",
      "[✓] EWZ, 11/15 = 73.3% tickers compleated\n",
      "[✓] USO, 12/15 = 80.0% tickers compleated\n",
      "[✓] TLT, 13/15 = 86.7% tickers compleated\n",
      "[✓] SPX, 14/15 = 93.3% tickers compleated\n",
      "[✓] NDX, 15/15 = 100.0% tickers compleated\n",
      "All tickers processed.\n"
     ]
    }
   ],
   "execution_count": 2
  },
  {
   "cell_type": "markdown",
   "metadata": {},
   "source": [
    "# Option Strategies (sum_df_big and df_orpy) straddle, butterfly ect."
   ]
  },
  {
   "cell_type": "code",
   "metadata": {
    "ExecuteTime": {
     "end_time": "2025-05-13T23:00:33.116911Z",
     "start_time": "2025-05-13T22:57:26.303089Z"
    }
   },
   "source": [
    "price_type = \"mid\"\n",
    "IV_type = \"om\"\n",
    "OTMs = [0.05, 0.15]\n",
    "\n",
    "importlib.reload(vtp)\n",
    "vtp.create_option_sgys_ticker_parallel(\n",
    "    ticker_list = [\"SPX\"],\n",
    "    price_type=price_type, \n",
    "    IV_type=IV_type, \n",
    "    OTMs=OTMs,\n",
    "    max_max_workers = 4\n",
    ")"
   ],
   "outputs": [
    {
     "name": "stdout",
     "output_type": "stream",
     "text": [
      "Launching up to 4 workers for 1 tickers…\n",
      "[✓] SPX\n",
      "All option-strategy CSVs created.\n"
     ]
    }
   ],
   "execution_count": 3
  },
  {
   "cell_type": "code",
   "execution_count": 7,
   "metadata": {
    "ExecuteTime": {
     "end_time": "2025-04-29T16:34:07.279298Z",
     "start_time": "2025-04-29T16:29:58.868537Z"
    }
   },
   "outputs": [
    {
     "name": "stdout",
     "output_type": "stream",
     "text": [
      "Skipped 35/217 tickers: ['SGP', 'HET', 'EP', 'AVP', 'RSH', 'CGP', 'CMCSK', 'NT', 'NYX', 'PNU', 'HNZ', 'SPY', 'RTN', 'AGN', 'LEH', 'COV', 'MAY', 'CELG', 'MON', 'NDX', 'BDK', 'ONE', 'CSC', 'RAL', 'EMC', 'TOY', 'OEX', 'GBLX', 'OMX', 'UBAN', 'HSH', 'ENE', 'NXTL', 'DJX', 'BHI']\n",
      "Skipped 35/217 tickers: ['SGP', 'HET', 'EP', 'AVP', 'RSH', 'CGP', 'CMCSK', 'NT', 'NYX', 'PNU', 'HNZ', 'SPY', 'RTN', 'AGN', 'LEH', 'COV', 'MAY', 'CELG', 'MON', 'NDX', 'BDK', 'ONE', 'CSC', 'RAL', 'EMC', 'TOY', 'OEX', 'GBLX', 'OMX', 'UBAN', 'HSH', 'ENE', 'NXTL', 'DJX', 'BHI']\n",
      "Skipped 35/217 tickers: ['SGP', 'HET', 'EP', 'AVP', 'RSH', 'CGP', 'CMCSK', 'NT', 'NYX', 'PNU', 'HNZ', 'SPY', 'RTN', 'AGN', 'LEH', 'COV', 'MAY', 'CELG', 'MON', 'NDX', 'BDK', 'ONE', 'CSC', 'RAL', 'EMC', 'TOY', 'OEX', 'GBLX', 'OMX', 'UBAN', 'HSH', 'ENE', 'NXTL', 'DJX', 'BHI']\n"
     ]
    }
   ],
   "source": [
    "vtp.create_csv_from_folder([\"sum1\", \"sum2\", \"orpy\"])"
   ]
  },
  {
   "cell_type": "markdown",
   "metadata": {},
   "source": [
    "# Now one can get the datasets like this:"
   ]
  },
  {
   "cell_type": "code",
   "execution_count": null,
   "metadata": {},
   "outputs": [],
   "source": [
    "ticker_list = vp.VIX_tickers\n",
    "\n",
    "# method 1 (fastest i think)\n",
    "sum1_df = vtp.concat_ticker_datasets(ticker_list, \"sum1\")\n",
    "sum2_df = vtp.concat_ticker_datasets(ticker_list, \"sum2\")\n",
    "orpy = vtp.concat_ticker_datasets(ticker_list, \"orpy\")\n",
    "\n",
    "# method 2 (works using the ticker folders, thus can get od_rdy and od_raw)\n",
    "ticker_list = [\"AA\", \"IBM\"]\n",
    "od_rdy = vtp.concat_output_ticker_datasets(ticker_list, \"od_rdy\")\n",
    "od_raw = vtp.concat_output_ticker_datasets(ticker_list, \"od_raw\")\n",
    "sum1_df = vtp.concat_output_ticker_datasets(ticker_list, \"sum1_df\")\n",
    "sum2_df = vtp.concat_output_ticker_datasets(ticker_list, \"sum2_df\")\n",
    "orpy = vtp.concat_output_ticker_datasets(ticker_list, \"df_orpy\")\n",
    "\n",
    "# method 3 (using a precalculated sum1/sum2/orpy)\n",
    "sum1_df = vtp.draw_ticker_sum_orpy(ticker_list, \"sum1\")\n",
    "sum2_df = vtp.draw_ticker_sum_orpy(ticker_list, \"sum2\")\n",
    "orpy = vtp.draw_ticker_sum_orpy(ticker_list, \"orpy\")"
   ]
  },
  {
   "metadata": {
    "ExecuteTime": {
     "end_time": "2025-04-30T21:58:10.780855Z",
     "start_time": "2025-04-30T21:58:10.659473Z"
    }
   },
   "cell_type": "code",
   "source": [
    "sum1_df = vtp.concat_ticker_datasets([\"AA\"], \"sum1\")\n",
    "from matplotlib import pyplot as plt\n",
    "plt.plot(sum1_df[\"date\"], sum1_df[\"SW_0_30\"])\n",
    "plt.plot(sum1_df[\"date\"], sum1_df[\"RV\"])"
   ],
   "outputs": [
    {
     "data": {
      "text/plain": [
       "[<matplotlib.lines.Line2D at 0x2a3ee5ac440>]"
      ]
     },
     "execution_count": 63,
     "metadata": {},
     "output_type": "execute_result"
    },
    {
     "data": {
      "text/plain": [
       "<Figure size 640x480 with 1 Axes>"
      ],
      "image/png": "[encoded data removed]"
     },
     "metadata": {},
     "output_type": "display_data"
    }
   ],
   "execution_count": 63
  },
  {
   "metadata": {
    "ExecuteTime": {
     "end_time": "2025-05-08T09:21:17.910356Z",
     "start_time": "2025-05-08T09:15:51.302826Z"
    }
   },
   "cell_type": "code",
   "source": [
    "importlib.reload(vp)\n",
    "vp.add_calcs_to_files([\"orpy\", \"sum1\", \"sum2\"])"
   ],
   "outputs": [
    {
     "name": "stdout",
     "output_type": "stream",
     "text": [
      "finished with orpy\n"
     ]
    }
   ],
   "execution_count": 6
  },
  {
   "metadata": {},
   "cell_type": "code",
   "outputs": [],
   "execution_count": null,
   "source": ""
  }
 ],
 "metadata": {
  "kernelspec": {
   "display_name": "base",
   "language": "python",
   "name": "python3"
  },
  "language_info": {
   "codemirror_mode": {
    "name": "ipython",
    "version": 3
   },
   "file_extension": ".py",
   "mimetype": "text/x-python",
   "name": "python",
   "nbconvert_exporter": "python",
   "pygments_lexer": "ipython3",
   "version": "3.11.5"
  }
 },
 "nbformat": 4,
 "nbformat_minor": 2
}
