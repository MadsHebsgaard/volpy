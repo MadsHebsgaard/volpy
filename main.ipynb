{
 "cells": [
  {
   "metadata": {
    "collapsed": true,
    "ExecuteTime": {
     "end_time": "2025-03-13T16:10:54.371899Z",
     "start_time": "2025-03-13T16:10:54.366538Z"
    }
   },
   "cell_type": "code",
   "source": [
    "from tarfile import data_filter\n",
    "\n",
    "import pandas as pd\n",
    "import numpy as np\n",
    "import importlib\n",
    "from datetime import datetime\n",
    "import matplotlib.pyplot as plt\n",
    "from matplotlib.pyplot import xticks\n",
    "from pandas.core.interchange.dataframe_protocol import DataFrame\n",
    "from pygments.lexer import bygroups\n",
    "\n",
    "import volpy_func_lib as vp\n",
    "import load_clean_lib\n",
    "import table_lib\n",
    "\n",
    "from datetime import datetime\n",
    "from volpy_func_lib import load_forward_price"
   ],
   "id": "initial_id",
   "outputs": [],
   "execution_count": 9
  },
  {
   "metadata": {
    "ExecuteTime": {
     "end_time": "2025-03-13T16:10:54.542377Z",
     "start_time": "2025-03-13T16:10:54.534889Z"
    }
   },
   "cell_type": "code",
   "source": [
    "importlib.reload(vp)\n",
    "importlib.reload(load_clean_lib)\n",
    "importlib.reload(table_lib)"
   ],
   "id": "2516b89ad1df726d",
   "outputs": [
    {
     "data": {
      "text/plain": [
       "<module 'table_lib' from 'D:\\\\Professionelt\\\\Code\\\\volpy\\\\table_lib.py'>"
      ]
     },
     "execution_count": 10,
     "metadata": {},
     "output_type": "execute_result"
    }
   ],
   "execution_count": 10
  },
  {
   "metadata": {
    "ExecuteTime": {
     "end_time": "2025-03-13T16:11:41.941309Z",
     "start_time": "2025-03-13T16:10:54.705905Z"
    }
   },
   "cell_type": "code",
   "source": [
    "importlib.reload(vp)\n",
    "importlib.reload(load_clean_lib)\n",
    "importlib.reload(table_lib)\n",
    "\n",
    "IV_types = [\"om\"]\n",
    "data_folder = \"i4s4\"\n",
    "profile = \"Mads\"\n",
    "ticker_list = [\"SPX\", \"OEX\"]\n",
    "\n",
    "# Load data and clean\n",
    "od, returns_and_prices = load_clean_lib.load_clean_and_prepare_od(data_folder = data_folder, profile = profile, tickers = ticker_list, first_day = None, last_day = None)\n",
    "\n",
    "# Calculate results such as SW, RV ect.\n",
    "summary_dly_df, od_rdy = load_clean_lib.create_summary_dly_df(od, returns_and_prices, first_day = None, last_day = None, IV_types = IV_types)"
   ],
   "id": "58dee43e6d8a1ed6",
   "outputs": [
    {
     "name": "stderr",
     "output_type": "stream",
     "text": [
      "Processing Groups: 100%|██████████| 7204/7204 [00:06<00:00, 1195.98it/s]\n"
     ]
    }
   ],
   "execution_count": 11
  },
  {
   "metadata": {
    "ExecuteTime": {
     "end_time": "2025-03-13T16:11:41.950568Z",
     "start_time": "2025-03-13T16:11:41.945339Z"
    }
   },
   "cell_type": "code",
   "source": [
    "summary_dly_df = summary_dly_df[summary_dly_df[\"SW_0_30\"].notna()]\n",
    "summary_dly_df = summary_dly_df.reset_index()"
   ],
   "id": "3b7891b24a174fe6",
   "outputs": [],
   "execution_count": 12
  },
  {
   "metadata": {
    "ExecuteTime": {
     "end_time": "2025-03-13T16:11:41.989978Z",
     "start_time": "2025-03-13T16:11:41.974612Z"
    }
   },
   "cell_type": "code",
   "source": [
    "importlib.reload(table_lib)\n",
    "table_lib.CarrWu2009_table_1(summary_dly_df, print_latex = False)"
   ],
   "id": "1588f9b715551072",
   "outputs": [
    {
     "data": {
      "text/plain": [
       "  ticker Starting_date  Ending_date     N         NK\n",
       "1    SPX   04-Jan-1996  28-Feb-2003  1801  31.923098\n",
       "0    OEX   04-Jan-1996  28-Feb-2003  1801  31.911438"
      ],
      "text/html": [
       "<div>\n",
       "<style scoped>\n",
       "    .dataframe tbody tr th:only-of-type {\n",
       "        vertical-align: middle;\n",
       "    }\n",
       "\n",
       "    .dataframe tbody tr th {\n",
       "        vertical-align: top;\n",
       "    }\n",
       "\n",
       "    .dataframe thead th {\n",
       "        text-align: right;\n",
       "    }\n",
       "</style>\n",
       "<table border=\"1\" class=\"dataframe\">\n",
       "  <thead>\n",
       "    <tr style=\"text-align: right;\">\n",
       "      <th></th>\n",
       "      <th>ticker</th>\n",
       "      <th>Starting_date</th>\n",
       "      <th>Ending_date</th>\n",
       "      <th>N</th>\n",
       "      <th>NK</th>\n",
       "    </tr>\n",
       "  </thead>\n",
       "  <tbody>\n",
       "    <tr>\n",
       "      <th>1</th>\n",
       "      <td>SPX</td>\n",
       "      <td>04-Jan-1996</td>\n",
       "      <td>28-Feb-2003</td>\n",
       "      <td>1801</td>\n",
       "      <td>31.923098</td>\n",
       "    </tr>\n",
       "    <tr>\n",
       "      <th>0</th>\n",
       "      <td>OEX</td>\n",
       "      <td>04-Jan-1996</td>\n",
       "      <td>28-Feb-2003</td>\n",
       "      <td>1801</td>\n",
       "      <td>31.911438</td>\n",
       "    </tr>\n",
       "  </tbody>\n",
       "</table>\n",
       "</div>"
      ]
     },
     "execution_count": 13,
     "metadata": {},
     "output_type": "execute_result"
    }
   ],
   "execution_count": 13
  },
  {
   "metadata": {
    "ExecuteTime": {
     "end_time": "2025-03-13T16:11:42.054299Z",
     "start_time": "2025-03-13T16:11:42.035045Z"
    }
   },
   "cell_type": "code",
   "source": [
    "importlib.reload(table_lib)\n",
    "table_lib.CarrWu2009_table_2(summary_dly_df, print_latex = False) # , print_latex = True"
   ],
   "id": "471a7603c044ff08",
   "outputs": [
    {
     "data": {
      "text/plain": [
       "  ticker   Mean_RV    Std_RV   Auto_RV   Skew_RV   Kurt_RV   Mean_SW  \\\n",
       "1    SPX  4.096837  3.364648  0.985650  2.105232  5.104466  5.822859   \n",
       "0    OEX  4.567990  3.743152  0.985535  2.028253  4.654040  6.074986   \n",
       "\n",
       "     Std_SW   Auto_SW   Skew_SW   Kurt_SW  \n",
       "1  3.181829  0.959574  1.813065  4.149287  \n",
       "0  3.210560  0.964468  1.617449  2.901213  "
      ],
      "text/html": [
       "<div>\n",
       "<style scoped>\n",
       "    .dataframe tbody tr th:only-of-type {\n",
       "        vertical-align: middle;\n",
       "    }\n",
       "\n",
       "    .dataframe tbody tr th {\n",
       "        vertical-align: top;\n",
       "    }\n",
       "\n",
       "    .dataframe thead th {\n",
       "        text-align: right;\n",
       "    }\n",
       "</style>\n",
       "<table border=\"1\" class=\"dataframe\">\n",
       "  <thead>\n",
       "    <tr style=\"text-align: right;\">\n",
       "      <th></th>\n",
       "      <th>ticker</th>\n",
       "      <th>Mean_RV</th>\n",
       "      <th>Std_RV</th>\n",
       "      <th>Auto_RV</th>\n",
       "      <th>Skew_RV</th>\n",
       "      <th>Kurt_RV</th>\n",
       "      <th>Mean_SW</th>\n",
       "      <th>Std_SW</th>\n",
       "      <th>Auto_SW</th>\n",
       "      <th>Skew_SW</th>\n",
       "      <th>Kurt_SW</th>\n",
       "    </tr>\n",
       "  </thead>\n",
       "  <tbody>\n",
       "    <tr>\n",
       "      <th>1</th>\n",
       "      <td>SPX</td>\n",
       "      <td>4.096837</td>\n",
       "      <td>3.364648</td>\n",
       "      <td>0.985650</td>\n",
       "      <td>2.105232</td>\n",
       "      <td>5.104466</td>\n",
       "      <td>5.822859</td>\n",
       "      <td>3.181829</td>\n",
       "      <td>0.959574</td>\n",
       "      <td>1.813065</td>\n",
       "      <td>4.149287</td>\n",
       "    </tr>\n",
       "    <tr>\n",
       "      <th>0</th>\n",
       "      <td>OEX</td>\n",
       "      <td>4.567990</td>\n",
       "      <td>3.743152</td>\n",
       "      <td>0.985535</td>\n",
       "      <td>2.028253</td>\n",
       "      <td>4.654040</td>\n",
       "      <td>6.074986</td>\n",
       "      <td>3.210560</td>\n",
       "      <td>0.964468</td>\n",
       "      <td>1.617449</td>\n",
       "      <td>2.901213</td>\n",
       "    </tr>\n",
       "  </tbody>\n",
       "</table>\n",
       "</div>"
      ]
     },
     "execution_count": 14,
     "metadata": {},
     "output_type": "execute_result"
    }
   ],
   "execution_count": 14
  },
  {
   "metadata": {
    "ExecuteTime": {
     "end_time": "2025-03-13T16:11:42.149770Z",
     "start_time": "2025-03-13T16:11:42.125434Z"
    }
   },
   "cell_type": "code",
   "source": [
    "importlib.reload(table_lib)\n",
    "table_lib.CarrWu2009_table_3(summary_dly_df, print_latex = False)"
   ],
   "id": "878584c80e8a20be",
   "outputs": [
    {
     "data": {
      "text/plain": [
       "  ticker  Mean_diff  Std_diff  Auto_diff  Skew_diff  Kurt_diff    t_diff  \\\n",
       "1    SPX  -1.726022  3.038638   0.943797   0.224609   4.032837 -6.049164   \n",
       "0    OEX  -1.506996  3.259668   0.951665   0.742657   3.187962 -4.854472   \n",
       "\n",
       "    Mean_ln    Std_ln   Auto_ln   Skew_ln   Kurt_ln      t_ln  \n",
       "1 -0.494814  0.544391  0.954533  0.311612 -0.001852 -9.233301  \n",
       "0 -0.436230  0.546871  0.958175  0.377617 -0.076043 -8.021041  "
      ],
      "text/html": [
       "<div>\n",
       "<style scoped>\n",
       "    .dataframe tbody tr th:only-of-type {\n",
       "        vertical-align: middle;\n",
       "    }\n",
       "\n",
       "    .dataframe tbody tr th {\n",
       "        vertical-align: top;\n",
       "    }\n",
       "\n",
       "    .dataframe thead th {\n",
       "        text-align: right;\n",
       "    }\n",
       "</style>\n",
       "<table border=\"1\" class=\"dataframe\">\n",
       "  <thead>\n",
       "    <tr style=\"text-align: right;\">\n",
       "      <th></th>\n",
       "      <th>ticker</th>\n",
       "      <th>Mean_diff</th>\n",
       "      <th>Std_diff</th>\n",
       "      <th>Auto_diff</th>\n",
       "      <th>Skew_diff</th>\n",
       "      <th>Kurt_diff</th>\n",
       "      <th>t_diff</th>\n",
       "      <th>Mean_ln</th>\n",
       "      <th>Std_ln</th>\n",
       "      <th>Auto_ln</th>\n",
       "      <th>Skew_ln</th>\n",
       "      <th>Kurt_ln</th>\n",
       "      <th>t_ln</th>\n",
       "    </tr>\n",
       "  </thead>\n",
       "  <tbody>\n",
       "    <tr>\n",
       "      <th>1</th>\n",
       "      <td>SPX</td>\n",
       "      <td>-1.726022</td>\n",
       "      <td>3.038638</td>\n",
       "      <td>0.943797</td>\n",
       "      <td>0.224609</td>\n",
       "      <td>4.032837</td>\n",
       "      <td>-6.049164</td>\n",
       "      <td>-0.494814</td>\n",
       "      <td>0.544391</td>\n",
       "      <td>0.954533</td>\n",
       "      <td>0.311612</td>\n",
       "      <td>-0.001852</td>\n",
       "      <td>-9.233301</td>\n",
       "    </tr>\n",
       "    <tr>\n",
       "      <th>0</th>\n",
       "      <td>OEX</td>\n",
       "      <td>-1.506996</td>\n",
       "      <td>3.259668</td>\n",
       "      <td>0.951665</td>\n",
       "      <td>0.742657</td>\n",
       "      <td>3.187962</td>\n",
       "      <td>-4.854472</td>\n",
       "      <td>-0.436230</td>\n",
       "      <td>0.546871</td>\n",
       "      <td>0.958175</td>\n",
       "      <td>0.377617</td>\n",
       "      <td>-0.076043</td>\n",
       "      <td>-8.021041</td>\n",
       "    </tr>\n",
       "  </tbody>\n",
       "</table>\n",
       "</div>"
      ]
     },
     "execution_count": 15,
     "metadata": {},
     "output_type": "execute_result"
    }
   ],
   "execution_count": 15
  },
  {
   "metadata": {},
   "cell_type": "markdown",
   "source": "## Table 4 (CAPM alpha regression)",
   "id": "ad5d4209bbce84f4"
  },
  {
   "metadata": {},
   "cell_type": "markdown",
   "source": "## Table 5 (Fama-French alpha regression)\n",
   "id": "59e0a625bc595fd8"
  },
  {
   "metadata": {},
   "cell_type": "markdown",
   "source": "## Table 6 (Constant SW premium test)",
   "id": "6d7be474e2919ae0"
  },
  {
   "metadata": {},
   "cell_type": "markdown",
   "source": "## Table 10 (2 subsamples SW/RV ect.)",
   "id": "2e5c88d307c6432a"
  }
 ],
 "metadata": {
  "kernelspec": {
   "display_name": "Python 3",
   "language": "python",
   "name": "python3"
  },
  "language_info": {
   "codemirror_mode": {
    "name": "ipython",
    "version": 2
   },
   "file_extension": ".py",
   "mimetype": "text/x-python",
   "name": "python",
   "nbconvert_exporter": "python",
   "pygments_lexer": "ipython2",
   "version": "2.7.6"
  }
 },
 "nbformat": 4,
 "nbformat_minor": 5
}
