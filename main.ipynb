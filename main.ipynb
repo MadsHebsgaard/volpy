{
 "cells": [
  {
   "metadata": {
    "ExecuteTime": {
     "end_time": "2025-03-09T15:59:46.624605Z",
     "start_time": "2025-03-09T15:59:45.422661Z"
    }
   },
   "cell_type": "code",
   "source": [
    "import pandas as pd\n",
    "import numpy as np\n",
    "from pandas.core.interchange.dataframe_protocol import DataFrame\n",
    "from pygments.lexer import bygroups\n",
    "\n",
    "import volpy_func_lib as vp\n",
    "import load_clean_lib\n",
    "import importlib\n",
    "from datetime import datetime\n",
    "import matplotlib.pyplot as plt\n",
    "\n",
    "import table_lib\n",
    "\n",
    "from datetime import datetime\n",
    "\n",
    "from volpy_func_lib import load_forward_price"
   ],
   "id": "dbaaaa6b9dd4aab5",
   "outputs": [],
   "execution_count": 1
  },
  {
   "metadata": {
    "ExecuteTime": {
     "end_time": "2025-03-09T15:59:47.004759Z",
     "start_time": "2025-03-09T15:59:47.002213Z"
    }
   },
   "cell_type": "code",
   "source": [
    "# 3 cleaning bud:\n",
    "\n",
    "# mid price for option > x  (x=~0.1)\n",
    "# volumen > x\n",
    "# bid ask spread / mid price < x"
   ],
   "id": "e836b5c268013606",
   "outputs": [],
   "execution_count": 2
  },
  {
   "metadata": {
    "ExecuteTime": {
     "end_time": "2025-03-09T15:59:47.884032Z",
     "start_time": "2025-03-09T15:59:47.876128Z"
    }
   },
   "cell_type": "code",
   "source": [
    "importlib.reload(vp)\n",
    "importlib.reload(load_clean_lib)\n",
    "importlib.reload(table_lib)"
   ],
   "id": "f23684d2554f1a95",
   "outputs": [
    {
     "data": {
      "text/plain": [
       "<module 'table_lib' from 'D:\\\\Professionelt\\\\Code\\\\volpy\\\\table_lib.py'>"
      ]
     },
     "execution_count": 3,
     "metadata": {},
     "output_type": "execute_result"
    }
   ],
   "execution_count": 3
  },
  {
   "metadata": {},
   "cell_type": "markdown",
   "source": "# Lav Data",
   "id": "9c61ebdc874eeee4"
  },
  {
   "metadata": {},
   "cell_type": "markdown",
   "source": "## Load, Clean and Prepare data",
   "id": "5eb280d62bc4b66"
  },
  {
   "metadata": {
    "ExecuteTime": {
     "end_time": "2025-03-09T15:59:57.095723Z",
     "start_time": "2025-03-09T15:59:50.404536Z"
    }
   },
   "cell_type": "code",
   "source": [
    "# Load data\n",
    "profile = \"Mads\"\n",
    "dataset = \"i4s4\"\n",
    "od, FW, ZCY_curves = load_clean_lib.load_od_FW_ZCY(profile, dataset)\n",
    "\n",
    "# first_day = pd.to_datetime(\"1996-01-04\")\n",
    "# last_day = pd.to_datetime(\"1997-01-01\")\n",
    "first_day = pd.to_datetime(\"1996-01-04\")\n",
    "# first_day = pd.to_datetime(\"2002-01-04\")\n",
    "last_day = pd.to_datetime(\"2003-02-28\")\n",
    "# last_day = pd.to_datetime(\"1996-05-01\")\n",
    "\n",
    "# Clean data\n",
    "od = load_clean_lib.clean_od(od, first_day = first_day, last_day = last_day)"
   ],
   "id": "359da239649e857f",
   "outputs": [],
   "execution_count": 4
  },
  {
   "metadata": {},
   "cell_type": "markdown",
   "source": "### Add FW to options",
   "id": "88aae594a550d46f"
  },
  {
   "metadata": {
    "ExecuteTime": {
     "end_time": "2025-03-09T16:00:10.830750Z",
     "start_time": "2025-03-09T15:59:57.098870Z"
    }
   },
   "cell_type": "code",
   "source": "od = vp.add_FW_to_od(od, FW)",
   "id": "fef74dafe880876f",
   "outputs": [],
   "execution_count": 5
  },
  {
   "metadata": {},
   "cell_type": "markdown",
   "source": "### remove if ITM",
   "id": "35a41ab37ceff9f2"
  },
  {
   "metadata": {
    "ExecuteTime": {
     "end_time": "2025-03-09T16:00:11.160928Z",
     "start_time": "2025-03-09T16:00:10.845432Z"
    }
   },
   "cell_type": "code",
   "source": [
    "od = od.loc[\n",
    "    ((od[\"F\"] < od[\"K\"]) & (od[\"cp_flag\"] == \"C\")) | ((od[\"F\"] > od[\"K\"]) & (od[\"cp_flag\"] == \"P\"))\n",
    "]"
   ],
   "id": "2f24d628d8c86d86",
   "outputs": [],
   "execution_count": 6
  },
  {
   "metadata": {
    "ExecuteTime": {
     "end_time": "2025-03-09T16:00:11.180327Z",
     "start_time": "2025-03-09T16:00:11.177590Z"
    }
   },
   "cell_type": "code",
   "source": "# od = od[od[\"volume\"] > 0]",
   "id": "95da5beb3f9115ff",
   "outputs": [],
   "execution_count": 7
  },
  {
   "metadata": {},
   "cell_type": "markdown",
   "source": "### Add r to options",
   "id": "a823b7d9746a7574"
  },
  {
   "metadata": {
    "ExecuteTime": {
     "end_time": "2025-03-09T16:00:20.191348Z",
     "start_time": "2025-03-09T16:00:11.192111Z"
    }
   },
   "cell_type": "code",
   "source": "od = vp.add_r_to_od_parallel(od, ZCY_curves)",
   "id": "e86434d7e845e4",
   "outputs": [],
   "execution_count": 8
  },
  {
   "metadata": {},
   "cell_type": "markdown",
   "source": "## Add low/high and create summary (Filters dataset for criteria such as min 3 strikes ... min 8 days...)",
   "id": "882f21fd7684be2c"
  },
  {
   "metadata": {
    "ExecuteTime": {
     "end_time": "2025-03-09T16:00:34.583402Z",
     "start_time": "2025-03-09T16:00:20.203840Z"
    }
   },
   "cell_type": "code",
   "source": "od, summary_dly_df = vp.od_filter_and_summary_creater(od)",
   "id": "b161757bbfe26a0a",
   "outputs": [],
   "execution_count": 9
  },
  {
   "metadata": {},
   "cell_type": "markdown",
   "source": "### only keep the lowest (\"low\") and the second lowest (\"high\") TTMs",
   "id": "d05f2b91ee9ea66"
  },
  {
   "metadata": {
    "ExecuteTime": {
     "end_time": "2025-03-09T16:00:34.656557Z",
     "start_time": "2025-03-09T16:00:34.601766Z"
    }
   },
   "cell_type": "code",
   "source": "od_rdy = od[(od[\"low\"] == True) | (od[\"high\"] == True)]",
   "id": "a61ff212175a2f20",
   "outputs": [],
   "execution_count": 10
  },
  {
   "metadata": {},
   "cell_type": "markdown",
   "source": "## Calculate swap rate",
   "id": "7e0cf2e381c13ddb"
  },
  {
   "metadata": {
    "ExecuteTime": {
     "end_time": "2025-03-09T16:00:58.827583Z",
     "start_time": "2025-03-09T16:00:34.678155Z"
    }
   },
   "cell_type": "code",
   "source": "summary_dly_df = vp.fill_swap_rates(summary_dly_df, od_rdy, n_points=200)",
   "id": "47ea2a937873d21e",
   "outputs": [
    {
     "name": "stderr",
     "output_type": "stream",
     "text": [
      "Processing Groups: 100%|██████████| 26686/26686 [00:15<00:00, 1746.82it/s]\n"
     ]
    }
   ],
   "execution_count": 11
  },
  {
   "metadata": {},
   "cell_type": "markdown",
   "source": "## Save/Load CSV",
   "id": "d501811662239747"
  },
  {
   "metadata": {
    "ExecuteTime": {
     "end_time": "2025-03-09T16:01:00.415434Z",
     "start_time": "2025-03-09T16:01:00.412442Z"
    }
   },
   "cell_type": "code",
   "source": [
    "# # Save\n",
    "# date_str = datetime.now().strftime(\"%Y-%m_%d_%H-%M\")\n",
    "# summary_dly_df.to_csv(f\"data/summary_dly_df {date_str}.csv\")\n",
    "# od_rdy.to_csv(f\"data/od_rdy {date_str}.csv\")\n",
    "\n",
    "# # Load\n",
    "# summary_dly_df = pd.read_csv(f\"data/summary_dly_df {date_str}.csv\")\n",
    "# od_rdy = pd.read_csv(f\"data/od_rdy {date_str}.csv\")"
   ],
   "id": "80e437eabf45bdae",
   "outputs": [],
   "execution_count": 12
  },
  {
   "metadata": {},
   "cell_type": "markdown",
   "source": "## Keep only active days, and take average for table (just overview)",
   "id": "ec121bd16e0f91b8"
  },
  {
   "metadata": {
    "ExecuteTime": {
     "end_time": "2025-03-09T16:01:01.565644Z",
     "start_time": "2025-03-09T16:01:01.548163Z"
    }
   },
   "cell_type": "code",
   "source": [
    "# Select only the numeric columns in the DataFrame.\n",
    "numeric_cols = summary_dly_df.select_dtypes(include=[np.number]).columns\n",
    "\n",
    "# Filter rows where \"low SW\" is not NaN, group by \"Ticker\", and calculate the mean for numeric columns.\n",
    "filtered_df = summary_dly_df[summary_dly_df[\"Active\"] == True]\n",
    "avg_by_ticker = filtered_df.groupby(\"Ticker\")[numeric_cols].mean()\n",
    "avg_by_ticker"
   ],
   "id": "99b8766447c8074a",
   "outputs": [
    {
     "data": {
      "text/plain": [
       "           #days   low days  high days     low #K    high #K         #K  \\\n",
       "Ticker                                                                    \n",
       "AMZN    4.033307  23.758128  62.854877  11.880254  15.962728  13.921491   \n",
       "DJX     5.850295  23.362832  53.561947  17.850295  18.008850  17.929572   \n",
       "GE      4.591778  23.635785  61.432542   5.697742   7.723798   6.710770   \n",
       "IBM     4.106229  23.354839  62.072859   9.722469  12.868743  11.295606   \n",
       "MSFT    4.105673  23.356507  62.078420   8.860400  12.284205  10.572303   \n",
       "NDX     4.696835  23.337590  53.949473  37.039423  36.615769  36.827596   \n",
       "OEX     4.479178  23.337590  53.588007  33.555802  30.267074  31.911438   \n",
       "SPX     5.829539  23.337590  53.603554  33.886174  29.960022  31.923098   \n",
       "\n",
       "          low SW   high SW        SW  \n",
       "Ticker                                \n",
       "AMZN    1.006674  0.980833  1.018289  \n",
       "DJX     0.065117  0.067193  0.065274  \n",
       "GE      0.127272  0.121146  0.124286  \n",
       "IBM     0.163329  0.151445  0.159358  \n",
       "MSFT    0.186426  0.179673  0.184420  \n",
       "NDX     0.176892  0.173006  0.175524  \n",
       "OEX     0.060220  0.061311  0.060750  \n",
       "SPX     0.058093  0.058616  0.058229  "
      ],
      "text/html": [
       "<div>\n",
       "<style scoped>\n",
       "    .dataframe tbody tr th:only-of-type {\n",
       "        vertical-align: middle;\n",
       "    }\n",
       "\n",
       "    .dataframe tbody tr th {\n",
       "        vertical-align: top;\n",
       "    }\n",
       "\n",
       "    .dataframe thead th {\n",
       "        text-align: right;\n",
       "    }\n",
       "</style>\n",
       "<table border=\"1\" class=\"dataframe\">\n",
       "  <thead>\n",
       "    <tr style=\"text-align: right;\">\n",
       "      <th></th>\n",
       "      <th>#days</th>\n",
       "      <th>low days</th>\n",
       "      <th>high days</th>\n",
       "      <th>low #K</th>\n",
       "      <th>high #K</th>\n",
       "      <th>#K</th>\n",
       "      <th>low SW</th>\n",
       "      <th>high SW</th>\n",
       "      <th>SW</th>\n",
       "    </tr>\n",
       "    <tr>\n",
       "      <th>Ticker</th>\n",
       "      <th></th>\n",
       "      <th></th>\n",
       "      <th></th>\n",
       "      <th></th>\n",
       "      <th></th>\n",
       "      <th></th>\n",
       "      <th></th>\n",
       "      <th></th>\n",
       "      <th></th>\n",
       "    </tr>\n",
       "  </thead>\n",
       "  <tbody>\n",
       "    <tr>\n",
       "      <th>AMZN</th>\n",
       "      <td>4.033307</td>\n",
       "      <td>23.758128</td>\n",
       "      <td>62.854877</td>\n",
       "      <td>11.880254</td>\n",
       "      <td>15.962728</td>\n",
       "      <td>13.921491</td>\n",
       "      <td>1.006674</td>\n",
       "      <td>0.980833</td>\n",
       "      <td>1.018289</td>\n",
       "    </tr>\n",
       "    <tr>\n",
       "      <th>DJX</th>\n",
       "      <td>5.850295</td>\n",
       "      <td>23.362832</td>\n",
       "      <td>53.561947</td>\n",
       "      <td>17.850295</td>\n",
       "      <td>18.008850</td>\n",
       "      <td>17.929572</td>\n",
       "      <td>0.065117</td>\n",
       "      <td>0.067193</td>\n",
       "      <td>0.065274</td>\n",
       "    </tr>\n",
       "    <tr>\n",
       "      <th>GE</th>\n",
       "      <td>4.591778</td>\n",
       "      <td>23.635785</td>\n",
       "      <td>61.432542</td>\n",
       "      <td>5.697742</td>\n",
       "      <td>7.723798</td>\n",
       "      <td>6.710770</td>\n",
       "      <td>0.127272</td>\n",
       "      <td>0.121146</td>\n",
       "      <td>0.124286</td>\n",
       "    </tr>\n",
       "    <tr>\n",
       "      <th>IBM</th>\n",
       "      <td>4.106229</td>\n",
       "      <td>23.354839</td>\n",
       "      <td>62.072859</td>\n",
       "      <td>9.722469</td>\n",
       "      <td>12.868743</td>\n",
       "      <td>11.295606</td>\n",
       "      <td>0.163329</td>\n",
       "      <td>0.151445</td>\n",
       "      <td>0.159358</td>\n",
       "    </tr>\n",
       "    <tr>\n",
       "      <th>MSFT</th>\n",
       "      <td>4.105673</td>\n",
       "      <td>23.356507</td>\n",
       "      <td>62.078420</td>\n",
       "      <td>8.860400</td>\n",
       "      <td>12.284205</td>\n",
       "      <td>10.572303</td>\n",
       "      <td>0.186426</td>\n",
       "      <td>0.179673</td>\n",
       "      <td>0.184420</td>\n",
       "    </tr>\n",
       "    <tr>\n",
       "      <th>NDX</th>\n",
       "      <td>4.696835</td>\n",
       "      <td>23.337590</td>\n",
       "      <td>53.949473</td>\n",
       "      <td>37.039423</td>\n",
       "      <td>36.615769</td>\n",
       "      <td>36.827596</td>\n",
       "      <td>0.176892</td>\n",
       "      <td>0.173006</td>\n",
       "      <td>0.175524</td>\n",
       "    </tr>\n",
       "    <tr>\n",
       "      <th>OEX</th>\n",
       "      <td>4.479178</td>\n",
       "      <td>23.337590</td>\n",
       "      <td>53.588007</td>\n",
       "      <td>33.555802</td>\n",
       "      <td>30.267074</td>\n",
       "      <td>31.911438</td>\n",
       "      <td>0.060220</td>\n",
       "      <td>0.061311</td>\n",
       "      <td>0.060750</td>\n",
       "    </tr>\n",
       "    <tr>\n",
       "      <th>SPX</th>\n",
       "      <td>5.829539</td>\n",
       "      <td>23.337590</td>\n",
       "      <td>53.603554</td>\n",
       "      <td>33.886174</td>\n",
       "      <td>29.960022</td>\n",
       "      <td>31.923098</td>\n",
       "      <td>0.058093</td>\n",
       "      <td>0.058616</td>\n",
       "      <td>0.058229</td>\n",
       "    </tr>\n",
       "  </tbody>\n",
       "</table>\n",
       "</div>"
      ]
     },
     "execution_count": 13,
     "metadata": {},
     "output_type": "execute_result"
    }
   ],
   "execution_count": 13
  },
  {
   "metadata": {},
   "cell_type": "markdown",
   "source": "# Replications of Carr & Wu 2009 Tables",
   "id": "96147c356ef0664e"
  },
  {
   "metadata": {},
   "cell_type": "markdown",
   "source": "## Table 1 (Aktive dage)",
   "id": "188422742f858b74"
  },
  {
   "metadata": {
    "ExecuteTime": {
     "end_time": "2025-03-09T16:01:04.744388Z",
     "start_time": "2025-03-09T16:01:04.664505Z"
    }
   },
   "cell_type": "code",
   "source": [
    "importlib.reload(table_lib)\n",
    "table_lib.CarrWu2009_table_1(summary_dly_df) # print_latex = True"
   ],
   "id": "d08daf8f63ef4e33",
   "outputs": [
    {
     "data": {
      "text/plain": [
       "  Ticker Starting_date  Ending_date     N         NK\n",
       "0   AMZN   20-Nov-1997  28-Feb-2003  1261  13.921491\n",
       "1    DJX   06-Oct-1997  28-Feb-2003  1356  17.929572\n",
       "2     GE   08-Jan-1996  28-Feb-2003  1727   6.710770\n",
       "3    IBM   04-Jan-1996  28-Feb-2003  1798  11.295606\n",
       "4   MSFT   04-Jan-1996  28-Feb-2003  1798  10.572303\n",
       "5    NDX   04-Jan-1996  28-Feb-2003  1801  36.827596\n",
       "6    OEX   04-Jan-1996  28-Feb-2003  1801  31.911438\n",
       "7    SPX   04-Jan-1996  28-Feb-2003  1801  31.923098"
      ],
      "text/html": [
       "<div>\n",
       "<style scoped>\n",
       "    .dataframe tbody tr th:only-of-type {\n",
       "        vertical-align: middle;\n",
       "    }\n",
       "\n",
       "    .dataframe tbody tr th {\n",
       "        vertical-align: top;\n",
       "    }\n",
       "\n",
       "    .dataframe thead th {\n",
       "        text-align: right;\n",
       "    }\n",
       "</style>\n",
       "<table border=\"1\" class=\"dataframe\">\n",
       "  <thead>\n",
       "    <tr style=\"text-align: right;\">\n",
       "      <th></th>\n",
       "      <th>Ticker</th>\n",
       "      <th>Starting_date</th>\n",
       "      <th>Ending_date</th>\n",
       "      <th>N</th>\n",
       "      <th>NK</th>\n",
       "    </tr>\n",
       "  </thead>\n",
       "  <tbody>\n",
       "    <tr>\n",
       "      <th>0</th>\n",
       "      <td>AMZN</td>\n",
       "      <td>20-Nov-1997</td>\n",
       "      <td>28-Feb-2003</td>\n",
       "      <td>1261</td>\n",
       "      <td>13.921491</td>\n",
       "    </tr>\n",
       "    <tr>\n",
       "      <th>1</th>\n",
       "      <td>DJX</td>\n",
       "      <td>06-Oct-1997</td>\n",
       "      <td>28-Feb-2003</td>\n",
       "      <td>1356</td>\n",
       "      <td>17.929572</td>\n",
       "    </tr>\n",
       "    <tr>\n",
       "      <th>2</th>\n",
       "      <td>GE</td>\n",
       "      <td>08-Jan-1996</td>\n",
       "      <td>28-Feb-2003</td>\n",
       "      <td>1727</td>\n",
       "      <td>6.710770</td>\n",
       "    </tr>\n",
       "    <tr>\n",
       "      <th>3</th>\n",
       "      <td>IBM</td>\n",
       "      <td>04-Jan-1996</td>\n",
       "      <td>28-Feb-2003</td>\n",
       "      <td>1798</td>\n",
       "      <td>11.295606</td>\n",
       "    </tr>\n",
       "    <tr>\n",
       "      <th>4</th>\n",
       "      <td>MSFT</td>\n",
       "      <td>04-Jan-1996</td>\n",
       "      <td>28-Feb-2003</td>\n",
       "      <td>1798</td>\n",
       "      <td>10.572303</td>\n",
       "    </tr>\n",
       "    <tr>\n",
       "      <th>5</th>\n",
       "      <td>NDX</td>\n",
       "      <td>04-Jan-1996</td>\n",
       "      <td>28-Feb-2003</td>\n",
       "      <td>1801</td>\n",
       "      <td>36.827596</td>\n",
       "    </tr>\n",
       "    <tr>\n",
       "      <th>6</th>\n",
       "      <td>OEX</td>\n",
       "      <td>04-Jan-1996</td>\n",
       "      <td>28-Feb-2003</td>\n",
       "      <td>1801</td>\n",
       "      <td>31.911438</td>\n",
       "    </tr>\n",
       "    <tr>\n",
       "      <th>7</th>\n",
       "      <td>SPX</td>\n",
       "      <td>04-Jan-1996</td>\n",
       "      <td>28-Feb-2003</td>\n",
       "      <td>1801</td>\n",
       "      <td>31.923098</td>\n",
       "    </tr>\n",
       "  </tbody>\n",
       "</table>\n",
       "</div>"
      ]
     },
     "execution_count": 14,
     "metadata": {},
     "output_type": "execute_result"
    }
   ],
   "execution_count": 14
  },
  {
   "metadata": {},
   "cell_type": "markdown",
   "source": "## Table 2 (SW og RV)",
   "id": "faeeea3ed7d93536"
  },
  {
   "metadata": {
    "ExecuteTime": {
     "end_time": "2025-03-09T16:01:06.379123Z",
     "start_time": "2025-03-09T16:01:06.349546Z"
    }
   },
   "cell_type": "code",
   "source": "table_lib.CarrWu2009_table_2(summary_dly_df) # print_latex = True",
   "id": "481be0ccd188c633",
   "outputs": [
    {
     "data": {
      "text/plain": [
       "  Ticker        Mean  Std. dev.      Auto      Skew      Kurt\n",
       "0   AMZN  101.828868  55.343045  0.976417  1.584801  2.940773\n",
       "1    DJX    6.527394   3.430674  0.868457  1.455293  8.209319\n",
       "2     GE   12.428584   6.936464  0.976598  1.278210  1.743881\n",
       "3    IBM   15.935827   7.833802  0.962974  1.877459  4.400490\n",
       "4   MSFT   18.442002   9.826454  0.970197  2.161156  6.921030\n",
       "5    NDX   17.552373  10.816016  0.982977  0.987388  0.371159\n",
       "6    OEX    6.074986   3.210560  0.964468  1.617449  2.901213\n",
       "7    SPX    5.822859   3.181829  0.959574  1.813065  4.149287"
      ],
      "text/html": [
       "<div>\n",
       "<style scoped>\n",
       "    .dataframe tbody tr th:only-of-type {\n",
       "        vertical-align: middle;\n",
       "    }\n",
       "\n",
       "    .dataframe tbody tr th {\n",
       "        vertical-align: top;\n",
       "    }\n",
       "\n",
       "    .dataframe thead th {\n",
       "        text-align: right;\n",
       "    }\n",
       "</style>\n",
       "<table border=\"1\" class=\"dataframe\">\n",
       "  <thead>\n",
       "    <tr style=\"text-align: right;\">\n",
       "      <th></th>\n",
       "      <th>Ticker</th>\n",
       "      <th>Mean</th>\n",
       "      <th>Std. dev.</th>\n",
       "      <th>Auto</th>\n",
       "      <th>Skew</th>\n",
       "      <th>Kurt</th>\n",
       "    </tr>\n",
       "  </thead>\n",
       "  <tbody>\n",
       "    <tr>\n",
       "      <th>0</th>\n",
       "      <td>AMZN</td>\n",
       "      <td>101.828868</td>\n",
       "      <td>55.343045</td>\n",
       "      <td>0.976417</td>\n",
       "      <td>1.584801</td>\n",
       "      <td>2.940773</td>\n",
       "    </tr>\n",
       "    <tr>\n",
       "      <th>1</th>\n",
       "      <td>DJX</td>\n",
       "      <td>6.527394</td>\n",
       "      <td>3.430674</td>\n",
       "      <td>0.868457</td>\n",
       "      <td>1.455293</td>\n",
       "      <td>8.209319</td>\n",
       "    </tr>\n",
       "    <tr>\n",
       "      <th>2</th>\n",
       "      <td>GE</td>\n",
       "      <td>12.428584</td>\n",
       "      <td>6.936464</td>\n",
       "      <td>0.976598</td>\n",
       "      <td>1.278210</td>\n",
       "      <td>1.743881</td>\n",
       "    </tr>\n",
       "    <tr>\n",
       "      <th>3</th>\n",
       "      <td>IBM</td>\n",
       "      <td>15.935827</td>\n",
       "      <td>7.833802</td>\n",
       "      <td>0.962974</td>\n",
       "      <td>1.877459</td>\n",
       "      <td>4.400490</td>\n",
       "    </tr>\n",
       "    <tr>\n",
       "      <th>4</th>\n",
       "      <td>MSFT</td>\n",
       "      <td>18.442002</td>\n",
       "      <td>9.826454</td>\n",
       "      <td>0.970197</td>\n",
       "      <td>2.161156</td>\n",
       "      <td>6.921030</td>\n",
       "    </tr>\n",
       "    <tr>\n",
       "      <th>5</th>\n",
       "      <td>NDX</td>\n",
       "      <td>17.552373</td>\n",
       "      <td>10.816016</td>\n",
       "      <td>0.982977</td>\n",
       "      <td>0.987388</td>\n",
       "      <td>0.371159</td>\n",
       "    </tr>\n",
       "    <tr>\n",
       "      <th>6</th>\n",
       "      <td>OEX</td>\n",
       "      <td>6.074986</td>\n",
       "      <td>3.210560</td>\n",
       "      <td>0.964468</td>\n",
       "      <td>1.617449</td>\n",
       "      <td>2.901213</td>\n",
       "    </tr>\n",
       "    <tr>\n",
       "      <th>7</th>\n",
       "      <td>SPX</td>\n",
       "      <td>5.822859</td>\n",
       "      <td>3.181829</td>\n",
       "      <td>0.959574</td>\n",
       "      <td>1.813065</td>\n",
       "      <td>4.149287</td>\n",
       "    </tr>\n",
       "  </tbody>\n",
       "</table>\n",
       "</div>"
      ]
     },
     "execution_count": 15,
     "metadata": {},
     "output_type": "execute_result"
    }
   ],
   "execution_count": 15
  },
  {
   "metadata": {},
   "cell_type": "markdown",
   "source": "## Table 3 (SW - RV og SW/RV)",
   "id": "6e7d4508e253f354"
  },
  {
   "metadata": {},
   "cell_type": "code",
   "outputs": [],
   "execution_count": null,
   "source": "importlib.reload(table_lib)",
   "id": "eb45fa5dc5c516d4"
  },
  {
   "metadata": {},
   "cell_type": "code",
   "outputs": [],
   "execution_count": null,
   "source": "",
   "id": "c36feefe28b714a5"
  },
  {
   "metadata": {},
   "cell_type": "markdown",
   "source": "## Table 4 (CAPM alpha regression)",
   "id": "7ca229cf94dfb9b7"
  },
  {
   "metadata": {},
   "cell_type": "markdown",
   "source": "## Table 5 (Fama-French alpha regression)",
   "id": "63f0e3c8c20b46c8"
  },
  {
   "metadata": {},
   "cell_type": "markdown",
   "source": "## Table 6 (Constant SW premium test)",
   "id": "140281ded7adf2"
  },
  {
   "metadata": {},
   "cell_type": "markdown",
   "source": "## Table 10 (2 subsamples SW/RV ect.)",
   "id": "286d8768aefefbc1"
  }
 ],
 "metadata": {
  "kernelspec": {
   "display_name": "Python 3",
   "language": "python",
   "name": "python3"
  },
  "language_info": {
   "codemirror_mode": {
    "name": "ipython",
    "version": 2
   },
   "file_extension": ".py",
   "mimetype": "text/x-python",
   "name": "python",
   "nbconvert_exporter": "python",
   "pygments_lexer": "ipython2",
   "version": "2.7.6"
  }
 },
 "nbformat": 4,
 "nbformat_minor": 5
}
