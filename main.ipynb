{
 "cells": [
  {
   "metadata": {
    "ExecuteTime": {
     "end_time": "2025-03-09T17:47:17.465745Z",
     "start_time": "2025-03-09T17:47:17.462753Z"
    }
   },
   "cell_type": "code",
   "source": [
    "import pandas as pd\n",
    "import numpy as np\n",
    "from pandas.core.interchange.dataframe_protocol import DataFrame\n",
    "from pygments.lexer import bygroups\n",
    "\n",
    "import volpy_func_lib as vp\n",
    "import load_clean_lib\n",
    "import importlib\n",
    "from datetime import datetime\n",
    "import matplotlib.pyplot as plt\n",
    "\n",
    "import table_lib\n",
    "\n",
    "from datetime import datetime\n",
    "\n",
    "from volpy_func_lib import load_forward_price"
   ],
   "id": "dbaaaa6b9dd4aab5",
   "outputs": [],
   "execution_count": 113
  },
  {
   "metadata": {
    "ExecuteTime": {
     "end_time": "2025-03-09T17:47:17.695063Z",
     "start_time": "2025-03-09T17:47:17.692553Z"
    }
   },
   "cell_type": "code",
   "source": [
    "# 3 cleaning bud:\n",
    "\n",
    "# mid price for option > x  (x=~0.1)\n",
    "# volumen > x\n",
    "# bid ask spread / mid price < x"
   ],
   "id": "e836b5c268013606",
   "outputs": [],
   "execution_count": 114
  },
  {
   "metadata": {
    "ExecuteTime": {
     "end_time": "2025-03-09T17:47:17.909312Z",
     "start_time": "2025-03-09T17:47:17.901102Z"
    }
   },
   "cell_type": "code",
   "source": [
    "importlib.reload(vp)\n",
    "importlib.reload(load_clean_lib)\n",
    "importlib.reload(table_lib)"
   ],
   "id": "f23684d2554f1a95",
   "outputs": [
    {
     "data": {
      "text/plain": [
       "<module 'table_lib' from 'D:\\\\Professionelt\\\\Code\\\\volpy\\\\table_lib.py'>"
      ]
     },
     "execution_count": 115,
     "metadata": {},
     "output_type": "execute_result"
    }
   ],
   "execution_count": 115
  },
  {
   "metadata": {},
   "cell_type": "markdown",
   "source": "# Lav Data",
   "id": "9c61ebdc874eeee4"
  },
  {
   "metadata": {},
   "cell_type": "markdown",
   "source": "## Load, Clean and Prepare data",
   "id": "5eb280d62bc4b66"
  },
  {
   "metadata": {
    "ExecuteTime": {
     "end_time": "2025-03-09T17:47:25.447253Z",
     "start_time": "2025-03-09T17:47:18.460420Z"
    }
   },
   "cell_type": "code",
   "source": [
    "# Load data\n",
    "profile = \"Mads\"\n",
    "dataset = \"i4s4\"\n",
    "od, FW, ZCY_curves, returns_and_prices = load_clean_lib.load_od_FW_ZCY(profile, dataset)\n",
    "\n",
    "# first_day = pd.to_datetime(\"1996-01-04\")\n",
    "# last_day = pd.to_datetime(\"1997-01-01\")\n",
    "first_day = pd.to_datetime(\"1996-01-04\")\n",
    "# first_day = pd.to_datetime(\"2002-01-04\")\n",
    "last_day = pd.to_datetime(\"2003-02-28\")\n",
    "# last_day = pd.to_datetime(\"1996-05-01\")\n",
    "\n",
    "# Clean data\n",
    "od = load_clean_lib.clean_od(od, first_day = first_day, last_day = last_day)"
   ],
   "id": "359da239649e857f",
   "outputs": [],
   "execution_count": 116
  },
  {
   "metadata": {},
   "cell_type": "markdown",
   "source": "## Realized vol calculation",
   "id": "e2d1487c78654497"
  },
  {
   "metadata": {
    "ExecuteTime": {
     "end_time": "2025-03-09T17:47:32.527708Z",
     "start_time": "2025-03-09T17:47:25.450227Z"
    }
   },
   "cell_type": "code",
   "source": "real_vol = vp.calc_realized_var(returns_and_prices, first_day, last_day)",
   "id": "675528472cf103fc",
   "outputs": [],
   "execution_count": 117
  },
  {
   "metadata": {},
   "cell_type": "markdown",
   "source": "### Add FW to options",
   "id": "88aae594a550d46f"
  },
  {
   "metadata": {
    "ExecuteTime": {
     "end_time": "2025-03-09T17:47:46.830775Z",
     "start_time": "2025-03-09T17:47:32.572271Z"
    }
   },
   "cell_type": "code",
   "source": "od = vp.add_FW_to_od(od, FW)",
   "id": "fef74dafe880876f",
   "outputs": [],
   "execution_count": 118
  },
  {
   "metadata": {},
   "cell_type": "markdown",
   "source": "### remove if ITM",
   "id": "35a41ab37ceff9f2"
  },
  {
   "metadata": {
    "ExecuteTime": {
     "end_time": "2025-03-09T17:47:47.201089Z",
     "start_time": "2025-03-09T17:47:46.874272Z"
    }
   },
   "cell_type": "code",
   "source": [
    "od = od.loc[\n",
    "    ((od[\"F\"] < od[\"K\"]) & (od[\"cp_flag\"] == \"C\")) | ((od[\"F\"] > od[\"K\"]) & (od[\"cp_flag\"] == \"P\"))\n",
    "]"
   ],
   "id": "2f24d628d8c86d86",
   "outputs": [],
   "execution_count": 119
  },
  {
   "metadata": {
    "ExecuteTime": {
     "end_time": "2025-03-09T17:47:47.250289Z",
     "start_time": "2025-03-09T17:47:47.247748Z"
    }
   },
   "cell_type": "code",
   "source": "# od = od[od[\"volume\"] > 0]",
   "id": "95da5beb3f9115ff",
   "outputs": [],
   "execution_count": 120
  },
  {
   "metadata": {},
   "cell_type": "markdown",
   "source": "### Add r to options",
   "id": "a823b7d9746a7574"
  },
  {
   "metadata": {
    "ExecuteTime": {
     "end_time": "2025-03-09T17:47:56.491957Z",
     "start_time": "2025-03-09T17:47:47.294594Z"
    }
   },
   "cell_type": "code",
   "source": "od = vp.add_r_to_od_parallel(od, ZCY_curves)",
   "id": "e86434d7e845e4",
   "outputs": [],
   "execution_count": 121
  },
  {
   "metadata": {},
   "cell_type": "markdown",
   "source": "## Add low/high and create summary (Filters dataset for criteria such as min 3 strikes ... min 8 days...)",
   "id": "882f21fd7684be2c"
  },
  {
   "metadata": {
    "ExecuteTime": {
     "end_time": "2025-03-09T17:48:10.764638Z",
     "start_time": "2025-03-09T17:47:56.536104Z"
    }
   },
   "cell_type": "code",
   "source": "od, summary_dly_df = vp.od_filter_and_summary_creater(od)",
   "id": "b161757bbfe26a0a",
   "outputs": [],
   "execution_count": 122
  },
  {
   "metadata": {},
   "cell_type": "markdown",
   "source": "### only keep the lowest (\"low\") and the second lowest (\"high\") TTMs",
   "id": "d05f2b91ee9ea66"
  },
  {
   "metadata": {
    "ExecuteTime": {
     "end_time": "2025-03-09T17:48:10.871369Z",
     "start_time": "2025-03-09T17:48:10.810697Z"
    }
   },
   "cell_type": "code",
   "source": "od_rdy = od[(od[\"low\"] == True) | (od[\"high\"] == True)]",
   "id": "a61ff212175a2f20",
   "outputs": [],
   "execution_count": 123
  },
  {
   "metadata": {},
   "cell_type": "markdown",
   "source": "## Calculate swap rate",
   "id": "7e0cf2e381c13ddb"
  },
  {
   "metadata": {
    "ExecuteTime": {
     "end_time": "2025-03-09T17:48:35.946944Z",
     "start_time": "2025-03-09T17:48:10.916605Z"
    }
   },
   "cell_type": "code",
   "source": "summary_dly_df = vp.fill_swap_rates(summary_dly_df, od_rdy, n_points=200)",
   "id": "47ea2a937873d21e",
   "outputs": [
    {
     "name": "stderr",
     "output_type": "stream",
     "text": [
      "Processing Groups: 100%|██████████| 26686/26686 [00:15<00:00, 1737.16it/s]\n"
     ]
    }
   ],
   "execution_count": 124
  },
  {
   "metadata": {},
   "cell_type": "markdown",
   "source": "## Save/Load CSV",
   "id": "d501811662239747"
  },
  {
   "metadata": {
    "ExecuteTime": {
     "end_time": "2025-03-09T17:48:35.995277Z",
     "start_time": "2025-03-09T17:48:35.992292Z"
    }
   },
   "cell_type": "code",
   "source": [
    "# # Save\n",
    "# date_str = datetime.now().strftime(\"%Y-%m_%d_%H-%M\")\n",
    "# summary_dly_df.to_csv(f\"data/summary_dly_df {date_str}.csv\")\n",
    "# od_rdy.to_csv(f\"data/od_rdy {date_str}.csv\")\n",
    "\n",
    "# # Load\n",
    "# summary_dly_df = pd.read_csv(f\"data/summary_dly_df {date_str}.csv\")\n",
    "# od_rdy = pd.read_csv(f\"data/od_rdy {date_str}.csv\")"
   ],
   "id": "80e437eabf45bdae",
   "outputs": [],
   "execution_count": 125
  },
  {
   "metadata": {},
   "cell_type": "markdown",
   "source": "## Keep only active days, and take average for table (just overview)",
   "id": "ec121bd16e0f91b8"
  },
  {
   "metadata": {
    "ExecuteTime": {
     "end_time": "2025-03-09T17:48:36.055723Z",
     "start_time": "2025-03-09T17:48:36.040242Z"
    }
   },
   "cell_type": "code",
   "source": [
    "# Select only the numeric columns in the DataFrame.\n",
    "numeric_cols = summary_dly_df.select_dtypes(include=[np.number]).columns\n",
    "\n",
    "# Filter rows where \"low SW\" is not NaN, group by \"Ticker\", and calculate the mean for numeric columns.\n",
    "filtered_df = summary_dly_df[summary_dly_df[\"Active\"] == True]\n",
    "avg_by_ticker = filtered_df.groupby(\"Ticker\")[numeric_cols].mean()\n",
    "avg_by_ticker"
   ],
   "id": "99b8766447c8074a",
   "outputs": [
    {
     "data": {
      "text/plain": [
       "           #days   low days  high days     low #K    high #K         #K  \\\n",
       "Ticker                                                                    \n",
       "AMZN    4.033307  23.758128  62.854877  11.880254  15.962728  13.921491   \n",
       "DJX     5.850295  23.362832  53.561947  17.850295  18.008850  17.929572   \n",
       "GE      4.591778  23.635785  61.432542   5.697742   7.723798   6.710770   \n",
       "IBM     4.106229  23.354839  62.072859   9.722469  12.868743  11.295606   \n",
       "MSFT    4.105673  23.356507  62.078420   8.860400  12.284205  10.572303   \n",
       "NDX     4.696835  23.337590  53.949473  37.039423  36.615769  36.827596   \n",
       "OEX     4.479178  23.337590  53.588007  33.555802  30.267074  31.911438   \n",
       "SPX     5.829539  23.337590  53.603554  33.886174  29.960022  31.923098   \n",
       "\n",
       "          low SW   high SW        SW  \n",
       "Ticker                                \n",
       "AMZN    1.006674  0.980833  1.018289  \n",
       "DJX     0.065117  0.067193  0.065274  \n",
       "GE      0.127272  0.121146  0.124286  \n",
       "IBM     0.163329  0.151445  0.159358  \n",
       "MSFT    0.186426  0.179673  0.184420  \n",
       "NDX     0.176892  0.173006  0.175524  \n",
       "OEX     0.060220  0.061311  0.060750  \n",
       "SPX     0.058093  0.058616  0.058229  "
      ],
      "text/html": [
       "<div>\n",
       "<style scoped>\n",
       "    .dataframe tbody tr th:only-of-type {\n",
       "        vertical-align: middle;\n",
       "    }\n",
       "\n",
       "    .dataframe tbody tr th {\n",
       "        vertical-align: top;\n",
       "    }\n",
       "\n",
       "    .dataframe thead th {\n",
       "        text-align: right;\n",
       "    }\n",
       "</style>\n",
       "<table border=\"1\" class=\"dataframe\">\n",
       "  <thead>\n",
       "    <tr style=\"text-align: right;\">\n",
       "      <th></th>\n",
       "      <th>#days</th>\n",
       "      <th>low days</th>\n",
       "      <th>high days</th>\n",
       "      <th>low #K</th>\n",
       "      <th>high #K</th>\n",
       "      <th>#K</th>\n",
       "      <th>low SW</th>\n",
       "      <th>high SW</th>\n",
       "      <th>SW</th>\n",
       "    </tr>\n",
       "    <tr>\n",
       "      <th>Ticker</th>\n",
       "      <th></th>\n",
       "      <th></th>\n",
       "      <th></th>\n",
       "      <th></th>\n",
       "      <th></th>\n",
       "      <th></th>\n",
       "      <th></th>\n",
       "      <th></th>\n",
       "      <th></th>\n",
       "    </tr>\n",
       "  </thead>\n",
       "  <tbody>\n",
       "    <tr>\n",
       "      <th>AMZN</th>\n",
       "      <td>4.033307</td>\n",
       "      <td>23.758128</td>\n",
       "      <td>62.854877</td>\n",
       "      <td>11.880254</td>\n",
       "      <td>15.962728</td>\n",
       "      <td>13.921491</td>\n",
       "      <td>1.006674</td>\n",
       "      <td>0.980833</td>\n",
       "      <td>1.018289</td>\n",
       "    </tr>\n",
       "    <tr>\n",
       "      <th>DJX</th>\n",
       "      <td>5.850295</td>\n",
       "      <td>23.362832</td>\n",
       "      <td>53.561947</td>\n",
       "      <td>17.850295</td>\n",
       "      <td>18.008850</td>\n",
       "      <td>17.929572</td>\n",
       "      <td>0.065117</td>\n",
       "      <td>0.067193</td>\n",
       "      <td>0.065274</td>\n",
       "    </tr>\n",
       "    <tr>\n",
       "      <th>GE</th>\n",
       "      <td>4.591778</td>\n",
       "      <td>23.635785</td>\n",
       "      <td>61.432542</td>\n",
       "      <td>5.697742</td>\n",
       "      <td>7.723798</td>\n",
       "      <td>6.710770</td>\n",
       "      <td>0.127272</td>\n",
       "      <td>0.121146</td>\n",
       "      <td>0.124286</td>\n",
       "    </tr>\n",
       "    <tr>\n",
       "      <th>IBM</th>\n",
       "      <td>4.106229</td>\n",
       "      <td>23.354839</td>\n",
       "      <td>62.072859</td>\n",
       "      <td>9.722469</td>\n",
       "      <td>12.868743</td>\n",
       "      <td>11.295606</td>\n",
       "      <td>0.163329</td>\n",
       "      <td>0.151445</td>\n",
       "      <td>0.159358</td>\n",
       "    </tr>\n",
       "    <tr>\n",
       "      <th>MSFT</th>\n",
       "      <td>4.105673</td>\n",
       "      <td>23.356507</td>\n",
       "      <td>62.078420</td>\n",
       "      <td>8.860400</td>\n",
       "      <td>12.284205</td>\n",
       "      <td>10.572303</td>\n",
       "      <td>0.186426</td>\n",
       "      <td>0.179673</td>\n",
       "      <td>0.184420</td>\n",
       "    </tr>\n",
       "    <tr>\n",
       "      <th>NDX</th>\n",
       "      <td>4.696835</td>\n",
       "      <td>23.337590</td>\n",
       "      <td>53.949473</td>\n",
       "      <td>37.039423</td>\n",
       "      <td>36.615769</td>\n",
       "      <td>36.827596</td>\n",
       "      <td>0.176892</td>\n",
       "      <td>0.173006</td>\n",
       "      <td>0.175524</td>\n",
       "    </tr>\n",
       "    <tr>\n",
       "      <th>OEX</th>\n",
       "      <td>4.479178</td>\n",
       "      <td>23.337590</td>\n",
       "      <td>53.588007</td>\n",
       "      <td>33.555802</td>\n",
       "      <td>30.267074</td>\n",
       "      <td>31.911438</td>\n",
       "      <td>0.060220</td>\n",
       "      <td>0.061311</td>\n",
       "      <td>0.060750</td>\n",
       "    </tr>\n",
       "    <tr>\n",
       "      <th>SPX</th>\n",
       "      <td>5.829539</td>\n",
       "      <td>23.337590</td>\n",
       "      <td>53.603554</td>\n",
       "      <td>33.886174</td>\n",
       "      <td>29.960022</td>\n",
       "      <td>31.923098</td>\n",
       "      <td>0.058093</td>\n",
       "      <td>0.058616</td>\n",
       "      <td>0.058229</td>\n",
       "    </tr>\n",
       "  </tbody>\n",
       "</table>\n",
       "</div>"
      ]
     },
     "execution_count": 126,
     "metadata": {},
     "output_type": "execute_result"
    }
   ],
   "execution_count": 126
  },
  {
   "metadata": {},
   "cell_type": "markdown",
   "source": "# Replications of Carr & Wu 2009 Tables",
   "id": "96147c356ef0664e"
  },
  {
   "metadata": {},
   "cell_type": "markdown",
   "source": "### Merge Realized Vol onto Variance Premium",
   "id": "4d3936423de9bd7e"
  },
  {
   "metadata": {
    "ExecuteTime": {
     "end_time": "2025-03-09T17:51:10.512714Z",
     "start_time": "2025-03-09T17:51:10.509289Z"
    }
   },
   "cell_type": "code",
   "source": [
    "# Reset index so that 'Date' and 'Ticker' become columns\n",
    "summary_dly_df_reset = summary_dly_df.reset_index()\n",
    "\n",
    "# Merge by specifying left_on and right_on keys\n",
    "merged_df = summary_dly_df_reset.merge(\n",
    "    real_vol[['date', 'ticker', 'RV', 'open']],\n",
    "    left_on=['Date', 'Ticker'],\n",
    "    right_on=['date', 'ticker'],\n",
    "    how='left'\n",
    ")\n",
    "\n",
    "# Optionally, set the index back to ['Date', 'Ticker']\n",
    "summary_dly_df = merged_df.set_index(['Date', 'Ticker'])\n",
    "summary_dly_df = summary_dly_df.reset_index()"
   ],
   "id": "c96c222646fb8bfd",
   "outputs": [],
   "execution_count": 144
  },
  {
   "metadata": {},
   "cell_type": "markdown",
   "source": "## Table 1 (Aktive dage)",
   "id": "188422742f858b74"
  },
  {
   "metadata": {
    "ExecuteTime": {
     "end_time": "2025-03-09T18:03:24.896710Z",
     "start_time": "2025-03-09T18:03:24.887258Z"
    }
   },
   "cell_type": "code",
   "source": [
    "importlib.reload(vp)\n",
    "importlib.reload(load_clean_lib)\n",
    "importlib.reload(table_lib)"
   ],
   "id": "dc194fe1c76f1fe2",
   "outputs": [
    {
     "data": {
      "text/plain": [
       "<module 'table_lib' from 'D:\\\\Professionelt\\\\Code\\\\volpy\\\\table_lib.py'>"
      ]
     },
     "execution_count": 168,
     "metadata": {},
     "output_type": "execute_result"
    }
   ],
   "execution_count": 168
  },
  {
   "metadata": {
    "ExecuteTime": {
     "end_time": "2025-03-09T18:03:30.181409Z",
     "start_time": "2025-03-09T18:03:30.161397Z"
    }
   },
   "cell_type": "code",
   "source": [
    "importlib.reload(table_lib)\n",
    "table_lib.CarrWu2009_table_1(summary_dly_df, print_latex = True)"
   ],
   "id": "d08daf8f63ef4e33",
   "outputs": [
    {
     "name": "stdout",
     "output_type": "stream",
     "text": [
      "\\begin{tabular}{lllrr}\n",
      "\\toprule\n",
      "Ticker & Starting date & Ending date & N & NK \\\\\n",
      "\\midrule\n",
      "SPX & 04-Jan-1996 & 28-Feb-2003 & 1801 & 31.92 \\\\\n",
      "OEX & 04-Jan-1996 & 28-Feb-2003 & 1801 & 31.91 \\\\\n",
      "DJX & 06-Oct-1997 & 28-Feb-2003 & 1356 & 17.93 \\\\\n",
      "NDX & 04-Jan-1996 & 28-Feb-2003 & 1801 & 36.83 \\\\\n",
      "MSFT & 04-Jan-1996 & 28-Feb-2003 & 1798 & 10.57 \\\\\n",
      "IBM & 04-Jan-1996 & 28-Feb-2003 & 1798 & 11.30 \\\\\n",
      "GE & 08-Jan-1996 & 28-Feb-2003 & 1727 & 6.71 \\\\\n",
      "AMZN & 20-Nov-1997 & 28-Feb-2003 & 1261 & 13.92 \\\\\n",
      "\\bottomrule\n",
      "\\end{tabular}\n",
      "\n"
     ]
    },
    {
     "data": {
      "text/plain": [
       "  Ticker Starting_date  Ending_date     N         NK\n",
       "7    SPX   04-Jan-1996  28-Feb-2003  1801  31.923098\n",
       "6    OEX   04-Jan-1996  28-Feb-2003  1801  31.911438\n",
       "1    DJX   06-Oct-1997  28-Feb-2003  1356  17.929572\n",
       "5    NDX   04-Jan-1996  28-Feb-2003  1801  36.827596\n",
       "4   MSFT   04-Jan-1996  28-Feb-2003  1798  10.572303\n",
       "3    IBM   04-Jan-1996  28-Feb-2003  1798  11.295606\n",
       "2     GE   08-Jan-1996  28-Feb-2003  1727   6.710770\n",
       "0   AMZN   20-Nov-1997  28-Feb-2003  1261  13.921491"
      ],
      "text/html": [
       "<div>\n",
       "<style scoped>\n",
       "    .dataframe tbody tr th:only-of-type {\n",
       "        vertical-align: middle;\n",
       "    }\n",
       "\n",
       "    .dataframe tbody tr th {\n",
       "        vertical-align: top;\n",
       "    }\n",
       "\n",
       "    .dataframe thead th {\n",
       "        text-align: right;\n",
       "    }\n",
       "</style>\n",
       "<table border=\"1\" class=\"dataframe\">\n",
       "  <thead>\n",
       "    <tr style=\"text-align: right;\">\n",
       "      <th></th>\n",
       "      <th>Ticker</th>\n",
       "      <th>Starting_date</th>\n",
       "      <th>Ending_date</th>\n",
       "      <th>N</th>\n",
       "      <th>NK</th>\n",
       "    </tr>\n",
       "  </thead>\n",
       "  <tbody>\n",
       "    <tr>\n",
       "      <th>7</th>\n",
       "      <td>SPX</td>\n",
       "      <td>04-Jan-1996</td>\n",
       "      <td>28-Feb-2003</td>\n",
       "      <td>1801</td>\n",
       "      <td>31.923098</td>\n",
       "    </tr>\n",
       "    <tr>\n",
       "      <th>6</th>\n",
       "      <td>OEX</td>\n",
       "      <td>04-Jan-1996</td>\n",
       "      <td>28-Feb-2003</td>\n",
       "      <td>1801</td>\n",
       "      <td>31.911438</td>\n",
       "    </tr>\n",
       "    <tr>\n",
       "      <th>1</th>\n",
       "      <td>DJX</td>\n",
       "      <td>06-Oct-1997</td>\n",
       "      <td>28-Feb-2003</td>\n",
       "      <td>1356</td>\n",
       "      <td>17.929572</td>\n",
       "    </tr>\n",
       "    <tr>\n",
       "      <th>5</th>\n",
       "      <td>NDX</td>\n",
       "      <td>04-Jan-1996</td>\n",
       "      <td>28-Feb-2003</td>\n",
       "      <td>1801</td>\n",
       "      <td>36.827596</td>\n",
       "    </tr>\n",
       "    <tr>\n",
       "      <th>4</th>\n",
       "      <td>MSFT</td>\n",
       "      <td>04-Jan-1996</td>\n",
       "      <td>28-Feb-2003</td>\n",
       "      <td>1798</td>\n",
       "      <td>10.572303</td>\n",
       "    </tr>\n",
       "    <tr>\n",
       "      <th>3</th>\n",
       "      <td>IBM</td>\n",
       "      <td>04-Jan-1996</td>\n",
       "      <td>28-Feb-2003</td>\n",
       "      <td>1798</td>\n",
       "      <td>11.295606</td>\n",
       "    </tr>\n",
       "    <tr>\n",
       "      <th>2</th>\n",
       "      <td>GE</td>\n",
       "      <td>08-Jan-1996</td>\n",
       "      <td>28-Feb-2003</td>\n",
       "      <td>1727</td>\n",
       "      <td>6.710770</td>\n",
       "    </tr>\n",
       "    <tr>\n",
       "      <th>0</th>\n",
       "      <td>AMZN</td>\n",
       "      <td>20-Nov-1997</td>\n",
       "      <td>28-Feb-2003</td>\n",
       "      <td>1261</td>\n",
       "      <td>13.921491</td>\n",
       "    </tr>\n",
       "  </tbody>\n",
       "</table>\n",
       "</div>"
      ]
     },
     "execution_count": 170,
     "metadata": {},
     "output_type": "execute_result"
    }
   ],
   "execution_count": 170
  },
  {
   "metadata": {},
   "cell_type": "markdown",
   "source": "## Table 2 (SW og RV)",
   "id": "faeeea3ed7d93536"
  },
  {
   "metadata": {
    "ExecuteTime": {
     "end_time": "2025-03-09T18:04:25.042780Z",
     "start_time": "2025-03-09T18:04:25.004899Z"
    }
   },
   "cell_type": "code",
   "source": "table_lib.CarrWu2009_table_2(summary_dly_df, print_latex = True) # , print_latex = True",
   "id": "481be0ccd188c633",
   "outputs": [
    {
     "name": "stdout",
     "output_type": "stream",
     "text": [
      "\\begin{tabular}{lrrrrrrrrrr}\n",
      "\\toprule\n",
      " & \\multicolumn{5}{r}{Panel A: Realized variance, RV×100} & \\multicolumn{5}{r}{Panel B: Variance swap rate, SW×100} \\\\\n",
      "Ticker & Mean & Std. dev. & Auto & Skew & Kurt & Mean & Std. dev. & Auto & Skew & Kurt \\\\\n",
      "\\midrule\n",
      "SPX & 4.10 & 3.36 & 0.80 & 2.11 & 5.10 & 5.82 & 3.18 & 0.79 & 1.81 & 4.15 \\\\\n",
      "OEX & 4.57 & 3.74 & 0.84 & 2.03 & 4.65 & 6.07 & 3.21 & 0.83 & 1.62 & 2.90 \\\\\n",
      "DJX & 4.44 & 3.64 & 0.73 & 2.10 & 4.23 & 6.53 & 3.43 & 0.61 & 1.46 & 8.21 \\\\\n",
      "NDX & 16.46 & 15.68 & 0.88 & 2.51 & 8.17 & 17.55 & 10.82 & 0.93 & 0.99 & 0.37 \\\\\n",
      "MSFT & 16.70 & 13.28 & 0.68 & 2.34 & 6.25 & 18.44 & 9.83 & 0.79 & 2.16 & 6.92 \\\\\n",
      "IBM & 15.07 & 11.13 & 0.72 & 1.73 & 3.42 & 15.94 & 7.83 & 0.77 & 1.88 & 4.40 \\\\\n",
      "GE & 10.98 & 8.66 & 0.83 & 2.15 & 5.75 & 12.43 & 6.94 & 0.87 & 1.28 & 1.74 \\\\\n",
      "AMZN & 92.27 & 60.32 & 0.78 & 1.01 & 0.76 & 101.83 & 55.34 & 0.87 & 1.58 & 2.94 \\\\\n",
      "\\bottomrule\n",
      "\\end{tabular}\n",
      "\n"
     ]
    },
    {
     "data": {
      "text/plain": [
       "  Ticker    Mean_RV     Std_RV   Auto_RV   Skew_RV   Kurt_RV     Mean_SW  \\\n",
       "7    SPX   4.096837   3.364648  0.801873  2.105232  5.104466    5.822859   \n",
       "6    OEX   4.567990   3.743152  0.836468  2.028253  4.654040    6.074986   \n",
       "1    DJX   4.444232   3.641170  0.731719  2.104698  4.232699    6.527394   \n",
       "5    NDX  16.455004  15.682873  0.882505  2.506586  8.170743   17.552373   \n",
       "4   MSFT  16.703479  13.279006  0.683582  2.339520  6.248022   18.442002   \n",
       "3    IBM  15.070294  11.126459  0.720023  1.734372  3.417668   15.935827   \n",
       "2     GE  10.984044   8.655460  0.832538  2.150305  5.747247   12.428584   \n",
       "0   AMZN  92.269480  60.324878  0.782890  1.006889  0.764826  101.828868   \n",
       "\n",
       "      Std_SW   Auto_SW   Skew_SW   Kurt_SW  \n",
       "7   3.181829  0.794188  1.813065  4.149287  \n",
       "6   3.210560  0.827144  1.617449  2.901213  \n",
       "1   3.430674  0.614444  1.455293  8.209319  \n",
       "5  10.816016  0.928520  0.987388  0.371159  \n",
       "4   9.826454  0.789646  2.161156  6.921030  \n",
       "3   7.833802  0.767843  1.877459  4.400490  \n",
       "2   6.936464  0.873766  1.278210  1.743881  \n",
       "0  55.343045  0.871124  1.584801  2.940773  "
      ],
      "text/html": [
       "<div>\n",
       "<style scoped>\n",
       "    .dataframe tbody tr th:only-of-type {\n",
       "        vertical-align: middle;\n",
       "    }\n",
       "\n",
       "    .dataframe tbody tr th {\n",
       "        vertical-align: top;\n",
       "    }\n",
       "\n",
       "    .dataframe thead th {\n",
       "        text-align: right;\n",
       "    }\n",
       "</style>\n",
       "<table border=\"1\" class=\"dataframe\">\n",
       "  <thead>\n",
       "    <tr style=\"text-align: right;\">\n",
       "      <th></th>\n",
       "      <th>Ticker</th>\n",
       "      <th>Mean_RV</th>\n",
       "      <th>Std_RV</th>\n",
       "      <th>Auto_RV</th>\n",
       "      <th>Skew_RV</th>\n",
       "      <th>Kurt_RV</th>\n",
       "      <th>Mean_SW</th>\n",
       "      <th>Std_SW</th>\n",
       "      <th>Auto_SW</th>\n",
       "      <th>Skew_SW</th>\n",
       "      <th>Kurt_SW</th>\n",
       "    </tr>\n",
       "  </thead>\n",
       "  <tbody>\n",
       "    <tr>\n",
       "      <th>7</th>\n",
       "      <td>SPX</td>\n",
       "      <td>4.096837</td>\n",
       "      <td>3.364648</td>\n",
       "      <td>0.801873</td>\n",
       "      <td>2.105232</td>\n",
       "      <td>5.104466</td>\n",
       "      <td>5.822859</td>\n",
       "      <td>3.181829</td>\n",
       "      <td>0.794188</td>\n",
       "      <td>1.813065</td>\n",
       "      <td>4.149287</td>\n",
       "    </tr>\n",
       "    <tr>\n",
       "      <th>6</th>\n",
       "      <td>OEX</td>\n",
       "      <td>4.567990</td>\n",
       "      <td>3.743152</td>\n",
       "      <td>0.836468</td>\n",
       "      <td>2.028253</td>\n",
       "      <td>4.654040</td>\n",
       "      <td>6.074986</td>\n",
       "      <td>3.210560</td>\n",
       "      <td>0.827144</td>\n",
       "      <td>1.617449</td>\n",
       "      <td>2.901213</td>\n",
       "    </tr>\n",
       "    <tr>\n",
       "      <th>1</th>\n",
       "      <td>DJX</td>\n",
       "      <td>4.444232</td>\n",
       "      <td>3.641170</td>\n",
       "      <td>0.731719</td>\n",
       "      <td>2.104698</td>\n",
       "      <td>4.232699</td>\n",
       "      <td>6.527394</td>\n",
       "      <td>3.430674</td>\n",
       "      <td>0.614444</td>\n",
       "      <td>1.455293</td>\n",
       "      <td>8.209319</td>\n",
       "    </tr>\n",
       "    <tr>\n",
       "      <th>5</th>\n",
       "      <td>NDX</td>\n",
       "      <td>16.455004</td>\n",
       "      <td>15.682873</td>\n",
       "      <td>0.882505</td>\n",
       "      <td>2.506586</td>\n",
       "      <td>8.170743</td>\n",
       "      <td>17.552373</td>\n",
       "      <td>10.816016</td>\n",
       "      <td>0.928520</td>\n",
       "      <td>0.987388</td>\n",
       "      <td>0.371159</td>\n",
       "    </tr>\n",
       "    <tr>\n",
       "      <th>4</th>\n",
       "      <td>MSFT</td>\n",
       "      <td>16.703479</td>\n",
       "      <td>13.279006</td>\n",
       "      <td>0.683582</td>\n",
       "      <td>2.339520</td>\n",
       "      <td>6.248022</td>\n",
       "      <td>18.442002</td>\n",
       "      <td>9.826454</td>\n",
       "      <td>0.789646</td>\n",
       "      <td>2.161156</td>\n",
       "      <td>6.921030</td>\n",
       "    </tr>\n",
       "    <tr>\n",
       "      <th>3</th>\n",
       "      <td>IBM</td>\n",
       "      <td>15.070294</td>\n",
       "      <td>11.126459</td>\n",
       "      <td>0.720023</td>\n",
       "      <td>1.734372</td>\n",
       "      <td>3.417668</td>\n",
       "      <td>15.935827</td>\n",
       "      <td>7.833802</td>\n",
       "      <td>0.767843</td>\n",
       "      <td>1.877459</td>\n",
       "      <td>4.400490</td>\n",
       "    </tr>\n",
       "    <tr>\n",
       "      <th>2</th>\n",
       "      <td>GE</td>\n",
       "      <td>10.984044</td>\n",
       "      <td>8.655460</td>\n",
       "      <td>0.832538</td>\n",
       "      <td>2.150305</td>\n",
       "      <td>5.747247</td>\n",
       "      <td>12.428584</td>\n",
       "      <td>6.936464</td>\n",
       "      <td>0.873766</td>\n",
       "      <td>1.278210</td>\n",
       "      <td>1.743881</td>\n",
       "    </tr>\n",
       "    <tr>\n",
       "      <th>0</th>\n",
       "      <td>AMZN</td>\n",
       "      <td>92.269480</td>\n",
       "      <td>60.324878</td>\n",
       "      <td>0.782890</td>\n",
       "      <td>1.006889</td>\n",
       "      <td>0.764826</td>\n",
       "      <td>101.828868</td>\n",
       "      <td>55.343045</td>\n",
       "      <td>0.871124</td>\n",
       "      <td>1.584801</td>\n",
       "      <td>2.940773</td>\n",
       "    </tr>\n",
       "  </tbody>\n",
       "</table>\n",
       "</div>"
      ]
     },
     "execution_count": 173,
     "metadata": {},
     "output_type": "execute_result"
    }
   ],
   "execution_count": 173
  },
  {
   "metadata": {},
   "cell_type": "markdown",
   "source": "## Table 3 (SW - RV og SW/RV)",
   "id": "6e7d4508e253f354"
  },
  {
   "metadata": {
    "ExecuteTime": {
     "end_time": "2025-03-09T18:03:38.185190Z",
     "start_time": "2025-03-09T18:03:38.137107Z"
    }
   },
   "cell_type": "code",
   "source": [
    "importlib.reload(table_lib)\n",
    "table_lib.CarrWu2009_table_3(summary_dly_df, print_latex = True)"
   ],
   "id": "c36feefe28b714a5",
   "outputs": [
    {
     "name": "stdout",
     "output_type": "stream",
     "text": [
      "\\begin{tabular}{lrrrrrrrrrrrr}\n",
      "\\toprule\n",
      " & \\multicolumn{6}{r}{Panel A: (RV - SW) x 100} & \\multicolumn{6}{r}{Panel B: ln(RV / SW)} \\\\\n",
      "Ticker & Mean & Std. dev. & Auto & Skew & Kurt & t & Mean & Std. dev. & Auto & Skew & Kurt & t \\\\\n",
      "\\midrule\n",
      "SPX & -1.73 & 3.04 & 0.72 & 0.22 & 4.03 & -7.00 & -0.49 & 0.54 & 0.74 & 0.31 & -0.00 & -10.81 \\\\\n",
      "OEX & -1.51 & 3.26 & 0.77 & 0.74 & 3.19 & -5.63 & -0.44 & 0.55 & 0.79 & 0.38 & -0.08 & -9.46 \\\\\n",
      "DJX & -2.09 & 3.79 & 0.64 & 0.65 & 7.84 & -6.28 & -0.53 & 0.57 & 0.73 & 0.71 & 0.53 & NaN \\\\\n",
      "NDX & -1.10 & 10.09 & 0.70 & 2.47 & 12.24 & -1.43 & -0.21 & 0.44 & 0.73 & 0.48 & 0.53 & -6.29 \\\\\n",
      "MSFT & -1.74 & 9.99 & 0.51 & 1.83 & 7.12 & -2.34 & -0.22 & 0.48 & 0.60 & 0.06 & 0.57 & -6.15 \\\\\n",
      "IBM & -0.87 & 9.12 & 0.66 & 1.15 & 2.52 & -1.27 & -0.19 & 0.57 & 0.67 & -0.02 & -0.10 & -4.39 \\\\\n",
      "GE & -1.31 & 6.59 & 0.71 & 2.15 & 12.27 & -2.80 & -0.21 & 0.45 & 0.68 & 0.51 & 0.85 & -6.66 \\\\\n",
      "AMZN & -9.18 & 53.71 & 0.70 & 0.44 & 1.74 & -1.79 & -0.20 & 0.56 & 0.72 & 0.05 & -0.15 & -3.45 \\\\\n",
      "\\bottomrule\n",
      "\\end{tabular}\n",
      "\n"
     ]
    },
    {
     "name": "stderr",
     "output_type": "stream",
     "text": [
      "C:\\ProgramData\\anaconda3\\Lib\\site-packages\\pandas\\core\\arraylike.py:399: RuntimeWarning: invalid value encountered in log\n",
      "  result = getattr(ufunc, method)(*inputs, **kwargs)\n"
     ]
    },
    {
     "data": {
      "text/plain": [
       "  Ticker  Mean_diff   Std_diff  Auto_diff  Skew_diff  Kurt_diff    t_diff  \\\n",
       "7    SPX  -1.726022   3.038638   0.719158   0.224609   4.032837 -7.001344   \n",
       "6    OEX  -1.506996   3.259668   0.773874   0.742657   3.187962 -5.627873   \n",
       "1    DJX  -2.085289   3.786799   0.635105   0.648692   7.835276 -6.279278   \n",
       "5    NDX  -1.097369  10.085903   0.700185   2.468369  12.244608 -1.431133   \n",
       "4   MSFT  -1.744507   9.994447   0.508115   1.830105   7.124462 -2.338059   \n",
       "3    IBM  -0.869573   9.115209   0.656524   1.153213   2.519962 -1.266673   \n",
       "2     GE  -1.309596   6.593051   0.713798   2.147570  12.268656 -2.802234   \n",
       "0   AMZN  -9.182990  53.709431   0.695076   0.435074   1.744367 -1.793037   \n",
       "\n",
       "    Mean_ln    Std_ln   Auto_ln   Skew_ln   Kurt_ln       t_ln  \n",
       "7 -0.494814  0.544391  0.737009  0.311612 -0.001852 -10.808633  \n",
       "6 -0.436230  0.546871  0.792233  0.377617 -0.076043  -9.457162  \n",
       "1 -0.527805  0.567047  0.726221  0.705848  0.526587        NaN  \n",
       "5 -0.214685  0.444255  0.730220  0.475855  0.525207  -6.288701  \n",
       "4 -0.221294  0.481739  0.604980  0.061394  0.572602  -6.148073  \n",
       "3 -0.194394  0.567729  0.673305 -0.020205 -0.095763  -4.386986  \n",
       "2 -0.207820  0.448082  0.684016  0.507542  0.845170  -6.660722  \n",
       "0 -0.197041  0.557300  0.723107  0.052333 -0.145504  -3.446732  "
      ],
      "text/html": [
       "<div>\n",
       "<style scoped>\n",
       "    .dataframe tbody tr th:only-of-type {\n",
       "        vertical-align: middle;\n",
       "    }\n",
       "\n",
       "    .dataframe tbody tr th {\n",
       "        vertical-align: top;\n",
       "    }\n",
       "\n",
       "    .dataframe thead th {\n",
       "        text-align: right;\n",
       "    }\n",
       "</style>\n",
       "<table border=\"1\" class=\"dataframe\">\n",
       "  <thead>\n",
       "    <tr style=\"text-align: right;\">\n",
       "      <th></th>\n",
       "      <th>Ticker</th>\n",
       "      <th>Mean_diff</th>\n",
       "      <th>Std_diff</th>\n",
       "      <th>Auto_diff</th>\n",
       "      <th>Skew_diff</th>\n",
       "      <th>Kurt_diff</th>\n",
       "      <th>t_diff</th>\n",
       "      <th>Mean_ln</th>\n",
       "      <th>Std_ln</th>\n",
       "      <th>Auto_ln</th>\n",
       "      <th>Skew_ln</th>\n",
       "      <th>Kurt_ln</th>\n",
       "      <th>t_ln</th>\n",
       "    </tr>\n",
       "  </thead>\n",
       "  <tbody>\n",
       "    <tr>\n",
       "      <th>7</th>\n",
       "      <td>SPX</td>\n",
       "      <td>-1.726022</td>\n",
       "      <td>3.038638</td>\n",
       "      <td>0.719158</td>\n",
       "      <td>0.224609</td>\n",
       "      <td>4.032837</td>\n",
       "      <td>-7.001344</td>\n",
       "      <td>-0.494814</td>\n",
       "      <td>0.544391</td>\n",
       "      <td>0.737009</td>\n",
       "      <td>0.311612</td>\n",
       "      <td>-0.001852</td>\n",
       "      <td>-10.808633</td>\n",
       "    </tr>\n",
       "    <tr>\n",
       "      <th>6</th>\n",
       "      <td>OEX</td>\n",
       "      <td>-1.506996</td>\n",
       "      <td>3.259668</td>\n",
       "      <td>0.773874</td>\n",
       "      <td>0.742657</td>\n",
       "      <td>3.187962</td>\n",
       "      <td>-5.627873</td>\n",
       "      <td>-0.436230</td>\n",
       "      <td>0.546871</td>\n",
       "      <td>0.792233</td>\n",
       "      <td>0.377617</td>\n",
       "      <td>-0.076043</td>\n",
       "      <td>-9.457162</td>\n",
       "    </tr>\n",
       "    <tr>\n",
       "      <th>1</th>\n",
       "      <td>DJX</td>\n",
       "      <td>-2.085289</td>\n",
       "      <td>3.786799</td>\n",
       "      <td>0.635105</td>\n",
       "      <td>0.648692</td>\n",
       "      <td>7.835276</td>\n",
       "      <td>-6.279278</td>\n",
       "      <td>-0.527805</td>\n",
       "      <td>0.567047</td>\n",
       "      <td>0.726221</td>\n",
       "      <td>0.705848</td>\n",
       "      <td>0.526587</td>\n",
       "      <td>NaN</td>\n",
       "    </tr>\n",
       "    <tr>\n",
       "      <th>5</th>\n",
       "      <td>NDX</td>\n",
       "      <td>-1.097369</td>\n",
       "      <td>10.085903</td>\n",
       "      <td>0.700185</td>\n",
       "      <td>2.468369</td>\n",
       "      <td>12.244608</td>\n",
       "      <td>-1.431133</td>\n",
       "      <td>-0.214685</td>\n",
       "      <td>0.444255</td>\n",
       "      <td>0.730220</td>\n",
       "      <td>0.475855</td>\n",
       "      <td>0.525207</td>\n",
       "      <td>-6.288701</td>\n",
       "    </tr>\n",
       "    <tr>\n",
       "      <th>4</th>\n",
       "      <td>MSFT</td>\n",
       "      <td>-1.744507</td>\n",
       "      <td>9.994447</td>\n",
       "      <td>0.508115</td>\n",
       "      <td>1.830105</td>\n",
       "      <td>7.124462</td>\n",
       "      <td>-2.338059</td>\n",
       "      <td>-0.221294</td>\n",
       "      <td>0.481739</td>\n",
       "      <td>0.604980</td>\n",
       "      <td>0.061394</td>\n",
       "      <td>0.572602</td>\n",
       "      <td>-6.148073</td>\n",
       "    </tr>\n",
       "    <tr>\n",
       "      <th>3</th>\n",
       "      <td>IBM</td>\n",
       "      <td>-0.869573</td>\n",
       "      <td>9.115209</td>\n",
       "      <td>0.656524</td>\n",
       "      <td>1.153213</td>\n",
       "      <td>2.519962</td>\n",
       "      <td>-1.266673</td>\n",
       "      <td>-0.194394</td>\n",
       "      <td>0.567729</td>\n",
       "      <td>0.673305</td>\n",
       "      <td>-0.020205</td>\n",
       "      <td>-0.095763</td>\n",
       "      <td>-4.386986</td>\n",
       "    </tr>\n",
       "    <tr>\n",
       "      <th>2</th>\n",
       "      <td>GE</td>\n",
       "      <td>-1.309596</td>\n",
       "      <td>6.593051</td>\n",
       "      <td>0.713798</td>\n",
       "      <td>2.147570</td>\n",
       "      <td>12.268656</td>\n",
       "      <td>-2.802234</td>\n",
       "      <td>-0.207820</td>\n",
       "      <td>0.448082</td>\n",
       "      <td>0.684016</td>\n",
       "      <td>0.507542</td>\n",
       "      <td>0.845170</td>\n",
       "      <td>-6.660722</td>\n",
       "    </tr>\n",
       "    <tr>\n",
       "      <th>0</th>\n",
       "      <td>AMZN</td>\n",
       "      <td>-9.182990</td>\n",
       "      <td>53.709431</td>\n",
       "      <td>0.695076</td>\n",
       "      <td>0.435074</td>\n",
       "      <td>1.744367</td>\n",
       "      <td>-1.793037</td>\n",
       "      <td>-0.197041</td>\n",
       "      <td>0.557300</td>\n",
       "      <td>0.723107</td>\n",
       "      <td>0.052333</td>\n",
       "      <td>-0.145504</td>\n",
       "      <td>-3.446732</td>\n",
       "    </tr>\n",
       "  </tbody>\n",
       "</table>\n",
       "</div>"
      ]
     },
     "execution_count": 172,
     "metadata": {},
     "output_type": "execute_result"
    }
   ],
   "execution_count": 172
  },
  {
   "metadata": {},
   "cell_type": "markdown",
   "source": "## Table 4 (CAPM alpha regression)",
   "id": "7ca229cf94dfb9b7"
  },
  {
   "metadata": {},
   "cell_type": "markdown",
   "source": "## Table 5 (Fama-French alpha regression)",
   "id": "63f0e3c8c20b46c8"
  },
  {
   "metadata": {},
   "cell_type": "markdown",
   "source": "## Table 6 (Constant SW premium test)",
   "id": "140281ded7adf2"
  },
  {
   "metadata": {},
   "cell_type": "markdown",
   "source": "## Table 10 (2 subsamples SW/RV ect.)",
   "id": "286d8768aefefbc1"
  }
 ],
 "metadata": {
  "kernelspec": {
   "display_name": "Python 3",
   "language": "python",
   "name": "python3"
  },
  "language_info": {
   "codemirror_mode": {
    "name": "ipython",
    "version": 2
   },
   "file_extension": ".py",
   "mimetype": "text/x-python",
   "name": "python",
   "nbconvert_exporter": "python",
   "pygments_lexer": "ipython2",
   "version": "2.7.6"
  }
 },
 "nbformat": 4,
 "nbformat_minor": 5
}
