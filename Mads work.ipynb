{
 "cells": [
  {
   "cell_type": "code",
   "id": "initial_id",
   "metadata": {
    "collapsed": true,
    "ExecuteTime": {
     "end_time": "2025-03-13T16:10:30.506574Z",
     "start_time": "2025-03-13T16:10:29.362888Z"
    }
   },
   "source": [
    "from tarfile import data_filter\n",
    "\n",
    "import pandas as pd\n",
    "import numpy as np\n",
    "import importlib\n",
    "from datetime import datetime\n",
    "import matplotlib.pyplot as plt\n",
    "from matplotlib.pyplot import xticks\n",
    "from pandas.core.interchange.dataframe_protocol import DataFrame\n",
    "from pygments.lexer import bygroups\n",
    "\n",
    "import volpy_func_lib as vp\n",
    "import load_clean_lib\n",
    "import table_lib\n",
    "\n",
    "from datetime import datetime\n",
    "from volpy_func_lib import load_forward_price"
   ],
   "outputs": [],
   "execution_count": 1
  },
  {
   "metadata": {
    "ExecuteTime": {
     "end_time": "2025-03-13T16:10:30.516807Z",
     "start_time": "2025-03-13T16:10:30.509074Z"
    }
   },
   "cell_type": "code",
   "source": [
    "importlib.reload(vp)\n",
    "importlib.reload(load_clean_lib)\n",
    "importlib.reload(table_lib)"
   ],
   "id": "40a340a434d78beb",
   "outputs": [
    {
     "data": {
      "text/plain": [
       "<module 'table_lib' from 'D:\\\\Professionelt\\\\Code\\\\volpy\\\\table_lib.py'>"
      ]
     },
     "execution_count": 2,
     "metadata": {},
     "output_type": "execute_result"
    }
   ],
   "execution_count": 2
  },
  {
   "metadata": {
    "ExecuteTime": {
     "end_time": "2025-03-13T16:11:16.505300Z",
     "start_time": "2025-03-13T16:10:30.596806Z"
    }
   },
   "cell_type": "code",
   "source": [
    "IV_types = [\"om\"]\n",
    "data_folder = \"i4s4\"\n",
    "profile = \"Mads\"\n",
    "ticker_list = [\"SPX\", \"OEX\"]\n",
    "\n",
    "# Load data and clean\n",
    "od, returns_and_prices = load_clean_lib.load_clean_and_prepare_od(data_folder = data_folder, profile = profile, tickers = ticker_list, first_day = None, last_day = None)\n",
    "\n",
    "# Calculate results such as SW, RV ect.\n",
    "summary_dly_df, od_rdy = load_clean_lib.create_summary_dly_df(od, returns_and_prices, first_day = None, last_day = None, IV_types = IV_types)"
   ],
   "id": "f4a3ba6f2e839897",
   "outputs": [
    {
     "name": "stderr",
     "output_type": "stream",
     "text": [
      "Processing Groups: 100%|██████████| 7204/7204 [00:08<00:00, 845.62it/s] \n"
     ]
    }
   ],
   "execution_count": 3
  },
  {
   "metadata": {
    "ExecuteTime": {
     "end_time": "2025-03-13T16:11:19.864816Z",
     "start_time": "2025-03-13T16:11:19.859830Z"
    }
   },
   "cell_type": "code",
   "source": [
    "summary_dly_df = summary_dly_df[summary_dly_df[\"SW_0_30\"].notna()]\n",
    "summary_dly_df = summary_dly_df.reset_index()"
   ],
   "id": "dc68d3de8024b3a7",
   "outputs": [],
   "execution_count": 4
  },
  {
   "metadata": {
    "ExecuteTime": {
     "end_time": "2025-03-13T16:11:58.591553Z",
     "start_time": "2025-03-13T16:11:58.588505Z"
    }
   },
   "cell_type": "code",
   "source": [
    "# # Make tables for SW_return_day\n",
    "# table_lib.CarrWu2009_table_1(summary_dly_df, print_latex = False)\n",
    "# table_lib.CarrWu2009_table_2(summary_dly_df, print_latex = False)\n",
    "# table_lib.CarrWu2009_table_3(summary_dly_df, print_latex = False)"
   ],
   "id": "8ae4c56266980f20",
   "outputs": [],
   "execution_count": 6
  },
  {
   "metadata": {},
   "cell_type": "code",
   "outputs": [],
   "execution_count": null,
   "source": "",
   "id": "fdfe238ab98f2306"
  }
 ],
 "metadata": {
  "kernelspec": {
   "display_name": "Python 3",
   "language": "python",
   "name": "python3"
  },
  "language_info": {
   "codemirror_mode": {
    "name": "ipython",
    "version": 2
   },
   "file_extension": ".py",
   "mimetype": "text/x-python",
   "name": "python",
   "nbconvert_exporter": "python",
   "pygments_lexer": "ipython2",
   "version": "2.7.6"
  }
 },
 "nbformat": 4,
 "nbformat_minor": 5
}
