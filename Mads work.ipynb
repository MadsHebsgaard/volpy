{
 "cells": [
  {
   "cell_type": "code",
   "id": "initial_id",
   "metadata": {
    "collapsed": true,
    "ExecuteTime": {
     "end_time": "2025-03-13T17:03:05.124878Z",
     "start_time": "2025-03-13T17:03:05.121691Z"
    }
   },
   "source": [
    "from tarfile import data_filter\n",
    "\n",
    "import pandas as pd\n",
    "import numpy as np\n",
    "import importlib\n",
    "from datetime import datetime\n",
    "import matplotlib.pyplot as plt\n",
    "from matplotlib.pyplot import xticks\n",
    "from pandas.core.interchange.dataframe_protocol import DataFrame\n",
    "from pygments.lexer import bygroups\n",
    "\n",
    "import volpy_func_lib as vp\n",
    "import load_clean_lib\n",
    "import table_lib\n",
    "\n",
    "from datetime import datetime\n",
    "from volpy_func_lib import load_forward_price"
   ],
   "outputs": [],
   "execution_count": 31
  },
  {
   "metadata": {
    "ExecuteTime": {
     "end_time": "2025-03-13T17:03:05.297665Z",
     "start_time": "2025-03-13T17:03:05.289515Z"
    }
   },
   "cell_type": "code",
   "source": [
    "importlib.reload(vp)\n",
    "importlib.reload(load_clean_lib)\n",
    "importlib.reload(table_lib)"
   ],
   "id": "40a340a434d78beb",
   "outputs": [
    {
     "data": {
      "text/plain": [
       "<module 'table_lib' from 'D:\\\\Professionelt\\\\Code\\\\volpy\\\\table_lib.py'>"
      ]
     },
     "execution_count": 32,
     "metadata": {},
     "output_type": "execute_result"
    }
   ],
   "execution_count": 32
  },
  {
   "metadata": {
    "ExecuteTime": {
     "end_time": "2025-03-13T17:03:46.804954Z",
     "start_time": "2025-03-13T17:03:05.436415Z"
    }
   },
   "cell_type": "code",
   "source": [
    "IV_type = \"od\" # od = OptionMetrics IV, \"bid\"/\"ask\"/\"mid\" price\n",
    "data_folder = \"i4s4\"\n",
    "profile = \"Mads\"\n",
    "ticker_list = [\"SPX\", \"OEX\"]\n",
    "\n",
    "# Load data and clean\n",
    "od, returns_and_prices = load_clean_lib.load_clean_and_prepare_od(data_folder = data_folder, profile = profile, tickers = ticker_list, first_day = None, last_day = None, IV_type = IV_type)\n",
    "\n",
    "# Calculate results such as SW, RV ect.\n",
    "summary_dly_df, od_rdy = load_clean_lib.create_summary_dly_df(od, returns_and_prices, first_day = None, last_day = None)"
   ],
   "id": "f4a3ba6f2e839897",
   "outputs": [
    {
     "name": "stderr",
     "output_type": "stream",
     "text": [
      "Processing Groups: 100%|██████████| 7204/7204 [00:05<00:00, 1302.93it/s]\n"
     ]
    }
   ],
   "execution_count": 33
  },
  {
   "metadata": {
    "ExecuteTime": {
     "end_time": "2025-03-13T17:03:46.812840Z",
     "start_time": "2025-03-13T17:03:46.808611Z"
    }
   },
   "cell_type": "code",
   "source": [
    "summary_dly_df = summary_dly_df[summary_dly_df[\"SW_0_30\"].notna()]\n",
    "summary_dly_df = summary_dly_df.reset_index()"
   ],
   "id": "dc68d3de8024b3a7",
   "outputs": [],
   "execution_count": 34
  },
  {
   "metadata": {
    "ExecuteTime": {
     "end_time": "2025-03-13T17:03:46.894746Z",
     "start_time": "2025-03-13T17:03:46.880373Z"
    }
   },
   "cell_type": "code",
   "source": [
    "# # Make tables for SW_return_day\n",
    "table_lib.CarrWu2009_table_1(summary_dly_df, print_latex = False)"
   ],
   "id": "8ae4c56266980f20",
   "outputs": [
    {
     "data": {
      "text/plain": [
       "  ticker Starting_date  Ending_date     N         NK\n",
       "1    SPX   04-Jan-1996  28-Feb-2003  1801  31.923098\n",
       "0    OEX   04-Jan-1996  28-Feb-2003  1801  31.911438"
      ],
      "text/html": [
       "<div>\n",
       "<style scoped>\n",
       "    .dataframe tbody tr th:only-of-type {\n",
       "        vertical-align: middle;\n",
       "    }\n",
       "\n",
       "    .dataframe tbody tr th {\n",
       "        vertical-align: top;\n",
       "    }\n",
       "\n",
       "    .dataframe thead th {\n",
       "        text-align: right;\n",
       "    }\n",
       "</style>\n",
       "<table border=\"1\" class=\"dataframe\">\n",
       "  <thead>\n",
       "    <tr style=\"text-align: right;\">\n",
       "      <th></th>\n",
       "      <th>ticker</th>\n",
       "      <th>Starting_date</th>\n",
       "      <th>Ending_date</th>\n",
       "      <th>N</th>\n",
       "      <th>NK</th>\n",
       "    </tr>\n",
       "  </thead>\n",
       "  <tbody>\n",
       "    <tr>\n",
       "      <th>1</th>\n",
       "      <td>SPX</td>\n",
       "      <td>04-Jan-1996</td>\n",
       "      <td>28-Feb-2003</td>\n",
       "      <td>1801</td>\n",
       "      <td>31.923098</td>\n",
       "    </tr>\n",
       "    <tr>\n",
       "      <th>0</th>\n",
       "      <td>OEX</td>\n",
       "      <td>04-Jan-1996</td>\n",
       "      <td>28-Feb-2003</td>\n",
       "      <td>1801</td>\n",
       "      <td>31.911438</td>\n",
       "    </tr>\n",
       "  </tbody>\n",
       "</table>\n",
       "</div>"
      ]
     },
     "execution_count": 35,
     "metadata": {},
     "output_type": "execute_result"
    }
   ],
   "execution_count": 35
  },
  {
   "metadata": {
    "ExecuteTime": {
     "end_time": "2025-03-13T17:03:46.998647Z",
     "start_time": "2025-03-13T17:03:46.981035Z"
    }
   },
   "cell_type": "code",
   "source": "table_lib.CarrWu2009_table_2(summary_dly_df, print_latex = False)",
   "id": "78d1a4d6081cc969",
   "outputs": [
    {
     "data": {
      "text/plain": [
       "  ticker   Mean_RV    Std_RV   Auto_RV   Skew_RV   Kurt_RV   Mean_SW  \\\n",
       "1    SPX  4.096837  3.364648  0.985650  2.105232  5.104466  5.563502   \n",
       "0    OEX  4.567990  3.743152  0.985535  2.028253  4.654040  6.074694   \n",
       "\n",
       "     Std_SW   Auto_SW   Skew_SW   Kurt_SW  \n",
       "1  3.045250  0.959480  1.811313  4.120164  \n",
       "0  3.203281  0.964629  1.619039  2.906329  "
      ],
      "text/html": [
       "<div>\n",
       "<style scoped>\n",
       "    .dataframe tbody tr th:only-of-type {\n",
       "        vertical-align: middle;\n",
       "    }\n",
       "\n",
       "    .dataframe tbody tr th {\n",
       "        vertical-align: top;\n",
       "    }\n",
       "\n",
       "    .dataframe thead th {\n",
       "        text-align: right;\n",
       "    }\n",
       "</style>\n",
       "<table border=\"1\" class=\"dataframe\">\n",
       "  <thead>\n",
       "    <tr style=\"text-align: right;\">\n",
       "      <th></th>\n",
       "      <th>ticker</th>\n",
       "      <th>Mean_RV</th>\n",
       "      <th>Std_RV</th>\n",
       "      <th>Auto_RV</th>\n",
       "      <th>Skew_RV</th>\n",
       "      <th>Kurt_RV</th>\n",
       "      <th>Mean_SW</th>\n",
       "      <th>Std_SW</th>\n",
       "      <th>Auto_SW</th>\n",
       "      <th>Skew_SW</th>\n",
       "      <th>Kurt_SW</th>\n",
       "    </tr>\n",
       "  </thead>\n",
       "  <tbody>\n",
       "    <tr>\n",
       "      <th>1</th>\n",
       "      <td>SPX</td>\n",
       "      <td>4.096837</td>\n",
       "      <td>3.364648</td>\n",
       "      <td>0.985650</td>\n",
       "      <td>2.105232</td>\n",
       "      <td>5.104466</td>\n",
       "      <td>5.563502</td>\n",
       "      <td>3.045250</td>\n",
       "      <td>0.959480</td>\n",
       "      <td>1.811313</td>\n",
       "      <td>4.120164</td>\n",
       "    </tr>\n",
       "    <tr>\n",
       "      <th>0</th>\n",
       "      <td>OEX</td>\n",
       "      <td>4.567990</td>\n",
       "      <td>3.743152</td>\n",
       "      <td>0.985535</td>\n",
       "      <td>2.028253</td>\n",
       "      <td>4.654040</td>\n",
       "      <td>6.074694</td>\n",
       "      <td>3.203281</td>\n",
       "      <td>0.964629</td>\n",
       "      <td>1.619039</td>\n",
       "      <td>2.906329</td>\n",
       "    </tr>\n",
       "  </tbody>\n",
       "</table>\n",
       "</div>"
      ]
     },
     "execution_count": 36,
     "metadata": {},
     "output_type": "execute_result"
    }
   ],
   "execution_count": 36
  },
  {
   "metadata": {
    "ExecuteTime": {
     "end_time": "2025-03-13T17:03:47.067919Z",
     "start_time": "2025-03-13T17:03:47.048396Z"
    }
   },
   "cell_type": "code",
   "source": "table_lib.CarrWu2009_table_3(summary_dly_df, print_latex = False)",
   "id": "eb4996d4a03a4468",
   "outputs": [
    {
     "data": {
      "text/plain": [
       "  ticker  Mean_diff  Std_diff  Auto_diff  Skew_diff  Kurt_diff    t_diff  \\\n",
       "1    SPX  -1.466665  2.980616   0.945156   0.408180   4.052929 -5.240061   \n",
       "0    OEX  -1.506703  3.255956   0.951872   0.751354   3.197749 -4.858672   \n",
       "\n",
       "    Mean_ln    Std_ln   Auto_ln   Skew_ln   Kurt_ln      t_ln  \n",
       "1 -0.448860  0.543814  0.954314  0.314075 -0.002770 -8.389881  \n",
       "0 -0.436797  0.546782  0.958379  0.377502 -0.075604 -8.028275  "
      ],
      "text/html": [
       "<div>\n",
       "<style scoped>\n",
       "    .dataframe tbody tr th:only-of-type {\n",
       "        vertical-align: middle;\n",
       "    }\n",
       "\n",
       "    .dataframe tbody tr th {\n",
       "        vertical-align: top;\n",
       "    }\n",
       "\n",
       "    .dataframe thead th {\n",
       "        text-align: right;\n",
       "    }\n",
       "</style>\n",
       "<table border=\"1\" class=\"dataframe\">\n",
       "  <thead>\n",
       "    <tr style=\"text-align: right;\">\n",
       "      <th></th>\n",
       "      <th>ticker</th>\n",
       "      <th>Mean_diff</th>\n",
       "      <th>Std_diff</th>\n",
       "      <th>Auto_diff</th>\n",
       "      <th>Skew_diff</th>\n",
       "      <th>Kurt_diff</th>\n",
       "      <th>t_diff</th>\n",
       "      <th>Mean_ln</th>\n",
       "      <th>Std_ln</th>\n",
       "      <th>Auto_ln</th>\n",
       "      <th>Skew_ln</th>\n",
       "      <th>Kurt_ln</th>\n",
       "      <th>t_ln</th>\n",
       "    </tr>\n",
       "  </thead>\n",
       "  <tbody>\n",
       "    <tr>\n",
       "      <th>1</th>\n",
       "      <td>SPX</td>\n",
       "      <td>-1.466665</td>\n",
       "      <td>2.980616</td>\n",
       "      <td>0.945156</td>\n",
       "      <td>0.408180</td>\n",
       "      <td>4.052929</td>\n",
       "      <td>-5.240061</td>\n",
       "      <td>-0.448860</td>\n",
       "      <td>0.543814</td>\n",
       "      <td>0.954314</td>\n",
       "      <td>0.314075</td>\n",
       "      <td>-0.002770</td>\n",
       "      <td>-8.389881</td>\n",
       "    </tr>\n",
       "    <tr>\n",
       "      <th>0</th>\n",
       "      <td>OEX</td>\n",
       "      <td>-1.506703</td>\n",
       "      <td>3.255956</td>\n",
       "      <td>0.951872</td>\n",
       "      <td>0.751354</td>\n",
       "      <td>3.197749</td>\n",
       "      <td>-4.858672</td>\n",
       "      <td>-0.436797</td>\n",
       "      <td>0.546782</td>\n",
       "      <td>0.958379</td>\n",
       "      <td>0.377502</td>\n",
       "      <td>-0.075604</td>\n",
       "      <td>-8.028275</td>\n",
       "    </tr>\n",
       "  </tbody>\n",
       "</table>\n",
       "</div>"
      ]
     },
     "execution_count": 37,
     "metadata": {},
     "output_type": "execute_result"
    }
   ],
   "execution_count": 37
  },
  {
   "metadata": {},
   "cell_type": "code",
   "outputs": [],
   "execution_count": null,
   "source": "",
   "id": "102c16fac6bcd0c8"
  }
 ],
 "metadata": {
  "kernelspec": {
   "display_name": "Python 3",
   "language": "python",
   "name": "python3"
  },
  "language_info": {
   "codemirror_mode": {
    "name": "ipython",
    "version": 2
   },
   "file_extension": ".py",
   "mimetype": "text/x-python",
   "name": "python",
   "nbconvert_exporter": "python",
   "pygments_lexer": "ipython2",
   "version": "2.7.6"
  }
 },
 "nbformat": 4,
 "nbformat_minor": 5
}
