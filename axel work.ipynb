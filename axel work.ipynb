{
 "cells": [
  {
   "cell_type": "code",
   "execution_count": 25,
   "id": "initial_id",
   "metadata": {
    "ExecuteTime": {
     "end_time": "2025-03-13T17:03:05.124878Z",
     "start_time": "2025-03-13T17:03:05.121691Z"
    },
    "collapsed": true
   },
   "outputs": [],
   "source": [
    "from tarfile import data_filter\n",
    "\n",
    "import pandas as pd\n",
    "import numpy as np\n",
    "import importlib\n",
    "from datetime import datetime\n",
    "import matplotlib.pyplot as plt\n",
    "from matplotlib.pyplot import xticks\n",
    "from pandas.core.interchange.dataframe_protocol import DataFrame\n",
    "from pygments.lexer import bygroups\n",
    "\n",
    "import volpy_func_lib as vp\n",
    "import load_clean_lib\n",
    "import table_lib\n",
    "\n",
    "from datetime import datetime\n",
    "from volpy_func_lib import load_forward_price"
   ]
  },
  {
   "cell_type": "code",
   "execution_count": 28,
   "id": "3430b6c9",
   "metadata": {},
   "outputs": [
    {
     "data": {
      "text/html": [
       "<div>\n",
       "<style scoped>\n",
       "    .dataframe tbody tr th:only-of-type {\n",
       "        vertical-align: middle;\n",
       "    }\n",
       "\n",
       "    .dataframe tbody tr th {\n",
       "        vertical-align: top;\n",
       "    }\n",
       "\n",
       "    .dataframe thead th {\n",
       "        text-align: right;\n",
       "    }\n",
       "</style>\n",
       "<table border=\"1\" class=\"dataframe\">\n",
       "  <thead>\n",
       "    <tr style=\"text-align: right;\">\n",
       "      <th></th>\n",
       "      <th>ticker</th>\n",
       "      <th>optionid</th>\n",
       "      <th>date</th>\n",
       "      <th>exdate</th>\n",
       "      <th>cp_flag</th>\n",
       "      <th>K</th>\n",
       "      <th>bid</th>\n",
       "      <th>ask</th>\n",
       "      <th>IV_om</th>\n",
       "      <th>volume</th>\n",
       "      <th>n_trading_day</th>\n",
       "      <th>days</th>\n",
       "    </tr>\n",
       "  </thead>\n",
       "  <tbody>\n",
       "    <tr>\n",
       "      <th>0</th>\n",
       "      <td>NDX</td>\n",
       "      <td>10767859.0</td>\n",
       "      <td>1996-01-04</td>\n",
       "      <td>1996-02-17</td>\n",
       "      <td>P</td>\n",
       "      <td>665.0</td>\n",
       "      <td>95.000</td>\n",
       "      <td>98.000</td>\n",
       "      <td>NaN</td>\n",
       "      <td>0.0</td>\n",
       "      <td>0</td>\n",
       "      <td>44</td>\n",
       "    </tr>\n",
       "    <tr>\n",
       "      <th>1</th>\n",
       "      <td>NDX</td>\n",
       "      <td>10770182.0</td>\n",
       "      <td>1996-01-04</td>\n",
       "      <td>1996-01-20</td>\n",
       "      <td>C</td>\n",
       "      <td>505.0</td>\n",
       "      <td>60.500</td>\n",
       "      <td>63.500</td>\n",
       "      <td>0.437706</td>\n",
       "      <td>0.0</td>\n",
       "      <td>0</td>\n",
       "      <td>16</td>\n",
       "    </tr>\n",
       "    <tr>\n",
       "      <th>2</th>\n",
       "      <td>NDX</td>\n",
       "      <td>10774201.0</td>\n",
       "      <td>1996-01-04</td>\n",
       "      <td>1996-01-20</td>\n",
       "      <td>P</td>\n",
       "      <td>525.0</td>\n",
       "      <td>2.500</td>\n",
       "      <td>3.000</td>\n",
       "      <td>0.338950</td>\n",
       "      <td>0.0</td>\n",
       "      <td>0</td>\n",
       "      <td>16</td>\n",
       "    </tr>\n",
       "    <tr>\n",
       "      <th>3</th>\n",
       "      <td>NDX</td>\n",
       "      <td>10784071.0</td>\n",
       "      <td>1996-01-04</td>\n",
       "      <td>1996-01-20</td>\n",
       "      <td>P</td>\n",
       "      <td>625.0</td>\n",
       "      <td>57.250</td>\n",
       "      <td>60.250</td>\n",
       "      <td>NaN</td>\n",
       "      <td>0.0</td>\n",
       "      <td>0</td>\n",
       "      <td>16</td>\n",
       "    </tr>\n",
       "    <tr>\n",
       "      <th>4</th>\n",
       "      <td>NDX</td>\n",
       "      <td>10798579.0</td>\n",
       "      <td>1996-01-04</td>\n",
       "      <td>1996-02-17</td>\n",
       "      <td>C</td>\n",
       "      <td>515.0</td>\n",
       "      <td>58.250</td>\n",
       "      <td>61.250</td>\n",
       "      <td>0.352929</td>\n",
       "      <td>0.0</td>\n",
       "      <td>0</td>\n",
       "      <td>44</td>\n",
       "    </tr>\n",
       "    <tr>\n",
       "      <th>...</th>\n",
       "      <td>...</td>\n",
       "      <td>...</td>\n",
       "      <td>...</td>\n",
       "      <td>...</td>\n",
       "      <td>...</td>\n",
       "      <td>...</td>\n",
       "      <td>...</td>\n",
       "      <td>...</td>\n",
       "      <td>...</td>\n",
       "      <td>...</td>\n",
       "      <td>...</td>\n",
       "      <td>...</td>\n",
       "    </tr>\n",
       "    <tr>\n",
       "      <th>250238</th>\n",
       "      <td>OEX</td>\n",
       "      <td>10018812.0</td>\n",
       "      <td>1997-02-28</td>\n",
       "      <td>1997-04-19</td>\n",
       "      <td>C</td>\n",
       "      <td>680.0</td>\n",
       "      <td>93.375</td>\n",
       "      <td>94.375</td>\n",
       "      <td>0.257649</td>\n",
       "      <td>1.0</td>\n",
       "      <td>292</td>\n",
       "      <td>50</td>\n",
       "    </tr>\n",
       "    <tr>\n",
       "      <th>250239</th>\n",
       "      <td>OEX</td>\n",
       "      <td>10023082.0</td>\n",
       "      <td>1997-02-28</td>\n",
       "      <td>1997-04-19</td>\n",
       "      <td>P</td>\n",
       "      <td>670.0</td>\n",
       "      <td>2.375</td>\n",
       "      <td>2.625</td>\n",
       "      <td>0.268720</td>\n",
       "      <td>115.0</td>\n",
       "      <td>292</td>\n",
       "      <td>50</td>\n",
       "    </tr>\n",
       "    <tr>\n",
       "      <th>250240</th>\n",
       "      <td>OEX</td>\n",
       "      <td>10023866.0</td>\n",
       "      <td>1997-02-28</td>\n",
       "      <td>1997-04-19</td>\n",
       "      <td>C</td>\n",
       "      <td>690.0</td>\n",
       "      <td>84.125</td>\n",
       "      <td>85.125</td>\n",
       "      <td>0.248714</td>\n",
       "      <td>0.0</td>\n",
       "      <td>292</td>\n",
       "      <td>50</td>\n",
       "    </tr>\n",
       "    <tr>\n",
       "      <th>250241</th>\n",
       "      <td>OEX</td>\n",
       "      <td>10035650.0</td>\n",
       "      <td>1997-02-28</td>\n",
       "      <td>1997-03-22</td>\n",
       "      <td>C</td>\n",
       "      <td>745.0</td>\n",
       "      <td>30.625</td>\n",
       "      <td>31.625</td>\n",
       "      <td>0.215722</td>\n",
       "      <td>16.0</td>\n",
       "      <td>292</td>\n",
       "      <td>22</td>\n",
       "    </tr>\n",
       "    <tr>\n",
       "      <th>250242</th>\n",
       "      <td>OEX</td>\n",
       "      <td>10042150.0</td>\n",
       "      <td>1997-02-28</td>\n",
       "      <td>1997-06-21</td>\n",
       "      <td>C</td>\n",
       "      <td>820.0</td>\n",
       "      <td>14.500</td>\n",
       "      <td>15.250</td>\n",
       "      <td>0.181512</td>\n",
       "      <td>2.0</td>\n",
       "      <td>292</td>\n",
       "      <td>113</td>\n",
       "    </tr>\n",
       "  </tbody>\n",
       "</table>\n",
       "<p>250243 rows × 12 columns</p>\n",
       "</div>"
      ],
      "text/plain": [
       "       ticker    optionid       date     exdate cp_flag      K     bid  \\\n",
       "0         NDX  10767859.0 1996-01-04 1996-02-17       P  665.0  95.000   \n",
       "1         NDX  10770182.0 1996-01-04 1996-01-20       C  505.0  60.500   \n",
       "2         NDX  10774201.0 1996-01-04 1996-01-20       P  525.0   2.500   \n",
       "3         NDX  10784071.0 1996-01-04 1996-01-20       P  625.0  57.250   \n",
       "4         NDX  10798579.0 1996-01-04 1996-02-17       C  515.0  58.250   \n",
       "...       ...         ...        ...        ...     ...    ...     ...   \n",
       "250238    OEX  10018812.0 1997-02-28 1997-04-19       C  680.0  93.375   \n",
       "250239    OEX  10023082.0 1997-02-28 1997-04-19       P  670.0   2.375   \n",
       "250240    OEX  10023866.0 1997-02-28 1997-04-19       C  690.0  84.125   \n",
       "250241    OEX  10035650.0 1997-02-28 1997-03-22       C  745.0  30.625   \n",
       "250242    OEX  10042150.0 1997-02-28 1997-06-21       C  820.0  14.500   \n",
       "\n",
       "           ask     IV_om  volume  n_trading_day  days  \n",
       "0       98.000       NaN     0.0              0    44  \n",
       "1       63.500  0.437706     0.0              0    16  \n",
       "2        3.000  0.338950     0.0              0    16  \n",
       "3       60.250       NaN     0.0              0    16  \n",
       "4       61.250  0.352929     0.0              0    44  \n",
       "...        ...       ...     ...            ...   ...  \n",
       "250238  94.375  0.257649     1.0            292    50  \n",
       "250239   2.625  0.268720   115.0            292    50  \n",
       "250240  85.125  0.248714     0.0            292    50  \n",
       "250241  31.625  0.215722    16.0            292    22  \n",
       "250242  15.250  0.181512     2.0            292   113  \n",
       "\n",
       "[250243 rows x 12 columns]"
      ]
     },
     "execution_count": 28,
     "metadata": {},
     "output_type": "execute_result"
    }
   ],
   "source": [
    "vp.load_option_data(r\"C:\\Users\\axell\\Desktop\\CBS\\data\\OptionMetrics\\i4s4_CW\\option data.csv\")"
   ]
  },
  {
   "cell_type": "code",
   "execution_count": 44,
   "id": "40a340a434d78beb",
   "metadata": {
    "ExecuteTime": {
     "end_time": "2025-03-13T17:03:05.297665Z",
     "start_time": "2025-03-13T17:03:05.289515Z"
    }
   },
   "outputs": [
    {
     "data": {
      "text/plain": [
       "<module 'table_lib' from 'c:\\\\Users\\\\axell\\\\Desktop\\\\CBS\\\\master\\\\volpy\\\\table_lib.py'>"
      ]
     },
     "execution_count": 44,
     "metadata": {},
     "output_type": "execute_result"
    }
   ],
   "source": [
    "importlib.reload(vp)\n",
    "importlib.reload(load_clean_lib)\n",
    "importlib.reload(table_lib)"
   ]
  },
  {
   "cell_type": "code",
   "execution_count": null,
   "id": "c754e03a",
   "metadata": {},
   "outputs": [
    {
     "data": {
      "text/plain": [
       "{'OptionMetrics': WindowsPath('C:/Users/axell/Desktop/CBS/data/OptionMetrics'),\n",
       " 'CarrWu': WindowsPath('C:/Users/axell/Desktop/CBS/data/OptionMetrics/1996-2003 (CarrWu2009)'),\n",
       " 'i4s4': WindowsPath('C:/Users/axell/Desktop/CBS/data/OptionMetrics/1996-2003 (CarrWu2009)/i4s4'),\n",
       " 'i91': WindowsPath('C:/Users/axell/Desktop/CBS/data/OptionMetrics/1996-2003 (CarrWu2009)/i91'),\n",
       " 'US ZOO': WindowsPath('C:/Users/axell/Desktop/CBS/data/OptionMetrics/1996-2003 (CarrWu2009)/US ZOO'),\n",
       " 'i2s1 full': WindowsPath('C:/Users/axell/Desktop/CBS/data/OptionMetrics/1996-2003 (CarrWu2009)/i2s1 full'),\n",
       " 'i4s4_CW': WindowsPath('C:/Users/axell/Desktop/CBS/data/OptionMetrics/i4s4_CW')}"
      ]
     },
     "execution_count": 32,
     "metadata": {},
     "output_type": "execute_result"
    }
   ],
   "source": [
    "load_clean_lib.dirs(\"Axel\") # comments"
   ]
  },
  {
   "cell_type": "code",
   "execution_count": 45,
   "id": "f4a3ba6f2e839897",
   "metadata": {
    "ExecuteTime": {
     "end_time": "2025-03-13T17:03:46.804954Z",
     "start_time": "2025-03-13T17:03:05.436415Z"
    }
   },
   "outputs": [
    {
     "name": "stdout",
     "output_type": "stream",
     "text": [
      "Tilgængelige IV-kolonner i od: ['date', 'exdate', 'cp_flag', 'K', 'bid', 'ask', 'volume', 'IV_om', 'optionid', 'ticker', 'n_trading_day', 'days', 'spread', 'mid', 'F', 'r']\n"
     ]
    },
    {
     "ename": "KeyError",
     "evalue": "'od'",
     "output_type": "error",
     "traceback": [
      "\u001b[1;31m---------------------------------------------------------------------------\u001b[0m",
      "\u001b[1;31mKeyError\u001b[0m                                  Traceback (most recent call last)",
      "File \u001b[1;32mc:\\Users\\axell\\anaconda3\\Lib\\site-packages\\pandas\\core\\indexes\\base.py:3805\u001b[0m, in \u001b[0;36mIndex.get_loc\u001b[1;34m(self, key)\u001b[0m\n\u001b[0;32m   3804\u001b[0m \u001b[38;5;28;01mtry\u001b[39;00m:\n\u001b[1;32m-> 3805\u001b[0m     \u001b[38;5;28;01mreturn\u001b[39;00m \u001b[38;5;28mself\u001b[39m\u001b[38;5;241m.\u001b[39m_engine\u001b[38;5;241m.\u001b[39mget_loc(casted_key)\n\u001b[0;32m   3806\u001b[0m \u001b[38;5;28;01mexcept\u001b[39;00m \u001b[38;5;167;01mKeyError\u001b[39;00m \u001b[38;5;28;01mas\u001b[39;00m err:\n",
      "File \u001b[1;32mindex.pyx:167\u001b[0m, in \u001b[0;36mpandas._libs.index.IndexEngine.get_loc\u001b[1;34m()\u001b[0m\n",
      "File \u001b[1;32mindex.pyx:196\u001b[0m, in \u001b[0;36mpandas._libs.index.IndexEngine.get_loc\u001b[1;34m()\u001b[0m\n",
      "File \u001b[1;32mpandas\\\\_libs\\\\hashtable_class_helper.pxi:7081\u001b[0m, in \u001b[0;36mpandas._libs.hashtable.PyObjectHashTable.get_item\u001b[1;34m()\u001b[0m\n",
      "File \u001b[1;32mpandas\\\\_libs\\\\hashtable_class_helper.pxi:7089\u001b[0m, in \u001b[0;36mpandas._libs.hashtable.PyObjectHashTable.get_item\u001b[1;34m()\u001b[0m\n",
      "\u001b[1;31mKeyError\u001b[0m: 'od'",
      "\nThe above exception was the direct cause of the following exception:\n",
      "\u001b[1;31mKeyError\u001b[0m                                  Traceback (most recent call last)",
      "Cell \u001b[1;32mIn[45], line 7\u001b[0m\n\u001b[0;32m      4\u001b[0m ticker_list \u001b[38;5;241m=\u001b[39m [\u001b[38;5;124m\"\u001b[39m\u001b[38;5;124mSPX\u001b[39m\u001b[38;5;124m\"\u001b[39m,\u001b[38;5;124m\"\u001b[39m\u001b[38;5;124mOEX\u001b[39m\u001b[38;5;124m\"\u001b[39m,\u001b[38;5;124m\"\u001b[39m\u001b[38;5;124mDJX\u001b[39m\u001b[38;5;124m\"\u001b[39m,\u001b[38;5;124m\"\u001b[39m\u001b[38;5;124mNDX\u001b[39m\u001b[38;5;124m\"\u001b[39m,\u001b[38;5;124m\"\u001b[39m\u001b[38;5;124mMSFT\u001b[39m\u001b[38;5;124m\"\u001b[39m,\u001b[38;5;124m\"\u001b[39m\u001b[38;5;124mIBM\u001b[39m\u001b[38;5;124m\"\u001b[39m,\u001b[38;5;124m\"\u001b[39m\u001b[38;5;124mGE\u001b[39m\u001b[38;5;124m\"\u001b[39m,\u001b[38;5;124m\"\u001b[39m\u001b[38;5;124mAMZN\u001b[39m\u001b[38;5;124m\"\u001b[39m]\n\u001b[0;32m      6\u001b[0m \u001b[38;5;66;03m# Load data and clean\u001b[39;00m\n\u001b[1;32m----> 7\u001b[0m od, returns_and_prices \u001b[38;5;241m=\u001b[39m load_clean_lib\u001b[38;5;241m.\u001b[39mload_clean_and_prepare_od(data_folder \u001b[38;5;241m=\u001b[39m data_folder, profile \u001b[38;5;241m=\u001b[39m profile, tickers \u001b[38;5;241m=\u001b[39m ticker_list, first_day \u001b[38;5;241m=\u001b[39m \u001b[38;5;28;01mNone\u001b[39;00m, last_day \u001b[38;5;241m=\u001b[39m \u001b[38;5;28;01mNone\u001b[39;00m, IV_type \u001b[38;5;241m=\u001b[39m IV_type)\n\u001b[0;32m      9\u001b[0m \u001b[38;5;66;03m# Calculate results such as SW, RV ect.\u001b[39;00m\n\u001b[0;32m     10\u001b[0m summary_dly_df, od_rdy \u001b[38;5;241m=\u001b[39m load_clean_lib\u001b[38;5;241m.\u001b[39mcreate_summary_dly_df(od, returns_and_prices, first_day \u001b[38;5;241m=\u001b[39m \u001b[38;5;28;01mNone\u001b[39;00m, last_day \u001b[38;5;241m=\u001b[39m \u001b[38;5;28;01mNone\u001b[39;00m)\n",
      "File \u001b[1;32mc:\\Users\\axell\\Desktop\\CBS\\master\\volpy\\load_clean_lib.py:139\u001b[0m, in \u001b[0;36mload_clean_and_prepare_od\u001b[1;34m(data_folder, profile, tickers, first_day, last_day, IV_type)\u001b[0m\n\u001b[0;32m    134\u001b[0m # od.head(5)\n\u001b[0;32m    135\u001b[0m \n\u001b[0;32m    136\u001b[0m # remove if ITM\n\u001b[0;32m    137\u001b[0m od = od.loc[((od[\"F\"] < od[\"K\"]) & (od[\"cp_flag\"] == \"C\")) | ((od[\"F\"] > od[\"K\"]) & (od[\"cp_flag\"] == \"P\"))]\n\u001b[1;32m--> 139\u001b[0m # add r to options\n\u001b[0;32m    140\u001b[0m od = vp.add_r_to_od_parallel(od, ZCY_curves)\n\u001b[0;32m    142\u001b[0m # add IV to options (bid/ask/mid/om)\n\u001b[0;32m    143\u001b[0m # od[\"IV\"] = vp.add_bid_mid_ask_IV(od, IV_type)\n",
      "File \u001b[1;32mc:\\Users\\axell\\Desktop\\CBS\\master\\volpy\\volpy_func_lib.py:423\u001b[0m, in \u001b[0;36madd_bid_mid_ask_IV\u001b[1;34m(od, IV_type)\u001b[0m\n\u001b[0;32m    421\u001b[0m     \u001b[38;5;28;01mreturn\u001b[39;00m od[\u001b[38;5;124m\"\u001b[39m\u001b[38;5;124mIV_om\u001b[39m\u001b[38;5;124m\"\u001b[39m]\n\u001b[0;32m    422\u001b[0m \u001b[38;5;28;01melse\u001b[39;00m:\n\u001b[1;32m--> 423\u001b[0m     market_price \u001b[38;5;241m=\u001b[39m od[IV_type]\u001b[38;5;241m.\u001b[39mvalues\n\u001b[0;32m    425\u001b[0m \u001b[38;5;66;03m# Prepare the inputs from your DataFrame\u001b[39;00m\n\u001b[0;32m    426\u001b[0m T \u001b[38;5;241m=\u001b[39m od[\u001b[38;5;124m\"\u001b[39m\u001b[38;5;124mdays\u001b[39m\u001b[38;5;124m\"\u001b[39m]\u001b[38;5;241m.\u001b[39mvalues \u001b[38;5;241m/\u001b[39m \u001b[38;5;241m365.0\u001b[39m\n",
      "File \u001b[1;32mc:\\Users\\axell\\anaconda3\\Lib\\site-packages\\pandas\\core\\frame.py:4102\u001b[0m, in \u001b[0;36mDataFrame.__getitem__\u001b[1;34m(self, key)\u001b[0m\n\u001b[0;32m   4100\u001b[0m \u001b[38;5;28;01mif\u001b[39;00m \u001b[38;5;28mself\u001b[39m\u001b[38;5;241m.\u001b[39mcolumns\u001b[38;5;241m.\u001b[39mnlevels \u001b[38;5;241m>\u001b[39m \u001b[38;5;241m1\u001b[39m:\n\u001b[0;32m   4101\u001b[0m     \u001b[38;5;28;01mreturn\u001b[39;00m \u001b[38;5;28mself\u001b[39m\u001b[38;5;241m.\u001b[39m_getitem_multilevel(key)\n\u001b[1;32m-> 4102\u001b[0m indexer \u001b[38;5;241m=\u001b[39m \u001b[38;5;28mself\u001b[39m\u001b[38;5;241m.\u001b[39mcolumns\u001b[38;5;241m.\u001b[39mget_loc(key)\n\u001b[0;32m   4103\u001b[0m \u001b[38;5;28;01mif\u001b[39;00m is_integer(indexer):\n\u001b[0;32m   4104\u001b[0m     indexer \u001b[38;5;241m=\u001b[39m [indexer]\n",
      "File \u001b[1;32mc:\\Users\\axell\\anaconda3\\Lib\\site-packages\\pandas\\core\\indexes\\base.py:3812\u001b[0m, in \u001b[0;36mIndex.get_loc\u001b[1;34m(self, key)\u001b[0m\n\u001b[0;32m   3807\u001b[0m     \u001b[38;5;28;01mif\u001b[39;00m \u001b[38;5;28misinstance\u001b[39m(casted_key, \u001b[38;5;28mslice\u001b[39m) \u001b[38;5;129;01mor\u001b[39;00m (\n\u001b[0;32m   3808\u001b[0m         \u001b[38;5;28misinstance\u001b[39m(casted_key, abc\u001b[38;5;241m.\u001b[39mIterable)\n\u001b[0;32m   3809\u001b[0m         \u001b[38;5;129;01mand\u001b[39;00m \u001b[38;5;28many\u001b[39m(\u001b[38;5;28misinstance\u001b[39m(x, \u001b[38;5;28mslice\u001b[39m) \u001b[38;5;28;01mfor\u001b[39;00m x \u001b[38;5;129;01min\u001b[39;00m casted_key)\n\u001b[0;32m   3810\u001b[0m     ):\n\u001b[0;32m   3811\u001b[0m         \u001b[38;5;28;01mraise\u001b[39;00m InvalidIndexError(key)\n\u001b[1;32m-> 3812\u001b[0m     \u001b[38;5;28;01mraise\u001b[39;00m \u001b[38;5;167;01mKeyError\u001b[39;00m(key) \u001b[38;5;28;01mfrom\u001b[39;00m \u001b[38;5;21;01merr\u001b[39;00m\n\u001b[0;32m   3813\u001b[0m \u001b[38;5;28;01mexcept\u001b[39;00m \u001b[38;5;167;01mTypeError\u001b[39;00m:\n\u001b[0;32m   3814\u001b[0m     \u001b[38;5;66;03m# If we have a listlike key, _check_indexing_error will raise\u001b[39;00m\n\u001b[0;32m   3815\u001b[0m     \u001b[38;5;66;03m#  InvalidIndexError. Otherwise we fall through and re-raise\u001b[39;00m\n\u001b[0;32m   3816\u001b[0m     \u001b[38;5;66;03m#  the TypeError.\u001b[39;00m\n\u001b[0;32m   3817\u001b[0m     \u001b[38;5;28mself\u001b[39m\u001b[38;5;241m.\u001b[39m_check_indexing_error(key)\n",
      "\u001b[1;31mKeyError\u001b[0m: 'od'"
     ]
    }
   ],
   "source": [
    "IV_type = \"od\" # od = OptionMetrics IV, \"bid\"/\"ask\"/\"mid\" price\n",
    "data_folder = \"i4s4\"\n",
    "profile = \"Axel\"\n",
    "ticker_list = [\"SPX\",\"OEX\",\"DJX\",\"NDX\",\"MSFT\",\"IBM\",\"GE\",\"AMZN\"]\n",
    "\n",
    "# Load data and clean\n",
    "od, returns_and_prices = load_clean_lib.load_clean_and_prepare_od(data_folder = data_folder, profile = profile, tickers = ticker_list, first_day = None, last_day = None, IV_type = IV_type)\n",
    "\n",
    "# Calculate results such as SW, RV ect.\n",
    "summary_dly_df, od_rdy = load_clean_lib.create_summary_dly_df(od, returns_and_prices, first_day = None, last_day = None)"
   ]
  },
  {
   "cell_type": "code",
   "execution_count": 34,
   "id": "dc68d3de8024b3a7",
   "metadata": {
    "ExecuteTime": {
     "end_time": "2025-03-13T17:03:46.812840Z",
     "start_time": "2025-03-13T17:03:46.808611Z"
    }
   },
   "outputs": [],
   "source": [
    "summary_dly_df = summary_dly_df[summary_dly_df[\"SW_0_30\"].notna()]\n",
    "summary_dly_df = summary_dly_df.reset_index()"
   ]
  },
  {
   "cell_type": "code",
   "execution_count": 35,
   "id": "8ae4c56266980f20",
   "metadata": {
    "ExecuteTime": {
     "end_time": "2025-03-13T17:03:46.894746Z",
     "start_time": "2025-03-13T17:03:46.880373Z"
    }
   },
   "outputs": [
    {
     "data": {
      "text/html": [
       "<div>\n",
       "<style scoped>\n",
       "    .dataframe tbody tr th:only-of-type {\n",
       "        vertical-align: middle;\n",
       "    }\n",
       "\n",
       "    .dataframe tbody tr th {\n",
       "        vertical-align: top;\n",
       "    }\n",
       "\n",
       "    .dataframe thead th {\n",
       "        text-align: right;\n",
       "    }\n",
       "</style>\n",
       "<table border=\"1\" class=\"dataframe\">\n",
       "  <thead>\n",
       "    <tr style=\"text-align: right;\">\n",
       "      <th></th>\n",
       "      <th>ticker</th>\n",
       "      <th>Starting_date</th>\n",
       "      <th>Ending_date</th>\n",
       "      <th>N</th>\n",
       "      <th>NK</th>\n",
       "    </tr>\n",
       "  </thead>\n",
       "  <tbody>\n",
       "    <tr>\n",
       "      <th>1</th>\n",
       "      <td>SPX</td>\n",
       "      <td>04-Jan-1996</td>\n",
       "      <td>28-Feb-2003</td>\n",
       "      <td>1801</td>\n",
       "      <td>31.923098</td>\n",
       "    </tr>\n",
       "    <tr>\n",
       "      <th>0</th>\n",
       "      <td>OEX</td>\n",
       "      <td>04-Jan-1996</td>\n",
       "      <td>28-Feb-2003</td>\n",
       "      <td>1801</td>\n",
       "      <td>31.911438</td>\n",
       "    </tr>\n",
       "  </tbody>\n",
       "</table>\n",
       "</div>"
      ],
      "text/plain": [
       "  ticker Starting_date  Ending_date     N         NK\n",
       "1    SPX   04-Jan-1996  28-Feb-2003  1801  31.923098\n",
       "0    OEX   04-Jan-1996  28-Feb-2003  1801  31.911438"
      ]
     },
     "execution_count": 35,
     "metadata": {},
     "output_type": "execute_result"
    }
   ],
   "source": [
    "# # Make tables for SW_return_day\n",
    "table_lib.CarrWu2009_table_1(summary_dly_df, print_latex = False)"
   ]
  },
  {
   "cell_type": "code",
   "execution_count": 36,
   "id": "78d1a4d6081cc969",
   "metadata": {
    "ExecuteTime": {
     "end_time": "2025-03-13T17:03:46.998647Z",
     "start_time": "2025-03-13T17:03:46.981035Z"
    }
   },
   "outputs": [
    {
     "data": {
      "text/html": [
       "<div>\n",
       "<style scoped>\n",
       "    .dataframe tbody tr th:only-of-type {\n",
       "        vertical-align: middle;\n",
       "    }\n",
       "\n",
       "    .dataframe tbody tr th {\n",
       "        vertical-align: top;\n",
       "    }\n",
       "\n",
       "    .dataframe thead th {\n",
       "        text-align: right;\n",
       "    }\n",
       "</style>\n",
       "<table border=\"1\" class=\"dataframe\">\n",
       "  <thead>\n",
       "    <tr style=\"text-align: right;\">\n",
       "      <th></th>\n",
       "      <th>ticker</th>\n",
       "      <th>Mean_RV</th>\n",
       "      <th>Std_RV</th>\n",
       "      <th>Auto_RV</th>\n",
       "      <th>Skew_RV</th>\n",
       "      <th>Kurt_RV</th>\n",
       "      <th>Mean_SW</th>\n",
       "      <th>Std_SW</th>\n",
       "      <th>Auto_SW</th>\n",
       "      <th>Skew_SW</th>\n",
       "      <th>Kurt_SW</th>\n",
       "    </tr>\n",
       "  </thead>\n",
       "  <tbody>\n",
       "    <tr>\n",
       "      <th>1</th>\n",
       "      <td>SPX</td>\n",
       "      <td>4.096837</td>\n",
       "      <td>3.364648</td>\n",
       "      <td>0.985650</td>\n",
       "      <td>2.105232</td>\n",
       "      <td>5.104466</td>\n",
       "      <td>5.563502</td>\n",
       "      <td>3.045250</td>\n",
       "      <td>0.959480</td>\n",
       "      <td>1.811313</td>\n",
       "      <td>4.120164</td>\n",
       "    </tr>\n",
       "    <tr>\n",
       "      <th>0</th>\n",
       "      <td>OEX</td>\n",
       "      <td>4.567990</td>\n",
       "      <td>3.743152</td>\n",
       "      <td>0.985535</td>\n",
       "      <td>2.028253</td>\n",
       "      <td>4.654040</td>\n",
       "      <td>6.074694</td>\n",
       "      <td>3.203281</td>\n",
       "      <td>0.964629</td>\n",
       "      <td>1.619039</td>\n",
       "      <td>2.906329</td>\n",
       "    </tr>\n",
       "  </tbody>\n",
       "</table>\n",
       "</div>"
      ],
      "text/plain": [
       "  ticker   Mean_RV    Std_RV   Auto_RV   Skew_RV   Kurt_RV   Mean_SW  \\\n",
       "1    SPX  4.096837  3.364648  0.985650  2.105232  5.104466  5.563502   \n",
       "0    OEX  4.567990  3.743152  0.985535  2.028253  4.654040  6.074694   \n",
       "\n",
       "     Std_SW   Auto_SW   Skew_SW   Kurt_SW  \n",
       "1  3.045250  0.959480  1.811313  4.120164  \n",
       "0  3.203281  0.964629  1.619039  2.906329  "
      ]
     },
     "execution_count": 36,
     "metadata": {},
     "output_type": "execute_result"
    }
   ],
   "source": [
    "table_lib.CarrWu2009_table_2(summary_dly_df, print_latex = False)"
   ]
  },
  {
   "cell_type": "code",
   "execution_count": 37,
   "id": "eb4996d4a03a4468",
   "metadata": {
    "ExecuteTime": {
     "end_time": "2025-03-13T17:03:47.067919Z",
     "start_time": "2025-03-13T17:03:47.048396Z"
    }
   },
   "outputs": [
    {
     "data": {
      "text/html": [
       "<div>\n",
       "<style scoped>\n",
       "    .dataframe tbody tr th:only-of-type {\n",
       "        vertical-align: middle;\n",
       "    }\n",
       "\n",
       "    .dataframe tbody tr th {\n",
       "        vertical-align: top;\n",
       "    }\n",
       "\n",
       "    .dataframe thead th {\n",
       "        text-align: right;\n",
       "    }\n",
       "</style>\n",
       "<table border=\"1\" class=\"dataframe\">\n",
       "  <thead>\n",
       "    <tr style=\"text-align: right;\">\n",
       "      <th></th>\n",
       "      <th>ticker</th>\n",
       "      <th>Mean_diff</th>\n",
       "      <th>Std_diff</th>\n",
       "      <th>Auto_diff</th>\n",
       "      <th>Skew_diff</th>\n",
       "      <th>Kurt_diff</th>\n",
       "      <th>t_diff</th>\n",
       "      <th>Mean_ln</th>\n",
       "      <th>Std_ln</th>\n",
       "      <th>Auto_ln</th>\n",
       "      <th>Skew_ln</th>\n",
       "      <th>Kurt_ln</th>\n",
       "      <th>t_ln</th>\n",
       "    </tr>\n",
       "  </thead>\n",
       "  <tbody>\n",
       "    <tr>\n",
       "      <th>1</th>\n",
       "      <td>SPX</td>\n",
       "      <td>-1.466665</td>\n",
       "      <td>2.980616</td>\n",
       "      <td>0.945156</td>\n",
       "      <td>0.408180</td>\n",
       "      <td>4.052929</td>\n",
       "      <td>-5.240061</td>\n",
       "      <td>-0.448860</td>\n",
       "      <td>0.543814</td>\n",
       "      <td>0.954314</td>\n",
       "      <td>0.314075</td>\n",
       "      <td>-0.002770</td>\n",
       "      <td>-8.389881</td>\n",
       "    </tr>\n",
       "    <tr>\n",
       "      <th>0</th>\n",
       "      <td>OEX</td>\n",
       "      <td>-1.506703</td>\n",
       "      <td>3.255956</td>\n",
       "      <td>0.951872</td>\n",
       "      <td>0.751354</td>\n",
       "      <td>3.197749</td>\n",
       "      <td>-4.858672</td>\n",
       "      <td>-0.436797</td>\n",
       "      <td>0.546782</td>\n",
       "      <td>0.958379</td>\n",
       "      <td>0.377502</td>\n",
       "      <td>-0.075604</td>\n",
       "      <td>-8.028275</td>\n",
       "    </tr>\n",
       "  </tbody>\n",
       "</table>\n",
       "</div>"
      ],
      "text/plain": [
       "  ticker  Mean_diff  Std_diff  Auto_diff  Skew_diff  Kurt_diff    t_diff  \\\n",
       "1    SPX  -1.466665  2.980616   0.945156   0.408180   4.052929 -5.240061   \n",
       "0    OEX  -1.506703  3.255956   0.951872   0.751354   3.197749 -4.858672   \n",
       "\n",
       "    Mean_ln    Std_ln   Auto_ln   Skew_ln   Kurt_ln      t_ln  \n",
       "1 -0.448860  0.543814  0.954314  0.314075 -0.002770 -8.389881  \n",
       "0 -0.436797  0.546782  0.958379  0.377502 -0.075604 -8.028275  "
      ]
     },
     "execution_count": 37,
     "metadata": {},
     "output_type": "execute_result"
    }
   ],
   "source": [
    "table_lib.CarrWu2009_table_3(summary_dly_df, print_latex = False)"
   ]
  },
  {
   "cell_type": "code",
   "execution_count": null,
   "id": "102c16fac6bcd0c8",
   "metadata": {},
   "outputs": [],
   "source": []
  }
 ],
 "metadata": {
  "kernelspec": {
   "display_name": "base",
   "language": "python",
   "name": "python3"
  },
  "language_info": {
   "codemirror_mode": {
    "name": "ipython",
    "version": 3
   },
   "file_extension": ".py",
   "mimetype": "text/x-python",
   "name": "python",
   "nbconvert_exporter": "python",
   "pygments_lexer": "ipython3",
   "version": "3.11.5"
  }
 },
 "nbformat": 4,
 "nbformat_minor": 5
}
