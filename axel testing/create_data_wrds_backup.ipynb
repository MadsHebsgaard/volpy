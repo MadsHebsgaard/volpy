{
 "cells": [
  {
   "cell_type": "code",
   "execution_count": 35,
   "metadata": {
    "ExecuteTime": {
     "end_time": "2025-03-29T15:57:57.215953Z",
     "start_time": "2025-03-29T15:57:47.802645Z"
    }
   },
   "outputs": [
    {
     "name": "stdout",
     "output_type": "stream",
     "text": [
      "Loading library list...\n",
      "Done\n"
     ]
    }
   ],
   "source": [
    "import sys\n",
    "import os\n",
    "sys.path.append(os.path.abspath(\"..\"))\n",
    "\n",
    "import pandas as pd\n",
    "import wrds\n",
    "import importlib\n",
    "import volpy_func_lib as vp\n",
    "\n",
    "import wrds_lib as wl\n",
    "import wrds_lib2 as wl2\n",
    "import load_clean_lib\n",
    "\n",
    "importlib.reload(wl)\n",
    "importlib.reload(wl2)\n",
    "importlib.reload(vp)\n",
    "\n",
    "db = wrds.Connection(wrds_username=\"axelledue\") "
   ]
  },
  {
   "cell_type": "code",
   "execution_count": 4,
   "metadata": {},
   "outputs": [
    {
     "data": {
      "text/plain": [
       "<bound method Connection.close of <wrds.sql.Connection object at 0x0000027F786E6190>>"
      ]
     },
     "execution_count": 4,
     "metadata": {},
     "output_type": "execute_result"
    }
   ],
   "source": [
    "db.close"
   ]
  },
  {
   "cell_type": "code",
   "execution_count": 33,
   "metadata": {},
   "outputs": [
    {
     "data": {
      "text/plain": [
       "['ABT',\n",
       " 'C',\n",
       " 'MSFT',\n",
       " 'BA',\n",
       " 'EZA',\n",
       " 'AMZN',\n",
       " 'S',\n",
       " 'BITO',\n",
       " 'LLY',\n",
       " 'DELL',\n",
       " 'EMC',\n",
       " 'IBM',\n",
       " 'MCD',\n",
       " 'RAL',\n",
       " 'DVN',\n",
       " 'HAL',\n",
       " 'INTC',\n",
       " 'GOOG',\n",
       " 'WYE',\n",
       " 'OEF',\n",
       " 'TXN',\n",
       " 'MS',\n",
       " 'TMUS',\n",
       " 'TLT',\n",
       " 'EBAY',\n",
       " 'CMCSK',\n",
       " 'MO',\n",
       " 'EWJ',\n",
       " 'EWZ',\n",
       " 'HYG',\n",
       " 'AEP',\n",
       " 'MMM',\n",
       " 'DIA',\n",
       " 'CL',\n",
       " 'PEP',\n",
       " 'DIS',\n",
       " 'ABBV',\n",
       " 'OEX',\n",
       " 'UBAN',\n",
       " 'TWX',\n",
       " 'F',\n",
       " 'PYPL',\n",
       " 'UIS',\n",
       " 'EEM',\n",
       " 'SLV',\n",
       " 'USB',\n",
       " 'CLB',\n",
       " 'JNJ',\n",
       " 'MDT',\n",
       " 'NYX',\n",
       " 'WMB',\n",
       " 'HPQ',\n",
       " 'GBLX',\n",
       " 'ROK',\n",
       " 'AA',\n",
       " 'HNZ',\n",
       " 'DUK',\n",
       " 'IWM',\n",
       " 'CMCSA',\n",
       " 'INDA',\n",
       " 'XRX',\n",
       " 'LOW',\n",
       " 'ONE',\n",
       " 'PG',\n",
       " 'NSC',\n",
       " 'EMB',\n",
       " 'PARA',\n",
       " 'UPS',\n",
       " 'TIP',\n",
       " 'KHC',\n",
       " 'SBUX',\n",
       " 'JCI',\n",
       " 'RSH',\n",
       " 'BK',\n",
       " 'CVS',\n",
       " 'MET',\n",
       " 'AVGO',\n",
       " 'SLB',\n",
       " 'WBA',\n",
       " 'VNQ',\n",
       " 'AVP',\n",
       " 'ALL',\n",
       " 'COST',\n",
       " 'LMT',\n",
       " 'USO',\n",
       " 'EMR',\n",
       " 'RTX',\n",
       " 'HIG',\n",
       " 'COP',\n",
       " 'RF',\n",
       " 'TOY',\n",
       " 'SCHW',\n",
       " 'NKE',\n",
       " 'OXY',\n",
       " 'HD',\n",
       " 'CAT',\n",
       " 'LQD',\n",
       " 'DAL',\n",
       " 'OMX',\n",
       " 'AAPL',\n",
       " 'GD',\n",
       " 'GOOGL',\n",
       " 'IP',\n",
       " 'FXY',\n",
       " 'CI',\n",
       " 'DE',\n",
       " 'QCOM',\n",
       " 'CEW',\n",
       " 'DOW',\n",
       " 'TGT',\n",
       " 'VGK',\n",
       " 'EWW',\n",
       " 'HCA',\n",
       " 'VZ',\n",
       " 'RTN',\n",
       " 'CVX',\n",
       " 'FXI',\n",
       " 'NFLX',\n",
       " 'CSC',\n",
       " 'BRK',\n",
       " 'GILD',\n",
       " 'MDLZ',\n",
       " 'UNP',\n",
       " 'AMGN',\n",
       " 'EWU',\n",
       " 'JPM',\n",
       " 'IAU',\n",
       " 'UNG',\n",
       " 'BDK',\n",
       " 'COV',\n",
       " 'GM',\n",
       " 'BAX',\n",
       " 'NSM',\n",
       " 'HET',\n",
       " 'TMO',\n",
       " 'FCX',\n",
       " 'AMT',\n",
       " 'UUP',\n",
       " 'CGP',\n",
       " 'CSCO',\n",
       " 'HON',\n",
       " 'WY',\n",
       " 'BAC',\n",
       " 'SPX',\n",
       " 'DD',\n",
       " 'MA',\n",
       " 'MAY',\n",
       " 'BKNG',\n",
       " 'CRM',\n",
       " 'V',\n",
       " 'ENE',\n",
       " 'APC',\n",
       " 'MRK',\n",
       " 'KO',\n",
       " 'NT',\n",
       " 'T',\n",
       " 'COF',\n",
       " 'SPG',\n",
       " 'BNI',\n",
       " 'EP',\n",
       " 'UVXY',\n",
       " 'G',\n",
       " 'AES',\n",
       " 'BMY',\n",
       " 'NOV',\n",
       " 'ORCL',\n",
       " 'EWY',\n",
       " 'GTX',\n",
       " 'BHI',\n",
       " 'HSH',\n",
       " 'META',\n",
       " 'MON',\n",
       " 'PM',\n",
       " 'CHTR',\n",
       " 'TSLA',\n",
       " 'EWC',\n",
       " 'APA',\n",
       " 'ADBE',\n",
       " 'EXC',\n",
       " 'XOM',\n",
       " 'MER',\n",
       " 'WB',\n",
       " 'BUD',\n",
       " 'BIIB',\n",
       " 'AGN',\n",
       " 'DHR',\n",
       " 'NVDA',\n",
       " 'GS',\n",
       " 'CELG',\n",
       " 'SO',\n",
       " 'QQQ',\n",
       " 'LEH',\n",
       " 'UNH',\n",
       " 'PFE',\n",
       " 'AMD',\n",
       " 'SGP',\n",
       " 'NEE',\n",
       " 'FXE',\n",
       " 'AXP',\n",
       " 'FDX',\n",
       " 'KMI',\n",
       " 'WMT',\n",
       " 'ACN',\n",
       " 'GE',\n",
       " 'EWA',\n",
       " 'PNU',\n",
       " 'WFC',\n",
       " 'ETR',\n",
       " 'NXTL',\n",
       " 'AIG',\n",
       " 'LIN',\n",
       " 'CPB',\n",
       " 'ATI',\n",
       " 'SHY']"
      ]
     },
     "execution_count": 33,
     "metadata": {},
     "output_type": "execute_result"
    }
   ],
   "source": [
    "vp.ALL_tickers"
   ]
  },
  {
   "cell_type": "markdown",
   "metadata": {},
   "source": [
    "# create option, forward and return csv files"
   ]
  },
  {
   "cell_type": "code",
   "execution_count": 37,
   "metadata": {},
   "outputs": [
    {
     "name": "stdout",
     "output_type": "stream",
     "text": [
      "Skipping already existing tickers: APT, S, EBAY\n"
     ]
    },
    {
     "name": "stderr",
     "output_type": "stream",
     "text": [
      "Importing option data: 100%|██████████| 1/1 [03:31<00:00, 211.26s/ticker, ticker=GOOG]\n",
      "Importing forward prices: 100%|██████████| 1/1 [00:01<00:00,  1.54s/ticker, ticker=GOOG]\n",
      "Importing stock returns: 100%|██████████| 1/1 [00:00<00:00,  2.33ticker/s, ticker=GOOG]\n"
     ]
    },
    {
     "name": "stdout",
     "output_type": "stream",
     "text": [
      "Importing yield curve data into: C:\\Users\\axell\\Desktop\\CBS\\data\\OptionMetrics\\Tickers\\ZC yield curve.csv\n",
      "Data collected and saved: 72597 rows.\n"
     ]
    }
   ],
   "source": [
    "importlib.reload(wl2)\n",
    "\n",
    "wl2.fetch_wrds_data_per_ticker(db, \n",
    "                               tickers = ['APT', 'S', 'EBAY', 'GOOG'] , #['AAPL','MSFT','TSLA','AMZN','NVDA']\n",
    "                               chunk_size=4000000/2)"
   ]
  },
  {
   "cell_type": "code",
   "execution_count": 6,
   "metadata": {},
   "outputs": [
    {
     "name": "stdout",
     "output_type": "stream",
     "text": [
      "Importing O-data split per 'Y' into folder: C:\\Users\\axell\\Desktop\\CBS\\data\\OptionMetrics\\OEX2\n"
     ]
    },
    {
     "name": "stderr",
     "output_type": "stream",
     "text": [
      "Collecting data: 100%|██████████| 11/11 [2:02:48<00:00, 669.91s/years]\n"
     ]
    },
    {
     "name": "stdout",
     "output_type": "stream",
     "text": [
      "Importing F-data into: C:\\Users\\axell\\Desktop\\CBS\\data\\OptionMetrics\\OEX2\\forward price.csv\n"
     ]
    },
    {
     "name": "stderr",
     "output_type": "stream",
     "text": [
      "Collecting data: 100%|██████████| 11/11 [01:06<00:00,  6.06s/years]\n"
     ]
    },
    {
     "name": "stdout",
     "output_type": "stream",
     "text": [
      "Data collected and saved: 4224523 rows.\n",
      "Importing S-data into: C:\\Users\\axell\\Desktop\\CBS\\data\\OptionMetrics\\OEX2\\returns and stock price.csv\n"
     ]
    },
    {
     "name": "stderr",
     "output_type": "stream",
     "text": [
      "Collecting data: 100%|██████████| 11/11 [00:07<00:00,  1.57years/s]\n"
     ]
    },
    {
     "name": "stdout",
     "output_type": "stream",
     "text": [
      "Data collected and saved: 386872 rows.\n",
      "Importing Z-data into: C:\\Users\\axell\\Desktop\\CBS\\data\\OptionMetrics\\OEX2\\ZC yield curve.csv\n",
      "Data collected and saved: 27893 rows.\n"
     ]
    }
   ],
   "source": [
    "importlib.reload(wl)\n",
    "\n",
    "wl.fetch_wrds_data(\n",
    "    db = db,\n",
    "    folder_name=\"OEX2\",\n",
    "    begdate=\"2013-01-01\", \n",
    "    enddate=\"2024-12-31\", #2024-12-31 2003-02-28\n",
    "    save_per=\"Y\", #None \"Y\" \"M\"\n",
    "    tickers = [\"OEX\", \"OEF\",\"AA\", \"AAPL\", \"ABBV\", \"ABT\", \"ACN\", \"ADBE\", \n",
    "               \"AEP\", \"AES\", \"AGN\", \"AIG\", \"ALL\", \"AMD\", \"AMGN\", \"AMT\", \n",
    "               \"AMZN\", \"APA\", \"APC\", \"ATI\", \"AVGO\", \"AVP\", \"AXP\", \"BA\", \n",
    "               \"BAC\", \"BAX\", \"BDK\", \"BHI\", \"BIIB\", \"BK\", \"BKNG\", \"BMY\", \n",
    "               \"BNI\", \"BRK\", \"BUD\", \"C\", \"CAT\", \"CELG\", \"CGP\", \"CHTR\", \"CI\", \n",
    "               \"CL\", \"CLB\", \"CMCSA\", \"CMCSK\", \"COF\", \"COP\", \"COST\", \"COV\", \n",
    "               \"CPB\", \"CRM\", \"CSC\", \"CSCO\", \"CVS\", \"CVX\", \"DAL\", \"DD\", \"DE\", \n",
    "               \"DELL\", \"DHR\", \"DIS\", \"DOW\", \"DUK\", \"DVN\", \"EBAY\", \"EMC\", \"EMR\", \n",
    "               \"ENE\", \"EP\", \"ETR\", \"EXC\", \"F\", \"FCX\", \"FDX\", \"G\", \"GBLX\", \"GD\", \n",
    "               \"GE\", \"GILD\", \"GM\", \"GOOG\", \"GOOGL\", \"GS\", \"GTX\", \"HAL\", \"HCA\", \n",
    "               \"HD\", \"HET\", \"HIG\", \"HNZ\", \"HON\", \"HPQ\", \"HSH\", \"IBM\", \"INTC\", \n",
    "               \"IP\", \"JCI\", \"JNJ\", \"JPM\", \"KHC\", \"KMI\", \"KO\", \"LEH\", \"LIN\", \n",
    "               \"LLY\", \"LMT\", \"LOW\", \"MA\", \"MAY\", \"MCD\", \"MDLZ\", \"MDT\", \"MER\", \n",
    "               \"MET\", \"META\", \"MMM\", \"MO\", \"MON\", \"MRK\", \"MS\", \"MSFT\", \"NEE\", \n",
    "               \"NFLX\", \"NKE\", \"NOV\", \"NSC\", \"NSM\", \"NT\", \"NVDA\", \"NXTL\", \"NYX\", \n",
    "               \"OMX\", \"ONE\", \"ORCL\", \"OXY\", \"PARA\", \"PEP\", \"PFE\", \"PG\", \"PM\", \n",
    "               \"PNU\", \"PYPL\", \"QCOM\", \"RAL\", \"RF\", \"ROK\", \"RSH\", \"RTN\", \"RTX\", \n",
    "               \"S\", \"SBUX\", \"SCHW\", \"SGP\", \"SLB\", \"SO\", \"SPG\", \"T\", \"TGT\", \"TMO\", \n",
    "               \"TMUS\", \"TOY\", \"TSLA\", \"TWX\", \"TXN\", \"UBAN\", \"UIS\", \"UNH\", \"UNP\", \n",
    "               \"UPS\", \"USB\", \"V\", \"VZ\", \"WB\", \"WBA\", \"WFC\", \"WMB\", \"WMT\", \"WY\", \n",
    "               \"WYE\", \"XOM\", \"XRX\"],\n",
    "    progress=True,\n",
    "    chunk_size=4000000/2,\n",
    "    return_df=False\n",
    ") "
   ]
  },
  {
   "cell_type": "code",
   "execution_count": null,
   "metadata": {},
   "outputs": [],
   "source": [
    "wp."
   ]
  },
  {
   "cell_type": "code",
   "execution_count": 8,
   "metadata": {},
   "outputs": [
    {
     "name": "stdout",
     "output_type": "stream",
     "text": [
      "Importing O-data split per 'Y' into folder: C:\\Users\\axell\\Desktop\\CBS\\data\\OptionMetrics\\VIX\n"
     ]
    },
    {
     "name": "stderr",
     "output_type": "stream",
     "text": [
      "Collecting data: 100%|██████████| 28/28 [19:37<00:00, 42.04s/years] \n"
     ]
    },
    {
     "name": "stdout",
     "output_type": "stream",
     "text": [
      "Importing F-data into: C:\\Users\\axell\\Desktop\\CBS\\data\\OptionMetrics\\VIX\\forward price.csv\n"
     ]
    },
    {
     "name": "stderr",
     "output_type": "stream",
     "text": [
      "Collecting data: 100%|██████████| 28/28 [00:17<00:00,  1.58years/s]\n"
     ]
    },
    {
     "name": "stdout",
     "output_type": "stream",
     "text": [
      "Data collected and saved: 993934 rows.\n",
      "Importing S-data into: C:\\Users\\axell\\Desktop\\CBS\\data\\OptionMetrics\\VIX\\returns and stock price.csv\n"
     ]
    },
    {
     "name": "stderr",
     "output_type": "stream",
     "text": [
      "Collecting data: 100%|██████████| 28/28 [00:09<00:00,  2.91years/s]\n"
     ]
    },
    {
     "name": "stdout",
     "output_type": "stream",
     "text": [
      "Data collected and saved: 99566 rows.\n",
      "Importing Z-data into: C:\\Users\\axell\\Desktop\\CBS\\data\\OptionMetrics\\VIX\\ZC yield curve.csv\n",
      "Data collected and saved: 72597 rows.\n"
     ]
    }
   ],
   "source": [
    "importlib.reload(wl)\n",
    "\n",
    "wl.fetch_wrds_data( \n",
    "    db = db,\n",
    "    folder_name=\"VIX\",\n",
    "    begdate=\"1996-01-01\", \n",
    "    enddate=\"2024-12-31\", #2024-12-31 2003-02-28\n",
    "    save_per=\"Y\", #None \"Y\" \"M\"\n",
    "    tickers = [\"SPX\", \"GOOGL\", \"AMZN\", \"DIA\", \"IWM\", \"QQQ\", \"AAPL\", \"EWZ\", \"USO\", \"GS\", \"EEM\", \"FXE\", \"SLV\", \"IBM\", \"TLT\"],\n",
    "    progress=True,\n",
    "    chunk_size=4000000,\n",
    "    return_df=False\n",
    ") \n"
   ]
  },
  {
   "cell_type": "code",
   "execution_count": null,
   "metadata": {},
   "outputs": [
    {
     "name": "stdout",
     "output_type": "stream",
     "text": [
      "Importing O-data split per 'Y' into folder: C:\\Users\\axell\\Desktop\\CBS\\data\\OptionMetrics\\OEX\n"
     ]
    },
    {
     "name": "stderr",
     "output_type": "stream",
     "text": [
      "Collecting data:  29%|██▊       | 8/28 [07:32<18:50, 56.51s/years]\n"
     ]
    },
    {
     "ename": "KeyboardInterrupt",
     "evalue": "",
     "output_type": "error",
     "traceback": [
      "\u001b[1;31m---------------------------------------------------------------------------\u001b[0m",
      "\u001b[1;31mKeyboardInterrupt\u001b[0m                         Traceback (most recent call last)",
      "Cell \u001b[1;32mIn[39], line 3\u001b[0m\n\u001b[0;32m      1\u001b[0m importlib\u001b[38;5;241m.\u001b[39mreload(wl)\n\u001b[1;32m----> 3\u001b[0m wl\u001b[38;5;241m.\u001b[39mfetch_wrds_data(\n\u001b[0;32m      4\u001b[0m     db \u001b[38;5;241m=\u001b[39m db,\n\u001b[0;32m      5\u001b[0m     folder_name\u001b[38;5;241m=\u001b[39m\u001b[38;5;124m\"\u001b[39m\u001b[38;5;124mOEX\u001b[39m\u001b[38;5;124m\"\u001b[39m,\n\u001b[0;32m      6\u001b[0m     begdate\u001b[38;5;241m=\u001b[39m\u001b[38;5;124m\"\u001b[39m\u001b[38;5;124m1996-01-01\u001b[39m\u001b[38;5;124m\"\u001b[39m, \n\u001b[0;32m      7\u001b[0m     enddate\u001b[38;5;241m=\u001b[39m\u001b[38;5;124m\"\u001b[39m\u001b[38;5;124m2024-12-31\u001b[39m\u001b[38;5;124m\"\u001b[39m, \u001b[38;5;66;03m#2024-12-31 2003-02-28\u001b[39;00m\n\u001b[0;32m      8\u001b[0m     save_per\u001b[38;5;241m=\u001b[39m\u001b[38;5;124m\"\u001b[39m\u001b[38;5;124mY\u001b[39m\u001b[38;5;124m\"\u001b[39m, \u001b[38;5;66;03m#None \"Y\" \"M\"\u001b[39;00m\n\u001b[0;32m      9\u001b[0m     tickers \u001b[38;5;241m=\u001b[39m [\u001b[38;5;124m\"\u001b[39m\u001b[38;5;124mOEX\u001b[39m\u001b[38;5;124m\"\u001b[39m, \u001b[38;5;124m\"\u001b[39m\u001b[38;5;124mOEF\u001b[39m\u001b[38;5;124m\"\u001b[39m,\u001b[38;5;124m\"\u001b[39m\u001b[38;5;124mAA\u001b[39m\u001b[38;5;124m\"\u001b[39m, \u001b[38;5;124m\"\u001b[39m\u001b[38;5;124mAAPL\u001b[39m\u001b[38;5;124m\"\u001b[39m, \u001b[38;5;124m\"\u001b[39m\u001b[38;5;124mABBV\u001b[39m\u001b[38;5;124m\"\u001b[39m, \u001b[38;5;124m\"\u001b[39m\u001b[38;5;124mABT\u001b[39m\u001b[38;5;124m\"\u001b[39m, \u001b[38;5;124m\"\u001b[39m\u001b[38;5;124mACN\u001b[39m\u001b[38;5;124m\"\u001b[39m, \u001b[38;5;124m\"\u001b[39m\u001b[38;5;124mADBE\u001b[39m\u001b[38;5;124m\"\u001b[39m, \n\u001b[0;32m     10\u001b[0m                \u001b[38;5;124m\"\u001b[39m\u001b[38;5;124mAEP\u001b[39m\u001b[38;5;124m\"\u001b[39m, \u001b[38;5;124m\"\u001b[39m\u001b[38;5;124mAES\u001b[39m\u001b[38;5;124m\"\u001b[39m, \u001b[38;5;124m\"\u001b[39m\u001b[38;5;124mAGN\u001b[39m\u001b[38;5;124m\"\u001b[39m, \u001b[38;5;124m\"\u001b[39m\u001b[38;5;124mAIG\u001b[39m\u001b[38;5;124m\"\u001b[39m, \u001b[38;5;124m\"\u001b[39m\u001b[38;5;124mALL\u001b[39m\u001b[38;5;124m\"\u001b[39m, \u001b[38;5;124m\"\u001b[39m\u001b[38;5;124mAMD\u001b[39m\u001b[38;5;124m\"\u001b[39m, \u001b[38;5;124m\"\u001b[39m\u001b[38;5;124mAMGN\u001b[39m\u001b[38;5;124m\"\u001b[39m, \u001b[38;5;124m\"\u001b[39m\u001b[38;5;124mAMT\u001b[39m\u001b[38;5;124m\"\u001b[39m, \n\u001b[0;32m     11\u001b[0m                \u001b[38;5;124m\"\u001b[39m\u001b[38;5;124mAMZN\u001b[39m\u001b[38;5;124m\"\u001b[39m, \u001b[38;5;124m\"\u001b[39m\u001b[38;5;124mAPA\u001b[39m\u001b[38;5;124m\"\u001b[39m, \u001b[38;5;124m\"\u001b[39m\u001b[38;5;124mAPC\u001b[39m\u001b[38;5;124m\"\u001b[39m, \u001b[38;5;124m\"\u001b[39m\u001b[38;5;124mATI\u001b[39m\u001b[38;5;124m\"\u001b[39m, \u001b[38;5;124m\"\u001b[39m\u001b[38;5;124mAVGO\u001b[39m\u001b[38;5;124m\"\u001b[39m, \u001b[38;5;124m\"\u001b[39m\u001b[38;5;124mAVP\u001b[39m\u001b[38;5;124m\"\u001b[39m, \u001b[38;5;124m\"\u001b[39m\u001b[38;5;124mAXP\u001b[39m\u001b[38;5;124m\"\u001b[39m, \u001b[38;5;124m\"\u001b[39m\u001b[38;5;124mBA\u001b[39m\u001b[38;5;124m\"\u001b[39m, \n\u001b[0;32m     12\u001b[0m                \u001b[38;5;124m\"\u001b[39m\u001b[38;5;124mBAC\u001b[39m\u001b[38;5;124m\"\u001b[39m, \u001b[38;5;124m\"\u001b[39m\u001b[38;5;124mBAX\u001b[39m\u001b[38;5;124m\"\u001b[39m, \u001b[38;5;124m\"\u001b[39m\u001b[38;5;124mBDK\u001b[39m\u001b[38;5;124m\"\u001b[39m, \u001b[38;5;124m\"\u001b[39m\u001b[38;5;124mBHI\u001b[39m\u001b[38;5;124m\"\u001b[39m, \u001b[38;5;124m\"\u001b[39m\u001b[38;5;124mBIIB\u001b[39m\u001b[38;5;124m\"\u001b[39m, \u001b[38;5;124m\"\u001b[39m\u001b[38;5;124mBK\u001b[39m\u001b[38;5;124m\"\u001b[39m, \u001b[38;5;124m\"\u001b[39m\u001b[38;5;124mBKNG\u001b[39m\u001b[38;5;124m\"\u001b[39m, \u001b[38;5;124m\"\u001b[39m\u001b[38;5;124mBMY\u001b[39m\u001b[38;5;124m\"\u001b[39m, \n\u001b[0;32m     13\u001b[0m                \u001b[38;5;124m\"\u001b[39m\u001b[38;5;124mBNI\u001b[39m\u001b[38;5;124m\"\u001b[39m, \u001b[38;5;124m\"\u001b[39m\u001b[38;5;124mBRK\u001b[39m\u001b[38;5;124m\"\u001b[39m, \u001b[38;5;124m\"\u001b[39m\u001b[38;5;124mBUD\u001b[39m\u001b[38;5;124m\"\u001b[39m, \u001b[38;5;124m\"\u001b[39m\u001b[38;5;124mC\u001b[39m\u001b[38;5;124m\"\u001b[39m, \u001b[38;5;124m\"\u001b[39m\u001b[38;5;124mCAT\u001b[39m\u001b[38;5;124m\"\u001b[39m, \u001b[38;5;124m\"\u001b[39m\u001b[38;5;124mCELG\u001b[39m\u001b[38;5;124m\"\u001b[39m, \u001b[38;5;124m\"\u001b[39m\u001b[38;5;124mCGP\u001b[39m\u001b[38;5;124m\"\u001b[39m, \u001b[38;5;124m\"\u001b[39m\u001b[38;5;124mCHTR\u001b[39m\u001b[38;5;124m\"\u001b[39m, \u001b[38;5;124m\"\u001b[39m\u001b[38;5;124mCI\u001b[39m\u001b[38;5;124m\"\u001b[39m, \n\u001b[0;32m     14\u001b[0m                \u001b[38;5;124m\"\u001b[39m\u001b[38;5;124mCL\u001b[39m\u001b[38;5;124m\"\u001b[39m, \u001b[38;5;124m\"\u001b[39m\u001b[38;5;124mCLB\u001b[39m\u001b[38;5;124m\"\u001b[39m, \u001b[38;5;124m\"\u001b[39m\u001b[38;5;124mCMCSA\u001b[39m\u001b[38;5;124m\"\u001b[39m, \u001b[38;5;124m\"\u001b[39m\u001b[38;5;124mCMCSK\u001b[39m\u001b[38;5;124m\"\u001b[39m, \u001b[38;5;124m\"\u001b[39m\u001b[38;5;124mCOF\u001b[39m\u001b[38;5;124m\"\u001b[39m, \u001b[38;5;124m\"\u001b[39m\u001b[38;5;124mCOP\u001b[39m\u001b[38;5;124m\"\u001b[39m, \u001b[38;5;124m\"\u001b[39m\u001b[38;5;124mCOST\u001b[39m\u001b[38;5;124m\"\u001b[39m, \u001b[38;5;124m\"\u001b[39m\u001b[38;5;124mCOV\u001b[39m\u001b[38;5;124m\"\u001b[39m, \n\u001b[0;32m     15\u001b[0m                \u001b[38;5;124m\"\u001b[39m\u001b[38;5;124mCPB\u001b[39m\u001b[38;5;124m\"\u001b[39m, \u001b[38;5;124m\"\u001b[39m\u001b[38;5;124mCRM\u001b[39m\u001b[38;5;124m\"\u001b[39m, \u001b[38;5;124m\"\u001b[39m\u001b[38;5;124mCSC\u001b[39m\u001b[38;5;124m\"\u001b[39m, \u001b[38;5;124m\"\u001b[39m\u001b[38;5;124mCSCO\u001b[39m\u001b[38;5;124m\"\u001b[39m, \u001b[38;5;124m\"\u001b[39m\u001b[38;5;124mCVS\u001b[39m\u001b[38;5;124m\"\u001b[39m, \u001b[38;5;124m\"\u001b[39m\u001b[38;5;124mCVX\u001b[39m\u001b[38;5;124m\"\u001b[39m, \u001b[38;5;124m\"\u001b[39m\u001b[38;5;124mDAL\u001b[39m\u001b[38;5;124m\"\u001b[39m, \u001b[38;5;124m\"\u001b[39m\u001b[38;5;124mDD\u001b[39m\u001b[38;5;124m\"\u001b[39m, \u001b[38;5;124m\"\u001b[39m\u001b[38;5;124mDE\u001b[39m\u001b[38;5;124m\"\u001b[39m, \n\u001b[0;32m     16\u001b[0m                \u001b[38;5;124m\"\u001b[39m\u001b[38;5;124mDELL\u001b[39m\u001b[38;5;124m\"\u001b[39m, \u001b[38;5;124m\"\u001b[39m\u001b[38;5;124mDHR\u001b[39m\u001b[38;5;124m\"\u001b[39m, \u001b[38;5;124m\"\u001b[39m\u001b[38;5;124mDIS\u001b[39m\u001b[38;5;124m\"\u001b[39m, \u001b[38;5;124m\"\u001b[39m\u001b[38;5;124mDOW\u001b[39m\u001b[38;5;124m\"\u001b[39m, \u001b[38;5;124m\"\u001b[39m\u001b[38;5;124mDUK\u001b[39m\u001b[38;5;124m\"\u001b[39m, \u001b[38;5;124m\"\u001b[39m\u001b[38;5;124mDVN\u001b[39m\u001b[38;5;124m\"\u001b[39m, \u001b[38;5;124m\"\u001b[39m\u001b[38;5;124mEBAY\u001b[39m\u001b[38;5;124m\"\u001b[39m, \u001b[38;5;124m\"\u001b[39m\u001b[38;5;124mEMC\u001b[39m\u001b[38;5;124m\"\u001b[39m, \u001b[38;5;124m\"\u001b[39m\u001b[38;5;124mEMR\u001b[39m\u001b[38;5;124m\"\u001b[39m, \n\u001b[0;32m     17\u001b[0m                \u001b[38;5;124m\"\u001b[39m\u001b[38;5;124mENE\u001b[39m\u001b[38;5;124m\"\u001b[39m, \u001b[38;5;124m\"\u001b[39m\u001b[38;5;124mEP\u001b[39m\u001b[38;5;124m\"\u001b[39m, \u001b[38;5;124m\"\u001b[39m\u001b[38;5;124mETR\u001b[39m\u001b[38;5;124m\"\u001b[39m, \u001b[38;5;124m\"\u001b[39m\u001b[38;5;124mEXC\u001b[39m\u001b[38;5;124m\"\u001b[39m, \u001b[38;5;124m\"\u001b[39m\u001b[38;5;124mF\u001b[39m\u001b[38;5;124m\"\u001b[39m, \u001b[38;5;124m\"\u001b[39m\u001b[38;5;124mFCX\u001b[39m\u001b[38;5;124m\"\u001b[39m, \u001b[38;5;124m\"\u001b[39m\u001b[38;5;124mFDX\u001b[39m\u001b[38;5;124m\"\u001b[39m, \u001b[38;5;124m\"\u001b[39m\u001b[38;5;124mG\u001b[39m\u001b[38;5;124m\"\u001b[39m, \u001b[38;5;124m\"\u001b[39m\u001b[38;5;124mGBLX\u001b[39m\u001b[38;5;124m\"\u001b[39m, \u001b[38;5;124m\"\u001b[39m\u001b[38;5;124mGD\u001b[39m\u001b[38;5;124m\"\u001b[39m, \n\u001b[0;32m     18\u001b[0m                \u001b[38;5;124m\"\u001b[39m\u001b[38;5;124mGE\u001b[39m\u001b[38;5;124m\"\u001b[39m, \u001b[38;5;124m\"\u001b[39m\u001b[38;5;124mGILD\u001b[39m\u001b[38;5;124m\"\u001b[39m, \u001b[38;5;124m\"\u001b[39m\u001b[38;5;124mGM\u001b[39m\u001b[38;5;124m\"\u001b[39m, \u001b[38;5;124m\"\u001b[39m\u001b[38;5;124mGOOG\u001b[39m\u001b[38;5;124m\"\u001b[39m, \u001b[38;5;124m\"\u001b[39m\u001b[38;5;124mGOOGL\u001b[39m\u001b[38;5;124m\"\u001b[39m, \u001b[38;5;124m\"\u001b[39m\u001b[38;5;124mGS\u001b[39m\u001b[38;5;124m\"\u001b[39m, \u001b[38;5;124m\"\u001b[39m\u001b[38;5;124mGTX\u001b[39m\u001b[38;5;124m\"\u001b[39m, \u001b[38;5;124m\"\u001b[39m\u001b[38;5;124mHAL\u001b[39m\u001b[38;5;124m\"\u001b[39m, \u001b[38;5;124m\"\u001b[39m\u001b[38;5;124mHCA\u001b[39m\u001b[38;5;124m\"\u001b[39m, \n\u001b[0;32m     19\u001b[0m                \u001b[38;5;124m\"\u001b[39m\u001b[38;5;124mHD\u001b[39m\u001b[38;5;124m\"\u001b[39m, \u001b[38;5;124m\"\u001b[39m\u001b[38;5;124mHET\u001b[39m\u001b[38;5;124m\"\u001b[39m, \u001b[38;5;124m\"\u001b[39m\u001b[38;5;124mHIG\u001b[39m\u001b[38;5;124m\"\u001b[39m, \u001b[38;5;124m\"\u001b[39m\u001b[38;5;124mHNZ\u001b[39m\u001b[38;5;124m\"\u001b[39m, \u001b[38;5;124m\"\u001b[39m\u001b[38;5;124mHON\u001b[39m\u001b[38;5;124m\"\u001b[39m, \u001b[38;5;124m\"\u001b[39m\u001b[38;5;124mHPQ\u001b[39m\u001b[38;5;124m\"\u001b[39m, \u001b[38;5;124m\"\u001b[39m\u001b[38;5;124mHSH\u001b[39m\u001b[38;5;124m\"\u001b[39m, \u001b[38;5;124m\"\u001b[39m\u001b[38;5;124mIBM\u001b[39m\u001b[38;5;124m\"\u001b[39m, \u001b[38;5;124m\"\u001b[39m\u001b[38;5;124mINTC\u001b[39m\u001b[38;5;124m\"\u001b[39m, \n\u001b[0;32m     20\u001b[0m                \u001b[38;5;124m\"\u001b[39m\u001b[38;5;124mIP\u001b[39m\u001b[38;5;124m\"\u001b[39m, \u001b[38;5;124m\"\u001b[39m\u001b[38;5;124mJCI\u001b[39m\u001b[38;5;124m\"\u001b[39m, \u001b[38;5;124m\"\u001b[39m\u001b[38;5;124mJNJ\u001b[39m\u001b[38;5;124m\"\u001b[39m, \u001b[38;5;124m\"\u001b[39m\u001b[38;5;124mJPM\u001b[39m\u001b[38;5;124m\"\u001b[39m, \u001b[38;5;124m\"\u001b[39m\u001b[38;5;124mKHC\u001b[39m\u001b[38;5;124m\"\u001b[39m, \u001b[38;5;124m\"\u001b[39m\u001b[38;5;124mKMI\u001b[39m\u001b[38;5;124m\"\u001b[39m, \u001b[38;5;124m\"\u001b[39m\u001b[38;5;124mKO\u001b[39m\u001b[38;5;124m\"\u001b[39m, \u001b[38;5;124m\"\u001b[39m\u001b[38;5;124mLEH\u001b[39m\u001b[38;5;124m\"\u001b[39m, \u001b[38;5;124m\"\u001b[39m\u001b[38;5;124mLIN\u001b[39m\u001b[38;5;124m\"\u001b[39m, \n\u001b[0;32m     21\u001b[0m                \u001b[38;5;124m\"\u001b[39m\u001b[38;5;124mLLY\u001b[39m\u001b[38;5;124m\"\u001b[39m, \u001b[38;5;124m\"\u001b[39m\u001b[38;5;124mLMT\u001b[39m\u001b[38;5;124m\"\u001b[39m, \u001b[38;5;124m\"\u001b[39m\u001b[38;5;124mLOW\u001b[39m\u001b[38;5;124m\"\u001b[39m, \u001b[38;5;124m\"\u001b[39m\u001b[38;5;124mMA\u001b[39m\u001b[38;5;124m\"\u001b[39m, \u001b[38;5;124m\"\u001b[39m\u001b[38;5;124mMAY\u001b[39m\u001b[38;5;124m\"\u001b[39m, \u001b[38;5;124m\"\u001b[39m\u001b[38;5;124mMCD\u001b[39m\u001b[38;5;124m\"\u001b[39m, \u001b[38;5;124m\"\u001b[39m\u001b[38;5;124mMDLZ\u001b[39m\u001b[38;5;124m\"\u001b[39m, \u001b[38;5;124m\"\u001b[39m\u001b[38;5;124mMDT\u001b[39m\u001b[38;5;124m\"\u001b[39m, \u001b[38;5;124m\"\u001b[39m\u001b[38;5;124mMER\u001b[39m\u001b[38;5;124m\"\u001b[39m, \n\u001b[0;32m     22\u001b[0m                \u001b[38;5;124m\"\u001b[39m\u001b[38;5;124mMET\u001b[39m\u001b[38;5;124m\"\u001b[39m, \u001b[38;5;124m\"\u001b[39m\u001b[38;5;124mMETA\u001b[39m\u001b[38;5;124m\"\u001b[39m, \u001b[38;5;124m\"\u001b[39m\u001b[38;5;124mMMM\u001b[39m\u001b[38;5;124m\"\u001b[39m, \u001b[38;5;124m\"\u001b[39m\u001b[38;5;124mMO\u001b[39m\u001b[38;5;124m\"\u001b[39m, \u001b[38;5;124m\"\u001b[39m\u001b[38;5;124mMON\u001b[39m\u001b[38;5;124m\"\u001b[39m, \u001b[38;5;124m\"\u001b[39m\u001b[38;5;124mMRK\u001b[39m\u001b[38;5;124m\"\u001b[39m, \u001b[38;5;124m\"\u001b[39m\u001b[38;5;124mMS\u001b[39m\u001b[38;5;124m\"\u001b[39m, \u001b[38;5;124m\"\u001b[39m\u001b[38;5;124mMSFT\u001b[39m\u001b[38;5;124m\"\u001b[39m, \u001b[38;5;124m\"\u001b[39m\u001b[38;5;124mNEE\u001b[39m\u001b[38;5;124m\"\u001b[39m, \n\u001b[0;32m     23\u001b[0m                \u001b[38;5;124m\"\u001b[39m\u001b[38;5;124mNFLX\u001b[39m\u001b[38;5;124m\"\u001b[39m, \u001b[38;5;124m\"\u001b[39m\u001b[38;5;124mNKE\u001b[39m\u001b[38;5;124m\"\u001b[39m, \u001b[38;5;124m\"\u001b[39m\u001b[38;5;124mNOV\u001b[39m\u001b[38;5;124m\"\u001b[39m, \u001b[38;5;124m\"\u001b[39m\u001b[38;5;124mNSC\u001b[39m\u001b[38;5;124m\"\u001b[39m, \u001b[38;5;124m\"\u001b[39m\u001b[38;5;124mNSM\u001b[39m\u001b[38;5;124m\"\u001b[39m, \u001b[38;5;124m\"\u001b[39m\u001b[38;5;124mNT\u001b[39m\u001b[38;5;124m\"\u001b[39m, \u001b[38;5;124m\"\u001b[39m\u001b[38;5;124mNVDA\u001b[39m\u001b[38;5;124m\"\u001b[39m, \u001b[38;5;124m\"\u001b[39m\u001b[38;5;124mNXTL\u001b[39m\u001b[38;5;124m\"\u001b[39m, \u001b[38;5;124m\"\u001b[39m\u001b[38;5;124mNYX\u001b[39m\u001b[38;5;124m\"\u001b[39m, \n\u001b[0;32m     24\u001b[0m                \u001b[38;5;124m\"\u001b[39m\u001b[38;5;124mOMX\u001b[39m\u001b[38;5;124m\"\u001b[39m, \u001b[38;5;124m\"\u001b[39m\u001b[38;5;124mONE\u001b[39m\u001b[38;5;124m\"\u001b[39m, \u001b[38;5;124m\"\u001b[39m\u001b[38;5;124mORCL\u001b[39m\u001b[38;5;124m\"\u001b[39m, \u001b[38;5;124m\"\u001b[39m\u001b[38;5;124mOXY\u001b[39m\u001b[38;5;124m\"\u001b[39m, \u001b[38;5;124m\"\u001b[39m\u001b[38;5;124mPARA\u001b[39m\u001b[38;5;124m\"\u001b[39m, \u001b[38;5;124m\"\u001b[39m\u001b[38;5;124mPEP\u001b[39m\u001b[38;5;124m\"\u001b[39m, \u001b[38;5;124m\"\u001b[39m\u001b[38;5;124mPFE\u001b[39m\u001b[38;5;124m\"\u001b[39m, \u001b[38;5;124m\"\u001b[39m\u001b[38;5;124mPG\u001b[39m\u001b[38;5;124m\"\u001b[39m, \u001b[38;5;124m\"\u001b[39m\u001b[38;5;124mPM\u001b[39m\u001b[38;5;124m\"\u001b[39m, \n\u001b[0;32m     25\u001b[0m                \u001b[38;5;124m\"\u001b[39m\u001b[38;5;124mPNU\u001b[39m\u001b[38;5;124m\"\u001b[39m, \u001b[38;5;124m\"\u001b[39m\u001b[38;5;124mPYPL\u001b[39m\u001b[38;5;124m\"\u001b[39m, \u001b[38;5;124m\"\u001b[39m\u001b[38;5;124mQCOM\u001b[39m\u001b[38;5;124m\"\u001b[39m, \u001b[38;5;124m\"\u001b[39m\u001b[38;5;124mRAL\u001b[39m\u001b[38;5;124m\"\u001b[39m, \u001b[38;5;124m\"\u001b[39m\u001b[38;5;124mRF\u001b[39m\u001b[38;5;124m\"\u001b[39m, \u001b[38;5;124m\"\u001b[39m\u001b[38;5;124mROK\u001b[39m\u001b[38;5;124m\"\u001b[39m, \u001b[38;5;124m\"\u001b[39m\u001b[38;5;124mRSH\u001b[39m\u001b[38;5;124m\"\u001b[39m, \u001b[38;5;124m\"\u001b[39m\u001b[38;5;124mRTN\u001b[39m\u001b[38;5;124m\"\u001b[39m, \u001b[38;5;124m\"\u001b[39m\u001b[38;5;124mRTX\u001b[39m\u001b[38;5;124m\"\u001b[39m, \n\u001b[0;32m     26\u001b[0m                \u001b[38;5;124m\"\u001b[39m\u001b[38;5;124mS\u001b[39m\u001b[38;5;124m\"\u001b[39m, \u001b[38;5;124m\"\u001b[39m\u001b[38;5;124mSBUX\u001b[39m\u001b[38;5;124m\"\u001b[39m, \u001b[38;5;124m\"\u001b[39m\u001b[38;5;124mSCHW\u001b[39m\u001b[38;5;124m\"\u001b[39m, \u001b[38;5;124m\"\u001b[39m\u001b[38;5;124mSGP\u001b[39m\u001b[38;5;124m\"\u001b[39m, \u001b[38;5;124m\"\u001b[39m\u001b[38;5;124mSLB\u001b[39m\u001b[38;5;124m\"\u001b[39m, \u001b[38;5;124m\"\u001b[39m\u001b[38;5;124mSO\u001b[39m\u001b[38;5;124m\"\u001b[39m, \u001b[38;5;124m\"\u001b[39m\u001b[38;5;124mSPG\u001b[39m\u001b[38;5;124m\"\u001b[39m, \u001b[38;5;124m\"\u001b[39m\u001b[38;5;124mT\u001b[39m\u001b[38;5;124m\"\u001b[39m, \u001b[38;5;124m\"\u001b[39m\u001b[38;5;124mTGT\u001b[39m\u001b[38;5;124m\"\u001b[39m, \u001b[38;5;124m\"\u001b[39m\u001b[38;5;124mTMO\u001b[39m\u001b[38;5;124m\"\u001b[39m, \n\u001b[0;32m     27\u001b[0m                \u001b[38;5;124m\"\u001b[39m\u001b[38;5;124mTMUS\u001b[39m\u001b[38;5;124m\"\u001b[39m, \u001b[38;5;124m\"\u001b[39m\u001b[38;5;124mTOY\u001b[39m\u001b[38;5;124m\"\u001b[39m, \u001b[38;5;124m\"\u001b[39m\u001b[38;5;124mTSLA\u001b[39m\u001b[38;5;124m\"\u001b[39m, \u001b[38;5;124m\"\u001b[39m\u001b[38;5;124mTWX\u001b[39m\u001b[38;5;124m\"\u001b[39m, \u001b[38;5;124m\"\u001b[39m\u001b[38;5;124mTXN\u001b[39m\u001b[38;5;124m\"\u001b[39m, \u001b[38;5;124m\"\u001b[39m\u001b[38;5;124mUBAN\u001b[39m\u001b[38;5;124m\"\u001b[39m, \u001b[38;5;124m\"\u001b[39m\u001b[38;5;124mUIS\u001b[39m\u001b[38;5;124m\"\u001b[39m, \u001b[38;5;124m\"\u001b[39m\u001b[38;5;124mUNH\u001b[39m\u001b[38;5;124m\"\u001b[39m, \u001b[38;5;124m\"\u001b[39m\u001b[38;5;124mUNP\u001b[39m\u001b[38;5;124m\"\u001b[39m, \n\u001b[0;32m     28\u001b[0m                \u001b[38;5;124m\"\u001b[39m\u001b[38;5;124mUPS\u001b[39m\u001b[38;5;124m\"\u001b[39m, \u001b[38;5;124m\"\u001b[39m\u001b[38;5;124mUSB\u001b[39m\u001b[38;5;124m\"\u001b[39m, \u001b[38;5;124m\"\u001b[39m\u001b[38;5;124mV\u001b[39m\u001b[38;5;124m\"\u001b[39m, \u001b[38;5;124m\"\u001b[39m\u001b[38;5;124mVZ\u001b[39m\u001b[38;5;124m\"\u001b[39m, \u001b[38;5;124m\"\u001b[39m\u001b[38;5;124mWB\u001b[39m\u001b[38;5;124m\"\u001b[39m, \u001b[38;5;124m\"\u001b[39m\u001b[38;5;124mWBA\u001b[39m\u001b[38;5;124m\"\u001b[39m, \u001b[38;5;124m\"\u001b[39m\u001b[38;5;124mWFC\u001b[39m\u001b[38;5;124m\"\u001b[39m, \u001b[38;5;124m\"\u001b[39m\u001b[38;5;124mWMB\u001b[39m\u001b[38;5;124m\"\u001b[39m, \u001b[38;5;124m\"\u001b[39m\u001b[38;5;124mWMT\u001b[39m\u001b[38;5;124m\"\u001b[39m, \u001b[38;5;124m\"\u001b[39m\u001b[38;5;124mWY\u001b[39m\u001b[38;5;124m\"\u001b[39m, \n\u001b[0;32m     29\u001b[0m                \u001b[38;5;124m\"\u001b[39m\u001b[38;5;124mWYE\u001b[39m\u001b[38;5;124m\"\u001b[39m, \u001b[38;5;124m\"\u001b[39m\u001b[38;5;124mXOM\u001b[39m\u001b[38;5;124m\"\u001b[39m, \u001b[38;5;124m\"\u001b[39m\u001b[38;5;124mXRX\u001b[39m\u001b[38;5;124m\"\u001b[39m],\n\u001b[0;32m     30\u001b[0m     progress\u001b[38;5;241m=\u001b[39m\u001b[38;5;28;01mTrue\u001b[39;00m,\n\u001b[0;32m     31\u001b[0m     chunk_size\u001b[38;5;241m=\u001b[39m\u001b[38;5;241m4000000\u001b[39m,\n\u001b[0;32m     32\u001b[0m     return_df\u001b[38;5;241m=\u001b[39m\u001b[38;5;28;01mFalse\u001b[39;00m\n\u001b[0;32m     33\u001b[0m ) \n\u001b[0;32m     36\u001b[0m wl\u001b[38;5;241m.\u001b[39mfetch_wrds_data(\n\u001b[0;32m     37\u001b[0m     db \u001b[38;5;241m=\u001b[39m db,\n\u001b[0;32m     38\u001b[0m     folder_name\u001b[38;5;241m=\u001b[39m\u001b[38;5;124m\"\u001b[39m\u001b[38;5;124mLiquid_ETFs\u001b[39m\u001b[38;5;124m\"\u001b[39m,\n\u001b[1;32m   (...)\u001b[0m\n\u001b[0;32m     45\u001b[0m     return_df\u001b[38;5;241m=\u001b[39m\u001b[38;5;28;01mFalse\u001b[39;00m\n\u001b[0;32m     46\u001b[0m ) \n\u001b[0;32m     49\u001b[0m wl\u001b[38;5;241m.\u001b[39mfetch_wrds_data(\n\u001b[0;32m     50\u001b[0m     db \u001b[38;5;241m=\u001b[39m db,\n\u001b[0;32m     51\u001b[0m     folder_name\u001b[38;5;241m=\u001b[39m\u001b[38;5;124m\"\u001b[39m\u001b[38;5;124mCross_AM\u001b[39m\u001b[38;5;124m\"\u001b[39m,\n\u001b[1;32m   (...)\u001b[0m\n\u001b[0;32m     61\u001b[0m     return_df\u001b[38;5;241m=\u001b[39m\u001b[38;5;28;01mFalse\u001b[39;00m\n\u001b[0;32m     62\u001b[0m ) \n",
      "File \u001b[1;32mc:\\Users\\axell\\Desktop\\CBS\\master\\volpy\\wrds_lib.py:1290\u001b[0m, in \u001b[0;36mfetch_wrds_data\u001b[1;34m(db, folder_name, begdate, enddate, save_per, tickers, data_types, return_df, progress, chunk_size)\u001b[0m\n\u001b[0;32m   1288\u001b[0m \u001b[38;5;28;01mif\u001b[39;00m save_per \u001b[38;5;129;01min\u001b[39;00m (\u001b[38;5;124m\"\u001b[39m\u001b[38;5;124mM\u001b[39m\u001b[38;5;124m\"\u001b[39m, \u001b[38;5;124m\"\u001b[39m\u001b[38;5;124mY\u001b[39m\u001b[38;5;124m\"\u001b[39m):\n\u001b[0;32m   1289\u001b[0m     \u001b[38;5;28mprint\u001b[39m(\u001b[38;5;124mf\u001b[39m\u001b[38;5;124m\"\u001b[39m\u001b[38;5;124mImporting O-data split per \u001b[39m\u001b[38;5;124m'\u001b[39m\u001b[38;5;132;01m{\u001b[39;00msave_per\u001b[38;5;132;01m}\u001b[39;00m\u001b[38;5;124m'\u001b[39m\u001b[38;5;124m into folder: \u001b[39m\u001b[38;5;132;01m{\u001b[39;00mbase_dir\u001b[38;5;132;01m}\u001b[39;00m\u001b[38;5;124m\"\u001b[39m)\n\u001b[1;32m-> 1290\u001b[0m     df \u001b[38;5;241m=\u001b[39m fetch_options_data_multiplefiles(\n\u001b[0;32m   1291\u001b[0m         db\u001b[38;5;241m=\u001b[39mdb,\n\u001b[0;32m   1292\u001b[0m         begdate\u001b[38;5;241m=\u001b[39mbegdate,\n\u001b[0;32m   1293\u001b[0m         enddate\u001b[38;5;241m=\u001b[39menddate,\n\u001b[0;32m   1294\u001b[0m         tickers\u001b[38;5;241m=\u001b[39mtickers,\n\u001b[0;32m   1295\u001b[0m         output_dir\u001b[38;5;241m=\u001b[39mbase_dir \u001b[38;5;241m/\u001b[39m \u001b[38;5;124m\"\u001b[39m\u001b[38;5;124moption data\u001b[39m\u001b[38;5;124m\"\u001b[39m,\n\u001b[0;32m   1296\u001b[0m         data_frq\u001b[38;5;241m=\u001b[39msave_per,\n\u001b[0;32m   1297\u001b[0m         return_df\u001b[38;5;241m=\u001b[39mreturn_df,\n\u001b[0;32m   1298\u001b[0m         chunk_size\u001b[38;5;241m=\u001b[39mchunk_size\n\u001b[0;32m   1299\u001b[0m     )\n\u001b[0;32m   1300\u001b[0m \u001b[38;5;28;01melse\u001b[39;00m:\n\u001b[0;32m   1301\u001b[0m     csv_path \u001b[38;5;241m=\u001b[39m base_dir \u001b[38;5;241m/\u001b[39m \u001b[38;5;124m\"\u001b[39m\u001b[38;5;124moption data.csv\u001b[39m\u001b[38;5;124m\"\u001b[39m\n",
      "File \u001b[1;32mc:\\Users\\axell\\Desktop\\CBS\\master\\volpy\\wrds_lib.py:389\u001b[0m, in \u001b[0;36mfetch_options_data_multiplefiles\u001b[1;34m(db, begdate, enddate, tickers, output_dir, data_frq, return_df, chunk_size)\u001b[0m\n\u001b[0;32m    345\u001b[0m \u001b[38;5;28;01mwhile\u001b[39;00m \u001b[38;5;28;01mTrue\u001b[39;00m:\n\u001b[0;32m    346\u001b[0m     \u001b[38;5;66;03m# Hent data i chunks\u001b[39;00m\n\u001b[0;32m    347\u001b[0m     \u001b[38;5;66;03m# sql_chunk = f\"\"\"\u001b[39;00m\n\u001b[1;32m   (...)\u001b[0m\n\u001b[0;32m    371\u001b[0m     \u001b[38;5;66;03m#     LIMIT {chunk_size} OFFSET {offset}\u001b[39;00m\n\u001b[0;32m    372\u001b[0m     \u001b[38;5;66;03m# \"\"\"\u001b[39;00m\n\u001b[0;32m    374\u001b[0m     sql_chunk \u001b[38;5;241m=\u001b[39m \u001b[38;5;124mf\u001b[39m\u001b[38;5;124m\"\"\"\u001b[39m\n\u001b[0;32m    375\u001b[0m \u001b[38;5;124m        SELECT o.secid, s.ticker, o.optionid,\u001b[39m\n\u001b[0;32m    376\u001b[0m \u001b[38;5;124m            o.date, o.exdate, o.cp_flag, o.strike_price,\u001b[39m\n\u001b[1;32m   (...)\u001b[0m\n\u001b[0;32m    386\u001b[0m \u001b[38;5;124m        LIMIT \u001b[39m\u001b[38;5;132;01m{\u001b[39;00mchunk_size\u001b[38;5;132;01m}\u001b[39;00m\u001b[38;5;124m OFFSET \u001b[39m\u001b[38;5;132;01m{\u001b[39;00moffset\u001b[38;5;132;01m}\u001b[39;00m\n\u001b[0;32m    387\u001b[0m \u001b[38;5;124m    \u001b[39m\u001b[38;5;124m\"\"\"\u001b[39m \n\u001b[1;32m--> 389\u001b[0m     chunk \u001b[38;5;241m=\u001b[39m db\u001b[38;5;241m.\u001b[39mraw_sql(sql_chunk, date_cols\u001b[38;5;241m=\u001b[39m[\u001b[38;5;124m\"\u001b[39m\u001b[38;5;124mdate\u001b[39m\u001b[38;5;124m\"\u001b[39m, \u001b[38;5;124m\"\u001b[39m\u001b[38;5;124mexdate\u001b[39m\u001b[38;5;124m\"\u001b[39m])\n\u001b[0;32m    391\u001b[0m     \u001b[38;5;28;01mif\u001b[39;00m chunk\u001b[38;5;241m.\u001b[39mempty:\n\u001b[0;32m    392\u001b[0m         \u001b[38;5;28;01mbreak\u001b[39;00m  \u001b[38;5;66;03m# ingen flere data i dette år\u001b[39;00m\n",
      "File \u001b[1;32m~\\AppData\\Roaming\\Python\\Python311\\site-packages\\wrds\\sql.py:590\u001b[0m, in \u001b[0;36mConnection.raw_sql\u001b[1;34m(self, sql, coerce_float, date_cols, index_col, params, chunksize, return_iter, dtype, dtype_backend)\u001b[0m\n\u001b[0;32m    588\u001b[0m \u001b[38;5;28;01melse\u001b[39;00m:\n\u001b[0;32m    589\u001b[0m     full_df \u001b[38;5;241m=\u001b[39m pd\u001b[38;5;241m.\u001b[39mDataFrame()\n\u001b[1;32m--> 590\u001b[0m     \u001b[38;5;28;01mfor\u001b[39;00m chunk \u001b[38;5;129;01min\u001b[39;00m df:\n\u001b[0;32m    591\u001b[0m         full_df \u001b[38;5;241m=\u001b[39m pd\u001b[38;5;241m.\u001b[39mconcat([full_df, chunk])\n\u001b[0;32m    592\u001b[0m     \u001b[38;5;28;01mreturn\u001b[39;00m full_df\n",
      "File \u001b[1;32mc:\\Users\\axell\\anaconda3\\Lib\\site-packages\\pandas\\io\\sql.py:1769\u001b[0m, in \u001b[0;36mSQLDatabase._query_iterator\u001b[1;34m(result, exit_stack, chunksize, columns, index_col, coerce_float, parse_dates, dtype, dtype_backend)\u001b[0m\n\u001b[0;32m   1766\u001b[0m     \u001b[38;5;28;01mbreak\u001b[39;00m\n\u001b[0;32m   1768\u001b[0m has_read_data \u001b[38;5;241m=\u001b[39m \u001b[38;5;28;01mTrue\u001b[39;00m\n\u001b[1;32m-> 1769\u001b[0m \u001b[38;5;28;01myield\u001b[39;00m _wrap_result(\n\u001b[0;32m   1770\u001b[0m     data,\n\u001b[0;32m   1771\u001b[0m     columns,\n\u001b[0;32m   1772\u001b[0m     index_col\u001b[38;5;241m=\u001b[39mindex_col,\n\u001b[0;32m   1773\u001b[0m     coerce_float\u001b[38;5;241m=\u001b[39mcoerce_float,\n\u001b[0;32m   1774\u001b[0m     parse_dates\u001b[38;5;241m=\u001b[39mparse_dates,\n\u001b[0;32m   1775\u001b[0m     dtype\u001b[38;5;241m=\u001b[39mdtype,\n\u001b[0;32m   1776\u001b[0m     dtype_backend\u001b[38;5;241m=\u001b[39mdtype_backend,\n\u001b[0;32m   1777\u001b[0m )\n",
      "File \u001b[1;32mc:\\Users\\axell\\anaconda3\\Lib\\site-packages\\pandas\\io\\sql.py:204\u001b[0m, in \u001b[0;36m_wrap_result\u001b[1;34m(data, columns, index_col, coerce_float, parse_dates, dtype, dtype_backend)\u001b[0m\n\u001b[0;32m    194\u001b[0m \u001b[38;5;28;01mdef\u001b[39;00m \u001b[38;5;21m_wrap_result\u001b[39m(\n\u001b[0;32m    195\u001b[0m     data,\n\u001b[0;32m    196\u001b[0m     columns,\n\u001b[1;32m   (...)\u001b[0m\n\u001b[0;32m    201\u001b[0m     dtype_backend: DtypeBackend \u001b[38;5;241m|\u001b[39m Literal[\u001b[38;5;124m\"\u001b[39m\u001b[38;5;124mnumpy\u001b[39m\u001b[38;5;124m\"\u001b[39m] \u001b[38;5;241m=\u001b[39m \u001b[38;5;124m\"\u001b[39m\u001b[38;5;124mnumpy\u001b[39m\u001b[38;5;124m\"\u001b[39m,\n\u001b[0;32m    202\u001b[0m ):\n\u001b[0;32m    203\u001b[0m \u001b[38;5;250m    \u001b[39m\u001b[38;5;124;03m\"\"\"Wrap result set of a SQLAlchemy query in a DataFrame.\"\"\"\u001b[39;00m\n\u001b[1;32m--> 204\u001b[0m     frame \u001b[38;5;241m=\u001b[39m _convert_arrays_to_dataframe(data, columns, coerce_float, dtype_backend)\n\u001b[0;32m    206\u001b[0m     \u001b[38;5;28;01mif\u001b[39;00m dtype:\n\u001b[0;32m    207\u001b[0m         frame \u001b[38;5;241m=\u001b[39m frame\u001b[38;5;241m.\u001b[39mastype(dtype)\n",
      "File \u001b[1;32mc:\\Users\\axell\\anaconda3\\Lib\\site-packages\\pandas\\io\\sql.py:167\u001b[0m, in \u001b[0;36m_convert_arrays_to_dataframe\u001b[1;34m(data, columns, coerce_float, dtype_backend)\u001b[0m\n\u001b[0;32m    160\u001b[0m \u001b[38;5;28;01mdef\u001b[39;00m \u001b[38;5;21m_convert_arrays_to_dataframe\u001b[39m(\n\u001b[0;32m    161\u001b[0m     data,\n\u001b[0;32m    162\u001b[0m     columns,\n\u001b[0;32m    163\u001b[0m     coerce_float: \u001b[38;5;28mbool\u001b[39m \u001b[38;5;241m=\u001b[39m \u001b[38;5;28;01mTrue\u001b[39;00m,\n\u001b[0;32m    164\u001b[0m     dtype_backend: DtypeBackend \u001b[38;5;241m|\u001b[39m Literal[\u001b[38;5;124m\"\u001b[39m\u001b[38;5;124mnumpy\u001b[39m\u001b[38;5;124m\"\u001b[39m] \u001b[38;5;241m=\u001b[39m \u001b[38;5;124m\"\u001b[39m\u001b[38;5;124mnumpy\u001b[39m\u001b[38;5;124m\"\u001b[39m,\n\u001b[0;32m    165\u001b[0m ) \u001b[38;5;241m-\u001b[39m\u001b[38;5;241m>\u001b[39m DataFrame:\n\u001b[0;32m    166\u001b[0m     content \u001b[38;5;241m=\u001b[39m lib\u001b[38;5;241m.\u001b[39mto_object_array_tuples(data)\n\u001b[1;32m--> 167\u001b[0m     arrays \u001b[38;5;241m=\u001b[39m convert_object_array(\n\u001b[0;32m    168\u001b[0m         \u001b[38;5;28mlist\u001b[39m(content\u001b[38;5;241m.\u001b[39mT),\n\u001b[0;32m    169\u001b[0m         dtype\u001b[38;5;241m=\u001b[39m\u001b[38;5;28;01mNone\u001b[39;00m,\n\u001b[0;32m    170\u001b[0m         coerce_float\u001b[38;5;241m=\u001b[39mcoerce_float,\n\u001b[0;32m    171\u001b[0m         dtype_backend\u001b[38;5;241m=\u001b[39mdtype_backend,\n\u001b[0;32m    172\u001b[0m     )\n\u001b[0;32m    173\u001b[0m     \u001b[38;5;28;01mif\u001b[39;00m dtype_backend \u001b[38;5;241m==\u001b[39m \u001b[38;5;124m\"\u001b[39m\u001b[38;5;124mpyarrow\u001b[39m\u001b[38;5;124m\"\u001b[39m:\n\u001b[0;32m    174\u001b[0m         pa \u001b[38;5;241m=\u001b[39m import_optional_dependency(\u001b[38;5;124m\"\u001b[39m\u001b[38;5;124mpyarrow\u001b[39m\u001b[38;5;124m\"\u001b[39m)\n",
      "File \u001b[1;32mc:\\Users\\axell\\anaconda3\\Lib\\site-packages\\pandas\\core\\internals\\construction.py:1070\u001b[0m, in \u001b[0;36mconvert_object_array\u001b[1;34m(content, dtype, dtype_backend, coerce_float)\u001b[0m\n\u001b[0;32m   1066\u001b[0m             arr \u001b[38;5;241m=\u001b[39m maybe_cast_to_datetime(arr, dtype)\n\u001b[0;32m   1068\u001b[0m     \u001b[38;5;28;01mreturn\u001b[39;00m arr\n\u001b[1;32m-> 1070\u001b[0m arrays \u001b[38;5;241m=\u001b[39m [convert(arr) \u001b[38;5;28;01mfor\u001b[39;00m arr \u001b[38;5;129;01min\u001b[39;00m content]\n\u001b[0;32m   1072\u001b[0m \u001b[38;5;28;01mreturn\u001b[39;00m arrays\n",
      "File \u001b[1;32mc:\\Users\\axell\\anaconda3\\Lib\\site-packages\\pandas\\core\\internals\\construction.py:1070\u001b[0m, in \u001b[0;36m<listcomp>\u001b[1;34m(.0)\u001b[0m\n\u001b[0;32m   1066\u001b[0m             arr \u001b[38;5;241m=\u001b[39m maybe_cast_to_datetime(arr, dtype)\n\u001b[0;32m   1068\u001b[0m     \u001b[38;5;28;01mreturn\u001b[39;00m arr\n\u001b[1;32m-> 1070\u001b[0m arrays \u001b[38;5;241m=\u001b[39m [convert(arr) \u001b[38;5;28;01mfor\u001b[39;00m arr \u001b[38;5;129;01min\u001b[39;00m content]\n\u001b[0;32m   1072\u001b[0m \u001b[38;5;28;01mreturn\u001b[39;00m arrays\n",
      "File \u001b[1;32mc:\\Users\\axell\\anaconda3\\Lib\\site-packages\\pandas\\core\\internals\\construction.py:1043\u001b[0m, in \u001b[0;36mconvert_object_array.<locals>.convert\u001b[1;34m(arr)\u001b[0m\n\u001b[0;32m   1035\u001b[0m \u001b[38;5;66;03m# Notes on cases that get here 2023-02-15\u001b[39;00m\n\u001b[0;32m   1036\u001b[0m \u001b[38;5;66;03m# 1) we DO get here when arr is all Timestamps and dtype=None\u001b[39;00m\n\u001b[0;32m   1037\u001b[0m \u001b[38;5;66;03m# 2) disabling this doesn't break the world, so this must be\u001b[39;00m\n\u001b[0;32m   1038\u001b[0m \u001b[38;5;66;03m#    getting caught at a higher level\u001b[39;00m\n\u001b[0;32m   1039\u001b[0m \u001b[38;5;66;03m# 3) passing convert_non_numeric to maybe_convert_objects get this right\u001b[39;00m\n\u001b[0;32m   1040\u001b[0m \u001b[38;5;66;03m# 4) convert_non_numeric?\u001b[39;00m\n\u001b[0;32m   1042\u001b[0m \u001b[38;5;28;01mif\u001b[39;00m dtype \u001b[38;5;129;01mis\u001b[39;00m \u001b[38;5;28;01mNone\u001b[39;00m:\n\u001b[1;32m-> 1043\u001b[0m     \u001b[38;5;28;01mif\u001b[39;00m arr\u001b[38;5;241m.\u001b[39mdtype \u001b[38;5;241m==\u001b[39m np\u001b[38;5;241m.\u001b[39mdtype(\u001b[38;5;124m\"\u001b[39m\u001b[38;5;124mO\u001b[39m\u001b[38;5;124m\"\u001b[39m):\n\u001b[0;32m   1044\u001b[0m         \u001b[38;5;66;03m# i.e. maybe_convert_objects didn't convert\u001b[39;00m\n\u001b[0;32m   1045\u001b[0m         arr \u001b[38;5;241m=\u001b[39m maybe_infer_to_datetimelike(arr)\n\u001b[0;32m   1046\u001b[0m         \u001b[38;5;28;01mif\u001b[39;00m dtype_backend \u001b[38;5;241m!=\u001b[39m \u001b[38;5;124m\"\u001b[39m\u001b[38;5;124mnumpy\u001b[39m\u001b[38;5;124m\"\u001b[39m \u001b[38;5;129;01mand\u001b[39;00m arr\u001b[38;5;241m.\u001b[39mdtype \u001b[38;5;241m==\u001b[39m np\u001b[38;5;241m.\u001b[39mdtype(\u001b[38;5;124m\"\u001b[39m\u001b[38;5;124mO\u001b[39m\u001b[38;5;124m\"\u001b[39m):\n",
      "\u001b[1;31mKeyboardInterrupt\u001b[0m: "
     ]
    }
   ],
   "source": [
    "importlib.reload(wl)\n",
    "\n",
    "wl.fetch_wrds_data(\n",
    "    db = db, \n",
    "    folder_name=\"OEX\",\n",
    "    begdate=\"1996-01-01\", \n",
    "    enddate=\"2024-12-31\", #2024-12-31 2003-02-28\n",
    "    save_per=\"Y\", #None \"Y\" \"M\"\n",
    "    tickers = [\"OEX\", \"OEF\",\"AA\", \"AAPL\", \"ABBV\", \"ABT\", \"ACN\", \"ADBE\", \n",
    "               \"AEP\", \"AES\", \"AGN\", \"AIG\", \"ALL\", \"AMD\", \"AMGN\", \"AMT\", \n",
    "               \"AMZN\", \"APA\", \"APC\", \"ATI\", \"AVGO\", \"AVP\", \"AXP\", \"BA\", \n",
    "               \"BAC\", \"BAX\", \"BDK\", \"BHI\", \"BIIB\", \"BK\", \"BKNG\", \"BMY\", \n",
    "               \"BNI\", \"BRK\", \"BUD\", \"C\", \"CAT\", \"CELG\", \"CGP\", \"CHTR\", \"CI\", \n",
    "               \"CL\", \"CLB\", \"CMCSA\", \"CMCSK\", \"COF\", \"COP\", \"COST\", \"COV\", \n",
    "               \"CPB\", \"CRM\", \"CSC\", \"CSCO\", \"CVS\", \"CVX\", \"DAL\", \"DD\", \"DE\", \n",
    "               \"DELL\", \"DHR\", \"DIS\", \"DOW\", \"DUK\", \"DVN\", \"EBAY\", \"EMC\", \"EMR\", \n",
    "               \"ENE\", \"EP\", \"ETR\", \"EXC\", \"F\", \"FCX\", \"FDX\", \"G\", \"GBLX\", \"GD\", \n",
    "               \"GE\", \"GILD\", \"GM\", \"GOOG\", \"GOOGL\", \"GS\", \"GTX\", \"HAL\", \"HCA\", \n",
    "               \"HD\", \"HET\", \"HIG\", \"HNZ\", \"HON\", \"HPQ\", \"HSH\", \"IBM\", \"INTC\", \n",
    "               \"IP\", \"JCI\", \"JNJ\", \"JPM\", \"KHC\", \"KMI\", \"KO\", \"LEH\", \"LIN\", \n",
    "               \"LLY\", \"LMT\", \"LOW\", \"MA\", \"MAY\", \"MCD\", \"MDLZ\", \"MDT\", \"MER\", \n",
    "               \"MET\", \"META\", \"MMM\", \"MO\", \"MON\", \"MRK\", \"MS\", \"MSFT\", \"NEE\", \n",
    "               \"NFLX\", \"NKE\", \"NOV\", \"NSC\", \"NSM\", \"NT\", \"NVDA\", \"NXTL\", \"NYX\", \n",
    "               \"OMX\", \"ONE\", \"ORCL\", \"OXY\", \"PARA\", \"PEP\", \"PFE\", \"PG\", \"PM\", \n",
    "               \"PNU\", \"PYPL\", \"QCOM\", \"RAL\", \"RF\", \"ROK\", \"RSH\", \"RTN\", \"RTX\", \n",
    "               \"S\", \"SBUX\", \"SCHW\", \"SGP\", \"SLB\", \"SO\", \"SPG\", \"T\", \"TGT\", \"TMO\", \n",
    "               \"TMUS\", \"TOY\", \"TSLA\", \"TWX\", \"TXN\", \"UBAN\", \"UIS\", \"UNH\", \"UNP\", \n",
    "               \"UPS\", \"USB\", \"V\", \"VZ\", \"WB\", \"WBA\", \"WFC\", \"WMB\", \"WMT\", \"WY\", \n",
    "               \"WYE\", \"XOM\", \"XRX\"],\n",
    "    progress=True,\n",
    "    chunk_size=4000000,\n",
    "    return_df=False\n",
    ") \n",
    "\n",
    "\n",
    "wl.fetch_wrds_data(\n",
    "    db = db,\n",
    "    folder_name=\"Liquid_ETFs\",\n",
    "    begdate=\"1996-01-01\", \n",
    "    enddate=\"2024-12-31\", #2024-12-31 2003-02-28\n",
    "    save_per=\"Y\", #None \"Y\" \"M\"\n",
    "    tickers = [\"SPX\", \"OEX\", \"DJX\", \"NDX\", \"SPY\", \"OEF\", \"DIA\", \"QQQ\"],\n",
    "    progress=True,\n",
    "    chunk_size=4000000,\n",
    "    return_df=False\n",
    ") \n",
    "\n",
    "\n",
    "wl.fetch_wrds_data(\n",
    "    db = db,\n",
    "    folder_name=\"Cross_AM\",\n",
    "    begdate=\"1996-01-01\", \n",
    "    enddate=\"2024-12-31\", #2024-12-31 2003-02-28\n",
    "    save_per=\"Y\", #None \"Y\" \"M\"\n",
    "    tickers = [\"SPX\", \"VGK\", \"FXI\", \"EWJ\", \"EWZ\", \"INDA\", \"EZA\", \"EWC\", \n",
    "               \"EWU\", \"EWY\", \"EWA\", \"EWW\", \"VNQ\", \"TLT\", \"SHY\", \"TIP\", \n",
    "               \"LQD\", \"HYG\", \"EMB\", \"IAU\", \"SLV\", \"UNG\", \"USO\", \"UVXY\", \n",
    "               \"UUP\", \"FXE\", \"FXY\", \"CEW\", \"BITO\" ],\n",
    "    progress=True,\n",
    "    chunk_size=4000000,\n",
    "    return_df=False\n",
    ") \n",
    "\n",
    "\n",
    "\n",
    "wl.fetch_wrds_data(\n",
    "    db = db,\n",
    "    folder_name=\"VIX\",\n",
    "    begdate=\"1996-01-01\", \n",
    "    enddate=\"2024-12-31\", #2024-12-31 2003-02-28\n",
    "    save_per=\"Y\", #None \"Y\" \"M\"\n",
    "    tickers = [\"SPX\", \"GOOGL\", \"AMZN\", \"DIA\", \"IWM\", \"QQQ\", \"AAPL\", \"EWZ\", \"USO\", \"GS\", \"EEM\", \"FXE\", \"SLV\", \"IBM\", \"TLT\"],\n",
    "    progress=True,\n",
    "    chunk_size=4000000,\n",
    "    return_df=False\n",
    ") \n",
    "\n"
   ]
  },
  {
   "cell_type": "code",
   "execution_count": null,
   "metadata": {},
   "outputs": [
    {
     "name": "stdout",
     "output_type": "stream",
     "text": [
      "Importing O-data split per 'Y' into folder: C:\\Users\\axell\\Desktop\\CBS\\data\\OptionMetrics\\OEX_constituents_short5\n"
     ]
    },
    {
     "name": "stderr",
     "output_type": "stream",
     "text": [
      "Collecting data: 100%|██████████| 8/8 [03:40<00:00, 27.58s/years]\n"
     ]
    },
    {
     "name": "stdout",
     "output_type": "stream",
     "text": [
      "Importing F-data into: C:\\Users\\axell\\Desktop\\CBS\\data\\OptionMetrics\\OEX_constituents_short5\\forward price.csv\n"
     ]
    },
    {
     "name": "stderr",
     "output_type": "stream",
     "text": [
      "Collecting data: 100%|██████████| 8/8 [00:12<00:00,  1.58s/years]\n"
     ]
    },
    {
     "name": "stdout",
     "output_type": "stream",
     "text": [
      "Data collected and saved: 918503 rows.\n",
      "Importing S-data into: C:\\Users\\axell\\Desktop\\CBS\\data\\OptionMetrics\\OEX_constituents_short5\\returns and stock price.csv\n",
      "Data collected and saved: 188267 rows.\n",
      "Importing Z-data into: C:\\Users\\axell\\Desktop\\CBS\\data\\OptionMetrics\\OEX_constituents_short5\\ZC yield curve.csv\n",
      "Data collected and saved: 19285 rows.\n"
     ]
    }
   ],
   "source": [
    "#cerate data directly from api \n",
    "importlib.reload(wl)\n",
    "\n",
    "# axel pseuodo opt chunk_size = 4000000\n",
    "\n",
    "wl.fetch_wrds_data(\n",
    "    db = db,\n",
    "    folder_name=\"OEX_constituents_short5\",\n",
    "    begdate=\"1996-01-01\", \n",
    "    enddate=\"2003-12-31\", #2024-12-31 2003-02-28\n",
    "    save_per=\"Y\", #None \"Y\" \"M\"\n",
    "    tickers = [\"AA\", \"AEP\", \"AES\", \"AIG\", \"ALL\", \"AMGN\", \"ATI\", \"AVP\", \n",
    "             \"AXP\", \"BA\", \"BAC\", \"BAX\", \"BDK\", \"BHI\", \"BMY\", \"BNI\", \n",
    "             \"BUD\", \"C\", \"CGP\", \"CI\", \"CL\", \"CPB\", \"CSC\", \"CSCO\", \n",
    "             \"DAL\", \"DD\", \"DIS\", \"DOW\", \"EMC\", \"ENE\", \"EP\", \"ETR\", \n",
    "             \"EXC\", \"F\", \"FDX\", \"G\", \"GBLX\", \"GD\", \"GE\", \"GM\", \"GS\", \n",
    "             \"HAL\", \"HCA\", \"HD\", \"HET\", \"HIG\", \"HNZ\", \"HON\", \"HPQ\", \"HSH\", \n",
    "             \"IBM\", \"INTC\", \"IP\", \"JCI\", \"JNJ\", \"JPM\", \"KO\", \"LEH\", \"MAY\", \n",
    "             \"MCD\", \"MDT\", \"MER\", \"MMM\", \"MO\", \"MRK\", \"MS\", \"MSFT\", \"NSC\", \n",
    "             \"NSM\", \"NT\", \"NXTL\", \"OMX\", \"ONE\", \"ORCL\", \"PARA\", \"PEP\", \n",
    "             \"PFE\", \"PG\", \"PNU\", \"RAL\", \"ROK\", \"RSH\", \"RTN\", \"RTX\", \"S\", \n",
    "             \"SLB\", \"SO\", \"T\", \"TOY\", \"TWX\", \"TXN\", \"UBAN\", \"UIS\", \"USB\", \n",
    "             \"VZ\", \"WFC\", \"WMB\", \"WMT\", \"WY\", \"XOM\", \"XRX\"],\n",
    "    progress=True,\n",
    "    chunk_size=4000000,\n",
    "    return_df=False\n",
    ") \n",
    "\n",
    "# HUSK AT ÆNDRE SETTINGS FOR ISSUER_TYPE !!!!!!\n",
    "\n",
    "\n",
    "# [\n",
    "#         \"SPX\", \"VGK\", \"FXI\", \"EWJ\", \"EWZ\", \"INDA\", \"EZA\", \"EWC\",\n",
    "#         \"EWU\", \"EWY\", \"EWA\", \"EWW\", \"VNQ\",\n",
    "#         \"TLT\", \"SHY\", \"TIP\", \"LQD\", \"HYG\", \"EMB\",\n",
    "#         \"IAU\", \"SLV\", \"UNG\", \"USO\", \"UVXY\",\n",
    "#         \"UUP\", \"FXE\", \"FXY\", \"CEW\", \"BITO\"],\n",
    "\n",
    "# [\"OEX\", \"AA\", \"AEP\", \"AES\", \"AIG\", \"ALL\", \"AMGN\", \"ATI\", \"AVP\", \n",
    "#              \"AXP\", \"BA\", \"BAC\", \"BAX\", \"BDK\", \"BHI\", \"BMY\", \"BNI\", \n",
    "#              \"BUD\", \"C\", \"CGP\", \"CI\", \"CL\", \"CPB\", \"CSC\", \"CSCO\", \n",
    "#              \"DAL\", \"DD\", \"DIS\", \"DOW\", \"EMC\", \"ENE\", \"EP\", \"ETR\", \n",
    "#              \"EXC\", \"F\", \"FDX\", \"G\", \"GBLX\", \"GD\", \"GE\", \"GM\", \"GS\", \n",
    "#              \"HAL\", \"HCA\", \"HD\", \"HET\", \"HIG\", \"HNZ\", \"HON\", \"HPQ\", \"HSH\", \n",
    "#              \"IBM\", \"INTC\", \"IP\", \"JCI\", \"JNJ\", \"JPM\", \"KO\", \"LEH\", \"MAY\", \n",
    "#              \"MCD\", \"MDT\", \"MER\", \"MMM\", \"MO\", \"MRK\", \"MS\", \"MSFT\", \"NSC\", \n",
    "#              \"NSM\", \"NT\", \"NXTL\", \"OMX\", \"ONE\", \"ORCL\", \"PARA\", \"PEP\", \n",
    "#              \"PFE\", \"PG\", \"PNU\", \"RAL\", \"ROK\", \"RSH\", \"RTN\", \"RTX\", \"S\", \n",
    "#              \"SLB\", \"SO\", \"T\", \"TOY\", \"TWX\", \"TXN\", \"UBAN\", \"UIS\", \"USB\", \n",
    "#              \"VZ\", \"WFC\", \"WMB\", \"WMT\", \"WY\", \"XOM\", \"XRX\"],\n",
    "\n",
    "\n",
    "\n",
    "# # [\"OEX\", \"AIG\", \"AA\", \"AMGN\", \"AAPL\", \"T\", \"BA\", \"BAC\", \"BMY\", \"C\", \"CAT\",\n",
    "#             \"CVX\", \"KO\", \"DD\", \"DE\", \"DOW\", \"XOM\", \"FDX\", \"F\", \"GD\", \"GE\",\n",
    "#             \"GM\", \"HD\", \"HON\", \"HPQ\", \"IBM\", \"INTC\", \"JNJ\", \"JPM\", \"KMB\", \"LLY\",\n",
    "#             \"LMT\", \"LOW\", \"MCD\", \"MDT\", \"MRK\", \"MSFT\", \"MMM\", \"MO\", \"NKE\", \"PFE\",\n",
    "#             \"PG\", \"RTN\", \"SBUX\", \"TGT\", \"TXN\", \"UNH\", \"VZ\", \"WMT\", \"DIS\", \"XRX\"], #[\"SPX\",\"OEX\",\"DJX\",\"NDX\",\"MSFT\",\"IBM\",\"GE\",\"AMZN\"]"
   ]
  },
  {
   "cell_type": "markdown",
   "metadata": {},
   "source": [
    "# Create factor file"
   ]
  },
  {
   "cell_type": "code",
   "execution_count": 2,
   "metadata": {
    "ExecuteTime": {
     "end_time": "2025-04-23T07:08:44.797974Z",
     "start_time": "2025-04-23T07:08:43.623701Z"
    }
   },
   "outputs": [],
   "source": [
    "import importlib\n",
    "import load_clean_lib\n",
    "import pandas as pd"
   ]
  },
  {
   "cell_type": "code",
   "execution_count": 35,
   "metadata": {
    "ExecuteTime": {
     "end_time": "2025-04-21T11:11:58.600024Z",
     "start_time": "2025-04-21T11:08:19.985869Z"
    }
   },
   "outputs": [
    {
     "name": "stdout",
     "output_type": "stream",
     "text": [
      "add other vol indexes\n"
     ]
    }
   ],
   "source": [
    "importlib.reload(load_clean_lib)\n",
    "factor_df = load_clean_lib.download_factor_df()\n",
    "factor_df.to_csv(\"data/factor_df.csv\")"
   ]
  },
  {
   "cell_type": "markdown",
   "metadata": {},
   "source": [
    "# Swap rate (sum_df and od_raw)"
   ]
  },
  {
   "cell_type": "code",
   "execution_count": 4,
   "metadata": {
    "ExecuteTime": {
     "end_time": "2025-04-23T08:14:45.089552Z",
     "start_time": "2025-04-23T08:14:45.081667Z"
    }
   },
   "outputs": [
    {
     "data": {
      "text/plain": [
       "<module 'option_returns' from 'c:\\\\Users\\\\axell\\\\Desktop\\\\CBS\\\\master\\\\volpy\\\\option_returns.py'>"
      ]
     },
     "execution_count": 4,
     "metadata": {},
     "output_type": "execute_result"
    }
   ],
   "source": [
    "import importlib\n",
    "import volpy_func_lib as vp\n",
    "import load_clean_lib\n",
    "import table_lib\n",
    "import vol_strat_lib as vs\n",
    "import option_returns as orpy\n",
    "from global_settings import *\n",
    "\n",
    "importlib.reload(vp)\n",
    "importlib.reload(load_clean_lib)\n",
    "importlib.reload(table_lib)\n",
    "importlib.reload(vs)\n",
    "importlib.reload(orpy)"
   ]
  },
  {
   "cell_type": "code",
   "execution_count": 238,
   "metadata": {
    "ExecuteTime": {
     "end_time": "2025-04-23T08:22:33.093972Z",
     "start_time": "2025-04-23T08:14:48.907888Z"
    }
   },
   "outputs": [
    {
     "name": "stdout",
     "output_type": "stream",
     "text": [
      "t_ was selected in global_settings.py\n",
      "Data loaded\n"
     ]
    },
    {
     "name": "stderr",
     "output_type": "stream",
     "text": [
      "Processing Groups: 100%|██████████| 24902/24902 [00:20<00:00, 1206.94it/s]\n"
     ]
    }
   ],
   "source": [
    "ticker_list = None #[\"SPX\", \"OEX\"]\n",
    "IV_type = \"om\" # om = OptionMetrics IV, \"bid\"/\"ask\"/\"mid\" price\n",
    "om_folder = \"oex_only2\" #i4s4_CW, SPX_short, SPX_full, i2s1_full_v2, vix_markets_full\n",
    "\n",
    "sum_df1, od_df1 = vp.load_analyze_create_swap(\n",
    "    om_folder=om_folder, \n",
    "    ticker_list=ticker_list, \n",
    "    first_day=None, \n",
    "    last_day=None, \n",
    "    IV_type=IV_type, \n",
    "    save_files = True,\n",
    "    safe_slow_IV = False\n",
    ")"
   ]
  },
  {
   "cell_type": "markdown",
   "metadata": {},
   "source": [
    "### version with chunking "
   ]
  },
  {
   "cell_type": "code",
   "execution_count": 14,
   "metadata": {},
   "outputs": [
    {
     "name": "stdout",
     "output_type": "stream",
     "text": [
      "t_ was selected in global_settings.py\n",
      "Data loaded\n"
     ]
    },
    {
     "name": "stderr",
     "output_type": "stream",
     "text": [
      "Processing Groups: 100%|██████████| 17522/17522 [00:13<00:00, 1265.36it/s]\n"
     ]
    },
    {
     "name": "stdout",
     "output_type": "stream",
     "text": [
      "t_ was selected in global_settings.py\n",
      "Data loaded\n"
     ]
    },
    {
     "name": "stderr",
     "output_type": "stream",
     "text": [
      "Processing Groups: 100%|██████████| 24856/24856 [00:20<00:00, 1186.83it/s]\n"
     ]
    },
    {
     "name": "stdout",
     "output_type": "stream",
     "text": [
      "t_ was selected in global_settings.py\n",
      "Data loaded\n"
     ]
    },
    {
     "name": "stderr",
     "output_type": "stream",
     "text": [
      "Processing Groups: 100%|██████████| 25812/25812 [00:22<00:00, 1130.41it/s]\n"
     ]
    },
    {
     "name": "stdout",
     "output_type": "stream",
     "text": [
      "t_ was selected in global_settings.py\n",
      "Data loaded\n"
     ]
    },
    {
     "name": "stderr",
     "output_type": "stream",
     "text": [
      "Processing Groups: 100%|██████████| 27062/27062 [00:23<00:00, 1147.13it/s]\n"
     ]
    },
    {
     "name": "stdout",
     "output_type": "stream",
     "text": [
      "t_ was selected in global_settings.py\n",
      "Data loaded\n"
     ]
    },
    {
     "name": "stderr",
     "output_type": "stream",
     "text": [
      "Processing Groups: 100%|██████████| 28748/28748 [00:24<00:00, 1163.80it/s]\n"
     ]
    },
    {
     "name": "stdout",
     "output_type": "stream",
     "text": [
      "t_ was selected in global_settings.py\n",
      "Data loaded\n"
     ]
    },
    {
     "name": "stderr",
     "output_type": "stream",
     "text": [
      "Processing Groups: 100%|██████████| 27582/27582 [00:22<00:00, 1234.10it/s]\n"
     ]
    },
    {
     "name": "stdout",
     "output_type": "stream",
     "text": [
      "t_ was selected in global_settings.py\n",
      "Data loaded\n"
     ]
    },
    {
     "name": "stderr",
     "output_type": "stream",
     "text": [
      "Processing Groups: 100%|██████████| 25970/25970 [00:21<00:00, 1183.74it/s]\n"
     ]
    },
    {
     "name": "stdout",
     "output_type": "stream",
     "text": [
      "t_ was selected in global_settings.py\n",
      "Data loaded\n"
     ]
    },
    {
     "name": "stderr",
     "output_type": "stream",
     "text": [
      "Processing Groups: 100%|██████████| 21782/21782 [00:18<00:00, 1190.96it/s]\n"
     ]
    }
   ],
   "source": [
    "ticker_list = None #[\"SPX\", \"OEX\"] \n",
    "IV_type = \"om\" # om = OptionMetrics IV, \"bid\"/\"ask\"/\"mid\" price \n",
    "om_folder = \"OEX_constituents_short5\" #i4s4_CW, SPX_short, SPX_full, i2s1_full_v2, vix_markets_full \n",
    "\n",
    "sum_df = vp.load_analyze_create_swap_chunks(\n",
    "    om_folder=om_folder, \n",
    "    ticker_list=ticker_list, \n",
    "    first_day=None, \n",
    "    last_day=None, \n",
    "    IV_type=IV_type, \n",
    "    save_files = True,\n",
    "    safe_slow_IV = False)"
   ]
  },
  {
   "cell_type": "markdown",
   "metadata": {},
   "source": [
    "# Option Strategies (sum_df_big and df_orpy) straddle, butterfly ect."
   ]
  },
  {
   "cell_type": "code",
   "execution_count": 178,
   "metadata": {
    "ExecuteTime": {
     "start_time": "2025-04-23T08:22:33.127727Z"
    }
   },
   "outputs": [],
   "source": [
    "om_folder = \"TESTTT6\" #SPX_full, i2s1_full_v2, SPX_short\n",
    "sum_df, od_raw = vs.import_sum_raw(om_folder = om_folder)"
   ]
  },
  {
   "cell_type": "code",
   "execution_count": 179,
   "metadata": {
    "ExecuteTime": {
     "end_time": "2025-04-23T08:25:43.490975Z",
     "start_time": "2025-04-23T08:23:30.830879Z"
    }
   },
   "outputs": [],
   "source": [
    "price_type = \"mid\"\n",
    "IV_type = \"om\"\n",
    "OTMs = [0.05, 0.15]\n",
    "\n",
    "sum_df1, df_orpy1 = vs.create_option_sgys(\n",
    "    sum_df, \n",
    "    od_raw, \n",
    "    price_type=price_type, \n",
    "    IV_type=IV_type, \n",
    "    OTMs=OTMs, \n",
    "    om_folder = om_folder,\n",
    "    save_files=True\n",
    ")"
   ]
  },
  {
   "cell_type": "markdown",
   "metadata": {},
   "source": [
    "### version with chunking "
   ]
  },
  {
   "cell_type": "code",
   "execution_count": null,
   "metadata": {},
   "outputs": [],
   "source": [
    "# sum_df = pd.read_csv(r\"C:\\Users\\axell\\Desktop\\CBS\\data\\OptionMetrics\\volpy data output\\sp100_pseudo2\\t_summary_dly.csv\")\n",
    "# sum_df[\"date\"] = pd.to_datetime(sum_df[\"date\"])\n",
    "# sum_df[f\"return_next\"] = sum_df[f\"return\"].shift(-1)"
   ]
  },
  {
   "cell_type": "code",
   "execution_count": 15,
   "metadata": {},
   "outputs": [
    {
     "name": "stderr",
     "output_type": "stream",
     "text": [
      "Processing option chunks: 100%|██████████| 8/8 [01:11<00:00,  8.90s/file]\n"
     ]
    }
   ],
   "source": [
    "price_type = \"mid\"\n",
    "IV_type = \"om\"\n",
    "OTMs = [0.05, 0.15]\n",
    "om_folder = \"OEX_constituents_short5\"\n",
    "\n",
    "sum_df2, df_orpy2 = vs.create_option_sgys_from_chunks(\n",
    "    sum_df = sum_df, \n",
    "    price_type=price_type, \n",
    "    IV_type=IV_type, \n",
    "    OTMs=OTMs, \n",
    "    om_folder = om_folder,\n",
    "    save_files_each_chunk=False,\n",
    "    save_files=True #gemmer orpy som en stor\n",
    ")"
   ]
  },
  {
   "cell_type": "code",
   "execution_count": null,
   "metadata": {},
   "outputs": [
    {
     "data": {
      "text/plain": [
       "0             NaN\n",
       "1       -0.078932\n",
       "2       -0.235126\n",
       "3        0.405728\n",
       "4        0.218281\n",
       "           ...   \n",
       "92593         NaN\n",
       "92594         NaN\n",
       "92595         NaN\n",
       "92596         NaN\n",
       "92597         NaN\n",
       "Name: CF_30_straddle, Length: 92598, dtype: float64"
      ]
     },
     "execution_count": 213,
     "metadata": {},
     "output_type": "execute_result"
    }
   ],
   "source": [
    "df_orpy2['de']"
   ]
  },
  {
   "cell_type": "code",
   "execution_count": null,
   "metadata": {},
   "outputs": [],
   "source": [
    "sum_df2['close']"
   ]
  }
 ],
 "metadata": {
  "kernelspec": {
   "display_name": "base",
   "language": "python",
   "name": "python3"
  },
  "language_info": {
   "codemirror_mode": {
    "name": "ipython",
    "version": 3
   },
   "file_extension": ".py",
   "mimetype": "text/x-python",
   "name": "python",
   "nbconvert_exporter": "python",
   "pygments_lexer": "ipython3",
   "version": "3.11.5"
  }
 },
 "nbformat": 4,
 "nbformat_minor": 2
}
