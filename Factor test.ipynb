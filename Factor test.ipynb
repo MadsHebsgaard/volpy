{
 "cells": [
  {
   "cell_type": "code",
   "id": "initial_id",
   "metadata": {
    "collapsed": true,
    "ExecuteTime": {
     "end_time": "2025-03-29T16:16:28.659016Z",
     "start_time": "2025-03-29T16:16:28.655009Z"
    }
   },
   "source": [
    "from tarfile import data_filter\n",
    "\n",
    "import pandas as pd\n",
    "import numpy as np\n",
    "import importlib\n",
    "from datetime import datetime\n",
    "import matplotlib.pyplot as plt\n",
    "from dask.dataframe import read_csv\n",
    "from matplotlib.pyplot import xticks\n",
    "from pandas.core.interchange.dataframe_protocol import DataFrame\n",
    "from ply.cpp import xrange\n",
    "from pygments.lexer import bygroups\n",
    "\n",
    "import volpy_func_lib as vp\n",
    "import load_clean_lib\n",
    "import table_lib\n",
    "import vol_strat_lib as vs\n",
    "\n",
    "from datetime import datetime\n",
    "from volpy_func_lib import load_forward_price"
   ],
   "outputs": [],
   "execution_count": 34
  },
  {
   "metadata": {
    "ExecuteTime": {
     "end_time": "2025-03-29T16:16:29.277322Z",
     "start_time": "2025-03-29T16:16:29.269324Z"
    }
   },
   "cell_type": "code",
   "source": [
    "importlib.reload(vp)\n",
    "importlib.reload(load_clean_lib)\n",
    "importlib.reload(table_lib)"
   ],
   "id": "eba974faa3a74fa6",
   "outputs": [
    {
     "data": {
      "text/plain": [
       "<module 'table_lib' from 'D:\\\\Professionelt\\\\Code\\\\volpy\\\\table_lib.py'>"
      ]
     },
     "execution_count": 35,
     "metadata": {},
     "output_type": "execute_result"
    }
   ],
   "execution_count": 35
  },
  {
   "metadata": {
    "ExecuteTime": {
     "end_time": "2025-03-29T16:16:30.647968Z",
     "start_time": "2025-03-29T16:16:30.588097Z"
    }
   },
   "cell_type": "code",
   "source": [
    "om_folder = \"SPX_full\" #SPX_full, i2s1_full_v2'\n",
    "sum_df = vs.import_sum(om_folder = om_folder)\n",
    "sum_df[\"SW_day_scaled\"] = sum_df[\"SW_day\"] \n",
    "\n",
    "factor_df = pd.read_csv(\"data/factor_df.csv\")\n",
    "factor_df['date'] = pd.to_datetime(factor_df['date'], format='%Y-%m-%d')"
   ],
   "id": "250c9167c321be21",
   "outputs": [],
   "execution_count": 36
  },
  {
   "metadata": {
    "ExecuteTime": {
     "end_time": "2025-03-29T16:18:35.775999Z",
     "start_time": "2025-03-29T16:18:35.770560Z"
    }
   },
   "cell_type": "code",
   "source": "factor_df = factor_df[factor_df[\"date\"] <= pd.to_datetime(\"2025-02-28\")]",
   "id": "b50e1d000342a76b",
   "outputs": [],
   "execution_count": 37
  },
  {
   "metadata": {
    "ExecuteTime": {
     "end_time": "2025-03-29T16:18:51.398835Z",
     "start_time": "2025-03-29T16:18:51.391348Z"
    }
   },
   "cell_type": "code",
   "source": [
    "factor_df_columns = ['Mkt', 'SMB', 'HML', 'RMW', 'CMA', 'UMD', 'BAB', 'QMJ', 'RF']\n",
    "summary_df_column = ['ticker','SW_month', 'SW_day', 'SW_day_scaled']\n",
    "common_columns = ['date']\n",
    "\n",
    "keep_columns = factor_df_columns + summary_df_column + common_columns \n",
    "return_df = sum_df[summary_df_column + common_columns].merge(factor_df, on='date', how='left')[keep_columns]"
   ],
   "id": "5fb402ed9854dab9",
   "outputs": [],
   "execution_count": 40
  },
  {
   "metadata": {
    "ExecuteTime": {
     "end_time": "2025-03-29T16:18:52.110261Z",
     "start_time": "2025-03-29T16:18:52.106272Z"
    }
   },
   "cell_type": "code",
   "source": "SPX_return = return_df[return_df['ticker'] == 'SPX']",
   "id": "4bd15e4ce2240d27",
   "outputs": [],
   "execution_count": 41
  },
  {
   "metadata": {
    "ExecuteTime": {
     "end_time": "2025-03-29T16:18:52.529479Z",
     "start_time": "2025-03-29T16:18:52.525981Z"
    }
   },
   "cell_type": "code",
   "source": "SPX_return[\"SW_day_scaled\"] = SPX_return[\"SW_day\"] * SPX_return[\"SW_day\"].mean() / SPX_return[\"Mkt\"].mean()",
   "id": "1f44cf0d81c963fd",
   "outputs": [],
   "execution_count": 42
  },
  {
   "metadata": {
    "ExecuteTime": {
     "end_time": "2025-03-29T16:18:53.807379Z",
     "start_time": "2025-03-29T16:18:53.802883Z"
    }
   },
   "cell_type": "code",
   "source": [
    "def lm_regress(df, y_column, x_columns, print_summary = True):\n",
    "    df = df[df[y_column].isna() == False]\n",
    "    import statsmodels.api as sm\n",
    "        \n",
    "    # Define your target variable and factor variables\n",
    "    X = df[x_columns]  # Independent variables\n",
    "    y = df[y_column]   # Dependent variable\n",
    "    \n",
    "    # Add a constant term to the independent variables for the intercept\n",
    "    X = sm.add_constant(X)\n",
    "    \n",
    "    # Fit the linear regression model\n",
    "    model = sm.OLS(y, X).fit()\n",
    "\n",
    "    if print_summary:\n",
    "        # Print the summary statistics\n",
    "        print(model.summary())\n",
    "\n",
    "    return model.summary()"
   ],
   "id": "95b5332c31966314",
   "outputs": [],
   "execution_count": 43
  },
  {
   "metadata": {
    "ExecuteTime": {
     "end_time": "2025-03-29T16:18:54.334122Z",
     "start_time": "2025-03-29T16:18:54.316680Z"
    }
   },
   "cell_type": "code",
   "source": [
    "target_column = 'SW_day_scaled'\n",
    "feature_columns = ['Mkt', 'SMB', 'HML', 'RMW', 'CMA', 'UMD', 'BAB', 'QMJ']\n",
    "\n",
    "_ = lm_regress(SPX_return, y_column = target_column, x_columns = feature_columns)"
   ],
   "id": "1152d38780397991",
   "outputs": [
    {
     "name": "stdout",
     "output_type": "stream",
     "text": [
      "                            OLS Regression Results                            \n",
      "==============================================================================\n",
      "Dep. Variable:          SW_day_scaled   R-squared:                       0.445\n",
      "Model:                            OLS   Adj. R-squared:                  0.445\n",
      "Method:                 Least Squares   F-statistic:                     698.0\n",
      "Date:                Sat, 29 Mar 2025   Prob (F-statistic):               0.00\n",
      "Time:                        17:18:54   Log-Likelihood:                 8243.6\n",
      "No. Observations:                6962   AIC:                        -1.647e+04\n",
      "Df Residuals:                    6953   BIC:                        -1.641e+04\n",
      "Df Model:                           8                                         \n",
      "Covariance Type:            nonrobust                                         \n",
      "==============================================================================\n",
      "                 coef    std err          t      P>|t|      [0.025      0.975]\n",
      "------------------------------------------------------------------------------\n",
      "const          0.0132      0.001     14.790      0.000       0.011       0.015\n",
      "Mkt            5.7967      0.089     65.410      0.000       5.623       5.970\n",
      "SMB           -0.7461      0.152     -4.897      0.000      -1.045      -0.447\n",
      "HML            0.5280      0.158      3.340      0.001       0.218       0.838\n",
      "RMW            1.0118      0.253      4.006      0.000       0.517       1.507\n",
      "CMA            0.1605      0.257      0.624      0.533      -0.344       0.665\n",
      "UMD           -0.0914      0.110     -0.830      0.406      -0.307       0.124\n",
      "BAB            1.5981      0.149     10.746      0.000       1.307       1.890\n",
      "QMJ           -0.5011      0.243     -2.060      0.039      -0.978      -0.024\n",
      "==============================================================================\n",
      "Omnibus:                     4686.528   Durbin-Watson:                   2.325\n",
      "Prob(Omnibus):                  0.000   Jarque-Bera (JB):         10763333.169\n",
      "Skew:                          -1.625   Prob(JB):                         0.00\n",
      "Kurtosis:                     195.597   Cond. No.                         360.\n",
      "==============================================================================\n",
      "\n",
      "Notes:\n",
      "[1] Standard Errors assume that the covariance matrix of the errors is correctly specified.\n"
     ]
    }
   ],
   "execution_count": 44
  },
  {
   "metadata": {
    "ExecuteTime": {
     "end_time": "2025-03-29T16:18:59.354716Z",
     "start_time": "2025-03-29T16:18:59.339208Z"
    }
   },
   "cell_type": "code",
   "source": [
    "target_column = 'SW_day_scaled'\n",
    "feature_columns = ['Mkt', 'SMB', 'HML']\n",
    "\n",
    "_ = lm_regress(SPX_return, y_column = target_column, x_columns = feature_columns)"
   ],
   "id": "102bcaa359532e5",
   "outputs": [
    {
     "name": "stdout",
     "output_type": "stream",
     "text": [
      "                            OLS Regression Results                            \n",
      "==============================================================================\n",
      "Dep. Variable:          SW_day_scaled   R-squared:                       0.431\n",
      "Model:                            OLS   Adj. R-squared:                  0.431\n",
      "Method:                 Least Squares   F-statistic:                     1758.\n",
      "Date:                Sat, 29 Mar 2025   Prob (F-statistic):               0.00\n",
      "Time:                        17:18:59   Log-Likelihood:                 8155.2\n",
      "No. Observations:                6962   AIC:                        -1.630e+04\n",
      "Df Residuals:                    6958   BIC:                        -1.628e+04\n",
      "Df Model:                           3                                         \n",
      "Covariance Type:            nonrobust                                         \n",
      "==============================================================================\n",
      "                 coef    std err          t      P>|t|      [0.025      0.975]\n",
      "------------------------------------------------------------------------------\n",
      "const          0.0139      0.001     15.506      0.000       0.012       0.016\n",
      "Mkt            5.3230      0.073     72.507      0.000       5.179       5.467\n",
      "SMB           -1.2413      0.144     -8.624      0.000      -1.524      -0.959\n",
      "HML            0.7247      0.120      6.055      0.000       0.490       0.959\n",
      "==============================================================================\n",
      "Omnibus:                     5904.335   Durbin-Watson:                   2.380\n",
      "Prob(Omnibus):                  0.000   Jarque-Bera (JB):         13209294.430\n",
      "Skew:                          -2.645   Prob(JB):                         0.00\n",
      "Kurtosis:                     216.327   Cond. No.                         164.\n",
      "==============================================================================\n",
      "\n",
      "Notes:\n",
      "[1] Standard Errors assume that the covariance matrix of the errors is correctly specified.\n"
     ]
    }
   ],
   "execution_count": 45
  },
  {
   "metadata": {
    "ExecuteTime": {
     "end_time": "2025-03-29T16:19:06.529710Z",
     "start_time": "2025-03-29T16:19:06.514678Z"
    }
   },
   "cell_type": "code",
   "source": [
    "target_column = 'SW_day_scaled'\n",
    "feature_columns = ['Mkt']\n",
    "\n",
    "_ = lm_regress(SPX_return, y_column = target_column, x_columns = feature_columns)"
   ],
   "id": "a9e632b0928aacf2",
   "outputs": [
    {
     "name": "stdout",
     "output_type": "stream",
     "text": [
      "                            OLS Regression Results                            \n",
      "==============================================================================\n",
      "Dep. Variable:          SW_day_scaled   R-squared:                       0.423\n",
      "Model:                            OLS   Adj. R-squared:                  0.423\n",
      "Method:                 Least Squares   F-statistic:                     5105.\n",
      "Date:                Sat, 29 Mar 2025   Prob (F-statistic):               0.00\n",
      "Time:                        17:19:06   Log-Likelihood:                 8106.5\n",
      "No. Observations:                6962   AIC:                        -1.621e+04\n",
      "Df Residuals:                    6960   BIC:                        -1.620e+04\n",
      "Df Model:                           1                                         \n",
      "Covariance Type:            nonrobust                                         \n",
      "==============================================================================\n",
      "                 coef    std err          t      P>|t|      [0.025      0.975]\n",
      "------------------------------------------------------------------------------\n",
      "const          0.0140      0.001     15.405      0.000       0.012       0.016\n",
      "Mkt            5.2628      0.074     71.450      0.000       5.118       5.407\n",
      "==============================================================================\n",
      "Omnibus:                     5818.131   Durbin-Watson:                   2.400\n",
      "Prob(Omnibus):                  0.000   Jarque-Bera (JB):         13096351.855\n",
      "Skew:                          -2.566   Prob(JB):                         0.00\n",
      "Kurtosis:                     215.416   Cond. No.                         81.4\n",
      "==============================================================================\n",
      "\n",
      "Notes:\n",
      "[1] Standard Errors assume that the covariance matrix of the errors is correctly specified.\n"
     ]
    }
   ],
   "execution_count": 46
  },
  {
   "metadata": {
    "ExecuteTime": {
     "end_time": "2025-03-29T16:07:01.858801Z",
     "start_time": "2025-03-29T16:07:01.839399Z"
    }
   },
   "cell_type": "code",
   "source": [
    "target_column = 'SW_day'\n",
    "feature_columns = ['Mkt', 'SMB', 'HML', 'RMW', 'CMA', 'UMD', 'BAB', 'QMJ']\n",
    "\n",
    "_ = lm_regress(SPX_return, y_column = target_column, x_columns = feature_columns)"
   ],
   "id": "642f5f0414fe835a",
   "outputs": [
    {
     "name": "stdout",
     "output_type": "stream",
     "text": [
      "                            OLS Regression Results                            \n",
      "==============================================================================\n",
      "Dep. Variable:                 SW_day   R-squared:                       0.445\n",
      "Model:                            OLS   Adj. R-squared:                  0.445\n",
      "Method:                 Least Squares   F-statistic:                     698.0\n",
      "Date:                Sat, 29 Mar 2025   Prob (F-statistic):               0.00\n",
      "Time:                        17:07:01   Log-Likelihood:                 21471.\n",
      "No. Observations:                6962   AIC:                        -4.292e+04\n",
      "Df Residuals:                    6953   BIC:                        -4.286e+04\n",
      "Df Model:                           8                                         \n",
      "Covariance Type:            nonrobust                                         \n",
      "==============================================================================\n",
      "                 coef    std err          t      P>|t|      [0.025      0.975]\n",
      "------------------------------------------------------------------------------\n",
      "const         -0.0020      0.000    -14.790      0.000      -0.002      -0.002\n",
      "Mkt           -0.8670      0.013    -65.410      0.000      -0.893      -0.841\n",
      "SMB            0.1116      0.023      4.897      0.000       0.067       0.156\n",
      "HML           -0.0790      0.024     -3.340      0.001      -0.125      -0.033\n",
      "RMW           -0.1513      0.038     -4.006      0.000      -0.225      -0.077\n",
      "CMA           -0.0240      0.038     -0.624      0.533      -0.099       0.051\n",
      "UMD            0.0137      0.016      0.830      0.406      -0.019       0.046\n",
      "BAB           -0.2390      0.022    -10.746      0.000      -0.283      -0.195\n",
      "QMJ            0.0750      0.036      2.060      0.039       0.004       0.146\n",
      "==============================================================================\n",
      "Omnibus:                     4686.528   Durbin-Watson:                   2.325\n",
      "Prob(Omnibus):                  0.000   Jarque-Bera (JB):         10763333.169\n",
      "Skew:                           1.625   Prob(JB):                         0.00\n",
      "Kurtosis:                     195.597   Cond. No.                         360.\n",
      "==============================================================================\n",
      "\n",
      "Notes:\n",
      "[1] Standard Errors assume that the covariance matrix of the errors is correctly specified.\n"
     ]
    }
   ],
   "execution_count": 18
  },
  {
   "metadata": {
    "ExecuteTime": {
     "end_time": "2025-03-18T10:01:07.437618Z",
     "start_time": "2025-03-18T10:01:07.422902Z"
    }
   },
   "cell_type": "code",
   "source": [
    "target_column = 'SW_day'\n",
    "feature_columns = ['Mkt', 'RMW']\n",
    "\n",
    "_ = lm_regress(SPX_return, y_column = target_column, x_columns = feature_columns)"
   ],
   "id": "98396399e0c58007",
   "outputs": [
    {
     "name": "stdout",
     "output_type": "stream",
     "text": [
      "                            OLS Regression Results                            \n",
      "==============================================================================\n",
      "Dep. Variable:                 SW_day   R-squared:                       0.284\n",
      "Model:                            OLS   Adj. R-squared:                  0.284\n",
      "Method:                 Least Squares   F-statistic:                     1381.\n",
      "Date:                Tue, 18 Mar 2025   Prob (F-statistic):               0.00\n",
      "Time:                        11:01:07   Log-Likelihood:                 17778.\n",
      "No. Observations:                6962   AIC:                        -3.555e+04\n",
      "Df Residuals:                    6959   BIC:                        -3.553e+04\n",
      "Df Model:                           2                                         \n",
      "Covariance Type:            nonrobust                                         \n",
      "==============================================================================\n",
      "                 coef    std err          t      P>|t|      [0.025      0.975]\n",
      "------------------------------------------------------------------------------\n",
      "const         -0.0012      0.000     -5.356      0.000      -0.002      -0.001\n",
      "Mkt           -1.0106      0.020    -51.679      0.000      -1.049      -0.972\n",
      "RMW           -0.4011      0.046     -8.796      0.000      -0.490      -0.312\n",
      "==============================================================================\n",
      "Omnibus:                     4651.127   Durbin-Watson:                   2.616\n",
      "Prob(Omnibus):                  0.000   Jarque-Bera (JB):         14233502.286\n",
      "Skew:                          -1.543   Prob(JB):                         0.00\n",
      "Kurtosis:                     224.489   Cond. No.                         205.\n",
      "==============================================================================\n",
      "\n",
      "Notes:\n",
      "[1] Standard Errors assume that the covariance matrix of the errors is correctly specified.\n"
     ]
    }
   ],
   "execution_count": 136
  },
  {
   "metadata": {
    "ExecuteTime": {
     "end_time": "2025-03-18T10:01:22.979562Z",
     "start_time": "2025-03-18T10:01:22.964739Z"
    }
   },
   "cell_type": "code",
   "source": [
    "target_column = 'SW_day'\n",
    "feature_columns = ['Mkt']\n",
    "\n",
    "_ = lm_regress(SPX_return, y_column = target_column, x_columns = feature_columns)"
   ],
   "id": "62cb0d06d8f0d27",
   "outputs": [
    {
     "name": "stdout",
     "output_type": "stream",
     "text": [
      "                            OLS Regression Results                            \n",
      "==============================================================================\n",
      "Dep. Variable:                 SW_day   R-squared:                       0.276\n",
      "Model:                            OLS   Adj. R-squared:                  0.276\n",
      "Method:                 Least Squares   F-statistic:                     2656.\n",
      "Date:                Tue, 18 Mar 2025   Prob (F-statistic):               0.00\n",
      "Time:                        11:01:22   Log-Likelihood:                 17740.\n",
      "No. Observations:                6962   AIC:                        -3.548e+04\n",
      "Df Residuals:                    6960   BIC:                        -3.546e+04\n",
      "Df Model:                           1                                         \n",
      "Covariance Type:            nonrobust                                         \n",
      "==============================================================================\n",
      "                 coef    std err          t      P>|t|      [0.025      0.975]\n",
      "------------------------------------------------------------------------------\n",
      "const         -0.0013      0.000     -5.761      0.000      -0.002      -0.001\n",
      "Mkt           -0.9514      0.018    -51.533      0.000      -0.988      -0.915\n",
      "==============================================================================\n",
      "Omnibus:                     4524.019   Durbin-Watson:                   2.625\n",
      "Prob(Omnibus):                  0.000   Jarque-Bera (JB):         14598372.533\n",
      "Skew:                          -1.437   Prob(JB):                         0.00\n",
      "Kurtosis:                     227.313   Cond. No.                         81.4\n",
      "==============================================================================\n",
      "\n",
      "Notes:\n",
      "[1] Standard Errors assume that the covariance matrix of the errors is correctly specified.\n"
     ]
    }
   ],
   "execution_count": 138
  },
  {
   "metadata": {
    "ExecuteTime": {
     "end_time": "2025-03-18T10:01:23.173454Z",
     "start_time": "2025-03-18T10:01:23.158735Z"
    }
   },
   "cell_type": "code",
   "source": [
    "target_column = 'SW_day'\n",
    "feature_columns = ['Mkt', 'HML', 'SMB']\n",
    "\n",
    "_ = lm_regress(SPX_return, y_column = target_column, x_columns = feature_columns)"
   ],
   "id": "145303c67ba15699",
   "outputs": [
    {
     "name": "stdout",
     "output_type": "stream",
     "text": [
      "                            OLS Regression Results                            \n",
      "==============================================================================\n",
      "Dep. Variable:                 SW_day   R-squared:                       0.283\n",
      "Model:                            OLS   Adj. R-squared:                  0.283\n",
      "Method:                 Least Squares   F-statistic:                     916.0\n",
      "Date:                Tue, 18 Mar 2025   Prob (F-statistic):               0.00\n",
      "Time:                        11:01:23   Log-Likelihood:                 17773.\n",
      "No. Observations:                6962   AIC:                        -3.554e+04\n",
      "Df Residuals:                    6958   BIC:                        -3.551e+04\n",
      "Df Model:                           3                                         \n",
      "Covariance Type:            nonrobust                                         \n",
      "==============================================================================\n",
      "                 coef    std err          t      P>|t|      [0.025      0.975]\n",
      "------------------------------------------------------------------------------\n",
      "const         -0.0013      0.000     -5.773      0.000      -0.002      -0.001\n",
      "Mkt           -0.9636      0.018    -52.252      0.000      -1.000      -0.927\n",
      "HML           -0.1753      0.030     -5.830      0.000      -0.234      -0.116\n",
      "SMB            0.2375      0.036      6.568      0.000       0.167       0.308\n",
      "==============================================================================\n",
      "Omnibus:                     4555.948   Durbin-Watson:                   2.613\n",
      "Prob(Omnibus):                  0.000   Jarque-Bera (JB):         14784128.318\n",
      "Skew:                          -1.460   Prob(JB):                         0.00\n",
      "Kurtosis:                     228.736   Cond. No.                         164.\n",
      "==============================================================================\n",
      "\n",
      "Notes:\n",
      "[1] Standard Errors assume that the covariance matrix of the errors is correctly specified.\n"
     ]
    }
   ],
   "execution_count": 139
  },
  {
   "metadata": {
    "ExecuteTime": {
     "end_time": "2025-03-18T10:01:23.357158Z",
     "start_time": "2025-03-18T10:01:23.338757Z"
    }
   },
   "cell_type": "code",
   "source": [
    "target_column = 'SW_month'\n",
    "feature_columns = ['Mkt']\n",
    "\n",
    "_ = lm_regress(SPX_return, y_column = target_column, x_columns = feature_columns)"
   ],
   "id": "f28e86af44cd38f4",
   "outputs": [
    {
     "name": "stdout",
     "output_type": "stream",
     "text": [
      "                            OLS Regression Results                            \n",
      "==============================================================================\n",
      "Dep. Variable:               SW_month   R-squared:                       0.000\n",
      "Model:                            OLS   Adj. R-squared:                 -0.000\n",
      "Method:                 Least Squares   F-statistic:                   0.06427\n",
      "Date:                Tue, 18 Mar 2025   Prob (F-statistic):              0.800\n",
      "Time:                        11:01:23   Log-Likelihood:                 10314.\n",
      "No. Observations:                6933   AIC:                        -2.062e+04\n",
      "Df Residuals:                    6931   BIC:                        -2.061e+04\n",
      "Df Model:                           1                                         \n",
      "Covariance Type:            nonrobust                                         \n",
      "==============================================================================\n",
      "                 coef    std err          t      P>|t|      [0.025      0.975]\n",
      "------------------------------------------------------------------------------\n",
      "const         -0.0108      0.001    -16.394      0.000      -0.012      -0.009\n",
      "Mkt            0.0135      0.053      0.254      0.800      -0.091       0.118\n",
      "==============================================================================\n",
      "Omnibus:                     8815.546   Durbin-Watson:                   0.180\n",
      "Prob(Omnibus):                  0.000   Jarque-Bera (JB):          1946190.046\n",
      "Skew:                           6.914   Prob(JB):                         0.00\n",
      "Kurtosis:                      83.907   Cond. No.                         81.3\n",
      "==============================================================================\n",
      "\n",
      "Notes:\n",
      "[1] Standard Errors assume that the covariance matrix of the errors is correctly specified.\n"
     ]
    }
   ],
   "execution_count": 140
  },
  {
   "metadata": {
    "ExecuteTime": {
     "end_time": "2025-03-18T10:01:23.571782Z",
     "start_time": "2025-03-18T10:01:23.556290Z"
    }
   },
   "cell_type": "code",
   "source": [
    "target_column = 'SW_month'\n",
    "feature_columns = ['Mkt', 'HML', 'SMB']\n",
    "\n",
    "_ = lm_regress(SPX_return, y_column = target_column, x_columns = feature_columns)"
   ],
   "id": "ee98573daf4b8fcf",
   "outputs": [
    {
     "name": "stdout",
     "output_type": "stream",
     "text": [
      "                            OLS Regression Results                            \n",
      "==============================================================================\n",
      "Dep. Variable:               SW_month   R-squared:                       0.001\n",
      "Model:                            OLS   Adj. R-squared:                  0.001\n",
      "Method:                 Least Squares   F-statistic:                     2.352\n",
      "Date:                Tue, 18 Mar 2025   Prob (F-statistic):             0.0702\n",
      "Time:                        11:01:23   Log-Likelihood:                 10318.\n",
      "No. Observations:                6933   AIC:                        -2.063e+04\n",
      "Df Residuals:                    6929   BIC:                        -2.060e+04\n",
      "Df Model:                           3                                         \n",
      "Covariance Type:            nonrobust                                         \n",
      "==============================================================================\n",
      "                 coef    std err          t      P>|t|      [0.025      0.975]\n",
      "------------------------------------------------------------------------------\n",
      "const         -0.0108      0.001    -16.375      0.000      -0.012      -0.009\n",
      "Mkt            0.0216      0.054      0.404      0.687      -0.083       0.127\n",
      "HML           -0.0788      0.087     -0.904      0.366      -0.250       0.092\n",
      "SMB           -0.2444      0.105     -2.328      0.020      -0.450      -0.039\n",
      "==============================================================================\n",
      "Omnibus:                     8807.027   Durbin-Watson:                   0.183\n",
      "Prob(Omnibus):                  0.000   Jarque-Bera (JB):          1937552.319\n",
      "Skew:                           6.902   Prob(JB):                         0.00\n",
      "Kurtosis:                      83.726   Cond. No.                         163.\n",
      "==============================================================================\n",
      "\n",
      "Notes:\n",
      "[1] Standard Errors assume that the covariance matrix of the errors is correctly specified.\n"
     ]
    }
   ],
   "execution_count": 141
  },
  {
   "metadata": {
    "ExecuteTime": {
     "end_time": "2025-03-18T10:01:23.709801Z",
     "start_time": "2025-03-18T10:01:23.690854Z"
    }
   },
   "cell_type": "code",
   "source": [
    "target_column = 'SW_month'\n",
    "feature_columns = ['Mkt', 'SMB', 'HML', 'RMW', 'CMA', 'UMD', 'BAB', 'QMJ']\n",
    "\n",
    "_ = lm_regress(SPX_return, y_column = target_column, x_columns = feature_columns)"
   ],
   "id": "3847ab894d2a9555",
   "outputs": [
    {
     "name": "stdout",
     "output_type": "stream",
     "text": [
      "                            OLS Regression Results                            \n",
      "==============================================================================\n",
      "Dep. Variable:               SW_month   R-squared:                       0.002\n",
      "Model:                            OLS   Adj. R-squared:                  0.001\n",
      "Method:                 Least Squares   F-statistic:                     1.784\n",
      "Date:                Tue, 18 Mar 2025   Prob (F-statistic):             0.0752\n",
      "Time:                        11:01:23   Log-Likelihood:                 10322.\n",
      "No. Observations:                6933   AIC:                        -2.063e+04\n",
      "Df Residuals:                    6924   BIC:                        -2.056e+04\n",
      "Df Model:                           8                                         \n",
      "Covariance Type:            nonrobust                                         \n",
      "==============================================================================\n",
      "                 coef    std err          t      P>|t|      [0.025      0.975]\n",
      "------------------------------------------------------------------------------\n",
      "const         -0.0108      0.001    -16.438      0.000      -0.012      -0.010\n",
      "Mkt            0.0790      0.065      1.208      0.227      -0.049       0.207\n",
      "SMB           -0.2128      0.112     -1.892      0.059      -0.433       0.008\n",
      "HML           -0.0275      0.117     -0.236      0.813      -0.256       0.201\n",
      "RMW           -0.0250      0.186     -0.134      0.893      -0.390       0.340\n",
      "CMA            0.0857      0.190      0.451      0.652      -0.287       0.458\n",
      "UMD            0.1471      0.081      1.811      0.070      -0.012       0.306\n",
      "BAB           -0.0781      0.110     -0.712      0.477      -0.293       0.137\n",
      "QMJ            0.2081      0.179      1.160      0.246      -0.144       0.560\n",
      "==============================================================================\n",
      "Omnibus:                     8813.578   Durbin-Watson:                   0.185\n",
      "Prob(Omnibus):                  0.000   Jarque-Bera (JB):          1945683.161\n",
      "Skew:                           6.911   Prob(JB):                         0.00\n",
      "Kurtosis:                      83.897   Cond. No.                         359.\n",
      "==============================================================================\n",
      "\n",
      "Notes:\n",
      "[1] Standard Errors assume that the covariance matrix of the errors is correctly specified.\n"
     ]
    }
   ],
   "execution_count": 142
  },
  {
   "metadata": {
    "ExecuteTime": {
     "end_time": "2025-03-18T10:01:23.886632Z",
     "start_time": "2025-03-18T10:01:23.871637Z"
    }
   },
   "cell_type": "code",
   "source": [
    "target_column = 'SW_month'\n",
    "feature_columns = ['Mkt']\n",
    "\n",
    "_ = lm_regress(SPX_return, y_column = target_column, x_columns = feature_columns)"
   ],
   "id": "a34a763895042212",
   "outputs": [
    {
     "name": "stdout",
     "output_type": "stream",
     "text": [
      "                            OLS Regression Results                            \n",
      "==============================================================================\n",
      "Dep. Variable:               SW_month   R-squared:                       0.000\n",
      "Model:                            OLS   Adj. R-squared:                 -0.000\n",
      "Method:                 Least Squares   F-statistic:                   0.06427\n",
      "Date:                Tue, 18 Mar 2025   Prob (F-statistic):              0.800\n",
      "Time:                        11:01:23   Log-Likelihood:                 10314.\n",
      "No. Observations:                6933   AIC:                        -2.062e+04\n",
      "Df Residuals:                    6931   BIC:                        -2.061e+04\n",
      "Df Model:                           1                                         \n",
      "Covariance Type:            nonrobust                                         \n",
      "==============================================================================\n",
      "                 coef    std err          t      P>|t|      [0.025      0.975]\n",
      "------------------------------------------------------------------------------\n",
      "const         -0.0108      0.001    -16.394      0.000      -0.012      -0.009\n",
      "Mkt            0.0135      0.053      0.254      0.800      -0.091       0.118\n",
      "==============================================================================\n",
      "Omnibus:                     8815.546   Durbin-Watson:                   0.180\n",
      "Prob(Omnibus):                  0.000   Jarque-Bera (JB):          1946190.046\n",
      "Skew:                           6.914   Prob(JB):                         0.00\n",
      "Kurtosis:                      83.907   Cond. No.                         81.3\n",
      "==============================================================================\n",
      "\n",
      "Notes:\n",
      "[1] Standard Errors assume that the covariance matrix of the errors is correctly specified.\n"
     ]
    }
   ],
   "execution_count": 143
  },
  {
   "metadata": {
    "ExecuteTime": {
     "end_time": "2025-03-18T10:01:24.021822Z",
     "start_time": "2025-03-18T10:01:24.008309Z"
    }
   },
   "cell_type": "code",
   "source": [
    "target_column = 'SW_month_nolag'\n",
    "feature_columns = ['Mkt']\n",
    "\n",
    "_ = lm_regress(SPX_return, y_column = target_column, x_columns = feature_columns)"
   ],
   "id": "baf93804eaf10818",
   "outputs": [
    {
     "name": "stdout",
     "output_type": "stream",
     "text": [
      "                            OLS Regression Results                            \n",
      "==============================================================================\n",
      "Dep. Variable:         SW_month_nolag   R-squared:                       0.000\n",
      "Model:                            OLS   Adj. R-squared:                 -0.000\n",
      "Method:                 Least Squares   F-statistic:                    0.2232\n",
      "Date:                Tue, 18 Mar 2025   Prob (F-statistic):              0.637\n",
      "Time:                        11:01:24   Log-Likelihood:                 10374.\n",
      "No. Observations:                6963   AIC:                        -2.074e+04\n",
      "Df Residuals:                    6961   BIC:                        -2.073e+04\n",
      "Df Model:                           1                                         \n",
      "Covariance Type:            nonrobust                                         \n",
      "==============================================================================\n",
      "                 coef    std err          t      P>|t|      [0.025      0.975]\n",
      "------------------------------------------------------------------------------\n",
      "const         -0.0108      0.001    -16.461      0.000      -0.012      -0.009\n",
      "Mkt            0.0251      0.053      0.472      0.637      -0.079       0.129\n",
      "==============================================================================\n",
      "Omnibus:                     8872.141   Durbin-Watson:                   0.178\n",
      "Prob(Omnibus):                  0.000   Jarque-Bera (JB):          1976249.028\n",
      "Skew:                           6.938   Prob(JB):                         0.00\n",
      "Kurtosis:                      84.358   Cond. No.                         81.4\n",
      "==============================================================================\n",
      "\n",
      "Notes:\n",
      "[1] Standard Errors assume that the covariance matrix of the errors is correctly specified.\n"
     ]
    }
   ],
   "execution_count": 144
  },
  {
   "metadata": {
    "ExecuteTime": {
     "end_time": "2025-03-18T10:01:24.185357Z",
     "start_time": "2025-03-18T10:01:24.167067Z"
    }
   },
   "cell_type": "code",
   "source": [
    "target_column = 'SW_month_ln_ret'\n",
    "feature_columns = ['Mkt']\n",
    "\n",
    "_ = lm_regress(SPX_return, y_column = target_column, x_columns = feature_columns)"
   ],
   "id": "836bc3b7491c3754",
   "outputs": [
    {
     "name": "stdout",
     "output_type": "stream",
     "text": [
      "                            OLS Regression Results                            \n",
      "==============================================================================\n",
      "Dep. Variable:        SW_month_ln_ret   R-squared:                       0.000\n",
      "Model:                            OLS   Adj. R-squared:                 -0.000\n",
      "Method:                 Least Squares   F-statistic:                    0.5221\n",
      "Date:                Tue, 18 Mar 2025   Prob (F-statistic):              0.470\n",
      "Time:                        11:01:24   Log-Likelihood:                -6800.8\n",
      "No. Observations:                6933   AIC:                         1.361e+04\n",
      "Df Residuals:                    6931   BIC:                         1.362e+04\n",
      "Df Model:                           1                                         \n",
      "Covariance Type:            nonrobust                                         \n",
      "==============================================================================\n",
      "                 coef    std err          t      P>|t|      [0.025      0.975]\n",
      "------------------------------------------------------------------------------\n",
      "const         -0.5095      0.008    -65.701      0.000      -0.525      -0.494\n",
      "Mkt           -0.4551      0.630     -0.723      0.470      -1.690       0.780\n",
      "==============================================================================\n",
      "Omnibus:                     1182.547   Durbin-Watson:                   0.226\n",
      "Prob(Omnibus):                  0.000   Jarque-Bera (JB):             3332.529\n",
      "Skew:                           0.908   Prob(JB):                         0.00\n",
      "Kurtosis:                       5.870   Cond. No.                         81.3\n",
      "==============================================================================\n",
      "\n",
      "Notes:\n",
      "[1] Standard Errors assume that the covariance matrix of the errors is correctly specified.\n"
     ]
    }
   ],
   "execution_count": 145
  },
  {
   "metadata": {
    "ExecuteTime": {
     "end_time": "2025-03-18T10:01:24.353328Z",
     "start_time": "2025-03-18T10:01:24.338532Z"
    }
   },
   "cell_type": "code",
   "source": [
    "target_column = 'SW_day_ln_ret'\n",
    "feature_columns = ['Mkt']\n",
    "\n",
    "_ = lm_regress(SPX_return, y_column = target_column, x_columns = feature_columns)"
   ],
   "id": "4667a683d63f246d",
   "outputs": [
    {
     "name": "stdout",
     "output_type": "stream",
     "text": [
      "                            OLS Regression Results                            \n",
      "==============================================================================\n",
      "Dep. Variable:          SW_day_ln_ret   R-squared:                       0.159\n",
      "Model:                            OLS   Adj. R-squared:                  0.159\n",
      "Method:                 Least Squares   F-statistic:                     1321.\n",
      "Date:                Tue, 18 Mar 2025   Prob (F-statistic):          6.61e-265\n",
      "Time:                        11:01:24   Log-Likelihood:                -376.30\n",
      "No. Observations:                6962   AIC:                             756.6\n",
      "Df Residuals:                    6960   BIC:                             770.3\n",
      "Df Model:                           1                                         \n",
      "Covariance Type:            nonrobust                                         \n",
      "==============================================================================\n",
      "                 coef    std err          t      P>|t|      [0.025      0.975]\n",
      "------------------------------------------------------------------------------\n",
      "const         -0.0308      0.003    -10.069      0.000      -0.037      -0.025\n",
      "Mkt           -9.0522      0.249    -36.339      0.000      -9.540      -8.564\n",
      "==============================================================================\n",
      "Omnibus:                      988.773   Durbin-Watson:                   2.391\n",
      "Prob(Omnibus):                  0.000   Jarque-Bera (JB):            14588.116\n",
      "Skew:                           0.012   Prob(JB):                         0.00\n",
      "Kurtosis:                      10.091   Cond. No.                         81.4\n",
      "==============================================================================\n",
      "\n",
      "Notes:\n",
      "[1] Standard Errors assume that the covariance matrix of the errors is correctly specified.\n"
     ]
    }
   ],
   "execution_count": 146
  },
  {
   "metadata": {
    "ExecuteTime": {
     "end_time": "2025-03-18T10:01:24.629958Z",
     "start_time": "2025-03-18T10:01:24.497568Z"
    }
   },
   "cell_type": "code",
   "source": "plt.hist(SPX_return['SW_day_ln_ret'], bins=50)",
   "id": "13b441f6696a7118",
   "outputs": [
    {
     "data": {
      "text/plain": [
       "(array([1.000e+00, 0.000e+00, 0.000e+00, 1.000e+00, 3.000e+00, 1.000e+00,\n",
       "        5.000e+00, 3.000e+00, 1.000e+01, 1.200e+01, 1.700e+01, 2.900e+01,\n",
       "        3.500e+01, 4.300e+01, 4.200e+01, 4.400e+01, 5.100e+01, 5.500e+01,\n",
       "        7.300e+01, 9.800e+01, 2.390e+02, 5.360e+02, 1.024e+03, 1.523e+03,\n",
       "        1.270e+03, 6.870e+02, 3.600e+02, 1.890e+02, 1.160e+02, 7.400e+01,\n",
       "        1.040e+02, 8.300e+01, 5.700e+01, 4.800e+01, 4.200e+01, 2.000e+01,\n",
       "        1.800e+01, 1.500e+01, 1.000e+01, 7.000e+00, 3.000e+00, 3.000e+00,\n",
       "        2.000e+00, 1.000e+00, 1.000e+00, 2.000e+00, 0.000e+00, 1.000e+00,\n",
       "        0.000e+00, 4.000e+00]),\n",
       " array([-1.75444866, -1.68243626, -1.61042386, -1.53841145, -1.46639905,\n",
       "        -1.39438665, -1.32237425, -1.25036185, -1.17834944, -1.10633704,\n",
       "        -1.03432464, -0.96231224, -0.89029984, -0.81828743, -0.74627503,\n",
       "        -0.67426263, -0.60225023, -0.53023783, -0.45822543, -0.38621302,\n",
       "        -0.31420062, -0.24218822, -0.17017582, -0.09816342, -0.02615101,\n",
       "         0.04586139,  0.11787379,  0.18988619,  0.26189859,  0.33391099,\n",
       "         0.4059234 ,  0.4779358 ,  0.5499482 ,  0.6219606 ,  0.693973  ,\n",
       "         0.76598541,  0.83799781,  0.91001021,  0.98202261,  1.05403501,\n",
       "         1.12604741,  1.19805982,  1.27007222,  1.34208462,  1.41409702,\n",
       "         1.48610942,  1.55812183,  1.63013423,  1.70214663,  1.77415903,\n",
       "         1.84617143]),\n",
       " <BarContainer object of 50 artists>)"
      ]
     },
     "execution_count": 147,
     "metadata": {},
     "output_type": "execute_result"
    },
    {
     "data": {
      "text/plain": [
       "<Figure size 640x480 with 1 Axes>"
      ],
      "image/png": "[encoded data removed]"
     },
     "metadata": {},
     "output_type": "display_data"
    }
   ],
   "execution_count": 147
  },
  {
   "metadata": {
    "ExecuteTime": {
     "end_time": "2025-03-18T10:02:07.657405Z",
     "start_time": "2025-03-18T10:02:07.527685Z"
    }
   },
   "cell_type": "code",
   "source": "plt.hist(SPX_return['SW_month_ln_ret'], bins=50)",
   "id": "8c20747a555190c1",
   "outputs": [
    {
     "data": {
      "text/plain": [
       "(array([  1.,   4.,  13.,  23.,  47.,  71., 118., 169., 245., 266., 416.,\n",
       "        534., 589., 694., 651., 679., 508., 442., 360., 260., 183., 172.,\n",
       "        128.,  82.,  62.,  33.,  31.,  28.,  21.,  22.,  18.,  16.,  13.,\n",
       "         12.,   5.,   2.,   3.,   1.,   2.,   2.,   0.,   2.,   1.,   0.,\n",
       "          1.,   0.,   1.,   0.,   0.,   2.]),\n",
       " array([-2.44323809, -2.31255054, -2.18186298, -2.05117543, -1.92048788,\n",
       "        -1.78980032, -1.65911277, -1.52842522, -1.39773766, -1.26705011,\n",
       "        -1.13636256, -1.005675  , -0.87498745, -0.7442999 , -0.61361234,\n",
       "        -0.48292479, -0.35223724, -0.22154968, -0.09086213,  0.03982542,\n",
       "         0.17051298,  0.30120053,  0.43188808,  0.56257564,  0.69326319,\n",
       "         0.82395074,  0.9546383 ,  1.08532585,  1.2160134 ,  1.34670096,\n",
       "         1.47738851,  1.60807606,  1.73876362,  1.86945117,  2.00013872,\n",
       "         2.13082628,  2.26151383,  2.39220138,  2.52288894,  2.65357649,\n",
       "         2.78426404,  2.9149516 ,  3.04563915,  3.1763267 ,  3.30701426,\n",
       "         3.43770181,  3.56838936,  3.69907692,  3.82976447,  3.96045202,\n",
       "         4.09113958]),\n",
       " <BarContainer object of 50 artists>)"
      ]
     },
     "execution_count": 148,
     "metadata": {},
     "output_type": "execute_result"
    },
    {
     "data": {
      "text/plain": [
       "<Figure size 640x480 with 1 Axes>"
      ],
      "image/png": "[encoded data removed]"
     },
     "metadata": {},
     "output_type": "display_data"
    }
   ],
   "execution_count": 148
  },
  {
   "metadata": {
    "ExecuteTime": {
     "end_time": "2025-03-18T10:04:23.162526Z",
     "start_time": "2025-03-18T10:04:23.039475Z"
    }
   },
   "cell_type": "code",
   "source": "plt.plot(SPX_return['date'], np.cumsum(SPX_return['SW_month_ln_ret']))",
   "id": "3e86c007c7fa9641",
   "outputs": [
    {
     "data": {
      "text/plain": [
       "[<matplotlib.lines.Line2D at 0x2688f1538f0>]"
      ]
     },
     "execution_count": 160,
     "metadata": {},
     "output_type": "execute_result"
    },
    {
     "data": {
      "text/plain": [
       "<Figure size 640x480 with 1 Axes>"
      ],
      "image/png": "[encoded data removed]"
     },
     "metadata": {},
     "output_type": "display_data"
    }
   ],
   "execution_count": 160
  },
  {
   "metadata": {
    "ExecuteTime": {
     "end_time": "2025-03-18T10:03:18.142302Z",
     "start_time": "2025-03-18T10:03:18.026323Z"
    }
   },
   "cell_type": "code",
   "source": "plt.plot(SPX_return['date'], np.cumsum(SPX_return['SW_day_ln_ret']))",
   "id": "c7f15ef7d833f8fb",
   "outputs": [
    {
     "data": {
      "text/plain": [
       "[<matplotlib.lines.Line2D at 0x268918330b0>]"
      ]
     },
     "execution_count": 153,
     "metadata": {},
     "output_type": "execute_result"
    },
    {
     "data": {
      "text/plain": [
       "<Figure size 640x480 with 1 Axes>"
      ],
      "image/png": "[encoded data removed]"
     },
     "metadata": {},
     "output_type": "display_data"
    }
   ],
   "execution_count": 153
  },
  {
   "metadata": {
    "ExecuteTime": {
     "end_time": "2025-03-18T10:02:50.805502Z",
     "start_time": "2025-03-18T10:02:50.800326Z"
    }
   },
   "cell_type": "code",
   "source": "SPX_return['SW_day_ln_ret']",
   "id": "755e1437822c735d",
   "outputs": [
    {
     "data": {
      "text/plain": [
       "6963          NaN\n",
       "6964    -0.090963\n",
       "6965    -0.093584\n",
       "6966     0.429048\n",
       "6967    -0.044639\n",
       "           ...   \n",
       "13921   -0.190134\n",
       "13922   -0.198972\n",
       "13923   -0.075184\n",
       "13924   -0.726102\n",
       "13925    0.420835\n",
       "Name: SW_day_ln_ret, Length: 6963, dtype: float64"
      ]
     },
     "execution_count": 151,
     "metadata": {},
     "output_type": "execute_result"
    }
   ],
   "execution_count": 151
  },
  {
   "metadata": {},
   "cell_type": "code",
   "outputs": [],
   "execution_count": null,
   "source": "'SW_month', 'SW_day', 'SW_month_nolag', 'SW_month_ln_ret', 'SW_day_ln_ret'",
   "id": "9cd873f6134bf69d"
  },
  {
   "metadata": {},
   "cell_type": "code",
   "outputs": [],
   "execution_count": null,
   "source": "",
   "id": "91b682e581ec6b2d"
  }
 ],
 "metadata": {
  "kernelspec": {
   "display_name": "Python 3",
   "language": "python",
   "name": "python3"
  },
  "language_info": {
   "codemirror_mode": {
    "name": "ipython",
    "version": 2
   },
   "file_extension": ".py",
   "mimetype": "text/x-python",
   "name": "python",
   "nbconvert_exporter": "python",
   "pygments_lexer": "ipython2",
   "version": "2.7.6"
  }
 },
 "nbformat": 4,
 "nbformat_minor": 5
}
